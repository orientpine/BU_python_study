{
 "cells": [
  {
   "cell_type": "code",
   "execution_count": null,
   "metadata": {},
   "outputs": [],
   "source": [
    "import pandas as pd\n",
    "import numpy as np\n",
    "import os\n",
    "import names\n",
    "from datetime import date\n",
    "from natsort import natsorted"
   ]
  },
  {
   "cell_type": "code",
   "execution_count": null,
   "metadata": {},
   "outputs": [],
   "source": [
    "os.curdir + 'IMU_EXP'"
   ]
  },
  {
   "cell_type": "code",
   "execution_count": null,
   "metadata": {},
   "outputs": [],
   "source": [
    "# 폴더내의 데이터 확인하기\n",
    "imufolder = r'IMU_EXP'\n",
    "savefolder = r'rms_result'\n",
    "dataExt = '.xlsx'\n",
    "save_dir = os.path.join(imufolder,savefolder)"
   ]
  },
  {
   "cell_type": "code",
   "execution_count": null,
   "metadata": {},
   "outputs": [],
   "source": [
    "topfolder = r'semesterProject'\n",
    "targetDir = os.path.join(topfolder,imufolder)\n",
    "targetDir"
   ]
  },
  {
   "cell_type": "code",
   "execution_count": null,
   "metadata": {},
   "outputs": [],
   "source": [
    "filename = 'June_02_2022_Olimpia Bentley_IMUData'\n",
    "subjectName = filename.split('_')[3]\n",
    "subjectName"
   ]
  },
  {
   "cell_type": "code",
   "execution_count": null,
   "metadata": {},
   "outputs": [],
   "source": [
    "# print(f'관심 경로는?{imufolder}')\n",
    "absDir ='G:\\My Drive\\PlayGround\\BU_Python_Group_Study\\CHA\\semesterProject\\IMU_EXP'\n",
    "list_imu = [_ for _ in os.listdir(absDir) if _.split('_')[0]=='June']\n",
    "for imud in list_imu:\n",
    "    if imud.split('_')[1] == '02':\n",
    "        print('2월에 한거던데?')\n",
    "        print(f'현재 파일: {imud}')\n",
    "        df_rms.to_excel(os.path.join(save_dir_2월,f\"{subjectName}_rms.xlsx\"))\n",
    "    if imud.split('_')[1] == '03':\n",
    "        # 3월인 파일은 3월 폴더에 정리\n",
    "    if 4월이던데?\n",
    "        4월폴더 \n",
    "        \n",
    "    # print(imud.split('_')[1])"
   ]
  },
  {
   "cell_type": "code",
   "execution_count": null,
   "metadata": {},
   "outputs": [],
   "source": [
    "print(f'관심 경로는?{targetDir}')\n",
    "list_imu = [_ for _ in os.listdir(targetDir) if _.endswith(dataExt)]\n",
    "\n",
    "list_imu"
   ]
  },
  {
   "cell_type": "code",
   "execution_count": null,
   "metadata": {},
   "outputs": [],
   "source": [
    "# 필요한 함수 선언\n",
    "def ensure_dir(file_path):\n",
    "    if not os.path.exists(file_path): # 야 거기 폴더 있냐? 없음 ㅇㅇ \n",
    "        os.makedirs(file_path)"
   ]
  },
  {
   "cell_type": "code",
   "execution_count": null,
   "metadata": {},
   "outputs": [],
   "source": [
    "def rms(x):\n",
    "    return np.sqrt((x[0]**2+x[1]**2+x[2]**2)/3)"
   ]
  },
  {
   "cell_type": "code",
   "execution_count": null,
   "metadata": {},
   "outputs": [],
   "source": [
    "A  = ['100', '1','2','3','4','5',  '200']\n",
    "print(A)\n",
    "print(natsorted(A))"
   ]
  },
  {
   "cell_type": "code",
   "execution_count": null,
   "metadata": {},
   "outputs": [],
   "source": [
    "imufolder = os.path.join('semesterProject',r'IMU_EXP')\n",
    "savefolder = r'rms_result'\n",
    "dataExt = '.xlsx'\n",
    "save_dir = os.path.join('semesterProject',imufolder,savefolder)\n",
    "ensure_dir(save_dir)\n",
    "list_imu = natsorted([_ for _ in os.listdir(imufolder) if _.endswith(dataExt)])\n",
    "for filename in list_imu:\n",
    "    data = pd.read_excel(os.path.join(imufolder, filename), engine='openpyxl')\n",
    "    print(f'파일 이름은 {filename}')\n",
    "    break"
   ]
  },
  {
   "cell_type": "code",
   "execution_count": null,
   "metadata": {},
   "outputs": [],
   "source": [
    "data"
   ]
  },
  {
   "cell_type": "code",
   "execution_count": null,
   "metadata": {},
   "outputs": [],
   "source": [
    "# 폴더내의 데이터 확인하기\n",
    "imufolder = r'IMU_EXP'\n",
    "savefolder = r'rms_result'\n",
    "dataExt = '.xlsx'\n",
    "save_dir = os.path.join('semesterProject',imufolder,savefolder)\n",
    "ensure_dir(save_dir)\n",
    "list_imu = natsorted([_ for _ in os.listdir(imufolder) if _.endswith(dataExt)])\n",
    "for filename in list_imu:\n",
    "    data = pd.read_excel(os.path.join(imufolder, filename), engine='openpyxl')\n",
    "    front_left_rms = pd.DataFrame(data.loc[:,['Front_Left_ACC_X','Front_Left_ACC_Y','Front_Left_ACC_Z']].apply(rms, axis=1),columns=['FL_rms'])\n",
    "    front_right_rms = pd.DataFrame(data.loc[:,['Front_Right_ACC_X','Front_Right_ACC_Y','Front_Right_ACC_Z']].apply(rms, axis=1),columns=['FR_rms'])\n",
    "    back_left_rms = pd.DataFrame(data.loc[:,['Back_Left_ACC_X','Back_Left_ACC_Y','Back_Left_ACC_Z']].apply(rms, axis=1), columns=['BL_rms'])\n",
    "    back_right_rms = pd.DataFrame(data.loc[:,['Back_Right_ACC_X','Back_Right_ACC_Y','Back_Right_ACC_Z']].apply(rms, axis=1), columns=['BR_rms'])\n",
    "\n",
    "    df_rms = pd.concat([front_left_rms,front_right_rms,back_left_rms,back_right_rms],axis=1)\n",
    "\n",
    "    # 저장 시 이름\n",
    "    subjectName = filename.split('_')[3]\n",
    "    df_rms.to_excel(os.path.join(save_dir,f\"{subjectName}_rms.xlsx\"))"
   ]
  },
  {
   "cell_type": "code",
   "execution_count": null,
   "metadata": {},
   "outputs": [],
   "source": [
    "    front_left_rms = pd.DataFrame(data.loc[:,['Front_Left_ACC_X','Front_Left_ACC_Y','Front_Left_ACC_Z']].apply(rms, axis=1),columns=['FL_rms'])\n",
    "    front_right_rms = pd.DataFrame(data.loc[:,['Front_Right_ACC_X','Front_Right_ACC_Y','Front_Right_ACC_Z']].apply(rms, axis=1),columns=['FR_rms'])\n",
    "    back_left_rms = pd.DataFrame(data.loc[:,['Back_Left_ACC_X','Back_Left_ACC_Y','Back_Left_ACC_Z']].apply(rms, axis=1), columns=['BL_rms'])\n",
    "    back_right_rms = pd.DataFrame(data.loc[:,['Back_Right_ACC_X','Back_Right_ACC_Y','Back_Right_ACC_Z']].apply(rms, axis=1), columns=['BR_rms'])\n",
    "    df_rms = pd.concat([front_left_rms,front_right_rms,back_left_rms,back_right_rms],axis=1)"
   ]
  },
  {
   "cell_type": "code",
   "execution_count": null,
   "metadata": {},
   "outputs": [],
   "source": [
    "read_csv =[[1,2,3,4,5,6,6],[1,2,3,4,5,6,6],]\n",
    "df_readed = pd.DataFrame(read_csv, columns=['읽은 데이터1','읽은 데이터 2','읽은 데이터 3','읽은 데이터 4','읽은 데이터 5','읽은 데이터 6','읽은 데이터 7'])\n",
    "df_readed['읽은 데이터1']"
   ]
  },
  {
   "cell_type": "code",
   "execution_count": null,
   "metadata": {},
   "outputs": [],
   "source": [
    "A = df_rms[df_rms['FL_rms'] > 0.8]\n",
    "count = 0\n",
    "for i in A['FL_rms']:\n",
    "    print(count) \n",
    "    print(i)\n",
    "    count = count +1"
   ]
  },
  {
   "cell_type": "code",
   "execution_count": null,
   "metadata": {},
   "outputs": [],
   "source": [
    "df_rms['BL_rms'].max()"
   ]
  },
  {
   "cell_type": "code",
   "execution_count": null,
   "metadata": {},
   "outputs": [],
   "source": [
    "A = ['Front_Left_ACC_X','Front_Left_ACC_Y','Front_Left_ACC_Z']\n",
    "onlyz = [_ for _ in A if _.split('_')[3] == 'Z'] \n",
    "onlyz"
   ]
  },
  {
   "cell_type": "code",
   "execution_count": null,
   "metadata": {},
   "outputs": [],
   "source": [
    "for i in A:\n",
    "    print(i.split('_')[3])"
   ]
  },
  {
   "cell_type": "code",
   "execution_count": null,
   "metadata": {},
   "outputs": [],
   "source": [
    "data.loc[:,['Front_Left_ACC_X','Front_Left_ACC_Y','Front_Left_ACC_Z']].apply(rms, axis=1)"
   ]
  },
  {
   "cell_type": "code",
   "execution_count": null,
   "metadata": {},
   "outputs": [],
   "source": [
    "filename.split('_')[3]"
   ]
  },
  {
   "cell_type": "code",
   "execution_count": null,
   "metadata": {},
   "outputs": [],
   "source": [
    "df_rms"
   ]
  },
  {
   "cell_type": "code",
   "execution_count": null,
   "metadata": {},
   "outputs": [],
   "source": [
    "data.loc[:,['Front_Left_ACC_X','Front_Left_ACC_Y','Front_Left_ACC_Z']].apply(rms, axis=1)"
   ]
  },
  {
   "cell_type": "code",
   "execution_count": null,
   "metadata": {},
   "outputs": [],
   "source": [
    "front_right_rms"
   ]
  },
  {
   "cell_type": "code",
   "execution_count": null,
   "metadata": {},
   "outputs": [],
   "source": [
    "Front_Right_ACC_X"
   ]
  },
  {
   "cell_type": "code",
   "execution_count": null,
   "metadata": {},
   "outputs": [],
   "source": [
    "# 폴더내의 데이터 확인하기\n",
    "imufolder = r'IMU_EXP'\n",
    "savefolder = r'rms_result'\n",
    "save_dir = os.path.join(imufolder,savefolder)\n",
    "ensure_dir(save_dir)\n",
    "# for filename in natsorted(os.listdir(imufolder)):"
   ]
  },
  {
   "cell_type": "code",
   "execution_count": null,
   "metadata": {},
   "outputs": [],
   "source": [
    "os.listdir(imufolder)"
   ]
  },
  {
   "cell_type": "code",
   "execution_count": null,
   "metadata": {},
   "outputs": [],
   "source": [
    "dataExt = r'.xlsx'\n",
    "dataList = natsorted([_ for _ in os.listdir(imufolder) if _.endswith(dataExt)])"
   ]
  },
  {
   "cell_type": "code",
   "execution_count": null,
   "metadata": {},
   "outputs": [],
   "source": [
    "A = [_ for _ in os.listdir(imufolder) if _.endswith(dataExt)]\n",
    "count = 1\n",
    "for a in A:\n",
    "    print(f'{count}번째 파일은: {a}')\n",
    "    count = count + 1"
   ]
  },
  {
   "cell_type": "code",
   "execution_count": null,
   "metadata": {},
   "outputs": [],
   "source": [
    "for _ in os.listdir(imufolder):\n",
    "    if _.endswith('.xlsx'):\n",
    "        print(_)"
   ]
  },
  {
   "cell_type": "code",
   "execution_count": null,
   "metadata": {},
   "outputs": [],
   "source": []
  }
 ],
 "metadata": {
  "kernelspec": {
   "display_name": "Python 3.10.4 ('bu')",
   "language": "python",
   "name": "python3"
  },
  "language_info": {
   "codemirror_mode": {
    "name": "ipython",
    "version": 3
   },
   "file_extension": ".py",
   "mimetype": "text/x-python",
   "name": "python",
   "nbconvert_exporter": "python",
   "pygments_lexer": "ipython3",
   "version": "3.10.4"
  },
  "orig_nbformat": 4,
  "vscode": {
   "interpreter": {
    "hash": "360415a06a2cb4988f467b724c8ffdb39ec3aeec574ee0105248e66f7284bba3"
   }
  }
 },
 "nbformat": 4,
 "nbformat_minor": 2
}
