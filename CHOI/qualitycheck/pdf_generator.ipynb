{
 "cells": [
  {
   "cell_type": "code",
   "execution_count": 1,
   "metadata": {},
   "outputs": [],
   "source": [
    "# import 필요한 라이브러리\n",
    "import os\n",
    "from natsort import natsorted\n",
    "from pathlib import Path\n",
    "import shutil\n",
    "from os import listdir\n",
    "from os.path import isdir\n",
    "from os.path import exists\n",
    "from os.path import isfile, join\n",
    "import numpy as np\n",
    "from tqdm.notebook import tqdm\n",
    "import re\n",
    "import pandas as pd\n",
    "import datetime\n",
    "import random\n",
    "from natsort import natsorted \n",
    "import secrets"
   ]
  },
  {
   "cell_type": "code",
   "execution_count": 2,
   "metadata": {},
   "outputs": [],
   "source": [
    "# 필요한 함수 정의\n",
    "def ensure_dir(file_path):\n",
    "    if not os.path.exists(file_path):\n",
    "        os.makedirs(file_path)"
   ]
  },
  {
   "cell_type": "code",
   "execution_count": 12,
   "metadata": {},
   "outputs": [],
   "source": [
    "def ensure_dir(file_path):\n",
    "    if not os.path.exists(file_path):\n",
    "        os.makedirs(file_path)\n",
    "\n",
    "class Generator():\n",
    "    def __init__(self, start_date, end_date, start_id, end_id):\n",
    "        self.start_date = datetime.date(start_date['year'], start_date['month'], start_date['day'])\n",
    "        self.end_date = datetime.date(end_date['year'], end_date['month'], end_date['day'])\n",
    "        self.start_id = start_id\n",
    "        self.end_id = end_id\n",
    "\n",
    "    def dategenerate(self, qty):\n",
    "        start_date = self.start_date\n",
    "        end_date = self.end_date\n",
    "\n",
    "        set_date = set()\n",
    "        while(len(set_date)<qty):\n",
    "            time_between_dates = end_date - start_date\n",
    "            days_between_dates = time_between_dates.days\n",
    "            random_number_of_days = random.randrange(days_between_dates)\n",
    "            random_date = start_date + datetime.timedelta(days=random_number_of_days)\n",
    "            gen_date = ''.join(str(random_date).split('-'))\n",
    "            set_date.add(gen_date)\n",
    "        return natsorted(list(set_date))\n",
    "\n",
    "    def idgenerate(self,isconstlength = False, maxlength = 3):\n",
    "        set_id = set()\n",
    "        for i in range(self.start_id, self.end_id):\n",
    "            str_id = str(i)\n",
    "            if isconstlength:\n",
    "                str_id ='0'*(maxlength-len(str_id)) + str_id\n",
    "            gen_id = \"W\"+ str_id\n",
    "            set_id.add(gen_id)\n",
    "\n",
    "        return natsorted(list(set_id))"
   ]
  },
  {
   "cell_type": "code",
   "execution_count": 5,
   "metadata": {},
   "outputs": [],
   "source": [
    "# 실험기간\n",
    "start_date = {'year':2022,'month':3,'day':1}\n",
    "end_date = {'year':2022,'month':6,'day':9}\n",
    "# 환자 ID\n",
    "start_id = 1\n",
    "end_id = 20\n",
    "date_exp = Generator(start_date, end_date, start_id, end_id)"
   ]
  },
  {
   "cell_type": "code",
   "execution_count": 23,
   "metadata": {},
   "outputs": [],
   "source": [
    "list_patient = r'Data_QST_IMU'\n",
    "ensure_dir(list_patient)\n",
    "for patient in list_patient:\n",
    "    patientVisit = natsorted([_ for _ in os.listdir(makeDir)\n",
    "    ensure_dir(join(list_patient,patient))\n",
    "    # 방문일 뽑기\n",
    "    visitCount = random.randrange(6)\n",
    "    list_visitDate = date_exp.dategenerate(visitCount)\n",
    "    # 방문 안하고 도망갔을 경우, 실험 폴더가 없음\n",
    "    if len(list_visitDate) == 0:\n",
    "        continue\n",
    "    # 방문날짜가 정해졌을 경우, 이를 폴더로 만들기\n",
    "    for visitDate in list_visitDate:\n",
    "        makeDir = join(targetFolder,patient,visitDate,'IMU')\n",
    "        ensure_dir(makeDir)\n",
    "        dataExt = '.xlsx'\n",
    "        list_imu = natsorted([_ for _ in os.listdir(makeDir) if _.endswith(dataExt)])\n",
    "        for filename in list_imu:\n",
    "            data = pd.read_excel(os.path.join(makeDir, filename), engine='openpyxl')\n",
    "            print(f'파일 이름은 {filename}')\n",
    "            break\n",
    "    \n",
    "    "
   ]
  },
  {
   "cell_type": "code",
   "execution_count": 24,
   "metadata": {},
   "outputs": [
    {
     "name": "stdout",
     "output_type": "stream",
     "text": [
      "[]\n"
     ]
    }
   ],
   "source": [
    "print(list_imu)\n"
   ]
  },
  {
   "cell_type": "code",
   "execution_count": 17,
   "metadata": {},
   "outputs": [],
   "source": [
    "Folder = os.path.join(r'Data_QST_IMU')\n",
    "patient = os.path.join(r'W001')\n",
    "visitDate = os.path.join(r'20220320')"
   ]
  },
  {
   "cell_type": "code",
   "execution_count": null,
   "metadata": {},
   "outputs": [],
   "source": [
    "for filename in list_imu:\n",
    "    data = pd.read_excel(os.path.join(imufolder, filename), engine='openpyxl')\n",
    "    print(f'파일 이름은 {filename}')"
   ]
  },
  {
   "cell_type": "code",
   "execution_count": 16,
   "metadata": {},
   "outputs": [
    {
     "ename": "TypeError",
     "evalue": "expected str, bytes or os.PathLike object, not tuple",
     "output_type": "error",
     "traceback": [
      "\u001b[1;31m---------------------------------------------------------------------------\u001b[0m",
      "\u001b[1;31mTypeError\u001b[0m                                 Traceback (most recent call last)",
      "\u001b[1;32mc:\\Users\\cwchoi\\Miniconda3\\envs\\bu\\BU_python_study-1\\CHOI\\qualitycheck\\pdf_generator.ipynb Cell 6'\u001b[0m in \u001b[0;36m<cell line: 7>\u001b[1;34m()\u001b[0m\n\u001b[0;32m      <a href='vscode-notebook-cell:/c%3A/Users/cwchoi/Miniconda3/envs/bu/BU_python_study-1/CHOI/qualitycheck/pdf_generator.ipynb#ch0000002?line=4'>5</a>\u001b[0m         makeDir \u001b[39m=\u001b[39m join(Folder,patient,visitDate,\u001b[39mr\u001b[39m\u001b[39m'\u001b[39m\u001b[39mIMU\u001b[39m\u001b[39m'\u001b[39m)\n\u001b[0;32m      <a href='vscode-notebook-cell:/c%3A/Users/cwchoi/Miniconda3/envs/bu/BU_python_study-1/CHOI/qualitycheck/pdf_generator.ipynb#ch0000002?line=5'>6</a>\u001b[0m         ensure_dir(makeDir)\n\u001b[1;32m----> <a href='vscode-notebook-cell:/c%3A/Users/cwchoi/Miniconda3/envs/bu/BU_python_study-1/CHOI/qualitycheck/pdf_generator.ipynb#ch0000002?line=6'>7</a>\u001b[0m imufolder \u001b[39m=\u001b[39m os\u001b[39m.\u001b[39;49mpath\u001b[39m.\u001b[39;49mjoin((Folder,patient,visitDate,\u001b[39mr\u001b[39;49m\u001b[39m'\u001b[39;49m\u001b[39mIMU\u001b[39;49m\u001b[39m'\u001b[39;49m))\n\u001b[0;32m      <a href='vscode-notebook-cell:/c%3A/Users/cwchoi/Miniconda3/envs/bu/BU_python_study-1/CHOI/qualitycheck/pdf_generator.ipynb#ch0000002?line=7'>8</a>\u001b[0m savefolder \u001b[39m=\u001b[39m \u001b[39mr\u001b[39m\u001b[39m'\u001b[39m\u001b[39mrms_result\u001b[39m\u001b[39m'\u001b[39m\n\u001b[0;32m      <a href='vscode-notebook-cell:/c%3A/Users/cwchoi/Miniconda3/envs/bu/BU_python_study-1/CHOI/qualitycheck/pdf_generator.ipynb#ch0000002?line=8'>9</a>\u001b[0m dataExt \u001b[39m=\u001b[39m \u001b[39m'\u001b[39m\u001b[39m.xlsx\u001b[39m\u001b[39m'\u001b[39m\n",
      "File \u001b[1;32mc:\\Users\\cwchoi\\Miniconda3\\envs\\bu\\lib\\ntpath.py:78\u001b[0m, in \u001b[0;36mjoin\u001b[1;34m(path, *paths)\u001b[0m\n\u001b[0;32m     <a href='file:///c%3A/Users/cwchoi/Miniconda3/envs/bu/lib/ntpath.py?line=76'>77</a>\u001b[0m \u001b[39mdef\u001b[39;00m \u001b[39mjoin\u001b[39m(path, \u001b[39m*\u001b[39mpaths):\n\u001b[1;32m---> <a href='file:///c%3A/Users/cwchoi/Miniconda3/envs/bu/lib/ntpath.py?line=77'>78</a>\u001b[0m     path \u001b[39m=\u001b[39m os\u001b[39m.\u001b[39;49mfspath(path)\n\u001b[0;32m     <a href='file:///c%3A/Users/cwchoi/Miniconda3/envs/bu/lib/ntpath.py?line=78'>79</a>\u001b[0m     \u001b[39mif\u001b[39;00m \u001b[39misinstance\u001b[39m(path, \u001b[39mbytes\u001b[39m):\n\u001b[0;32m     <a href='file:///c%3A/Users/cwchoi/Miniconda3/envs/bu/lib/ntpath.py?line=79'>80</a>\u001b[0m         sep \u001b[39m=\u001b[39m \u001b[39mb\u001b[39m\u001b[39m'\u001b[39m\u001b[39m\\\\\u001b[39;00m\u001b[39m'\u001b[39m\n",
      "\u001b[1;31mTypeError\u001b[0m: expected str, bytes or os.PathLike object, not tuple"
     ]
    }
   ],
   "source": [
    "Folder = os.path.join(r'Data_QST_IMU')\n",
    "patient = os.path.join(r'W001')\n",
    "visitDate = os.path.join(r'20220320')\n",
    "for visitDate in list_visitDate:\n",
    "        makeDir = join(Folder,patient,visitDate,r'IMU')\n",
    "        ensure_dir(makeDir)\n",
    "imufolder = os.path.join((Folder,patient,visitDate,r'IMU'))\n",
    "savefolder = r'rms_result'\n",
    "dataExt = '.xlsx'\n",
    "list_imu = natsorted([_ for _ in os.listdir(imufolder) if _.endswith(dataExt)])\n",
    "for filename in list_imu:\n",
    "    data = pd.read_excel(os.path.join(imufolder, filename), engine='openpyxl')\n",
    "    print(f'파일 이름은 {filename}')\n",
    "    "
   ]
  }
 ],
 "metadata": {
  "interpreter": {
   "hash": "5701a1228cd0532f1583195e5dde1045c94aa585e8bedc403b2a928c5d9df899"
  },
  "kernelspec": {
   "display_name": "Python 3.10.4 ('bu')",
   "language": "python",
   "name": "python3"
  },
  "language_info": {
   "codemirror_mode": {
    "name": "ipython",
    "version": 3
   },
   "file_extension": ".py",
   "mimetype": "text/x-python",
   "name": "python",
   "nbconvert_exporter": "python",
   "pygments_lexer": "ipython3",
   "version": "3.10.4"
  },
  "orig_nbformat": 4
 },
 "nbformat": 4,
 "nbformat_minor": 2
}
