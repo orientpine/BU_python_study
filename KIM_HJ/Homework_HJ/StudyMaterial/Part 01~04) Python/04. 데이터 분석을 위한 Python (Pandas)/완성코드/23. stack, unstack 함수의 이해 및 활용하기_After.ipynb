{
 "cells": [
  {
   "cell_type": "markdown",
   "metadata": {},
   "source": [
    "## 학습목표\n",
    " 1. stack, unstack 함수 이해하기"
   ]
  },
  {
   "cell_type": "code",
   "execution_count": null,
   "metadata": {},
   "outputs": [],
   "source": [
    "import numpy as np\n",
    "import pandas as pd"
   ]
  },
  {
   "cell_type": "code",
   "execution_count": null,
   "metadata": {},
   "outputs": [],
   "source": [
    "df = pd.DataFrame({\n",
    "    '지역': ['서울', '서울', '서울', '경기', '경기', '부산', '서울', '서울', '부산', '경기', '경기', '경기'],\n",
    "    '요일': ['월요일', '화요일', '수요일', '월요일', '화요일', '월요일', '목요일', '금요일', '화요일', '수요일', '목요일', '금요일'],\n",
    "    '강수량': [100, 80, 1000, 200, 200, 100, 50, 100, 200, 100, 50, 100],\n",
    "    '강수확률': [80, 70, 90, 10, 20, 30, 50, 90, 20, 80, 50, 10]\n",
    "                  })\n",
    "\n",
    "df"
   ]
  },
  {
   "cell_type": "markdown",
   "metadata": {},
   "source": [
    "####  stack & unstack\n",
    " - stack : 컬럼 레벨에서 인덱스 레벨로 dataframe 변경\n",
    "  - 즉, 데이터를 쌓아올리는 개념으로 이해하면 쉬움\n",
    " - unstack : 인덱스 레벨에서 컬럼 레벨로 dataframe 변경\n",
    "  - stack의 반대 operation\n",
    " \n",
    " - 둘은 역의 관계에 있음"
   ]
  },
  {
   "cell_type": "code",
   "execution_count": null,
   "metadata": {},
   "outputs": [],
   "source": [
    "new_df = df.set_index(['지역', '요일'])\n",
    "new_df"
   ]
  },
  {
   "cell_type": "code",
   "execution_count": null,
   "metadata": {},
   "outputs": [],
   "source": [
    "# 첫번째 레벨의 인덱스를 컬럼으로 이동\n",
    "new_df.unstack(0)"
   ]
  },
  {
   "cell_type": "code",
   "execution_count": null,
   "metadata": {},
   "outputs": [],
   "source": [
    "# 두번째 레벨의 인덱스를 컬럼으로 이동\n",
    "new_df.unstack(1)"
   ]
  },
  {
   "cell_type": "code",
   "execution_count": null,
   "metadata": {},
   "outputs": [],
   "source": [
    "# 첫번째 레벨의 컬럼을 인덱스로 이동\n",
    "new_df.unstack(0).stack(0)"
   ]
  },
  {
   "cell_type": "code",
   "execution_count": null,
   "metadata": {},
   "outputs": [],
   "source": [
    "new_df.unstack(0).stack(1)"
   ]
  },
  {
   "cell_type": "code",
   "execution_count": null,
   "metadata": {},
   "outputs": [],
   "source": [
    "new_df.stack"
   ]
  }
 ],
 "metadata": {
  "kernelspec": {
   "display_name": "Python 3",
   "language": "python",
   "name": "python3"
  },
  "language_info": {
   "codemirror_mode": {
    "name": "ipython",
    "version": 3
   },
   "file_extension": ".py",
   "mimetype": "text/x-python",
   "name": "python",
   "nbconvert_exporter": "python",
   "pygments_lexer": "ipython3",
   "version": "3.7.3"
  }
 },
 "nbformat": 4,
 "nbformat_minor": 1
}
