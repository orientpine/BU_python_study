{
 "cells": [
  {
   "cell_type": "markdown",
   "metadata": {},
   "source": [
    "## 학습목표\n",
    " 1. matplotlib 모듈 이용하여 그래프 표현하기"
   ]
  },
  {
   "cell_type": "code",
   "execution_count": 1,
   "metadata": {},
   "outputs": [],
   "source": [
    "import numpy as np\n",
    "import matplotlib.pyplot as plt\n",
    "%matplotlib inline"
   ]
  },
  {
   "cell_type": "markdown",
   "metadata": {},
   "source": [
    "### 그래프 데이터 생성"
   ]
  },
  {
   "cell_type": "code",
   "execution_count": null,
   "metadata": {},
   "outputs": [],
   "source": [
    "x = np.linspace(0, 10, 11)\n",
    "y = x ** 2 + x + 2 + np.random.randn(11)\n",
    "\n",
    "print(x)\n",
    "print(y)"
   ]
  },
  {
   "cell_type": "markdown",
   "metadata": {},
   "source": [
    "### 그래프 출력하기\n",
    " - plot함수 (선 그래프), scatter(점 그래프), hist(히스토그램) 등 사용\n",
    "   - 함수의 parameter 혹은 plt의 다른 함수로 그래프 형태 및 설정을 변경 가능\n",
    "   - 기본적으로, x, y에 해당하는 값이 필요"
   ]
  },
  {
   "cell_type": "code",
   "execution_count": null,
   "metadata": {},
   "outputs": [],
   "source": [
    "plt.plot(x, y)"
   ]
  },
  {
   "cell_type": "code",
   "execution_count": null,
   "metadata": {},
   "outputs": [],
   "source": [
    "plt.scatter(x, y)"
   ]
  },
  {
   "cell_type": "markdown",
   "metadata": {},
   "source": [
    "### 그래프에 주석 추가 "
   ]
  },
  {
   "cell_type": "markdown",
   "metadata": {},
   "source": [
    "* **x, y 축 및 타이틀**"
   ]
  },
  {
   "cell_type": "code",
   "execution_count": null,
   "metadata": {},
   "outputs": [],
   "source": [
    "plt.xlabel('X values')\n",
    "plt.ylabel('Y values')\n",
    "plt.title('X-Y relation')\n",
    "plt.plot(x, y)"
   ]
  },
  {
   "cell_type": "markdown",
   "metadata": {},
   "source": [
    "* **grid 추가**"
   ]
  },
  {
   "cell_type": "code",
   "execution_count": null,
   "metadata": {},
   "outputs": [],
   "source": [
    "plt.xlabel('X values')\n",
    "plt.ylabel('Y values')\n",
    "plt.title('X-Y relation')\n",
    "plt.grid(True)\n",
    "plt.plot(x, y)"
   ]
  },
  {
   "cell_type": "markdown",
   "metadata": {},
   "source": [
    "* **x, y축 범위 지정**"
   ]
  },
  {
   "cell_type": "code",
   "execution_count": null,
   "metadata": {},
   "outputs": [],
   "source": [
    "plt.xlabel('X values')\n",
    "plt.ylabel('Y values')\n",
    "plt.title('X-Y relation')\n",
    "plt.grid(True)\n",
    "\n",
    "plt.xlim(0, 20)\n",
    "plt.ylim(0, 200)\n",
    "\n",
    "plt.plot(x, y)"
   ]
  },
  {
   "cell_type": "markdown",
   "metadata": {},
   "source": [
    "### plot 함수 parameters\n",
    " - 그래프의 형태에 대한 제어 가능\n",
    " - [plot함수 도큐먼트](https://matplotlib.org/api/pyplot_api.html#matplotlib.pyplot.plot)"
   ]
  },
  {
   "cell_type": "markdown",
   "metadata": {},
   "source": [
    "* 그래프의 색상 변경"
   ]
  },
  {
   "cell_type": "code",
   "execution_count": null,
   "metadata": {},
   "outputs": [],
   "source": [
    "plt.plot(x, y, '#ff00ff')"
   ]
  },
  {
   "cell_type": "markdown",
   "metadata": {},
   "source": [
    "* 그래프 선스타일 변경"
   ]
  },
  {
   "cell_type": "code",
   "execution_count": null,
   "metadata": {},
   "outputs": [],
   "source": [
    "plt.plot(x, y, '-.')"
   ]
  },
  {
   "cell_type": "code",
   "execution_count": null,
   "metadata": {},
   "outputs": [],
   "source": [
    "plt.plot(x, y, 'g^')"
   ]
  },
  {
   "cell_type": "code",
   "execution_count": null,
   "metadata": {},
   "outputs": [],
   "source": [
    "plt.plot(x, y, 'm:')"
   ]
  },
  {
   "cell_type": "markdown",
   "metadata": {},
   "source": [
    "* 그래프 두께 변경\n",
    " - linewidth 명시"
   ]
  },
  {
   "cell_type": "code",
   "execution_count": null,
   "metadata": {},
   "outputs": [],
   "source": [
    "plt.plot(x, y, 'm:', linewidth=9)"
   ]
  },
  {
   "cell_type": "markdown",
   "metadata": {},
   "source": [
    "* keyword parameter 이용하여 모든 속성 설정\n",
    " - https://matplotlib.org/api/pyplot_api.html#matplotlib.pyplot.plot\n",
    " - color\n",
    " - linestyle\n",
    " - marker\n",
    " - markerfacecolor\n",
    " - markersize 등등"
   ]
  },
  {
   "cell_type": "code",
   "execution_count": null,
   "metadata": {},
   "outputs": [],
   "source": [
    "plt.plot(x, y, color='black', \n",
    "          linestyle='--', marker='^',\n",
    "         markerfacecolor='blue', markersize=10)"
   ]
  },
  {
   "cell_type": "markdown",
   "metadata": {},
   "source": [
    "### subplot으로 여러 그래프 출력하기\n",
    " - subplot함수로 구획을 구별하여 각각의 subplot에 그래프 출력"
   ]
  },
  {
   "cell_type": "code",
   "execution_count": 2,
   "metadata": {},
   "outputs": [
    {
     "ename": "NameError",
     "evalue": "name 'x' is not defined",
     "output_type": "error",
     "traceback": [
      "\u001b[1;31m---------------------------------------------------------------------------\u001b[0m",
      "\u001b[1;31mNameError\u001b[0m                                 Traceback (most recent call last)",
      "\u001b[1;32md:\\BU\\Others\\computer\\BU_python_study\\KIM_HJ\\Homework_HJ\\StudyMaterial\\Part 01~04) Python\\03. 데이터 처리를 위한 Python (Numpy)\\완성코드\\11. ndarray 데이터를 이용하여 다양한 그래프 표현하기_After.ipynb Cell 27'\u001b[0m in \u001b[0;36m<cell line: 2>\u001b[1;34m()\u001b[0m\n\u001b[0;32m      <a href='vscode-notebook-cell:/d%3A/BU/Others/computer/BU_python_study/KIM_HJ/Homework_HJ/StudyMaterial/Part%2001~04%29%20Python/03.%20%EB%8D%B0%EC%9D%B4%ED%84%B0%20%EC%B2%98%EB%A6%AC%EB%A5%BC%20%EC%9C%84%ED%95%9C%20Python%20%28Numpy%29/%EC%99%84%EC%84%B1%EC%BD%94%EB%93%9C/11.%20ndarray%20%EB%8D%B0%EC%9D%B4%ED%84%B0%EB%A5%BC%20%EC%9D%B4%EC%9A%A9%ED%95%98%EC%97%AC%20%EB%8B%A4%EC%96%91%ED%95%9C%20%EA%B7%B8%EB%9E%98%ED%94%84%20%ED%91%9C%ED%98%84%ED%95%98%EA%B8%B0_After.ipynb#ch0000026?line=0'>1</a>\u001b[0m plt\u001b[39m.\u001b[39msubplot(\u001b[39m2\u001b[39m, \u001b[39m2\u001b[39m, \u001b[39m1\u001b[39m)\n\u001b[1;32m----> <a href='vscode-notebook-cell:/d%3A/BU/Others/computer/BU_python_study/KIM_HJ/Homework_HJ/StudyMaterial/Part%2001~04%29%20Python/03.%20%EB%8D%B0%EC%9D%B4%ED%84%B0%20%EC%B2%98%EB%A6%AC%EB%A5%BC%20%EC%9C%84%ED%95%9C%20Python%20%28Numpy%29/%EC%99%84%EC%84%B1%EC%BD%94%EB%93%9C/11.%20ndarray%20%EB%8D%B0%EC%9D%B4%ED%84%B0%EB%A5%BC%20%EC%9D%B4%EC%9A%A9%ED%95%98%EC%97%AC%20%EB%8B%A4%EC%96%91%ED%95%9C%20%EA%B7%B8%EB%9E%98%ED%94%84%20%ED%91%9C%ED%98%84%ED%95%98%EA%B8%B0_After.ipynb#ch0000026?line=1'>2</a>\u001b[0m plt\u001b[39m.\u001b[39mplot(x, y, \u001b[39m'\u001b[39m\u001b[39mr\u001b[39m\u001b[39m'\u001b[39m)\n\u001b[0;32m      <a href='vscode-notebook-cell:/d%3A/BU/Others/computer/BU_python_study/KIM_HJ/Homework_HJ/StudyMaterial/Part%2001~04%29%20Python/03.%20%EB%8D%B0%EC%9D%B4%ED%84%B0%20%EC%B2%98%EB%A6%AC%EB%A5%BC%20%EC%9C%84%ED%95%9C%20Python%20%28Numpy%29/%EC%99%84%EC%84%B1%EC%BD%94%EB%93%9C/11.%20ndarray%20%EB%8D%B0%EC%9D%B4%ED%84%B0%EB%A5%BC%20%EC%9D%B4%EC%9A%A9%ED%95%98%EC%97%AC%20%EB%8B%A4%EC%96%91%ED%95%9C%20%EA%B7%B8%EB%9E%98%ED%94%84%20%ED%91%9C%ED%98%84%ED%95%98%EA%B8%B0_After.ipynb#ch0000026?line=3'>4</a>\u001b[0m plt\u001b[39m.\u001b[39msubplot(\u001b[39m2\u001b[39m, \u001b[39m2\u001b[39m, \u001b[39m2\u001b[39m)\n\u001b[0;32m      <a href='vscode-notebook-cell:/d%3A/BU/Others/computer/BU_python_study/KIM_HJ/Homework_HJ/StudyMaterial/Part%2001~04%29%20Python/03.%20%EB%8D%B0%EC%9D%B4%ED%84%B0%20%EC%B2%98%EB%A6%AC%EB%A5%BC%20%EC%9C%84%ED%95%9C%20Python%20%28Numpy%29/%EC%99%84%EC%84%B1%EC%BD%94%EB%93%9C/11.%20ndarray%20%EB%8D%B0%EC%9D%B4%ED%84%B0%EB%A5%BC%20%EC%9D%B4%EC%9A%A9%ED%95%98%EC%97%AC%20%EB%8B%A4%EC%96%91%ED%95%9C%20%EA%B7%B8%EB%9E%98%ED%94%84%20%ED%91%9C%ED%98%84%ED%95%98%EA%B8%B0_After.ipynb#ch0000026?line=4'>5</a>\u001b[0m plt\u001b[39m.\u001b[39mplot(x, y, \u001b[39m'\u001b[39m\u001b[39mg\u001b[39m\u001b[39m'\u001b[39m)\n",
      "\u001b[1;31mNameError\u001b[0m: name 'x' is not defined"
     ]
    },
    {
     "data": {
      "image/png": "[encoded data removed]",
      "text/plain": [
       "<Figure size 432x288 with 1 Axes>"
      ]
     },
     "metadata": {
      "needs_background": "light"
     },
     "output_type": "display_data"
    }
   ],
   "source": [
    "plt.subplot(2, 2, 1)\n",
    "plt.plot(x, y, 'r')\n",
    "\n",
    "plt.subplot(2, 2, 2)\n",
    "plt.plot(x, y, 'g')\n",
    "\n",
    "plt.subplot(2, 2, 3)\n",
    "plt.plot(y, x, 'k')\n",
    "\n",
    "plt.subplot(2, 2, 4)\n",
    "plt.plot(x, np.exp(x), 'b')"
   ]
  },
  {
   "cell_type": "markdown",
   "metadata": {},
   "source": [
    "### hist함수 사용\n",
    " - histogram 생성\n",
    " - bins로 historgram bar 개수 설정"
   ]
  },
  {
   "cell_type": "code",
   "execution_count": null,
   "metadata": {},
   "outputs": [],
   "source": [
    "data = np.random.randint(1, 100, size=200)\n",
    "print(data)"
   ]
  },
  {
   "cell_type": "code",
   "execution_count": null,
   "metadata": {},
   "outputs": [],
   "source": [
    "plt.hist(data, bins=20, alpha=0.3)\n",
    "plt.xlabel('값')\n",
    "plt.ylabel('개수')\n",
    "plt.grid(True)"
   ]
  },
  {
   "cell_type": "markdown",
   "metadata": {},
   "source": [
    "#### 연습문제\n",
    " 1. 로또 번호 자동 생성기(함수로)를 만드시오\n",
    " 2. numpy를 이용하여 pi(원주율) 값을 계산하시오\n",
    "  - 몬테 카를로 방법 이용하기\n",
    "  - ![파이 값 구하기](http://mathfaculty.fullerton.edu/mathews/n2003/montecarlopi/MonteCarloPiMod/Images/MonteCarloPiMod_gr_25.gif)\n",
    "  - 이미지 출처: http://mathfaculty.fullerton.edu/mathews/n2003/montecarlopi/MonteCarloPiMod/Images/MonteCarloPiMod_gr_25.gif "
   ]
  },
  {
   "cell_type": "code",
   "execution_count": null,
   "metadata": {},
   "outputs": [],
   "source": []
  }
 ],
 "metadata": {
  "interpreter": {
   "hash": "360415a06a2cb4988f467b724c8ffdb39ec3aeec574ee0105248e66f7284bba3"
  },
  "kernelspec": {
   "display_name": "Python 3.10.4 ('bu')",
   "language": "python",
   "name": "python3"
  },
  "language_info": {
   "codemirror_mode": {
    "name": "ipython",
    "version": 3
   },
   "file_extension": ".py",
   "mimetype": "text/x-python",
   "name": "python",
   "nbconvert_exporter": "python",
   "pygments_lexer": "ipython3",
   "version": "3.10.4"
  }
 },
 "nbformat": 4,
 "nbformat_minor": 2
}
