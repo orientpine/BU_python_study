{
 "cells": [
  {
   "cell_type": "code",
   "execution_count": 7,
   "metadata": {},
   "outputs": [],
   "source": [
    "import pandas as pd\n",
    "from difflib import SequenceMatcher\n",
    "from itertools import product"
   ]
  },
  {
   "cell_type": "code",
   "execution_count": 52,
   "metadata": {},
   "outputs": [],
   "source": [
    "def similar(a, b):\n",
    "    return SequenceMatcher(None, a.lower(), b.lower()).ratio()"
   ]
  },
  {
   "cell_type": "code",
   "execution_count": 53,
   "metadata": {},
   "outputs": [],
   "source": [
    "list_pubmed = pd.read_excel('Individual_studies.xlsx',sheet_name='Pubmed')\n",
    "list_webSci = pd.read_excel('Individual_studies.xlsx',sheet_name='WebOfSciences')\n",
    "list_pubmed['isDuplicate'] = 'NO'\n",
    "list_webSci['isDuplicate'] = 'NO'\n",
    "list_pubmed['dupRate'] = 0\n",
    "list_webSci['dupRate'] = 0"
   ]
  },
  {
   "cell_type": "code",
   "execution_count": 54,
   "metadata": {},
   "outputs": [],
   "source": [
    "items = [list_pubmed['Title'],list_webSci['Title']]\n",
    "for item in list(product(*items)):\n",
    "    matchRate = similar(*item)\n",
    "    if(matchRate > 0.9):\n",
    "        check = 'YES'\n",
    "        list_pubmed.loc[list_pubmed['Title'] == item[0],'isDuplicate'] = check\n",
    "        list_webSci.loc[list_webSci['Title'] == item[1],'isDuplicate'] = check\n",
    "        list_pubmed.loc[list_pubmed['Title'] == item[0],'dupRate'] = matchRate\n",
    "        list_webSci.loc[list_webSci['Title'] == item[1],'dupRate'] = matchRate\n"
   ]
  },
  {
   "cell_type": "code",
   "execution_count": 55,
   "metadata": {},
   "outputs": [],
   "source": [
    "with pd.ExcelWriter('Individual_studies_dupCheck.xlsx') as writer:\n",
    "    list_pubmed.to_excel(writer,sheet_name='Pubmed')\n",
    "    list_webSci.to_excel(writer,sheet_name='WebOfSciences')"
   ]
  },
  {
   "cell_type": "code",
   "execution_count": 4,
   "metadata": {},
   "outputs": [
    {
     "data": {
      "text/plain": [
       "{'apple', '포도'}"
      ]
     },
     "execution_count": 4,
     "metadata": {},
     "output_type": "execute_result"
    }
   ],
   "source": [
    "A = ['\"apple\"', 'banana','grapes','orange']\n",
    "B = ['apple', 'banana','포도','orange']\n",
    "set(B) - set(A)"
   ]
  },
  {
   "cell_type": "code",
   "execution_count": 5,
   "metadata": {},
   "outputs": [],
   "source": [
    "def similar(a, b):\n",
    "    return SequenceMatcher(None, a.lower(), b.lower()).ratio()"
   ]
  },
  {
   "cell_type": "code",
   "execution_count": 8,
   "metadata": {},
   "outputs": [
    {
     "data": {
      "text/plain": [
       "0.8333333333333334"
      ]
     },
     "execution_count": 8,
     "metadata": {},
     "output_type": "execute_result"
    }
   ],
   "source": [
    "similar(\"[apple]\",\"apple\")"
   ]
  },
  {
   "cell_type": "code",
   "execution_count": null,
   "metadata": {},
   "outputs": [],
   "source": []
  }
 ],
 "metadata": {
  "kernelspec": {
   "display_name": "Python 3.8.0 ('buIMU')",
   "language": "python",
   "name": "python3"
  },
  "language_info": {
   "codemirror_mode": {
    "name": "ipython",
    "version": 3
   },
   "file_extension": ".py",
   "mimetype": "text/x-python",
   "name": "python",
   "nbconvert_exporter": "python",
   "pygments_lexer": "ipython3",
   "version": "3.8.0"
  },
  "orig_nbformat": 4,
  "vscode": {
   "interpreter": {
    "hash": "b7f75e3f67c2e8328760c5f8e07c7b9104f46fb4b9635e1895ac42e507773c47"
   }
  }
 },
 "nbformat": 4,
 "nbformat_minor": 2
}
