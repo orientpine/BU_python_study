{
 "cells": [
  {
   "cell_type": "markdown",
   "metadata": {},
   "source": [
    "## 학습목표\n",
    " 1. merge & join 함수 활용하기"
   ]
  },
  {
   "cell_type": "code",
   "execution_count": 1,
   "metadata": {},
   "outputs": [],
   "source": [
    "import numpy as np\n",
    "import pandas as pd"
   ]
  },
  {
   "cell_type": "markdown",
   "metadata": {},
   "source": [
    "#### dataframe merge\n",
    " - SQL의 join처럼 특정한 column을 기준으로 병합\n",
    "   - join 방식: how 파라미터를 통해 명시\n",
    "     - inner: 기본값, 일치하는 값이 있는 경우 \n",
    "     - left: left outer join\n",
    "     - right: right outer join\n",
    "     - outer: full outer join\n",
    "     \n",
    " - pandas.merge 함수가 사용됨"
   ]
  },
  {
   "cell_type": "code",
   "execution_count": 15,
   "metadata": {},
   "outputs": [
    {
     "data": {
      "text/html": [
       "<div>\n",
       "<style scoped>\n",
       "    .dataframe tbody tr th:only-of-type {\n",
       "        vertical-align: middle;\n",
       "    }\n",
       "\n",
       "    .dataframe tbody tr th {\n",
       "        vertical-align: top;\n",
       "    }\n",
       "\n",
       "    .dataframe thead th {\n",
       "        text-align: right;\n",
       "    }\n",
       "</style>\n",
       "<table border=\"1\" class=\"dataframe\">\n",
       "  <thead>\n",
       "    <tr style=\"text-align: right;\">\n",
       "      <th></th>\n",
       "      <th>player_name</th>\n",
       "      <th>name</th>\n",
       "      <th>age</th>\n",
       "    </tr>\n",
       "  </thead>\n",
       "  <tbody>\n",
       "    <tr>\n",
       "      <th>0</th>\n",
       "      <td>0</td>\n",
       "      <td>손흥민</td>\n",
       "      <td>29</td>\n",
       "    </tr>\n",
       "    <tr>\n",
       "      <th>1</th>\n",
       "      <td>1</td>\n",
       "      <td>차범근</td>\n",
       "      <td>60</td>\n",
       "    </tr>\n",
       "    <tr>\n",
       "      <th>2</th>\n",
       "      <td>2</td>\n",
       "      <td>박지성</td>\n",
       "      <td>40</td>\n",
       "    </tr>\n",
       "    <tr>\n",
       "      <th>3</th>\n",
       "      <td>3</td>\n",
       "      <td>이영표</td>\n",
       "      <td>41</td>\n",
       "    </tr>\n",
       "    <tr>\n",
       "      <th>4</th>\n",
       "      <td>4</td>\n",
       "      <td>이천수</td>\n",
       "      <td>42</td>\n",
       "    </tr>\n",
       "    <tr>\n",
       "      <th>5</th>\n",
       "      <td>5</td>\n",
       "      <td>이승우</td>\n",
       "      <td>26</td>\n",
       "    </tr>\n",
       "  </tbody>\n",
       "</table>\n",
       "</div>"
      ],
      "text/plain": [
       "   player_name name  age\n",
       "0            0  손흥민   29\n",
       "1            1  차범근   60\n",
       "2            2  박지성   40\n",
       "3            3  이영표   41\n",
       "4            4  이천수   42\n",
       "5            5  이승우   26"
      ]
     },
     "execution_count": 15,
     "metadata": {},
     "output_type": "execute_result"
    }
   ],
   "source": [
    "customer = pd.DataFrame({'player_name' : np.arange(6), \n",
    "                    'name' : ['손흥민', '차범근', '박지성', '이영표', '이천수', '이승우'], \n",
    "                    'age' : [29, 60, 40, 41, 42, 26]})\n",
    "\n",
    "customer"
   ]
  },
  {
   "cell_type": "code",
   "execution_count": 16,
   "metadata": {},
   "outputs": [
    {
     "data": {
      "text/html": [
       "<div>\n",
       "<style scoped>\n",
       "    .dataframe tbody tr th:only-of-type {\n",
       "        vertical-align: middle;\n",
       "    }\n",
       "\n",
       "    .dataframe tbody tr th {\n",
       "        vertical-align: top;\n",
       "    }\n",
       "\n",
       "    .dataframe thead th {\n",
       "        text-align: right;\n",
       "    }\n",
       "</style>\n",
       "<table border=\"1\" class=\"dataframe\">\n",
       "  <thead>\n",
       "    <tr style=\"text-align: right;\">\n",
       "      <th></th>\n",
       "      <th>player_name</th>\n",
       "      <th>team</th>\n",
       "      <th>back_number</th>\n",
       "    </tr>\n",
       "  </thead>\n",
       "  <tbody>\n",
       "    <tr>\n",
       "      <th>0</th>\n",
       "      <td>손흥민</td>\n",
       "      <td>토트넘</td>\n",
       "      <td>7</td>\n",
       "    </tr>\n",
       "    <tr>\n",
       "      <th>1</th>\n",
       "      <td>차범근</td>\n",
       "      <td>레버쿠젠</td>\n",
       "      <td>9</td>\n",
       "    </tr>\n",
       "    <tr>\n",
       "      <th>2</th>\n",
       "      <td>박지성</td>\n",
       "      <td>맨유</td>\n",
       "      <td>13</td>\n",
       "    </tr>\n",
       "    <tr>\n",
       "      <th>3</th>\n",
       "      <td>이영표</td>\n",
       "      <td>토트넘</td>\n",
       "      <td>5</td>\n",
       "    </tr>\n",
       "    <tr>\n",
       "      <th>4</th>\n",
       "      <td>이천수</td>\n",
       "      <td>비야레알</td>\n",
       "      <td>11</td>\n",
       "    </tr>\n",
       "  </tbody>\n",
       "</table>\n",
       "</div>"
      ],
      "text/plain": [
       "  player_name  team  back_number\n",
       "0         손흥민   토트넘            7\n",
       "1         차범근  레버쿠젠            9\n",
       "2         박지성    맨유           13\n",
       "3         이영표   토트넘            5\n",
       "4         이천수  비야레알           11"
      ]
     },
     "execution_count": 16,
     "metadata": {},
     "output_type": "execute_result"
    }
   ],
   "source": [
    "orders = pd.DataFrame({'player_name' : ['손흥민', '차범근', '박지성', '이영표', '이천수', '이승우'], \n",
    "                    'team' : ['토트넘', '레버쿠젠', '맨유', '토트넘', '비야레알', '바르셀로나'], \n",
    "                    'back_number' : [7, 9, 13, 5, 11, 10]})\n",
    "orders.head()"
   ]
  },
  {
   "cell_type": "markdown",
   "metadata": {},
   "source": [
    "* on \n",
    " - join 대상이 되는 column 명시"
   ]
  },
  {
   "cell_type": "code",
   "execution_count": null,
   "metadata": {},
   "outputs": [],
   "source": []
  },
  {
   "cell_type": "code",
   "execution_count": 19,
   "metadata": {},
   "outputs": [
    {
     "ename": "ValueError",
     "evalue": "You are trying to merge on int32 and object columns. If you wish to proceed you should use pd.concat",
     "output_type": "error",
     "traceback": [
      "\u001b[1;31m---------------------------------------------------------------------------\u001b[0m",
      "\u001b[1;31mValueError\u001b[0m                                Traceback (most recent call last)",
      "\u001b[1;32md:\\BU\\Others\\computer\\BU_python_study\\KIM_HJ\\Homework_HJ\\StudyMaterial\\Part 01~04) Python\\04. 데이터 분석을 위한 Python (Pandas)\\실습코드\\25. Merge _ join 함수로 데이터 프레임 병합하기_Before.ipynb Cell 8'\u001b[0m in \u001b[0;36m<cell line: 1>\u001b[1;34m()\u001b[0m\n\u001b[1;32m----> <a href='vscode-notebook-cell:/d%3A/BU/Others/computer/BU_python_study/KIM_HJ/Homework_HJ/StudyMaterial/Part%2001~04%29%20Python/04.%20%EB%8D%B0%EC%9D%B4%ED%84%B0%20%EB%B6%84%EC%84%9D%EC%9D%84%20%EC%9C%84%ED%95%9C%20Python%20%28Pandas%29/%EC%8B%A4%EC%8A%B5%EC%BD%94%EB%93%9C/25.%20Merge%20_%20join%20%ED%95%A8%EC%88%98%EB%A1%9C%20%EB%8D%B0%EC%9D%B4%ED%84%B0%20%ED%94%84%EB%A0%88%EC%9E%84%20%EB%B3%91%ED%95%A9%ED%95%98%EA%B8%B0_Before.ipynb#ch0000006?line=0'>1</a>\u001b[0m pd\u001b[39m.\u001b[39;49mmerge(customer, orders, on\u001b[39m=\u001b[39;49m\u001b[39m'\u001b[39;49m\u001b[39mplayer_name\u001b[39;49m\u001b[39m'\u001b[39;49m, how\u001b[39m=\u001b[39;49m\u001b[39m'\u001b[39;49m\u001b[39mback_number\u001b[39;49m\u001b[39m'\u001b[39;49m)\n",
      "File \u001b[1;32mc:\\Users\\HyunJoon_Kim\\anaconda3\\envs\\bu\\lib\\site-packages\\pandas\\core\\reshape\\merge.py:107\u001b[0m, in \u001b[0;36mmerge\u001b[1;34m(left, right, how, on, left_on, right_on, left_index, right_index, sort, suffixes, copy, indicator, validate)\u001b[0m\n\u001b[0;32m     <a href='file:///c%3A/Users/HyunJoon_Kim/anaconda3/envs/bu/lib/site-packages/pandas/core/reshape/merge.py?line=89'>90</a>\u001b[0m \u001b[39m@Substitution\u001b[39m(\u001b[39m\"\u001b[39m\u001b[39m\\n\u001b[39;00m\u001b[39mleft : DataFrame or named Series\u001b[39m\u001b[39m\"\u001b[39m)\n\u001b[0;32m     <a href='file:///c%3A/Users/HyunJoon_Kim/anaconda3/envs/bu/lib/site-packages/pandas/core/reshape/merge.py?line=90'>91</a>\u001b[0m \u001b[39m@Appender\u001b[39m(_merge_doc, indents\u001b[39m=\u001b[39m\u001b[39m0\u001b[39m)\n\u001b[0;32m     <a href='file:///c%3A/Users/HyunJoon_Kim/anaconda3/envs/bu/lib/site-packages/pandas/core/reshape/merge.py?line=91'>92</a>\u001b[0m \u001b[39mdef\u001b[39;00m \u001b[39mmerge\u001b[39m(\n\u001b[1;32m   (...)\u001b[0m\n\u001b[0;32m    <a href='file:///c%3A/Users/HyunJoon_Kim/anaconda3/envs/bu/lib/site-packages/pandas/core/reshape/merge.py?line=104'>105</a>\u001b[0m     validate: \u001b[39mstr\u001b[39m \u001b[39m|\u001b[39m \u001b[39mNone\u001b[39;00m \u001b[39m=\u001b[39m \u001b[39mNone\u001b[39;00m,\n\u001b[0;32m    <a href='file:///c%3A/Users/HyunJoon_Kim/anaconda3/envs/bu/lib/site-packages/pandas/core/reshape/merge.py?line=105'>106</a>\u001b[0m ) \u001b[39m-\u001b[39m\u001b[39m>\u001b[39m DataFrame:\n\u001b[1;32m--> <a href='file:///c%3A/Users/HyunJoon_Kim/anaconda3/envs/bu/lib/site-packages/pandas/core/reshape/merge.py?line=106'>107</a>\u001b[0m     op \u001b[39m=\u001b[39m _MergeOperation(\n\u001b[0;32m    <a href='file:///c%3A/Users/HyunJoon_Kim/anaconda3/envs/bu/lib/site-packages/pandas/core/reshape/merge.py?line=107'>108</a>\u001b[0m         left,\n\u001b[0;32m    <a href='file:///c%3A/Users/HyunJoon_Kim/anaconda3/envs/bu/lib/site-packages/pandas/core/reshape/merge.py?line=108'>109</a>\u001b[0m         right,\n\u001b[0;32m    <a href='file:///c%3A/Users/HyunJoon_Kim/anaconda3/envs/bu/lib/site-packages/pandas/core/reshape/merge.py?line=109'>110</a>\u001b[0m         how\u001b[39m=\u001b[39;49mhow,\n\u001b[0;32m    <a href='file:///c%3A/Users/HyunJoon_Kim/anaconda3/envs/bu/lib/site-packages/pandas/core/reshape/merge.py?line=110'>111</a>\u001b[0m         on\u001b[39m=\u001b[39;49mon,\n\u001b[0;32m    <a href='file:///c%3A/Users/HyunJoon_Kim/anaconda3/envs/bu/lib/site-packages/pandas/core/reshape/merge.py?line=111'>112</a>\u001b[0m         left_on\u001b[39m=\u001b[39;49mleft_on,\n\u001b[0;32m    <a href='file:///c%3A/Users/HyunJoon_Kim/anaconda3/envs/bu/lib/site-packages/pandas/core/reshape/merge.py?line=112'>113</a>\u001b[0m         right_on\u001b[39m=\u001b[39;49mright_on,\n\u001b[0;32m    <a href='file:///c%3A/Users/HyunJoon_Kim/anaconda3/envs/bu/lib/site-packages/pandas/core/reshape/merge.py?line=113'>114</a>\u001b[0m         left_index\u001b[39m=\u001b[39;49mleft_index,\n\u001b[0;32m    <a href='file:///c%3A/Users/HyunJoon_Kim/anaconda3/envs/bu/lib/site-packages/pandas/core/reshape/merge.py?line=114'>115</a>\u001b[0m         right_index\u001b[39m=\u001b[39;49mright_index,\n\u001b[0;32m    <a href='file:///c%3A/Users/HyunJoon_Kim/anaconda3/envs/bu/lib/site-packages/pandas/core/reshape/merge.py?line=115'>116</a>\u001b[0m         sort\u001b[39m=\u001b[39;49msort,\n\u001b[0;32m    <a href='file:///c%3A/Users/HyunJoon_Kim/anaconda3/envs/bu/lib/site-packages/pandas/core/reshape/merge.py?line=116'>117</a>\u001b[0m         suffixes\u001b[39m=\u001b[39;49msuffixes,\n\u001b[0;32m    <a href='file:///c%3A/Users/HyunJoon_Kim/anaconda3/envs/bu/lib/site-packages/pandas/core/reshape/merge.py?line=117'>118</a>\u001b[0m         copy\u001b[39m=\u001b[39;49mcopy,\n\u001b[0;32m    <a href='file:///c%3A/Users/HyunJoon_Kim/anaconda3/envs/bu/lib/site-packages/pandas/core/reshape/merge.py?line=118'>119</a>\u001b[0m         indicator\u001b[39m=\u001b[39;49mindicator,\n\u001b[0;32m    <a href='file:///c%3A/Users/HyunJoon_Kim/anaconda3/envs/bu/lib/site-packages/pandas/core/reshape/merge.py?line=119'>120</a>\u001b[0m         validate\u001b[39m=\u001b[39;49mvalidate,\n\u001b[0;32m    <a href='file:///c%3A/Users/HyunJoon_Kim/anaconda3/envs/bu/lib/site-packages/pandas/core/reshape/merge.py?line=120'>121</a>\u001b[0m     )\n\u001b[0;32m    <a href='file:///c%3A/Users/HyunJoon_Kim/anaconda3/envs/bu/lib/site-packages/pandas/core/reshape/merge.py?line=121'>122</a>\u001b[0m     \u001b[39mreturn\u001b[39;00m op\u001b[39m.\u001b[39mget_result()\n",
      "File \u001b[1;32mc:\\Users\\HyunJoon_Kim\\anaconda3\\envs\\bu\\lib\\site-packages\\pandas\\core\\reshape\\merge.py:704\u001b[0m, in \u001b[0;36m_MergeOperation.__init__\u001b[1;34m(self, left, right, how, on, left_on, right_on, axis, left_index, right_index, sort, suffixes, copy, indicator, validate)\u001b[0m\n\u001b[0;32m    <a href='file:///c%3A/Users/HyunJoon_Kim/anaconda3/envs/bu/lib/site-packages/pandas/core/reshape/merge.py?line=695'>696</a>\u001b[0m (\n\u001b[0;32m    <a href='file:///c%3A/Users/HyunJoon_Kim/anaconda3/envs/bu/lib/site-packages/pandas/core/reshape/merge.py?line=696'>697</a>\u001b[0m     \u001b[39mself\u001b[39m\u001b[39m.\u001b[39mleft_join_keys,\n\u001b[0;32m    <a href='file:///c%3A/Users/HyunJoon_Kim/anaconda3/envs/bu/lib/site-packages/pandas/core/reshape/merge.py?line=697'>698</a>\u001b[0m     \u001b[39mself\u001b[39m\u001b[39m.\u001b[39mright_join_keys,\n\u001b[0;32m    <a href='file:///c%3A/Users/HyunJoon_Kim/anaconda3/envs/bu/lib/site-packages/pandas/core/reshape/merge.py?line=698'>699</a>\u001b[0m     \u001b[39mself\u001b[39m\u001b[39m.\u001b[39mjoin_names,\n\u001b[0;32m    <a href='file:///c%3A/Users/HyunJoon_Kim/anaconda3/envs/bu/lib/site-packages/pandas/core/reshape/merge.py?line=699'>700</a>\u001b[0m ) \u001b[39m=\u001b[39m \u001b[39mself\u001b[39m\u001b[39m.\u001b[39m_get_merge_keys()\n\u001b[0;32m    <a href='file:///c%3A/Users/HyunJoon_Kim/anaconda3/envs/bu/lib/site-packages/pandas/core/reshape/merge.py?line=701'>702</a>\u001b[0m \u001b[39m# validate the merge keys dtypes. We may need to coerce\u001b[39;00m\n\u001b[0;32m    <a href='file:///c%3A/Users/HyunJoon_Kim/anaconda3/envs/bu/lib/site-packages/pandas/core/reshape/merge.py?line=702'>703</a>\u001b[0m \u001b[39m# to avoid incompatible dtypes\u001b[39;00m\n\u001b[1;32m--> <a href='file:///c%3A/Users/HyunJoon_Kim/anaconda3/envs/bu/lib/site-packages/pandas/core/reshape/merge.py?line=703'>704</a>\u001b[0m \u001b[39mself\u001b[39;49m\u001b[39m.\u001b[39;49m_maybe_coerce_merge_keys()\n\u001b[0;32m    <a href='file:///c%3A/Users/HyunJoon_Kim/anaconda3/envs/bu/lib/site-packages/pandas/core/reshape/merge.py?line=705'>706</a>\u001b[0m \u001b[39m# If argument passed to validate,\u001b[39;00m\n\u001b[0;32m    <a href='file:///c%3A/Users/HyunJoon_Kim/anaconda3/envs/bu/lib/site-packages/pandas/core/reshape/merge.py?line=706'>707</a>\u001b[0m \u001b[39m# check if columns specified as unique\u001b[39;00m\n\u001b[0;32m    <a href='file:///c%3A/Users/HyunJoon_Kim/anaconda3/envs/bu/lib/site-packages/pandas/core/reshape/merge.py?line=707'>708</a>\u001b[0m \u001b[39m# are in fact unique.\u001b[39;00m\n\u001b[0;32m    <a href='file:///c%3A/Users/HyunJoon_Kim/anaconda3/envs/bu/lib/site-packages/pandas/core/reshape/merge.py?line=708'>709</a>\u001b[0m \u001b[39mif\u001b[39;00m validate \u001b[39mis\u001b[39;00m \u001b[39mnot\u001b[39;00m \u001b[39mNone\u001b[39;00m:\n",
      "File \u001b[1;32mc:\\Users\\HyunJoon_Kim\\anaconda3\\envs\\bu\\lib\\site-packages\\pandas\\core\\reshape\\merge.py:1257\u001b[0m, in \u001b[0;36m_MergeOperation._maybe_coerce_merge_keys\u001b[1;34m(self)\u001b[0m\n\u001b[0;32m   <a href='file:///c%3A/Users/HyunJoon_Kim/anaconda3/envs/bu/lib/site-packages/pandas/core/reshape/merge.py?line=1250'>1251</a>\u001b[0m     \u001b[39m# unless we are merging non-string-like with string-like\u001b[39;00m\n\u001b[0;32m   <a href='file:///c%3A/Users/HyunJoon_Kim/anaconda3/envs/bu/lib/site-packages/pandas/core/reshape/merge.py?line=1251'>1252</a>\u001b[0m     \u001b[39melif\u001b[39;00m (\n\u001b[0;32m   <a href='file:///c%3A/Users/HyunJoon_Kim/anaconda3/envs/bu/lib/site-packages/pandas/core/reshape/merge.py?line=1252'>1253</a>\u001b[0m         inferred_left \u001b[39min\u001b[39;00m string_types \u001b[39mand\u001b[39;00m inferred_right \u001b[39mnot\u001b[39;00m \u001b[39min\u001b[39;00m string_types\n\u001b[0;32m   <a href='file:///c%3A/Users/HyunJoon_Kim/anaconda3/envs/bu/lib/site-packages/pandas/core/reshape/merge.py?line=1253'>1254</a>\u001b[0m     ) \u001b[39mor\u001b[39;00m (\n\u001b[0;32m   <a href='file:///c%3A/Users/HyunJoon_Kim/anaconda3/envs/bu/lib/site-packages/pandas/core/reshape/merge.py?line=1254'>1255</a>\u001b[0m         inferred_right \u001b[39min\u001b[39;00m string_types \u001b[39mand\u001b[39;00m inferred_left \u001b[39mnot\u001b[39;00m \u001b[39min\u001b[39;00m string_types\n\u001b[0;32m   <a href='file:///c%3A/Users/HyunJoon_Kim/anaconda3/envs/bu/lib/site-packages/pandas/core/reshape/merge.py?line=1255'>1256</a>\u001b[0m     ):\n\u001b[1;32m-> <a href='file:///c%3A/Users/HyunJoon_Kim/anaconda3/envs/bu/lib/site-packages/pandas/core/reshape/merge.py?line=1256'>1257</a>\u001b[0m         \u001b[39mraise\u001b[39;00m \u001b[39mValueError\u001b[39;00m(msg)\n\u001b[0;32m   <a href='file:///c%3A/Users/HyunJoon_Kim/anaconda3/envs/bu/lib/site-packages/pandas/core/reshape/merge.py?line=1258'>1259</a>\u001b[0m \u001b[39m# datetimelikes must match exactly\u001b[39;00m\n\u001b[0;32m   <a href='file:///c%3A/Users/HyunJoon_Kim/anaconda3/envs/bu/lib/site-packages/pandas/core/reshape/merge.py?line=1259'>1260</a>\u001b[0m \u001b[39melif\u001b[39;00m needs_i8_conversion(lk\u001b[39m.\u001b[39mdtype) \u001b[39mand\u001b[39;00m \u001b[39mnot\u001b[39;00m needs_i8_conversion(rk\u001b[39m.\u001b[39mdtype):\n",
      "\u001b[1;31mValueError\u001b[0m: You are trying to merge on int32 and object columns. If you wish to proceed you should use pd.concat"
     ]
    }
   ],
   "source": [
    "pd.merge(customer, orders, on='player_name', how='back_number')"
   ]
  },
  {
   "cell_type": "markdown",
   "metadata": {},
   "source": [
    "* index 기준으로 join하기"
   ]
  },
  {
   "cell_type": "code",
   "execution_count": null,
   "metadata": {},
   "outputs": [],
   "source": []
  },
  {
   "cell_type": "markdown",
   "metadata": {},
   "source": [
    "#### 연습문제\n",
    "1. 가장 많이 팔린 아이템은?\n",
    "2. 영희가 가장 많이 구매한 아이템은?"
   ]
  },
  {
   "cell_type": "code",
   "execution_count": null,
   "metadata": {},
   "outputs": [],
   "source": []
  },
  {
   "cell_type": "markdown",
   "metadata": {},
   "source": [
    "#### join 함수\n",
    " - 내부적으로 pandas.merge 함수 사용\n",
    " - 기본적으로 index를 사용하여 left join"
   ]
  },
  {
   "cell_type": "code",
   "execution_count": null,
   "metadata": {},
   "outputs": [],
   "source": []
  }
 ],
 "metadata": {
  "kernelspec": {
   "display_name": "Python 3",
   "language": "python",
   "name": "python3"
  },
  "language_info": {
   "codemirror_mode": {
    "name": "ipython",
    "version": 3
   },
   "file_extension": ".py",
   "mimetype": "text/x-python",
   "name": "python",
   "nbconvert_exporter": "python",
   "pygments_lexer": "ipython3",
   "version": "3.7.3"
  }
 },
 "nbformat": 4,
 "nbformat_minor": 1
}
