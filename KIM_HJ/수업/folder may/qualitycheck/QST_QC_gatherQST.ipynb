{
 "cells": [
  {
   "cell_type": "code",
   "execution_count": 1,
   "metadata": {},
   "outputs": [],
   "source": [
    "# import 필요한 라이브러리\n",
    "import os\n",
    "from natsort import natsorted\n",
    "from pathlib import Path\n",
    "import shutil\n",
    "from os import listdir\n",
    "from os.path import isdir\n",
    "from os.path import exists\n",
    "from os.path import isfile, join\n",
    "import numpy as np\n",
    "from tqdm.notebook import tqdm\n",
    "import re\n",
    "import pandas as pd"
   ]
  },
  {
   "cell_type": "code",
   "execution_count": 2,
   "metadata": {},
   "outputs": [],
   "source": [
    "# 필요한 함수 설정\n",
    "def ensure_dir(file_path):\n",
    "    if not os.path.exists(file_path):\n",
    "        os.makedirs(file_path)"
   ]
  },
  {
   "cell_type": "code",
   "execution_count": 6,
   "metadata": {},
   "outputs": [
    {
     "ename": "NameError",
     "evalue": "name 'ensure_dir' is not defined",
     "output_type": "error",
     "traceback": [
      "\u001b[1;31m---------------------------------------------------------------------------\u001b[0m",
      "\u001b[1;31mNameError\u001b[0m                                 Traceback (most recent call last)",
      "\u001b[1;32mf:\\My Drive\\PlayGround\\BU_Python_Group_Study\\CHA\\qualitycheck\\QST_QC_gatherQST.ipynb Cell 3'\u001b[0m in \u001b[0;36m<cell line: 1>\u001b[1;34m()\u001b[0m\n\u001b[1;32m----> <a href='vscode-notebook-cell:/f%3A/My%20Drive/PlayGround/BU_Python_Group_Study/CHA/qualitycheck/QST_QC_gatherQST.ipynb#ch0000013?line=0'>1</a>\u001b[0m ensure_dir(\u001b[39m'\u001b[39m\u001b[39mtest1\u001b[39m\u001b[39m'\u001b[39m)\n\u001b[0;32m      <a href='vscode-notebook-cell:/f%3A/My%20Drive/PlayGround/BU_Python_Group_Study/CHA/qualitycheck/QST_QC_gatherQST.ipynb#ch0000013?line=1'>2</a>\u001b[0m ensure_dir(\u001b[39m'\u001b[39m\u001b[39mtest2\u001b[39m\u001b[39m'\u001b[39m)\n\u001b[0;32m      <a href='vscode-notebook-cell:/f%3A/My%20Drive/PlayGround/BU_Python_Group_Study/CHA/qualitycheck/QST_QC_gatherQST.ipynb#ch0000013?line=2'>3</a>\u001b[0m ensure_dir(\u001b[39m'\u001b[39m\u001b[39mtest3\u001b[39m\u001b[39m'\u001b[39m)\n",
      "\u001b[1;31mNameError\u001b[0m: name 'ensure_dir' is not defined"
     ]
    }
   ],
   "source": [
    "ensure_dir('test1')\n",
    "ensure_dir('test2')\n",
    "ensure_dir('test3')"
   ]
  },
  {
   "cell_type": "code",
   "execution_count": 3,
   "metadata": {},
   "outputs": [
    {
     "data": {
      "application/vnd.jupyter.widget-view+json": {
       "model_id": "67edb80beadb436d83ac87ab5a8764be",
       "version_major": 2,
       "version_minor": 0
      },
      "text/plain": [
       "  0%|          | 0/63 [00:00<?, ?it/s]"
      ]
     },
     "metadata": {},
     "output_type": "display_data"
    }
   ],
   "source": [
    "Listpatients = natsorted([f for f in listdir(os.getcwd()) if re.match(r'^W[\\d]*$', f)])\n",
    "\n",
    "Total_QST = pd.DataFrame(columns=['ID','Test','Location','Value','Comments'])\n",
    "for patients in tqdm(Listpatients):\n",
    "    baselineQSTchecked = False\n",
    "    targetFolders = [] # this include Miqus\n",
    "    targetfiles = []\n",
    "\n",
    "    # Find visitData folder in patients folder\n",
    "    List_dataDir = natsorted([f for f in listdir(patients) if isdir(join(patients, f))])\n",
    "    # iterate 'visitData' folders\n",
    "    # find what folder have Miqus\n",
    "    for dateDir in List_dataDir:\n",
    "        targetDir = os.path.join(patients,dateDir,'QST',f'{patients}_{dateDir}_QST.xlsx')\n",
    "        if baselineQSTchecked == True: # 이미 QST가 있으면 해당 날짜는 넘어가기\n",
    "            continue\n",
    "        if os.path.exists(targetDir):\n",
    "            df_QST = pd.DataFrame()\n",
    "            result_QST = pd.read_excel(targetDir)\n",
    "            result_QST['ID'] = patients\n",
    "            result_QST = result_QST.reindex(columns=['ID','Test','Location','Value','Comments'])\n",
    "            Total_QST = pd.concat([Total_QST,result_QST], ignore_index=True)\n",
    "            baselineQSTchecked = True\n",
    "Total_QST.to_excel('Total_QST.xlsx')"
   ]
  },
  {
   "cell_type": "code",
   "execution_count": null,
   "metadata": {},
   "outputs": [],
   "source": [
    "Total_QST"
   ]
  },
  {
   "cell_type": "code",
   "execution_count": 3,
   "metadata": {},
   "outputs": [
    {
     "data": {
      "text/html": [
       "<div>\n",
       "<style scoped>\n",
       "    .dataframe tbody tr th:only-of-type {\n",
       "        vertical-align: middle;\n",
       "    }\n",
       "\n",
       "    .dataframe tbody tr th {\n",
       "        vertical-align: top;\n",
       "    }\n",
       "\n",
       "    .dataframe thead th {\n",
       "        text-align: right;\n",
       "    }\n",
       "</style>\n",
       "<table border=\"1\" class=\"dataframe\">\n",
       "  <thead>\n",
       "    <tr style=\"text-align: right;\">\n",
       "      <th></th>\n",
       "      <th>a</th>\n",
       "      <th>b</th>\n",
       "    </tr>\n",
       "  </thead>\n",
       "  <tbody>\n",
       "    <tr>\n",
       "      <th>0</th>\n",
       "      <td>HI</td>\n",
       "      <td>Temp</td>\n",
       "    </tr>\n",
       "    <tr>\n",
       "      <th>1</th>\n",
       "      <td>HI</td>\n",
       "      <td>Precip</td>\n",
       "    </tr>\n",
       "    <tr>\n",
       "      <th>2</th>\n",
       "      <td>NJ</td>\n",
       "      <td>Temp</td>\n",
       "    </tr>\n",
       "    <tr>\n",
       "      <th>3</th>\n",
       "      <td>NJ</td>\n",
       "      <td>Precip</td>\n",
       "    </tr>\n",
       "  </tbody>\n",
       "</table>\n",
       "</div>"
      ],
      "text/plain": [
       "    a       b\n",
       "0  HI    Temp\n",
       "1  HI  Precip\n",
       "2  NJ    Temp\n",
       "3  NJ  Precip"
      ]
     },
     "execution_count": 3,
     "metadata": {},
     "output_type": "execute_result"
    }
   ],
   "source": [
    "df = pd.DataFrame([['HI', 'Temp'], ['HI', 'Precip'],\n",
    "                   ['NJ', 'Temp'], ['NJ', 'Precip']],\n",
    "                  columns=['a', 'b'])\n",
    "df\n"
   ]
  },
  {
   "cell_type": "code",
   "execution_count": 8,
   "metadata": {},
   "outputs": [
    {
     "ename": "NameError",
     "evalue": "name 'Total_QST' is not defined",
     "output_type": "error",
     "traceback": [
      "\u001b[1;31m---------------------------------------------------------------------------\u001b[0m",
      "\u001b[1;31mNameError\u001b[0m                                 Traceback (most recent call last)",
      "\u001b[1;32mz:\\PROJECTS\\wesens\\Data\\QST_QC_gatherQST.ipynb Cell 6'\u001b[0m in \u001b[0;36m<cell line: 1>\u001b[1;34m()\u001b[0m\n\u001b[1;32m----> <a href='vscode-notebook-cell:/z%3A/PROJECTS/wesens/Data/QST_QC_gatherQST.ipynb#ch0000005?line=0'>1</a>\u001b[0m A \u001b[39m=\u001b[39m pd\u001b[39m.\u001b[39mMultiIndex\u001b[39m.\u001b[39mfrom_frame(Total_QST)\n",
      "\u001b[1;31mNameError\u001b[0m: name 'Total_QST' is not defined"
     ]
    }
   ],
   "source": [
    "A = pd.MultiIndex.from_frame(Total_QST)"
   ]
  },
  {
   "cell_type": "code",
   "execution_count": 7,
   "metadata": {},
   "outputs": [
    {
     "name": "stdout",
     "output_type": "stream",
     "text": [
      "MultiIndex([('HI',   'Temp'),\n",
      "            ('HI', 'Precip'),\n",
      "            ('NJ',   'Temp'),\n",
      "            ('NJ', 'Precip')],\n",
      "           names=['a', 'b'])\n"
     ]
    }
   ],
   "source": [
    "print(A)"
   ]
  },
  {
   "cell_type": "code",
   "execution_count": 2,
   "metadata": {},
   "outputs": [],
   "source": [
    "import datetime\n",
    "import random\n",
    "from natsort import natsorted \n",
    "class Generator():\n",
    "\n",
    "    def __init__(self, start_date, end_date, start_id, end_id):\n",
    "        self.start_date = datetime.date(start_date['year'], start_date['month'], start_date['day'])\n",
    "        self.end_date = datetime.date(end_date['year'], end_date['month'], end_date['day'])\n",
    "        self.start_id = start_id\n",
    "        self.end_id = end_id\n",
    "\n",
    "    def dategenerate(self, qty):\n",
    "        start_date = self.start_date\n",
    "        end_date = self.end_date\n",
    "\n",
    "        set_date = set()\n",
    "        while(len(set_date)<qty):\n",
    "            time_between_dates = end_date - start_date\n",
    "            days_between_dates = time_between_dates.days\n",
    "            random_number_of_days = random.randrange(days_between_dates)\n",
    "            random_date = start_date + datetime.timedelta(days=random_number_of_days)\n",
    "            gen_date = ''.join(str(random_date).split('-'))\n",
    "            set_date.add(gen_date)\n",
    "        return natsorted(list(set_date))\n",
    "\n",
    "    def idgenerate(self,isconstlength = False, maxlength = 3):\n",
    "        set_id = set()\n",
    "        for i in range(self.start_id, self.end_id):\n",
    "            str_id = str(i)\n",
    "            if isconstlength:\n",
    "                str_id ='0'*(maxlength-len(str_id)) + str_id\n",
    "            gen_id = \"W\"+ str_id\n",
    "            set_id.add(gen_id)\n",
    "\n",
    "        return natsorted(list(set_id))"
   ]
  },
  {
   "cell_type": "code",
   "execution_count": 6,
   "metadata": {},
   "outputs": [],
   "source": [
    "start_date = {'year':1900,'month':1,'day':1}\n",
    "end_date = {'year':1999,'month':12,'day':31}\n",
    "start_id = 1\n",
    "end_id = 40\n",
    "date_20thCentury = Generator(start_date, end_date, start_id, end_id)"
   ]
  },
  {
   "cell_type": "code",
   "execution_count": 8,
   "metadata": {},
   "outputs": [
    {
     "name": "stdout",
     "output_type": "stream",
     "text": [
      "['19000314', '19861126', '19881128']\n",
      "['19300711', '19531201', '19740225', '19861026']\n",
      "['19050301', '19411004', '19451106', '19750210', '19921205']\n",
      "['W001', 'W002', 'W003', 'W004', 'W005', 'W006', 'W007', 'W008', 'W009', 'W010', 'W011', 'W012', 'W013', 'W014', 'W015', 'W016', 'W017', 'W018', 'W019', 'W020', 'W021', 'W022', 'W023', 'W024', 'W025', 'W026', 'W027', 'W028', 'W029', 'W030', 'W031', 'W032', 'W033', 'W034', 'W035', 'W036', 'W037', 'W038', 'W039']\n"
     ]
    },
    {
     "data": {
      "text/plain": [
       "'19441128'"
      ]
     },
     "execution_count": 8,
     "metadata": {},
     "output_type": "execute_result"
    }
   ],
   "source": [
    "#날짜\n",
    "print(date_20thCentury.dategenerate(3))\n",
    "print(date_20thCentury.dategenerate(4))\n",
    "print(date_20thCentury.dategenerate(5))\n",
    "\n",
    "print(date_20thCentury.idgenerate(True))\n",
    "\n",
    "data_3 = date_20thCentury.dategenerate(3)\n",
    "data_3[0]"
   ]
  },
  {
   "cell_type": "code",
   "execution_count": 24,
   "metadata": {},
   "outputs": [
    {
     "data": {
      "text/plain": [
       "['19150718', '19280410', '19301018', '19410131']"
      ]
     },
     "execution_count": 24,
     "metadata": {},
     "output_type": "execute_result"
    }
   ],
   "source": [
    "import random\n",
    "visitCount  = random.randrange(5)\n",
    "date_20thCentury.dategenerate(visitCount)"
   ]
  },
  {
   "cell_type": "code",
   "execution_count": 58,
   "metadata": {},
   "outputs": [],
   "source": [
    "start_date = {'year':2000,'month':1,'day':1}\n",
    "end_date = {'year':2022,'month':6,'day':8}\n",
    "date_21thCentury = Generator(start_date, end_date,1,40)"
   ]
  },
  {
   "cell_type": "code",
   "execution_count": 60,
   "metadata": {},
   "outputs": [
    {
     "name": "stdout",
     "output_type": "stream",
     "text": [
      "['20050213', '20080910', '20111220', '20130218']\n",
      "['20031203', '20180317', '20190217', '20220318', '20220524']\n",
      "['20030113', '20080112', '20090822', '20141021', '20150927', '20210925']\n"
     ]
    }
   ],
   "source": [
    "print(date_21thCentury.dategenerate(4))\n",
    "print(date_21thCentury.dategenerate(5))\n",
    "print(date_21thCentury.dategenerate(6))\n"
   ]
  },
  {
   "cell_type": "code",
   "execution_count": 5,
   "metadata": {},
   "outputs": [],
   "source": [
    "one = pd.DataFrame(columns =['Test','Location','Value','Comments'])\n",
    "one.to_excel('./Data/test.xlsx')"
   ]
  },
  {
   "cell_type": "code",
   "execution_count": null,
   "metadata": {},
   "outputs": [],
   "source": []
  }
 ],
 "metadata": {
  "interpreter": {
   "hash": "360415a06a2cb4988f467b724c8ffdb39ec3aeec574ee0105248e66f7284bba3"
  },
  "kernelspec": {
   "display_name": "Python 3.10.4 ('bu')",
   "language": "python",
   "name": "python3"
  },
  "language_info": {
   "codemirror_mode": {
    "name": "ipython",
    "version": 3
   },
   "file_extension": ".py",
   "mimetype": "text/x-python",
   "name": "python",
   "nbconvert_exporter": "python",
   "pygments_lexer": "ipython3",
   "version": "3.10.4"
  },
  "orig_nbformat": 4
 },
 "nbformat": 4,
 "nbformat_minor": 2
}
