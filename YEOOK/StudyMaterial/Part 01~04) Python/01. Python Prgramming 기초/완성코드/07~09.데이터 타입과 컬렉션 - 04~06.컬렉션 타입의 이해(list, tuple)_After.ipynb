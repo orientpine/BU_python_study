{
 "cells": [
  {
   "cell_type": "markdown",
   "metadata": {},
   "source": [
    "## 학습목표\n",
    " 1. list, tuple에 대해 이해 및 실습\n"
   ]
  },
  {
   "cell_type": "markdown",
   "metadata": {},
   "source": [
    "### **리스트 & 튜플**\n",
    " * 복수개의 값을 담을 수 있는 데이터 구조\n",
    " * 실생활에서 사용하는 리스트(학생 리스트, 성적 리스트 등등)과 동일한 의미로 이해\n",
    " * list - mutable    (생성된 후에 변경 가능)  \n",
    " * tuple - immutable (생성된 후에 변경 불가능)  "
   ]
  },
  {
   "cell_type": "markdown",
   "metadata": {},
   "source": [
    "#### **리스트 초기화**\n",
    " - [] 안에 값을 담아서 생성\n",
    " - list() 함수로 생성\n",
    " - str.split()함수로 생성"
   ]
  },
  {
   "cell_type": "code",
   "execution_count": null,
   "metadata": {},
   "outputs": [],
   "source": [
    "a = []\n",
    "print(a)"
   ]
  },
  {
   "cell_type": "code",
   "execution_count": null,
   "metadata": {},
   "outputs": [],
   "source": [
    "a = [1, 2, 3, 5, 10]\n",
    "print(a)"
   ]
  },
  {
   "cell_type": "code",
   "execution_count": null,
   "metadata": {},
   "outputs": [],
   "source": [
    "a = ['korea', 'canada', 1, 23, [34, 56]]\n",
    "print(a)"
   ]
  },
  {
   "cell_type": "markdown",
   "metadata": {},
   "source": [
    "* **list() 함수**\n",
    " + 다른 데이터 타입을 리스트로 변환할 때도 사용"
   ]
  },
  {
   "cell_type": "code",
   "execution_count": null,
   "metadata": {},
   "outputs": [],
   "source": [
    "a = 'hello world'\n",
    "b = list(a)\n",
    "print(b)\n",
    "\n",
    "c = (1, 2, 3)\n",
    "d = list(c)\n",
    "\n",
    "print(d)"
   ]
  },
  {
   "cell_type": "markdown",
   "metadata": {},
   "source": [
    "+ **string split 함수**\n",
    " * 구분자로 구분되는 리스트를 반환 (빈번히 사용 됨)"
   ]
  },
  {
   "cell_type": "code",
   "execution_count": null,
   "metadata": {},
   "outputs": [],
   "source": [
    "a = 'hello world nice weather'\n",
    "b = a.split()\n",
    "\n",
    "print(b)"
   ]
  },
  {
   "cell_type": "markdown",
   "metadata": {},
   "source": [
    "#### **리스트 indexing**\n",
    " * 문자열의 인덱싱과 동일하게 동작\n",
    " * [] 연산자를 이용하여 항목 얻어오기\n",
    " * [i] - i번째 원소를 반환\n",
    " * i가 음수인 경우도 가능하며 마지막원소가 -1로 하여 앞으로 갈때마다 1씩 감소함"
   ]
  },
  {
   "cell_type": "code",
   "execution_count": null,
   "metadata": {},
   "outputs": [],
   "source": [
    "a = [1, 2, 3, 4, 5, 6]\n",
    "print(a[2])\n",
    "print(a[5])\n",
    "print(a[-1])"
   ]
  },
  {
   "cell_type": "markdown",
   "metadata": {},
   "source": [
    "#### **리스트 개별 아이템에 접근**\n",
    " - 인덱스에 접근하여 값을 업데이트 가능"
   ]
  },
  {
   "cell_type": "code",
   "execution_count": null,
   "metadata": {},
   "outputs": [],
   "source": [
    "# 불변(immutable)\n",
    "a = 'hello world'\n",
    "print(a[0])\n",
    "\n",
    "b = 'jello world'\n",
    "c = 'j' + a[1:]\n",
    "\n",
    "d = a.replace('h', 'j')\n",
    "print(d)\n",
    "print(a)\n"
   ]
  },
  {
   "cell_type": "code",
   "execution_count": null,
   "metadata": {},
   "outputs": [],
   "source": [
    "a = [1, 2, 3, 4, 5]\n",
    "a[0] = 100\n",
    "a[-1] = 90\n",
    "\n",
    "print(a)"
   ]
  },
  {
   "cell_type": "markdown",
   "metadata": {},
   "source": [
    "#### **리스트 slicing**\n",
    " - 문자열 슬라이싱과 동일하게 동작\n",
    " - 슬라이싱의 결과 역시 list!"
   ]
  },
  {
   "cell_type": "code",
   "execution_count": null,
   "metadata": {},
   "outputs": [],
   "source": [
    "a = [1, 2, 3, 4, 5, 6, 7, 8]\n",
    "print(a[4:7])\n",
    "print(a[:7])\n",
    "print(a[3:])\n",
    "print(a[:])\n",
    "\n",
    "# slicing \n",
    "# start:end:increment(1)\n",
    "\n",
    "a[1:7]"
   ]
  },
  {
   "cell_type": "markdown",
   "metadata": {},
   "source": [
    "### list 멤버 함수\n",
    " - 생성된 리스트 객체에 동작하는 함수\n",
    " - 향후, 클래스와 멤버 함수 개념을 이해할 예정"
   ]
  },
  {
   "cell_type": "markdown",
   "metadata": {},
   "source": [
    "* **append()**\n",
    " + 리스트의 끝에 항목을 추가함"
   ]
  },
  {
   "cell_type": "code",
   "execution_count": null,
   "metadata": {},
   "outputs": [],
   "source": [
    "a = [1, 2, 3, 4, 5]\n",
    "a.append(10)\n",
    "\n",
    "print(a)"
   ]
  },
  {
   "cell_type": "markdown",
   "metadata": {},
   "source": [
    "+ **extend()**\n",
    " * 리스트를 연장\n",
    " * += 로도 가능함"
   ]
  },
  {
   "cell_type": "code",
   "execution_count": null,
   "metadata": {},
   "outputs": [],
   "source": [
    "a = [1, 2, 3, 4, 5]\n",
    "b = [6, 7, 8, 9, 10]\n",
    "\n",
    "# [1, 2, 3, 4, 5, 6, 7, 8, 9, 10]\n",
    "\n",
    "# a.extend(b)\n",
    "a += b\n",
    "print(a)"
   ]
  },
  {
   "cell_type": "markdown",
   "metadata": {},
   "source": [
    "+ **insert()로 항목추가**\n",
    " * 리스트의 원하는 위치에 추가 가능\n",
    " * 앞에 인덱스를, 뒤에 아이템을 명시"
   ]
  },
  {
   "cell_type": "code",
   "execution_count": null,
   "metadata": {},
   "outputs": [],
   "source": [
    "a = [1, 3, 4, 5, 6]\n",
    "a.insert(1, 40)\n",
    "\n",
    "print(a)"
   ]
  },
  {
   "cell_type": "markdown",
   "metadata": {},
   "source": [
    "+ **remove()**\n",
    " * 값으로 항목 삭제"
   ]
  },
  {
   "cell_type": "code",
   "execution_count": null,
   "metadata": {},
   "outputs": [],
   "source": [
    "a = [1, 2, 30, 30, 4, 5]\n",
    "a.remove(9)\n",
    "print(a)"
   ]
  },
  {
   "cell_type": "markdown",
   "metadata": {},
   "source": [
    "+ **pop()**\n",
    "  - 지우고자 하는 아이템을 반환 후, 삭제"
   ]
  },
  {
   "cell_type": "code",
   "execution_count": null,
   "metadata": {},
   "outputs": [],
   "source": [
    "a = [1, 2, 3, 4, 5]\n",
    "d = a.pop(2)\n",
    "\n",
    "print(a)\n",
    "print(d)"
   ]
  },
  {
   "cell_type": "markdown",
   "metadata": {},
   "source": [
    "+ **index()**\n",
    " * 찾고자 하는 값의 인덱스 반환"
   ]
  },
  {
   "cell_type": "code",
   "execution_count": null,
   "metadata": {},
   "outputs": [],
   "source": [
    "a = [2, 6, 7, 9, 10]\n",
    "a.index(9)"
   ]
  },
  {
   "cell_type": "markdown",
   "metadata": {},
   "source": [
    "* **in 키워드**\n",
    " + 리스트 내에 해당 값이 존재하는지 확인\n",
    " + value in [list]\n",
    " + True, False 중 한가지로 반환"
   ]
  },
  {
   "cell_type": "code",
   "execution_count": null,
   "metadata": {},
   "outputs": [],
   "source": [
    "a = [1, 2, 3, 4, 5, 10]\n",
    "b = 10\n",
    "\n",
    "c = b in a # False\n",
    "\n",
    "print(c)\n"
   ]
  },
  {
   "cell_type": "markdown",
   "metadata": {},
   "source": [
    "* **list 정렬**\n",
    " + sort() -> 리스트 자체를 내부적으로 정렬\n",
    " + sorted() -> 리스트의 정렬된 복사본을 반환"
   ]
  },
  {
   "cell_type": "code",
   "execution_count": null,
   "metadata": {},
   "outputs": [],
   "source": [
    "a = [9, 10, 7, 19, 1, 2, 20, 21, 7, 8]\n",
    "a.sort(reverse=True)\n",
    "b = sorted(a)\n",
    "print(a)\n",
    "print(b)"
   ]
  },
  {
   "cell_type": "markdown",
   "metadata": {},
   "source": [
    "### **tuple**\n",
    " - 리스트와 같이 복수개의 값을 갖는 컬렉션 타입\n",
    " - 생성된 후 변경이 불가능"
   ]
  },
  {
   "cell_type": "code",
   "execution_count": null,
   "metadata": {},
   "outputs": [],
   "source": [
    "a = [1, 2, 3]\n",
    "b = (1, 2, 3)\n",
    "\n",
    "print(type(a))\n",
    "print(type(b))\n",
    "\n",
    "a[0] = 100\n",
    "print(a)\n",
    "\n",
    "b[0] = 100\n",
    "print(b)"
   ]
  },
  {
   "cell_type": "markdown",
   "metadata": {},
   "source": [
    "#### **tuple unpacking**\n",
    " - 튜플의 값을 차례대로 변수에 대입"
   ]
  },
  {
   "cell_type": "code",
   "execution_count": null,
   "metadata": {},
   "outputs": [],
   "source": [
    "a, b, c, d = 100, 200, 300, 400\n",
    "print(a, b, c, d)"
   ]
  },
  {
   "cell_type": "markdown",
   "metadata": {},
   "source": [
    "* **연습문제** a와 b의 값을 교환하시오"
   ]
  },
  {
   "cell_type": "code",
   "execution_count": null,
   "metadata": {},
   "outputs": [],
   "source": [
    "a = 5\n",
    "b = 4\n",
    "\n",
    "print(a, b)\n",
    "\n",
    "# # logic\n",
    "# temp = a\n",
    "# a = b\n",
    "# b = temp\n",
    "a, b = b, a\n",
    "\n",
    "print(a, b)"
   ]
  },
  {
   "cell_type": "code",
   "execution_count": null,
   "metadata": {},
   "outputs": [],
   "source": []
  }
 ],
 "metadata": {
  "kernelspec": {
   "display_name": "Python 3",
   "language": "python",
   "name": "python3"
  },
  "language_info": {
   "codemirror_mode": {
    "name": "ipython",
    "version": 3
   },
   "file_extension": ".py",
   "mimetype": "text/x-python",
   "name": "python",
   "nbconvert_exporter": "python",
   "pygments_lexer": "ipython3",
   "version": "3.7.3"
  }
 },
 "nbformat": 4,
 "nbformat_minor": 1
}
