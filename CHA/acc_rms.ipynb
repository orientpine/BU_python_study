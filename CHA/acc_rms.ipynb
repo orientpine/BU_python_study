{
 "cells": [
  {
   "cell_type": "code",
   "execution_count": 2,
   "metadata": {},
   "outputs": [],
   "source": [
    "import pandas as pd\n",
    "import numpy as np\n",
    "import os\n",
    "import names\n",
    "from datetime import date\n",
    "from natsort import natsorted"
   ]
  },
  {
   "cell_type": "code",
   "execution_count": 23,
   "metadata": {},
   "outputs": [
    {
     "data": {
      "text/plain": [
       "'.'"
      ]
     },
     "execution_count": 23,
     "metadata": {},
     "output_type": "execute_result"
    }
   ],
   "source": [
    "os.curdir + 'IMU_EXP'\n",
    "./IMU_EXP"
   ]
  },
  {
   "cell_type": "code",
   "execution_count": 33,
   "metadata": {},
   "outputs": [],
   "source": [
    "# 폴더내의 데이터 확인하기\n",
    "imufolder = r'IMU_EXP'\n",
    "savefolder = r'rms_result'\n",
    "dataExt = '.xlsx'\n",
    "save_dir = os.path.join(imufolder,savefolder)"
   ]
  },
  {
   "cell_type": "code",
   "execution_count": 36,
   "metadata": {},
   "outputs": [
    {
     "data": {
      "text/plain": [
       "'semesterProject\\\\IMU_EXP'"
      ]
     },
     "execution_count": 36,
     "metadata": {},
     "output_type": "execute_result"
    }
   ],
   "source": [
    "topfolder = r'semesterProject'\n",
    "targetDir = os.path.join(topfolder,imufolder)\n",
    "targetDir"
   ]
  },
  {
   "cell_type": "code",
   "execution_count": 55,
   "metadata": {},
   "outputs": [
    {
     "data": {
      "text/plain": [
       "'Olimpia Bentley'"
      ]
     },
     "execution_count": 55,
     "metadata": {},
     "output_type": "execute_result"
    }
   ],
   "source": [
    "filename = 'June_02_2022_Olimpia Bentley_IMUData'\n",
    "subjectName = filename.split('_')[3]\n",
    "subjectName"
   ]
  },
  {
   "cell_type": "code",
   "execution_count": 117,
   "metadata": {},
   "outputs": [
    {
     "name": "stdout",
     "output_type": "stream",
     "text": [
      "2월에 한거 아니던데?\n",
      "현재 파일: June_03_2022_Dorothy Marrin_IMUData.xlsx\n"
     ]
    }
   ],
   "source": [
    "# print(f'관심 경로는?{imufolder}')\n",
    "absDir ='G:\\My Drive\\PlayGround\\BU_Python_Group_Study\\CHA\\semesterProject\\IMU_EXP'\n",
    "list_imu = [_ for _ in os.listdir(absDir) if _.split('_')[0]=='June']\n",
    "for imud in list_imu:\n",
    "    if imud.split('_')[1] == '02':\n",
    "        print('2월에 한거던데?')\n",
    "        print(f'현재 파일: {imud}')\n",
    "        df_rms.to_excel(os.path.join(save_dir_2월,f\"{subjectName}_rms.xlsx\"))\n",
    "    if imud.split('_')[1] == '03':\n",
    "        # 3월인 파일은 3월 폴더에 정리\n",
    "    if 4월이던데?\n",
    "        4월폴더 \n",
    "        \n",
    "    # print(imud.split('_')[1])"
   ]
  },
  {
   "cell_type": "code",
   "execution_count": 48,
   "metadata": {},
   "outputs": [
    {
     "name": "stdout",
     "output_type": "stream",
     "text": [
      "관심 경로는?semesterProject\\IMU_EXP\n"
     ]
    },
    {
     "data": {
      "text/plain": [
       "['June_02_2022_Leticia Cochran_IMUData.xlsx',\n",
       " 'June_02_2022_Tami Thomson_IMUData.xlsx',\n",
       " 'June_02_2022_Lula Roule_IMUData.xlsx',\n",
       " 'June_02_2022_Jack Young_IMUData.xlsx',\n",
       " 'June_02_2022_Laurie Dejesus_IMUData.xlsx',\n",
       " 'June_02_2022_Omar Nowicki_IMUData.xlsx',\n",
       " 'June_02_2022_Cory Myers_IMUData.xlsx',\n",
       " 'June_02_2022_Daniel Hughes_IMUData.xlsx',\n",
       " 'June_02_2022_Patrick Stevens_IMUData.xlsx',\n",
       " 'June_02_2022_Christopher Baumann_IMUData.xlsx',\n",
       " 'June_02_2022_Paul Field_IMUData.xlsx',\n",
       " 'June_02_2022_Dorothy Marrin_IMUData.xlsx',\n",
       " 'June_02_2022_James Chambers_IMUData.xlsx',\n",
       " 'June_02_2022_Olimpia Bentley_IMUData.xlsx',\n",
       " 'June_02_2022_Zoe Klocke_IMUData.xlsx',\n",
       " 'June_02_2022_Elvia Garrett_IMUData.xlsx',\n",
       " 'June_02_2022_Robert Mobley_IMUData.xlsx',\n",
       " 'June_02_2022_Melinda Bies_IMUData.xlsx',\n",
       " 'June_02_2022_Ryan Levesque_IMUData.xlsx',\n",
       " 'June_02_2022_Reta Sanchez_IMUData.xlsx',\n",
       " 'July_02_2022_Christopher Baumann_IMUData copy.xlsx']"
      ]
     },
     "execution_count": 48,
     "metadata": {},
     "output_type": "execute_result"
    }
   ],
   "source": [
    "print(f'관심 경로는?{targetDir}')\n",
    "list_imu = [_ for _ in os.listdir(targetDir) if _.endswith(dataExt)]\n",
    "\n",
    "list_imu"
   ]
  },
  {
   "cell_type": "code",
   "execution_count": 59,
   "metadata": {},
   "outputs": [],
   "source": [
    "# 필요한 함수 선언\n",
    "def ensure_dir(file_path):\n",
    "    if not os.path.exists(file_path): # 야 거기 폴더 있냐? 없음 ㅇㅇ \n",
    "        os.makedirs(file_path)"
   ]
  },
  {
   "cell_type": "code",
   "execution_count": 30,
   "metadata": {},
   "outputs": [],
   "source": [
    "def rms(x):\n",
    "    return np.sqrt((x[0]**2+x[1]**2+x[2]**2)/3)"
   ]
  },
  {
   "cell_type": "code",
   "execution_count": 78,
   "metadata": {},
   "outputs": [
    {
     "name": "stdout",
     "output_type": "stream",
     "text": [
      "['100', '1', '2', '3', '4', '5', '200']\n",
      "['1', '2', '3', '4', '5', '100', '200']\n"
     ]
    }
   ],
   "source": [
    "A  = ['100', '1','2','3','4','5',  '200']\n",
    "print(A)\n",
    "print(natsorted(A))"
   ]
  },
  {
   "cell_type": "code",
   "execution_count": 74,
   "metadata": {},
   "outputs": [
    {
     "name": "stdout",
     "output_type": "stream",
     "text": [
      "파일 이름은 June_02_2022_Leticia Cochran_IMUData.xlsx\n"
     ]
    }
   ],
   "source": [
    "imufolder = os.path.join('semesterProject',r'IMU_EXP')\n",
    "savefolder = r'rms_result'\n",
    "dataExt = '.xlsx'\n",
    "save_dir = os.path.join('semesterProject',imufolder,savefolder)\n",
    "ensure_dir(save_dir)\n",
    "list_imu = natsorted([_ for _ in os.listdir(imufolder) if _.endswith(dataExt)])\n",
    "for filename in list_imu:\n",
    "    data = pd.read_excel(os.path.join(imufolder, filename), engine='openpyxl')\n",
    "    print(f'파일 이름은 {filename}')\n",
    "    break"
   ]
  },
  {
   "cell_type": "code",
   "execution_count": 61,
   "metadata": {},
   "outputs": [
    {
     "data": {
      "text/html": [
       "<div>\n",
       "<style scoped>\n",
       "    .dataframe tbody tr th:only-of-type {\n",
       "        vertical-align: middle;\n",
       "    }\n",
       "\n",
       "    .dataframe tbody tr th {\n",
       "        vertical-align: top;\n",
       "    }\n",
       "\n",
       "    .dataframe thead th {\n",
       "        text-align: right;\n",
       "    }\n",
       "</style>\n",
       "<table border=\"1\" class=\"dataframe\">\n",
       "  <thead>\n",
       "    <tr style=\"text-align: right;\">\n",
       "      <th></th>\n",
       "      <th>Unnamed: 0</th>\n",
       "      <th>Front_Left_ACC_X</th>\n",
       "      <th>Front_Left_ACC_Y</th>\n",
       "      <th>Front_Left_ACC_Z</th>\n",
       "      <th>Front_Left_Gyro_X</th>\n",
       "      <th>Front_Left_Gyro_Y</th>\n",
       "      <th>Front_Left_Gyro_Z</th>\n",
       "      <th>Front_Left_Mag_X</th>\n",
       "      <th>Front_Left_Mag_Y</th>\n",
       "      <th>Front_Left_Mag_Z</th>\n",
       "      <th>...</th>\n",
       "      <th>Back_Left_Mag_Z</th>\n",
       "      <th>Back_Right_ACC_X</th>\n",
       "      <th>Back_Right_ACC_Y</th>\n",
       "      <th>Back_Right_ACC_Z</th>\n",
       "      <th>Back_Right_Gyro_X</th>\n",
       "      <th>Back_Right_Gyro_Y</th>\n",
       "      <th>Back_Right_Gyro_Z</th>\n",
       "      <th>Back_Right_Mag_X</th>\n",
       "      <th>Back_Right_Mag_Y</th>\n",
       "      <th>Back_Right_Mag_Z</th>\n",
       "    </tr>\n",
       "  </thead>\n",
       "  <tbody>\n",
       "    <tr>\n",
       "      <th>0</th>\n",
       "      <td>0</td>\n",
       "      <td>0.253952</td>\n",
       "      <td>0.816404</td>\n",
       "      <td>0.660614</td>\n",
       "      <td>0.722694</td>\n",
       "      <td>0.228058</td>\n",
       "      <td>0.216134</td>\n",
       "      <td>0.986743</td>\n",
       "      <td>0.119961</td>\n",
       "      <td>0.948144</td>\n",
       "      <td>...</td>\n",
       "      <td>0.550651</td>\n",
       "      <td>0.571883</td>\n",
       "      <td>0.431386</td>\n",
       "      <td>0.682413</td>\n",
       "      <td>0.644836</td>\n",
       "      <td>0.097540</td>\n",
       "      <td>0.562452</td>\n",
       "      <td>0.167800</td>\n",
       "      <td>0.077207</td>\n",
       "      <td>0.152150</td>\n",
       "    </tr>\n",
       "    <tr>\n",
       "      <th>1</th>\n",
       "      <td>1</td>\n",
       "      <td>0.237197</td>\n",
       "      <td>0.813457</td>\n",
       "      <td>0.713607</td>\n",
       "      <td>0.168811</td>\n",
       "      <td>0.809323</td>\n",
       "      <td>0.675948</td>\n",
       "      <td>0.861963</td>\n",
       "      <td>0.937497</td>\n",
       "      <td>0.973538</td>\n",
       "      <td>...</td>\n",
       "      <td>0.880882</td>\n",
       "      <td>0.909646</td>\n",
       "      <td>0.822511</td>\n",
       "      <td>0.684843</td>\n",
       "      <td>0.926709</td>\n",
       "      <td>0.428168</td>\n",
       "      <td>0.167098</td>\n",
       "      <td>0.967287</td>\n",
       "      <td>0.562704</td>\n",
       "      <td>0.881499</td>\n",
       "    </tr>\n",
       "    <tr>\n",
       "      <th>2</th>\n",
       "      <td>2</td>\n",
       "      <td>0.184708</td>\n",
       "      <td>0.506016</td>\n",
       "      <td>0.393833</td>\n",
       "      <td>0.667937</td>\n",
       "      <td>0.834192</td>\n",
       "      <td>0.602648</td>\n",
       "      <td>0.949828</td>\n",
       "      <td>0.329931</td>\n",
       "      <td>0.034005</td>\n",
       "      <td>...</td>\n",
       "      <td>0.568508</td>\n",
       "      <td>0.465584</td>\n",
       "      <td>0.945440</td>\n",
       "      <td>0.234834</td>\n",
       "      <td>0.011401</td>\n",
       "      <td>0.983028</td>\n",
       "      <td>0.091703</td>\n",
       "      <td>0.063050</td>\n",
       "      <td>0.446886</td>\n",
       "      <td>0.353220</td>\n",
       "    </tr>\n",
       "    <tr>\n",
       "      <th>3</th>\n",
       "      <td>3</td>\n",
       "      <td>0.257877</td>\n",
       "      <td>0.387383</td>\n",
       "      <td>0.943002</td>\n",
       "      <td>0.851001</td>\n",
       "      <td>0.743304</td>\n",
       "      <td>0.056122</td>\n",
       "      <td>0.380820</td>\n",
       "      <td>0.834153</td>\n",
       "      <td>0.484781</td>\n",
       "      <td>...</td>\n",
       "      <td>0.990772</td>\n",
       "      <td>0.380214</td>\n",
       "      <td>0.905907</td>\n",
       "      <td>0.401924</td>\n",
       "      <td>0.479177</td>\n",
       "      <td>0.198097</td>\n",
       "      <td>0.981299</td>\n",
       "      <td>0.094367</td>\n",
       "      <td>0.703499</td>\n",
       "      <td>0.331636</td>\n",
       "    </tr>\n",
       "    <tr>\n",
       "      <th>4</th>\n",
       "      <td>4</td>\n",
       "      <td>0.009414</td>\n",
       "      <td>0.487575</td>\n",
       "      <td>0.233767</td>\n",
       "      <td>0.496826</td>\n",
       "      <td>0.410648</td>\n",
       "      <td>0.816591</td>\n",
       "      <td>0.497532</td>\n",
       "      <td>0.465452</td>\n",
       "      <td>0.687852</td>\n",
       "      <td>...</td>\n",
       "      <td>0.608909</td>\n",
       "      <td>0.798496</td>\n",
       "      <td>0.951332</td>\n",
       "      <td>0.045069</td>\n",
       "      <td>0.067104</td>\n",
       "      <td>0.767117</td>\n",
       "      <td>0.191836</td>\n",
       "      <td>0.980386</td>\n",
       "      <td>0.779655</td>\n",
       "      <td>0.414975</td>\n",
       "    </tr>\n",
       "    <tr>\n",
       "      <th>...</th>\n",
       "      <td>...</td>\n",
       "      <td>...</td>\n",
       "      <td>...</td>\n",
       "      <td>...</td>\n",
       "      <td>...</td>\n",
       "      <td>...</td>\n",
       "      <td>...</td>\n",
       "      <td>...</td>\n",
       "      <td>...</td>\n",
       "      <td>...</td>\n",
       "      <td>...</td>\n",
       "      <td>...</td>\n",
       "      <td>...</td>\n",
       "      <td>...</td>\n",
       "      <td>...</td>\n",
       "      <td>...</td>\n",
       "      <td>...</td>\n",
       "      <td>...</td>\n",
       "      <td>...</td>\n",
       "      <td>...</td>\n",
       "      <td>...</td>\n",
       "    </tr>\n",
       "    <tr>\n",
       "      <th>96</th>\n",
       "      <td>96</td>\n",
       "      <td>0.824001</td>\n",
       "      <td>0.231716</td>\n",
       "      <td>0.661440</td>\n",
       "      <td>0.907273</td>\n",
       "      <td>0.715374</td>\n",
       "      <td>0.332769</td>\n",
       "      <td>0.623240</td>\n",
       "      <td>0.896038</td>\n",
       "      <td>0.400612</td>\n",
       "      <td>...</td>\n",
       "      <td>0.830790</td>\n",
       "      <td>0.918192</td>\n",
       "      <td>0.678785</td>\n",
       "      <td>0.483573</td>\n",
       "      <td>0.897255</td>\n",
       "      <td>0.077941</td>\n",
       "      <td>0.682848</td>\n",
       "      <td>0.110167</td>\n",
       "      <td>0.956019</td>\n",
       "      <td>0.495940</td>\n",
       "    </tr>\n",
       "    <tr>\n",
       "      <th>97</th>\n",
       "      <td>97</td>\n",
       "      <td>0.728491</td>\n",
       "      <td>0.815234</td>\n",
       "      <td>0.428709</td>\n",
       "      <td>0.465740</td>\n",
       "      <td>0.824375</td>\n",
       "      <td>0.918186</td>\n",
       "      <td>0.761852</td>\n",
       "      <td>0.990081</td>\n",
       "      <td>0.754977</td>\n",
       "      <td>...</td>\n",
       "      <td>0.114588</td>\n",
       "      <td>0.299041</td>\n",
       "      <td>0.002656</td>\n",
       "      <td>0.058434</td>\n",
       "      <td>0.263251</td>\n",
       "      <td>0.772801</td>\n",
       "      <td>0.572636</td>\n",
       "      <td>0.026700</td>\n",
       "      <td>0.862532</td>\n",
       "      <td>0.933877</td>\n",
       "    </tr>\n",
       "    <tr>\n",
       "      <th>98</th>\n",
       "      <td>98</td>\n",
       "      <td>0.379679</td>\n",
       "      <td>0.891944</td>\n",
       "      <td>0.957230</td>\n",
       "      <td>0.319845</td>\n",
       "      <td>0.838141</td>\n",
       "      <td>0.634504</td>\n",
       "      <td>0.603745</td>\n",
       "      <td>0.651164</td>\n",
       "      <td>0.084547</td>\n",
       "      <td>...</td>\n",
       "      <td>0.872061</td>\n",
       "      <td>0.685039</td>\n",
       "      <td>0.712762</td>\n",
       "      <td>0.576624</td>\n",
       "      <td>0.231688</td>\n",
       "      <td>0.334783</td>\n",
       "      <td>0.376998</td>\n",
       "      <td>0.218709</td>\n",
       "      <td>0.998208</td>\n",
       "      <td>0.167571</td>\n",
       "    </tr>\n",
       "    <tr>\n",
       "      <th>99</th>\n",
       "      <td>99</td>\n",
       "      <td>0.111225</td>\n",
       "      <td>0.510856</td>\n",
       "      <td>0.506701</td>\n",
       "      <td>0.203124</td>\n",
       "      <td>0.275755</td>\n",
       "      <td>0.084058</td>\n",
       "      <td>0.785640</td>\n",
       "      <td>0.694113</td>\n",
       "      <td>0.327676</td>\n",
       "      <td>...</td>\n",
       "      <td>0.104119</td>\n",
       "      <td>0.630882</td>\n",
       "      <td>0.515764</td>\n",
       "      <td>0.299559</td>\n",
       "      <td>0.874384</td>\n",
       "      <td>0.336565</td>\n",
       "      <td>0.367902</td>\n",
       "      <td>0.984460</td>\n",
       "      <td>0.769983</td>\n",
       "      <td>0.760213</td>\n",
       "    </tr>\n",
       "    <tr>\n",
       "      <th>100</th>\n",
       "      <td>100</td>\n",
       "      <td>0.645608</td>\n",
       "      <td>0.436564</td>\n",
       "      <td>0.016519</td>\n",
       "      <td>0.307254</td>\n",
       "      <td>0.749613</td>\n",
       "      <td>0.446102</td>\n",
       "      <td>0.261767</td>\n",
       "      <td>0.008307</td>\n",
       "      <td>0.185687</td>\n",
       "      <td>...</td>\n",
       "      <td>0.370024</td>\n",
       "      <td>0.602580</td>\n",
       "      <td>0.710204</td>\n",
       "      <td>0.317941</td>\n",
       "      <td>0.153848</td>\n",
       "      <td>0.360130</td>\n",
       "      <td>0.699706</td>\n",
       "      <td>0.552732</td>\n",
       "      <td>0.091599</td>\n",
       "      <td>0.201401</td>\n",
       "    </tr>\n",
       "  </tbody>\n",
       "</table>\n",
       "<p>101 rows × 37 columns</p>\n",
       "</div>"
      ],
      "text/plain": [
       "     Unnamed: 0  Front_Left_ACC_X  Front_Left_ACC_Y  Front_Left_ACC_Z  \\\n",
       "0             0          0.253952          0.816404          0.660614   \n",
       "1             1          0.237197          0.813457          0.713607   \n",
       "2             2          0.184708          0.506016          0.393833   \n",
       "3             3          0.257877          0.387383          0.943002   \n",
       "4             4          0.009414          0.487575          0.233767   \n",
       "..          ...               ...               ...               ...   \n",
       "96           96          0.824001          0.231716          0.661440   \n",
       "97           97          0.728491          0.815234          0.428709   \n",
       "98           98          0.379679          0.891944          0.957230   \n",
       "99           99          0.111225          0.510856          0.506701   \n",
       "100         100          0.645608          0.436564          0.016519   \n",
       "\n",
       "     Front_Left_Gyro_X  Front_Left_Gyro_Y  Front_Left_Gyro_Z  \\\n",
       "0             0.722694           0.228058           0.216134   \n",
       "1             0.168811           0.809323           0.675948   \n",
       "2             0.667937           0.834192           0.602648   \n",
       "3             0.851001           0.743304           0.056122   \n",
       "4             0.496826           0.410648           0.816591   \n",
       "..                 ...                ...                ...   \n",
       "96            0.907273           0.715374           0.332769   \n",
       "97            0.465740           0.824375           0.918186   \n",
       "98            0.319845           0.838141           0.634504   \n",
       "99            0.203124           0.275755           0.084058   \n",
       "100           0.307254           0.749613           0.446102   \n",
       "\n",
       "     Front_Left_Mag_X  Front_Left_Mag_Y  Front_Left_Mag_Z  ...  \\\n",
       "0            0.986743          0.119961          0.948144  ...   \n",
       "1            0.861963          0.937497          0.973538  ...   \n",
       "2            0.949828          0.329931          0.034005  ...   \n",
       "3            0.380820          0.834153          0.484781  ...   \n",
       "4            0.497532          0.465452          0.687852  ...   \n",
       "..                ...               ...               ...  ...   \n",
       "96           0.623240          0.896038          0.400612  ...   \n",
       "97           0.761852          0.990081          0.754977  ...   \n",
       "98           0.603745          0.651164          0.084547  ...   \n",
       "99           0.785640          0.694113          0.327676  ...   \n",
       "100          0.261767          0.008307          0.185687  ...   \n",
       "\n",
       "     Back_Left_Mag_Z  Back_Right_ACC_X  Back_Right_ACC_Y  Back_Right_ACC_Z  \\\n",
       "0           0.550651          0.571883          0.431386          0.682413   \n",
       "1           0.880882          0.909646          0.822511          0.684843   \n",
       "2           0.568508          0.465584          0.945440          0.234834   \n",
       "3           0.990772          0.380214          0.905907          0.401924   \n",
       "4           0.608909          0.798496          0.951332          0.045069   \n",
       "..               ...               ...               ...               ...   \n",
       "96          0.830790          0.918192          0.678785          0.483573   \n",
       "97          0.114588          0.299041          0.002656          0.058434   \n",
       "98          0.872061          0.685039          0.712762          0.576624   \n",
       "99          0.104119          0.630882          0.515764          0.299559   \n",
       "100         0.370024          0.602580          0.710204          0.317941   \n",
       "\n",
       "     Back_Right_Gyro_X  Back_Right_Gyro_Y  Back_Right_Gyro_Z  \\\n",
       "0             0.644836           0.097540           0.562452   \n",
       "1             0.926709           0.428168           0.167098   \n",
       "2             0.011401           0.983028           0.091703   \n",
       "3             0.479177           0.198097           0.981299   \n",
       "4             0.067104           0.767117           0.191836   \n",
       "..                 ...                ...                ...   \n",
       "96            0.897255           0.077941           0.682848   \n",
       "97            0.263251           0.772801           0.572636   \n",
       "98            0.231688           0.334783           0.376998   \n",
       "99            0.874384           0.336565           0.367902   \n",
       "100           0.153848           0.360130           0.699706   \n",
       "\n",
       "     Back_Right_Mag_X  Back_Right_Mag_Y  Back_Right_Mag_Z  \n",
       "0            0.167800          0.077207          0.152150  \n",
       "1            0.967287          0.562704          0.881499  \n",
       "2            0.063050          0.446886          0.353220  \n",
       "3            0.094367          0.703499          0.331636  \n",
       "4            0.980386          0.779655          0.414975  \n",
       "..                ...               ...               ...  \n",
       "96           0.110167          0.956019          0.495940  \n",
       "97           0.026700          0.862532          0.933877  \n",
       "98           0.218709          0.998208          0.167571  \n",
       "99           0.984460          0.769983          0.760213  \n",
       "100          0.552732          0.091599          0.201401  \n",
       "\n",
       "[101 rows x 37 columns]"
      ]
     },
     "execution_count": 61,
     "metadata": {},
     "output_type": "execute_result"
    }
   ],
   "source": [
    "data"
   ]
  },
  {
   "cell_type": "code",
   "execution_count": 101,
   "metadata": {},
   "outputs": [],
   "source": [
    "# 폴더내의 데이터 확인하기\n",
    "imufolder = r'IMU_EXP'\n",
    "savefolder = r'rms_result'\n",
    "dataExt = '.xlsx'\n",
    "save_dir = os.path.join('semesterProject',imufolder,savefolder)\n",
    "ensure_dir(save_dir)\n",
    "list_imu = natsorted([_ for _ in os.listdir(imufolder) if _.endswith(dataExt)])\n",
    "for filename in list_imu:\n",
    "    data = pd.read_excel(os.path.join(imufolder, filename), engine='openpyxl')\n",
    "    front_left_rms = pd.DataFrame(data.loc[:,['Front_Left_ACC_X','Front_Left_ACC_Y','Front_Left_ACC_Z']].apply(rms, axis=1),columns=['FL_rms'])\n",
    "    front_right_rms = pd.DataFrame(data.loc[:,['Front_Right_ACC_X','Front_Right_ACC_Y','Front_Right_ACC_Z']].apply(rms, axis=1),columns=['FR_rms'])\n",
    "    back_left_rms = pd.DataFrame(data.loc[:,['Back_Left_ACC_X','Back_Left_ACC_Y','Back_Left_ACC_Z']].apply(rms, axis=1), columns=['BL_rms'])\n",
    "    back_right_rms = pd.DataFrame(data.loc[:,['Back_Right_ACC_X','Back_Right_ACC_Y','Back_Right_ACC_Z']].apply(rms, axis=1), columns=['BR_rms'])\n",
    "\n",
    "    df_rms = pd.concat([front_left_rms,front_right_rms,back_left_rms,back_right_rms],axis=1)\n",
    "\n",
    "    # 저장 시 이름\n",
    "    subjectName = filename.split('_')[3]\n",
    "    df_rms.to_excel(os.path.join(save_dir,f\"{subjectName}_rms.xlsx\"))"
   ]
  },
  {
   "cell_type": "code",
   "execution_count": 99,
   "metadata": {},
   "outputs": [],
   "source": [
    "    front_left_rms = pd.DataFrame(data.loc[:,['Front_Left_ACC_X','Front_Left_ACC_Y','Front_Left_ACC_Z']].apply(rms, axis=1),columns=['FL_rms'])\n",
    "    front_right_rms = pd.DataFrame(data.loc[:,['Front_Right_ACC_X','Front_Right_ACC_Y','Front_Right_ACC_Z']].apply(rms, axis=1),columns=['FR_rms'])\n",
    "    back_left_rms = pd.DataFrame(data.loc[:,['Back_Left_ACC_X','Back_Left_ACC_Y','Back_Left_ACC_Z']].apply(rms, axis=1), columns=['BL_rms'])\n",
    "    back_right_rms = pd.DataFrame(data.loc[:,['Back_Right_ACC_X','Back_Right_ACC_Y','Back_Right_ACC_Z']].apply(rms, axis=1), columns=['BR_rms'])\n",
    "    df_rms = pd.concat([front_left_rms,front_right_rms,back_left_rms,back_right_rms],axis=1)"
   ]
  },
  {
   "cell_type": "code",
   "execution_count": 110,
   "metadata": {},
   "outputs": [
    {
     "data": {
      "text/plain": [
       "0    1\n",
       "1    1\n",
       "Name: 읽은 데이터1, dtype: int64"
      ]
     },
     "execution_count": 110,
     "metadata": {},
     "output_type": "execute_result"
    }
   ],
   "source": [
    "read_csv =[[1,2,3,4,5,6,6],[1,2,3,4,5,6,6],]\n",
    "df_readed = pd.DataFrame(read_csv, columns=['읽은 데이터1','읽은 데이터 2','읽은 데이터 3','읽은 데이터 4','읽은 데이터 5','읽은 데이터 6','읽은 데이터 7'])\n",
    "df_readed['읽은 데이터1']"
   ]
  },
  {
   "cell_type": "code",
   "execution_count": 133,
   "metadata": {},
   "outputs": [
    {
     "name": "stdout",
     "output_type": "stream",
     "text": [
      "0\n",
      "0.8623524442351584\n",
      "1\n",
      "0.809331592987655\n",
      "2\n",
      "0.8216871531896023\n",
      "3\n",
      "0.8637037128401903\n"
     ]
    }
   ],
   "source": [
    "A = df_rms[df_rms['FL_rms'] > 0.8]\n",
    "count = 0\n",
    "for i in A['FL_rms']:\n",
    "    print(count) \n",
    "    print(i)\n",
    "    count = count +1"
   ]
  },
  {
   "cell_type": "code",
   "execution_count": 144,
   "metadata": {},
   "outputs": [
    {
     "data": {
      "text/plain": [
       "0.8965660412873737"
      ]
     },
     "execution_count": 144,
     "metadata": {},
     "output_type": "execute_result"
    }
   ],
   "source": [
    "df_rms['BL_rms'].max()"
   ]
  },
  {
   "cell_type": "code",
   "execution_count": 151,
   "metadata": {},
   "outputs": [
    {
     "data": {
      "text/plain": [
       "['Front_Left_ACC_Z']"
      ]
     },
     "execution_count": 151,
     "metadata": {},
     "output_type": "execute_result"
    }
   ],
   "source": [
    "A = ['Front_Left_ACC_X','Front_Left_ACC_Y','Front_Left_ACC_Z']\n",
    "onlyz = [_ for _ in A if _.split('_')[3] == 'Z'] \n",
    "onlyz"
   ]
  },
  {
   "cell_type": "code",
   "execution_count": 149,
   "metadata": {},
   "outputs": [
    {
     "name": "stdout",
     "output_type": "stream",
     "text": [
      "X\n",
      "Y\n",
      "Z\n"
     ]
    }
   ],
   "source": [
    "for i in A:\n",
    "    print(i.split('_')[3])"
   ]
  },
  {
   "cell_type": "code",
   "execution_count": 118,
   "metadata": {},
   "outputs": [
    {
     "data": {
      "text/plain": [
       "0      0.461758\n",
       "1      0.446177\n",
       "2      0.612813\n",
       "3      0.489525\n",
       "4      0.439181\n",
       "         ...   \n",
       "96     0.425442\n",
       "97     0.233208\n",
       "98     0.668723\n",
       "99     0.645209\n",
       "100    0.561555\n",
       "Length: 101, dtype: float64"
      ]
     },
     "execution_count": 118,
     "metadata": {},
     "output_type": "execute_result"
    }
   ],
   "source": [
    "data.loc[:,['Front_Left_ACC_X','Front_Left_ACC_Y','Front_Left_ACC_Z']].apply(rms, axis=1)"
   ]
  },
  {
   "cell_type": "code",
   "execution_count": null,
   "metadata": {},
   "outputs": [],
   "source": [
    "filename.split('_')[3]"
   ]
  },
  {
   "cell_type": "code",
   "execution_count": null,
   "metadata": {},
   "outputs": [],
   "source": [
    "df_rms"
   ]
  },
  {
   "cell_type": "code",
   "execution_count": null,
   "metadata": {},
   "outputs": [],
   "source": [
    "data.loc[:,['Front_Left_ACC_X','Front_Left_ACC_Y','Front_Left_ACC_Z']].apply(rms, axis=1)"
   ]
  },
  {
   "cell_type": "code",
   "execution_count": null,
   "metadata": {},
   "outputs": [],
   "source": [
    "front_right_rms"
   ]
  },
  {
   "cell_type": "code",
   "execution_count": null,
   "metadata": {},
   "outputs": [],
   "source": [
    "Front_Right_ACC_X"
   ]
  },
  {
   "cell_type": "code",
   "execution_count": 4,
   "metadata": {},
   "outputs": [
    {
     "ename": "NameError",
     "evalue": "name 'ensure_dir' is not defined",
     "output_type": "error",
     "traceback": [
      "\u001b[1;31m---------------------------------------------------------------------------\u001b[0m",
      "\u001b[1;31mNameError\u001b[0m                                 Traceback (most recent call last)",
      "\u001b[1;32mg:\\My Drive\\PlayGround\\BU_Python_Group_Study\\CHA\\acc_rms.ipynb Cell 10'\u001b[0m in \u001b[0;36m<cell line: 5>\u001b[1;34m()\u001b[0m\n\u001b[0;32m      <a href='vscode-notebook-cell:/g%3A/My%20Drive/PlayGround/BU_Python_Group_Study/CHA/acc_rms.ipynb#ch0000009?line=2'>3</a>\u001b[0m savefolder \u001b[39m=\u001b[39m \u001b[39mr\u001b[39m\u001b[39m'\u001b[39m\u001b[39mrms_result\u001b[39m\u001b[39m'\u001b[39m\n\u001b[0;32m      <a href='vscode-notebook-cell:/g%3A/My%20Drive/PlayGround/BU_Python_Group_Study/CHA/acc_rms.ipynb#ch0000009?line=3'>4</a>\u001b[0m save_dir \u001b[39m=\u001b[39m os\u001b[39m.\u001b[39mpath\u001b[39m.\u001b[39mjoin(imufolder,savefolder)\n\u001b[1;32m----> <a href='vscode-notebook-cell:/g%3A/My%20Drive/PlayGround/BU_Python_Group_Study/CHA/acc_rms.ipynb#ch0000009?line=4'>5</a>\u001b[0m ensure_dir(save_dir)\n",
      "\u001b[1;31mNameError\u001b[0m: name 'ensure_dir' is not defined"
     ]
    }
   ],
   "source": [
    "# 폴더내의 데이터 확인하기\n",
    "imufolder = r'IMU_EXP'\n",
    "savefolder = r'rms_result'\n",
    "save_dir = os.path.join(imufolder,savefolder)\n",
    "ensure_dir(save_dir)\n",
    "# for filename in natsorted(os.listdir(imufolder)):"
   ]
  },
  {
   "cell_type": "code",
   "execution_count": 10,
   "metadata": {},
   "outputs": [
    {
     "data": {
      "text/plain": [
       "['June_02_2022_Leticia Cochran_IMUData.xlsx',\n",
       " 'June_02_2022_Tami Thomson_IMUData.xlsx',\n",
       " 'June_02_2022_Lula Roule_IMUData.xlsx',\n",
       " 'June_02_2022_Jack Young_IMUData.xlsx',\n",
       " 'June_02_2022_Laurie Dejesus_IMUData.xlsx',\n",
       " 'June_02_2022_Omar Nowicki_IMUData.xlsx',\n",
       " 'June_02_2022_Cory Myers_IMUData.xlsx',\n",
       " 'June_02_2022_Daniel Hughes_IMUData.xlsx',\n",
       " 'June_02_2022_Patrick Stevens_IMUData.xlsx',\n",
       " 'June_02_2022_Christopher Baumann_IMUData.xlsx',\n",
       " 'rms_result',\n",
       " 'result_gyro',\n",
       " 'exp.csv']"
      ]
     },
     "execution_count": 10,
     "metadata": {},
     "output_type": "execute_result"
    }
   ],
   "source": [
    "os.listdir(imufolder)"
   ]
  },
  {
   "cell_type": "code",
   "execution_count": 8,
   "metadata": {},
   "outputs": [],
   "source": [
    "dataExt = r'.xlsx'\n",
    "dataList = natsorted([_ for _ in os.listdir(imufolder) if _.endswith(dataExt)])"
   ]
  },
  {
   "cell_type": "code",
   "execution_count": 16,
   "metadata": {},
   "outputs": [
    {
     "name": "stdout",
     "output_type": "stream",
     "text": [
      "1번째 파일은: June_02_2022_Leticia Cochran_IMUData.xlsx\n",
      "2번째 파일은: June_02_2022_Tami Thomson_IMUData.xlsx\n",
      "3번째 파일은: June_02_2022_Lula Roule_IMUData.xlsx\n",
      "4번째 파일은: June_02_2022_Jack Young_IMUData.xlsx\n",
      "5번째 파일은: June_02_2022_Laurie Dejesus_IMUData.xlsx\n",
      "6번째 파일은: June_02_2022_Omar Nowicki_IMUData.xlsx\n",
      "7번째 파일은: June_02_2022_Cory Myers_IMUData.xlsx\n",
      "8번째 파일은: June_02_2022_Daniel Hughes_IMUData.xlsx\n",
      "9번째 파일은: June_02_2022_Patrick Stevens_IMUData.xlsx\n",
      "10번째 파일은: June_02_2022_Christopher Baumann_IMUData.xlsx\n"
     ]
    }
   ],
   "source": [
    "A = [_ for _ in os.listdir(imufolder) if _.endswith(dataExt)]\n",
    "count = 1\n",
    "for a in A:\n",
    "    print(f'{count}번째 파일은: {a}')\n",
    "    count = count + 1"
   ]
  },
  {
   "cell_type": "code",
   "execution_count": 12,
   "metadata": {},
   "outputs": [
    {
     "name": "stdout",
     "output_type": "stream",
     "text": [
      "June_02_2022_Leticia Cochran_IMUData.xlsx\n",
      "June_02_2022_Tami Thomson_IMUData.xlsx\n",
      "June_02_2022_Lula Roule_IMUData.xlsx\n",
      "June_02_2022_Jack Young_IMUData.xlsx\n",
      "June_02_2022_Laurie Dejesus_IMUData.xlsx\n",
      "June_02_2022_Omar Nowicki_IMUData.xlsx\n",
      "June_02_2022_Cory Myers_IMUData.xlsx\n",
      "June_02_2022_Daniel Hughes_IMUData.xlsx\n",
      "June_02_2022_Patrick Stevens_IMUData.xlsx\n",
      "June_02_2022_Christopher Baumann_IMUData.xlsx\n"
     ]
    }
   ],
   "source": [
    "for _ in os.listdir(imufolder):\n",
    "    if _.endswith('.xlsx'):\n",
    "        print(_)"
   ]
  },
  {
   "cell_type": "code",
   "execution_count": null,
   "metadata": {},
   "outputs": [],
   "source": []
  }
 ],
 "metadata": {
  "interpreter": {
   "hash": "b7f75e3f67c2e8328760c5f8e07c7b9104f46fb4b9635e1895ac42e507773c47"
  },
  "kernelspec": {
   "display_name": "Python 3.8.0 ('buIMU')",
   "language": "python",
   "name": "python3"
  },
  "language_info": {
   "codemirror_mode": {
    "name": "ipython",
    "version": 3
   },
   "file_extension": ".py",
   "mimetype": "text/x-python",
   "name": "python",
   "nbconvert_exporter": "python",
   "pygments_lexer": "ipython3",
   "version": "3.8.0"
  },
  "orig_nbformat": 4
 },
 "nbformat": 4,
 "nbformat_minor": 2
}
