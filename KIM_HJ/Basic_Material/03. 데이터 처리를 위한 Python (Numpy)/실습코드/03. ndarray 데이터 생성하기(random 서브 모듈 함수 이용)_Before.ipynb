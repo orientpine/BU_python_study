{
 "cells": [
  {
   "cell_type": "markdown",
   "metadata": {},
   "source": [
    "### 학습목표\n",
    " - random 서브모듈 함수를 통해 ndarray 생성하기"
   ]
  },
  {
   "cell_type": "code",
   "execution_count": 1,
   "metadata": {},
   "outputs": [],
   "source": [
    "import numpy as np"
   ]
  },
  {
   "cell_type": "markdown",
   "metadata": {},
   "source": [
    "#### random 서브모듈"
   ]
  },
  {
   "cell_type": "markdown",
   "metadata": {},
   "source": [
    "#### rand 함수\n",
    " - 0, 1사이의 분포로 랜덤한 ndarray 생성"
   ]
  },
  {
   "cell_type": "code",
   "execution_count": 2,
   "metadata": {},
   "outputs": [
    {
     "data": {
      "text/plain": [
       "array([[[0.54349198, 0.72963429, 0.99987176],\n",
       "        [0.1301488 , 0.58791195, 0.04191671],\n",
       "        [0.97438514, 0.94136486, 0.55763399],\n",
       "        [0.76026762, 0.53250756, 0.3305542 ],\n",
       "        [0.51268353, 0.50689865, 0.56127327]],\n",
       "\n",
       "       [[0.61070872, 0.83815306, 0.31140037],\n",
       "        [0.2052414 , 0.03544966, 0.05726119],\n",
       "        [0.16799611, 0.37523517, 0.77032626],\n",
       "        [0.33130053, 0.20107997, 0.61333047],\n",
       "        [0.60225846, 0.22625895, 0.54215653]],\n",
       "\n",
       "       [[0.60961703, 0.31315568, 0.19887582],\n",
       "        [0.5573035 , 0.71268573, 0.90700023],\n",
       "        [0.15866425, 0.81228037, 0.79067592],\n",
       "        [0.48420959, 0.8292429 , 0.39073201],\n",
       "        [0.78150973, 0.6530219 , 0.36277089]],\n",
       "\n",
       "       [[0.87884004, 0.50316794, 0.66376144],\n",
       "        [0.13267441, 0.81617125, 0.5650417 ],\n",
       "        [0.17086762, 0.07976871, 0.11245138],\n",
       "        [0.48815229, 0.57835855, 0.83943813],\n",
       "        [0.49041303, 0.15568559, 0.1673499 ]]])"
      ]
     },
     "execution_count": 2,
     "metadata": {},
     "output_type": "execute_result"
    }
   ],
   "source": [
    "np.random.rand(4, 5, 3)"
   ]
  },
  {
   "cell_type": "markdown",
   "metadata": {},
   "source": [
    "#### randn함수\n",
    " - n: normal distribution(정규분포)\n",
    " - 정규분포로 샘플링된 랜덤 ndarray 생성"
   ]
  },
  {
   "cell_type": "code",
   "execution_count": 3,
   "metadata": {},
   "outputs": [
    {
     "data": {
      "text/plain": [
       "array([-1.28645487,  0.38295023,  1.15184473,  1.8857662 , -0.66394348])"
      ]
     },
     "execution_count": 3,
     "metadata": {},
     "output_type": "execute_result"
    }
   ],
   "source": [
    "np.random.randn(5)"
   ]
  },
  {
   "cell_type": "code",
   "execution_count": 4,
   "metadata": {},
   "outputs": [
    {
     "data": {
      "text/plain": [
       "array([[[ 0.63298928, -0.49071043],\n",
       "        [-0.64890213,  0.3401324 ],\n",
       "        [-1.76079048, -0.48533164],\n",
       "        [ 0.63136245, -0.02235803]],\n",
       "\n",
       "       [[-0.36380289, -0.21941157],\n",
       "        [ 1.68218592, -0.67820058],\n",
       "        [ 1.69320333,  0.51122234],\n",
       "        [ 1.56399072,  0.8618275 ]],\n",
       "\n",
       "       [[ 0.25643644,  0.36326538],\n",
       "        [-0.37998371,  0.12731317],\n",
       "        [-0.13098425, -0.53652187],\n",
       "        [-1.13615347,  0.90036061]]])"
      ]
     },
     "execution_count": 4,
     "metadata": {},
     "output_type": "execute_result"
    }
   ],
   "source": [
    "np.random.randn(3, 4, 2)"
   ]
  },
  {
   "cell_type": "markdown",
   "metadata": {},
   "source": [
    "#### randint 함수\n",
    " - 특정 정수 사이에서 랜덤하게 샘플링"
   ]
  },
  {
   "cell_type": "code",
   "execution_count": 5,
   "metadata": {},
   "outputs": [
    {
     "data": {
      "text/plain": [
       "array([55, 96, 87, 30, 33])"
      ]
     },
     "execution_count": 5,
     "metadata": {},
     "output_type": "execute_result"
    }
   ],
   "source": [
    "np.random.randint(1, 100, size=(5,))"
   ]
  },
  {
   "cell_type": "markdown",
   "metadata": {},
   "source": [
    "#### seed 함수\n",
    " - 랜덤한 값을 동일하게 다시 생성하고자 할때 사용"
   ]
  },
  {
   "cell_type": "code",
   "execution_count": 6,
   "metadata": {},
   "outputs": [
    {
     "data": {
      "text/plain": [
       "array([[ 0.66698806,  0.02581308, -0.77761941,  0.94863382],\n",
       "       [ 0.70167179, -1.05108156, -0.36754812, -1.13745969],\n",
       "       [-1.32214752,  1.77225828, -0.34745899,  0.67014016]])"
      ]
     },
     "execution_count": 6,
     "metadata": {},
     "output_type": "execute_result"
    }
   ],
   "source": [
    "np.random.seed(23)\n",
    "np.random.randn(3, 4)"
   ]
  },
  {
   "cell_type": "code",
   "execution_count": null,
   "metadata": {},
   "outputs": [],
   "source": []
  },
  {
   "cell_type": "markdown",
   "metadata": {},
   "source": [
    "#### choice\n",
    " - 주어진 1차원 ndarray로 부터 랜덤으로 샘플링\n",
    " - 정수가 주어진 경우, np.arange(해당숫자)로 간주"
   ]
  },
  {
   "cell_type": "code",
   "execution_count": null,
   "metadata": {},
   "outputs": [],
   "source": [
    "np.random.choice(100, (3, 4))"
   ]
  },
  {
   "cell_type": "code",
   "execution_count": 27,
   "metadata": {},
   "outputs": [
    {
     "data": {
      "text/plain": [
       "array([['Urg'],\n",
       "       ['Kor']], dtype='<U4')"
      ]
     },
     "execution_count": 27,
     "metadata": {},
     "output_type": "execute_result"
    }
   ],
   "source": [
    "x = np.array(['Port','Urg', 'Kor', 'Gan'])\n",
    "np.random.choice(x,size=(2,1),replace=False)"
   ]
  },
  {
   "cell_type": "markdown",
   "metadata": {},
   "source": [
    "#### 확률분포에 따른 ndarray 생성\n",
    " - uniform\n",
    " - normal 등등"
   ]
  },
  {
   "cell_type": "code",
   "execution_count": 28,
   "metadata": {},
   "outputs": [
    {
     "data": {
      "text/plain": [
       "array([[1.22128512, 2.40958431, 1.05439985, 1.379564  , 2.54240932],\n",
       "       [2.5573027 , 2.94196971, 1.82510056, 2.5916267 , 1.93742182],\n",
       "       [1.88593103, 1.75466492, 2.64655725, 2.12971136, 1.27995792],\n",
       "       [2.93181904, 1.06233515, 2.85689372, 2.04469465, 1.08750677]])"
      ]
     },
     "execution_count": 28,
     "metadata": {},
     "output_type": "execute_result"
    }
   ],
   "source": [
    "np.random.uniform(1.0, 3.0, size=(4, 5))"
   ]
  },
  {
   "cell_type": "code",
   "execution_count": 29,
   "metadata": {},
   "outputs": [
    {
     "data": {
      "text/plain": [
       "array([[-0.68372991,  1.06662477,  0.11873147, -0.91926775],\n",
       "       [-0.88268061,  1.08068669,  1.18876308, -0.00780905],\n",
       "       [-0.76126315,  1.16078548,  1.98861057,  0.55124082]])"
      ]
     },
     "execution_count": 29,
     "metadata": {},
     "output_type": "execute_result"
    }
   ],
   "source": [
    "np.random.normal(size=(3, 4))\n",
    "np.random.randn(3, 4)"
   ]
  }
 ],
 "metadata": {
  "interpreter": {
   "hash": "360415a06a2cb4988f467b724c8ffdb39ec3aeec574ee0105248e66f7284bba3"
  },
  "kernelspec": {
   "display_name": "Python 3.10.4 ('bu')",
   "language": "python",
   "name": "python3"
  },
  "language_info": {
   "codemirror_mode": {
    "name": "ipython",
    "version": 3
   },
   "file_extension": ".py",
   "mimetype": "text/x-python",
   "name": "python",
   "nbconvert_exporter": "python",
   "pygments_lexer": "ipython3",
   "version": "3.10.4"
  }
 },
 "nbformat": 4,
 "nbformat_minor": 2
}
