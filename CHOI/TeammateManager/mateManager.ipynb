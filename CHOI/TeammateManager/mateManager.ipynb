{
 "cells": [
  {
   "cell_type": "code",
   "execution_count": 39,
   "metadata": {},
   "outputs": [],
   "source": [
    "import os\n",
    "from re import A\n",
    "from natsort import natsorted\n",
    "import pandas as pd\n",
    "import numpy as np"
   ]
  },
  {
   "cell_type": "code",
   "execution_count": 40,
   "metadata": {},
   "outputs": [],
   "source": [
    "mateList = pd.DataFrame(columns=[\"Name\", \"Hobby\", \"Super_Power\",\"Nationality\",\"Property(won)\",\"NumberofLostBikes\", \"IQ\",\"EQ\",\"JQ\"])"
   ]
  },
  {
   "cell_type": "code",
   "execution_count": 41,
   "metadata": {},
   "outputs": [],
   "source": [
    "newmate_1 = pd.DataFrame({\"Name\" : \"Baekdong Cha\",\n",
    "            \"Hobby\" : \"Crochet\",\n",
    "      \"Super_Power\" : \"breathing\",\n",
    "      \"Nationality\" : \"Korea, north\",\n",
    "    \"Property(won)\" : [100],\n",
    "\"NumberofLostBikes\" : [0],\n",
    "         \"IQ\" : [100],\n",
    "         \"EQ\" : [80],\n",
    "         \"JQ\" : [200]})"
   ]
  },
  {
   "cell_type": "code",
   "execution_count": 42,
   "metadata": {},
   "outputs": [],
   "source": [
    "mateList = pd.concat([mateList, newmate_1], ignore_index=True)"
   ]
  },
  {
   "cell_type": "code",
   "execution_count": 43,
   "metadata": {},
   "outputs": [
    {
     "data": {
      "text/plain": [
       "1"
      ]
     },
     "execution_count": 43,
     "metadata": {},
     "output_type": "execute_result"
    }
   ],
   "source": [
    "mateList.index.size"
   ]
  },
  {
   "cell_type": "code",
   "execution_count": 38,
   "metadata": {},
   "outputs": [],
   "source": [
    "numofmate = mateList.index.size\n",
    "mateList.to_excel(f\"mateList_Total_{numofmate}.xlsx\")"
   ]
  },
  {
   "cell_type": "code",
   "execution_count": null,
   "metadata": {},
   "outputs": [],
   "source": []
  }
 ],
 "metadata": {
  "interpreter": {
   "hash": "ed59daeef09f57e79affd0fa71cb0826b9ea32f9c5478d668421d01bbf02c3b3"
  },
  "kernelspec": {
   "display_name": "Python 3.8.0 ('buIMU')",
   "language": "python",
   "name": "python3"
  },
  "language_info": {
   "codemirror_mode": {
    "name": "ipython",
    "version": 3
   },
   "file_extension": ".py",
   "mimetype": "text/x-python",
   "name": "python",
   "nbconvert_exporter": "python",
   "pygments_lexer": "ipython3",
   "version": "3.8.0"
  },
  "orig_nbformat": 4
 },
 "nbformat": 4,
 "nbformat_minor": 2
}
