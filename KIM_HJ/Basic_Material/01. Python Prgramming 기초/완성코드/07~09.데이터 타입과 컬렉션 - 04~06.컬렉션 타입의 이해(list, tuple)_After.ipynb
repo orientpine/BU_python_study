{
 "cells": [
  {
   "cell_type": "markdown",
   "metadata": {},
   "source": [
    "## 학습목표\n",
    " 1. list, tuple에 대해 이해 및 실습\n"
   ]
  },
  {
   "cell_type": "markdown",
   "metadata": {},
   "source": [
    "### **리스트 & 튜플**\n",
    " * 복수개의 값을 담을 수 있는 데이터 구조\n",
    " * 실생활에서 사용하는 리스트(학생 리스트, 성적 리스트 등등)과 동일한 의미로 이해\n",
    " * list - mutable    (생성된 후에 변경 가능)  \n",
    " * tuple - immutable (생성된 후에 변경 불가능)  "
   ]
  },
  {
   "cell_type": "markdown",
   "metadata": {},
   "source": [
    "#### **리스트 초기화**\n",
    " - [] 안에 값을 담아서 생성\n",
    " - list() 함수로 생성\n",
    " - str.split()함수로 생성"
   ]
  },
  {
   "cell_type": "code",
   "execution_count": 1,
   "metadata": {},
   "outputs": [
    {
     "name": "stdout",
     "output_type": "stream",
     "text": [
      "[]\n"
     ]
    }
   ],
   "source": [
    "a = []\n",
    "print(a)"
   ]
  },
  {
   "cell_type": "code",
   "execution_count": null,
   "metadata": {},
   "outputs": [],
   "source": [
    "a = [1, 2, 3, 5, 10]\n",
    "print(a)"
   ]
  },
  {
   "cell_type": "code",
   "execution_count": null,
   "metadata": {},
   "outputs": [],
   "source": [
    "a = ['korea', 'canada', 1, 23, [34, 56]]\n",
    "print(a)"
   ]
  },
  {
   "cell_type": "markdown",
   "metadata": {},
   "source": [
    "* **list() 함수**\n",
    " + 다른 데이터 타입을 리스트로 변환할 때도 사용"
   ]
  },
  {
   "cell_type": "code",
   "execution_count": null,
   "metadata": {},
   "outputs": [],
   "source": [
    "a = 'hello world'\n",
    "b = list(a)\n",
    "print(b)\n",
    "\n",
    "c = (1, 2, 3)\n",
    "d = list(c)\n",
    "\n",
    "print(d)"
   ]
  },
  {
   "cell_type": "markdown",
   "metadata": {},
   "source": [
    "+ **string split 함수**\n",
    " * 구분자로 구분되는 리스트를 반환 (빈번히 사용 됨)"
   ]
  },
  {
   "cell_type": "code",
   "execution_count": 2,
   "metadata": {},
   "outputs": [
    {
     "name": "stdout",
     "output_type": "stream",
     "text": [
      "['hello', 'world', 'nice', 'weather']\n"
     ]
    }
   ],
   "source": [
    "a = 'hello world nice weather'\n",
    "b = a.split()\n",
    "\n",
    "print(b)"
   ]
  },
  {
   "cell_type": "markdown",
   "metadata": {},
   "source": [
    "#### **리스트 indexing**\n",
    " * 문자열의 인덱싱과 동일하게 동작\n",
    " * [] 연산자를 이용하여 항목 얻어오기\n",
    " * [i] - i번째 원소를 반환\n",
    " * i가 음수인 경우도 가능하며 마지막원소가 -1로 하여 앞으로 갈때마다 1씩 감소함"
   ]
  },
  {
   "cell_type": "code",
   "execution_count": 3,
   "metadata": {},
   "outputs": [
    {
     "name": "stdout",
     "output_type": "stream",
     "text": [
      "3\n",
      "6\n",
      "6\n"
     ]
    }
   ],
   "source": [
    "a = [1, 2, 3, 4, 5, 6]\n",
    "print(a[2])\n",
    "print(a[5])\n",
    "print(a[-1])"
   ]
  },
  {
   "cell_type": "markdown",
   "metadata": {},
   "source": [
    "#### **리스트 개별 아이템에 접근**\n",
    " - 인덱스에 접근하여 값을 업데이트 가능"
   ]
  },
  {
   "cell_type": "code",
   "execution_count": 7,
   "metadata": {},
   "outputs": [
    {
     "name": "stdout",
     "output_type": "stream",
     "text": [
      "h\n",
      "jello world\n",
      "jello world\n",
      "hello world\n"
     ]
    }
   ],
   "source": [
    "# 불변(immutable)\n",
    "a = 'hello world'\n",
    "print(a[0])\n",
    "\n",
    "b = 'jello world'\n",
    "c = 'j' + a[1:]\n",
    "print(c)\n",
    "d = a.replace('h', 'j')\n",
    "print(d)\n",
    "print(a)\n"
   ]
  },
  {
   "cell_type": "code",
   "execution_count": 8,
   "metadata": {},
   "outputs": [
    {
     "name": "stdout",
     "output_type": "stream",
     "text": [
      "[100, 2, 3, 4, 90]\n"
     ]
    }
   ],
   "source": [
    "a = [1, 2, 3, 4, 5]\n",
    "a[0] = 100\n",
    "a[-1] = 90\n",
    "\n",
    "print(a)"
   ]
  },
  {
   "cell_type": "markdown",
   "metadata": {},
   "source": [
    "#### **리스트 slicing**\n",
    " - 문자열 슬라이싱과 동일하게 동작\n",
    " - 슬라이싱의 결과 역시 list!"
   ]
  },
  {
   "cell_type": "code",
   "execution_count": 9,
   "metadata": {},
   "outputs": [
    {
     "name": "stdout",
     "output_type": "stream",
     "text": [
      "[5, 6, 7]\n",
      "[1, 2, 3, 4, 5, 6, 7]\n",
      "[4, 5, 6, 7, 8]\n",
      "[1, 2, 3, 4, 5, 6, 7, 8]\n"
     ]
    },
    {
     "data": {
      "text/plain": [
       "[2, 3, 4, 5, 6, 7]"
      ]
     },
     "execution_count": 9,
     "metadata": {},
     "output_type": "execute_result"
    }
   ],
   "source": [
    "a = [1, 2, 3, 4, 5, 6, 7, 8]\n",
    "print(a[4:7])\n",
    "print(a[:7])\n",
    "print(a[3:])\n",
    "print(a[:])\n",
    "\n",
    "# slicing \n",
    "# start:end:increment(1)\n",
    "\n",
    "a[1:7]"
   ]
  },
  {
   "cell_type": "markdown",
   "metadata": {},
   "source": [
    "### list 멤버 함수\n",
    " - 생성된 리스트 객체에 동작하는 함수\n",
    " - 향후, 클래스와 멤버 함수 개념을 이해할 예정"
   ]
  },
  {
   "cell_type": "markdown",
   "metadata": {},
   "source": [
    "* **append()**\n",
    " + 리스트의 끝에 항목을 추가함"
   ]
  },
  {
   "cell_type": "code",
   "execution_count": 10,
   "metadata": {},
   "outputs": [
    {
     "name": "stdout",
     "output_type": "stream",
     "text": [
      "[1, 2, 3, 4, 5, 10]\n"
     ]
    }
   ],
   "source": [
    "a = [1, 2, 3, 4, 5]\n",
    "a.append(10)\n",
    "\n",
    "print(a)"
   ]
  },
  {
   "cell_type": "markdown",
   "metadata": {},
   "source": [
    "+ **extend()**\n",
    " * 리스트를 연장\n",
    " * += 로도 가능함"
   ]
  },
  {
   "cell_type": "code",
   "execution_count": null,
   "metadata": {},
   "outputs": [],
   "source": [
    "a = [1, 2, 3, 4, 5]\n",
    "b = [6, 7, 8, 9, 10]\n",
    "\n",
    "# [1, 2, 3, 4, 5, 6, 7, 8, 9, 10]\n",
    "\n",
    "# a.extend(b)\n",
    "a += b\n",
    "print(a)"
   ]
  },
  {
   "cell_type": "markdown",
   "metadata": {},
   "source": [
    "+ **insert()로 항목추가**\n",
    " * 리스트의 원하는 위치에 추가 가능\n",
    " * 앞에 인덱스를, 뒤에 아이템을 명시"
   ]
  },
  {
   "cell_type": "code",
   "execution_count": 11,
   "metadata": {},
   "outputs": [
    {
     "name": "stdout",
     "output_type": "stream",
     "text": [
      "[1, 40, 3, 4, 5, 6]\n"
     ]
    }
   ],
   "source": [
    "a = [1, 3, 4, 5, 6]\n",
    "a.insert(1, 40)\n",
    "\n",
    "print(a)"
   ]
  },
  {
   "cell_type": "markdown",
   "metadata": {},
   "source": [
    "+ **remove()**\n",
    " * 값으로 항목 삭제"
   ]
  },
  {
   "cell_type": "code",
   "execution_count": 12,
   "metadata": {},
   "outputs": [
    {
     "ename": "ValueError",
     "evalue": "list.remove(x): x not in list",
     "output_type": "error",
     "traceback": [
      "\u001b[1;31m---------------------------------------------------------------------------\u001b[0m",
      "\u001b[1;31mValueError\u001b[0m                                Traceback (most recent call last)",
      "\u001b[1;32md:\\BU\\Others\\computer\\BU_python_study\\KIM_HJ\\Homework_HJ\\StudyMaterial\\Part 01~04) Python\\01. Python Prgramming 기초\\완성코드\\07~09.데이터 타입과 컬렉션 - 04~06.컬렉션 타입의 이해(list, tuple)_After.ipynb Cell 26'\u001b[0m in \u001b[0;36m<cell line: 2>\u001b[1;34m()\u001b[0m\n\u001b[0;32m      <a href='vscode-notebook-cell:/d%3A/BU/Others/computer/BU_python_study/KIM_HJ/Homework_HJ/StudyMaterial/Part%2001~04%29%20Python/01.%20Python%20Prgramming%20%EA%B8%B0%EC%B4%88/%EC%99%84%EC%84%B1%EC%BD%94%EB%93%9C/07~09.%EB%8D%B0%EC%9D%B4%ED%84%B0%20%ED%83%80%EC%9E%85%EA%B3%BC%20%EC%BB%AC%EB%A0%89%EC%85%98%20-%2004~06.%EC%BB%AC%EB%A0%89%EC%85%98%20%ED%83%80%EC%9E%85%EC%9D%98%20%EC%9D%B4%ED%95%B4%28list%2C%20tuple%29_After.ipynb#ch0000025?line=0'>1</a>\u001b[0m a \u001b[39m=\u001b[39m [\u001b[39m1\u001b[39m, \u001b[39m2\u001b[39m, \u001b[39m30\u001b[39m, \u001b[39m30\u001b[39m, \u001b[39m4\u001b[39m, \u001b[39m5\u001b[39m]\n\u001b[1;32m----> <a href='vscode-notebook-cell:/d%3A/BU/Others/computer/BU_python_study/KIM_HJ/Homework_HJ/StudyMaterial/Part%2001~04%29%20Python/01.%20Python%20Prgramming%20%EA%B8%B0%EC%B4%88/%EC%99%84%EC%84%B1%EC%BD%94%EB%93%9C/07~09.%EB%8D%B0%EC%9D%B4%ED%84%B0%20%ED%83%80%EC%9E%85%EA%B3%BC%20%EC%BB%AC%EB%A0%89%EC%85%98%20-%2004~06.%EC%BB%AC%EB%A0%89%EC%85%98%20%ED%83%80%EC%9E%85%EC%9D%98%20%EC%9D%B4%ED%95%B4%28list%2C%20tuple%29_After.ipynb#ch0000025?line=1'>2</a>\u001b[0m a\u001b[39m.\u001b[39;49mremove(\u001b[39m9\u001b[39;49m)\n\u001b[0;32m      <a href='vscode-notebook-cell:/d%3A/BU/Others/computer/BU_python_study/KIM_HJ/Homework_HJ/StudyMaterial/Part%2001~04%29%20Python/01.%20Python%20Prgramming%20%EA%B8%B0%EC%B4%88/%EC%99%84%EC%84%B1%EC%BD%94%EB%93%9C/07~09.%EB%8D%B0%EC%9D%B4%ED%84%B0%20%ED%83%80%EC%9E%85%EA%B3%BC%20%EC%BB%AC%EB%A0%89%EC%85%98%20-%2004~06.%EC%BB%AC%EB%A0%89%EC%85%98%20%ED%83%80%EC%9E%85%EC%9D%98%20%EC%9D%B4%ED%95%B4%28list%2C%20tuple%29_After.ipynb#ch0000025?line=2'>3</a>\u001b[0m \u001b[39mprint\u001b[39m(a)\n",
      "\u001b[1;31mValueError\u001b[0m: list.remove(x): x not in list"
     ]
    }
   ],
   "source": [
    "a = [1, 2, 30, 30, 4, 5]\n",
    "a.remove(9)\n",
    "print(a)"
   ]
  },
  {
   "cell_type": "markdown",
   "metadata": {},
   "source": [
    "+ **pop()**\n",
    "  - 지우고자 하는 아이템을 반환 후, 삭제"
   ]
  },
  {
   "cell_type": "code",
   "execution_count": 13,
   "metadata": {},
   "outputs": [
    {
     "name": "stdout",
     "output_type": "stream",
     "text": [
      "[1, 2, 4, 5]\n",
      "3\n"
     ]
    }
   ],
   "source": [
    "a = [1, 2, 3, 4, 5]\n",
    "d = a.pop(2)\n",
    "\n",
    "print(a)\n",
    "print(d)"
   ]
  },
  {
   "cell_type": "markdown",
   "metadata": {},
   "source": [
    "+ **index()**\n",
    " * 찾고자 하는 값의 인덱스 반환"
   ]
  },
  {
   "cell_type": "code",
   "execution_count": 14,
   "metadata": {},
   "outputs": [
    {
     "data": {
      "text/plain": [
       "3"
      ]
     },
     "execution_count": 14,
     "metadata": {},
     "output_type": "execute_result"
    }
   ],
   "source": [
    "a = [2, 6, 7, 9, 10]\n",
    "a.index(9)"
   ]
  },
  {
   "cell_type": "markdown",
   "metadata": {},
   "source": [
    "* **in 키워드**\n",
    " + 리스트 내에 해당 값이 존재하는지 확인\n",
    " + value in [list]\n",
    " + True, False 중 한가지로 반환"
   ]
  },
  {
   "cell_type": "code",
   "execution_count": null,
   "metadata": {},
   "outputs": [],
   "source": [
    "a = [1, 2, 3, 4, 5, 10]\n",
    "b = 10\n",
    "\n",
    "c = b in a # False\n",
    "\n",
    "print(c)\n"
   ]
  },
  {
   "cell_type": "markdown",
   "metadata": {},
   "source": [
    "* **list 정렬**\n",
    " + sort() -> 리스트 자체를 내부적으로 정렬\n",
    " + sorted() -> 리스트의 정렬된 복사본을 반환"
   ]
  },
  {
   "cell_type": "code",
   "execution_count": 1,
   "metadata": {},
   "outputs": [
    {
     "name": "stdout",
     "output_type": "stream",
     "text": [
      "[21, 20, 19, 10, 9, 8, 7, 7, 2, 1]\n",
      "[1, 2, 7, 7, 8, 9, 10, 19, 20, 21]\n"
     ]
    }
   ],
   "source": [
    "a = [9, 10, 7, 19, 1, 2, 20, 21, 7, 8]\n",
    "a.sort(reverse=True)\n",
    "b = sorted(a)\n",
    "print(a)\n",
    "print(b)"
   ]
  },
  {
   "cell_type": "markdown",
   "metadata": {},
   "source": [
    "### **tuple**\n",
    " - 리스트와 같이 복수개의 값을 갖는 컬렉션 타입\n",
    " - 생성된 후 변경이 불가능"
   ]
  },
  {
   "cell_type": "code",
   "execution_count": 2,
   "metadata": {},
   "outputs": [
    {
     "name": "stdout",
     "output_type": "stream",
     "text": [
      "<class 'list'>\n",
      "<class 'tuple'>\n",
      "[100, 2, 3]\n"
     ]
    },
    {
     "ename": "TypeError",
     "evalue": "'tuple' object does not support item assignment",
     "output_type": "error",
     "traceback": [
      "\u001b[1;31m---------------------------------------------------------------------------\u001b[0m",
      "\u001b[1;31mTypeError\u001b[0m                                 Traceback (most recent call last)",
      "\u001b[1;32md:\\BU\\Others\\computer\\BU_python_study\\KIM_HJ\\Homework_HJ\\StudyMaterial\\Part 01~04) Python\\01. Python Prgramming 기초\\완성코드\\07~09.데이터 타입과 컬렉션 - 04~06.컬렉션 타입의 이해(list, tuple)_After.ipynb Cell 36'\u001b[0m in \u001b[0;36m<cell line: 10>\u001b[1;34m()\u001b[0m\n\u001b[0;32m      <a href='vscode-notebook-cell:/d%3A/BU/Others/computer/BU_python_study/KIM_HJ/Homework_HJ/StudyMaterial/Part%2001~04%29%20Python/01.%20Python%20Prgramming%20%EA%B8%B0%EC%B4%88/%EC%99%84%EC%84%B1%EC%BD%94%EB%93%9C/07~09.%EB%8D%B0%EC%9D%B4%ED%84%B0%20%ED%83%80%EC%9E%85%EA%B3%BC%20%EC%BB%AC%EB%A0%89%EC%85%98%20-%2004~06.%EC%BB%AC%EB%A0%89%EC%85%98%20%ED%83%80%EC%9E%85%EC%9D%98%20%EC%9D%B4%ED%95%B4%28list%2C%20tuple%29_After.ipynb#ch0000035?line=6'>7</a>\u001b[0m a[\u001b[39m0\u001b[39m] \u001b[39m=\u001b[39m \u001b[39m100\u001b[39m\n\u001b[0;32m      <a href='vscode-notebook-cell:/d%3A/BU/Others/computer/BU_python_study/KIM_HJ/Homework_HJ/StudyMaterial/Part%2001~04%29%20Python/01.%20Python%20Prgramming%20%EA%B8%B0%EC%B4%88/%EC%99%84%EC%84%B1%EC%BD%94%EB%93%9C/07~09.%EB%8D%B0%EC%9D%B4%ED%84%B0%20%ED%83%80%EC%9E%85%EA%B3%BC%20%EC%BB%AC%EB%A0%89%EC%85%98%20-%2004~06.%EC%BB%AC%EB%A0%89%EC%85%98%20%ED%83%80%EC%9E%85%EC%9D%98%20%EC%9D%B4%ED%95%B4%28list%2C%20tuple%29_After.ipynb#ch0000035?line=7'>8</a>\u001b[0m \u001b[39mprint\u001b[39m(a)\n\u001b[1;32m---> <a href='vscode-notebook-cell:/d%3A/BU/Others/computer/BU_python_study/KIM_HJ/Homework_HJ/StudyMaterial/Part%2001~04%29%20Python/01.%20Python%20Prgramming%20%EA%B8%B0%EC%B4%88/%EC%99%84%EC%84%B1%EC%BD%94%EB%93%9C/07~09.%EB%8D%B0%EC%9D%B4%ED%84%B0%20%ED%83%80%EC%9E%85%EA%B3%BC%20%EC%BB%AC%EB%A0%89%EC%85%98%20-%2004~06.%EC%BB%AC%EB%A0%89%EC%85%98%20%ED%83%80%EC%9E%85%EC%9D%98%20%EC%9D%B4%ED%95%B4%28list%2C%20tuple%29_After.ipynb#ch0000035?line=9'>10</a>\u001b[0m b[\u001b[39m0\u001b[39m] \u001b[39m=\u001b[39m \u001b[39m100\u001b[39m\n\u001b[0;32m     <a href='vscode-notebook-cell:/d%3A/BU/Others/computer/BU_python_study/KIM_HJ/Homework_HJ/StudyMaterial/Part%2001~04%29%20Python/01.%20Python%20Prgramming%20%EA%B8%B0%EC%B4%88/%EC%99%84%EC%84%B1%EC%BD%94%EB%93%9C/07~09.%EB%8D%B0%EC%9D%B4%ED%84%B0%20%ED%83%80%EC%9E%85%EA%B3%BC%20%EC%BB%AC%EB%A0%89%EC%85%98%20-%2004~06.%EC%BB%AC%EB%A0%89%EC%85%98%20%ED%83%80%EC%9E%85%EC%9D%98%20%EC%9D%B4%ED%95%B4%28list%2C%20tuple%29_After.ipynb#ch0000035?line=10'>11</a>\u001b[0m \u001b[39mprint\u001b[39m(b)\n",
      "\u001b[1;31mTypeError\u001b[0m: 'tuple' object does not support item assignment"
     ]
    }
   ],
   "source": [
    "a = [1, 2, 3]\n",
    "b = (1, 2, 3)\n",
    "\n",
    "print(type(a))\n",
    "print(type(b))\n",
    "\n",
    "a[0] = 100\n",
    "print(a)\n",
    "\n",
    "b[0] = 100\n",
    "print(b)"
   ]
  },
  {
   "cell_type": "markdown",
   "metadata": {},
   "source": [
    "#### **tuple unpacking**\n",
    " - 튜플의 값을 차례대로 변수에 대입"
   ]
  },
  {
   "cell_type": "code",
   "execution_count": 3,
   "metadata": {},
   "outputs": [
    {
     "name": "stdout",
     "output_type": "stream",
     "text": [
      "100 200 300 400\n"
     ]
    }
   ],
   "source": [
    "a, b, c, d = 100, 200, 300, 400\n",
    "print(a, b, c, d)"
   ]
  },
  {
   "cell_type": "markdown",
   "metadata": {},
   "source": [
    "* **연습문제** a와 b의 값을 교환하시오"
   ]
  },
  {
   "cell_type": "code",
   "execution_count": 4,
   "metadata": {},
   "outputs": [
    {
     "name": "stdout",
     "output_type": "stream",
     "text": [
      "5 4\n",
      "4 5\n"
     ]
    }
   ],
   "source": [
    "a = 5\n",
    "b = 4\n",
    "\n",
    "print(a, b)\n",
    "\n",
    "# # logic\n",
    "# temp = a\n",
    "# a = b\n",
    "# b = temp\n",
    "a, b = b, a\n",
    "\n",
    "print(a, b)"
   ]
  },
  {
   "cell_type": "code",
   "execution_count": null,
   "metadata": {},
   "outputs": [],
   "source": []
  }
 ],
 "metadata": {
  "interpreter": {
   "hash": "360415a06a2cb4988f467b724c8ffdb39ec3aeec574ee0105248e66f7284bba3"
  },
  "kernelspec": {
   "display_name": "Python 3.10.4 ('bu')",
   "language": "python",
   "name": "python3"
  },
  "language_info": {
   "codemirror_mode": {
    "name": "ipython",
    "version": 3
   },
   "file_extension": ".py",
   "mimetype": "text/x-python",
   "name": "python",
   "nbconvert_exporter": "python",
   "pygments_lexer": "ipython3",
   "version": "3.10.4"
  }
 },
 "nbformat": 4,
 "nbformat_minor": 1
}
