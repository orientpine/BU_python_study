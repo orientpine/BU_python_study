{
 "cells": [
  {
   "cell_type": "markdown",
   "metadata": {},
   "source": [
    "## 학습목표\n",
    " 1. dictionary, set에 대해 이해 및 실습\n"
   ]
  },
  {
   "cell_type": "markdown",
   "metadata": {},
   "source": [
    "### **dictionary**\n",
    " + 키와 값을 갖는 데이터 구조\n",
    " + 키는 내부적으로 hash값으로 저장\n",
    " + 순서를 따지지 않음. 즉, 인덱스가 없음"
   ]
  },
  {
   "cell_type": "code",
   "execution_count": 18,
   "metadata": {},
   "outputs": [
    {
     "ename": "KeyError",
     "evalue": "2",
     "output_type": "error",
     "traceback": [
      "\u001b[1;31m---------------------------------------------------------------------------\u001b[0m",
      "\u001b[1;31mKeyError\u001b[0m                                  Traceback (most recent call last)",
      "\u001b[1;32md:\\BU\\Others\\computer\\BU_python_study\\KIM_HJ\\Homework_HJ\\StudyMaterial\\Part 01~04) Python\\01. Python Prgramming 기초\\실습코드\\10~11.데이터 타입과 컬렉션 - 07~08.컬렉션 타입의 이해(dict, set)_Before.ipynb Cell 3'\u001b[0m in \u001b[0;36m<cell line: 5>\u001b[1;34m()\u001b[0m\n\u001b[0;32m      <a href='vscode-notebook-cell:/d%3A/BU/Others/computer/BU_python_study/KIM_HJ/Homework_HJ/StudyMaterial/Part%2001~04%29%20Python/01.%20Python%20Prgramming%20%EA%B8%B0%EC%B4%88/%EC%8B%A4%EC%8A%B5%EC%BD%94%EB%93%9C/10~11.%EB%8D%B0%EC%9D%B4%ED%84%B0%20%ED%83%80%EC%9E%85%EA%B3%BC%20%EC%BB%AC%EB%A0%89%EC%85%98%20-%2007~08.%EC%BB%AC%EB%A0%89%EC%85%98%20%ED%83%80%EC%9E%85%EC%9D%98%20%EC%9D%B4%ED%95%B4%28dict%2C%20set%29_Before.ipynb#ch0000002?line=0'>1</a>\u001b[0m a \u001b[39m=\u001b[39m {\u001b[39m'\u001b[39m\u001b[39mtottenham\u001b[39m\u001b[39m'\u001b[39m:\u001b[39m'\u001b[39m\u001b[39mson\u001b[39m\u001b[39m'\u001b[39m,\n\u001b[0;32m      <a href='vscode-notebook-cell:/d%3A/BU/Others/computer/BU_python_study/KIM_HJ/Homework_HJ/StudyMaterial/Part%2001~04%29%20Python/01.%20Python%20Prgramming%20%EA%B8%B0%EC%B4%88/%EC%8B%A4%EC%8A%B5%EC%BD%94%EB%93%9C/10~11.%EB%8D%B0%EC%9D%B4%ED%84%B0%20%ED%83%80%EC%9E%85%EA%B3%BC%20%EC%BB%AC%EB%A0%89%EC%85%98%20-%2007~08.%EC%BB%AC%EB%A0%89%EC%85%98%20%ED%83%80%EC%9E%85%EC%9D%98%20%EC%9D%B4%ED%95%B4%28dict%2C%20set%29_Before.ipynb#ch0000002?line=1'>2</a>\u001b[0m      \u001b[39m'\u001b[39m\u001b[39mmanchester\u001b[39m\u001b[39m'\u001b[39m:\u001b[39m'\u001b[39m\u001b[39mronaldo\u001b[39m\u001b[39m'\u001b[39m,\n\u001b[0;32m      <a href='vscode-notebook-cell:/d%3A/BU/Others/computer/BU_python_study/KIM_HJ/Homework_HJ/StudyMaterial/Part%2001~04%29%20Python/01.%20Python%20Prgramming%20%EA%B8%B0%EC%B4%88/%EC%8B%A4%EC%8A%B5%EC%BD%94%EB%93%9C/10~11.%EB%8D%B0%EC%9D%B4%ED%84%B0%20%ED%83%80%EC%9E%85%EA%B3%BC%20%EC%BB%AC%EB%A0%89%EC%85%98%20-%2007~08.%EC%BB%AC%EB%A0%89%EC%85%98%20%ED%83%80%EC%9E%85%EC%9D%98%20%EC%9D%B4%ED%95%B4%28dict%2C%20set%29_Before.ipynb#ch0000002?line=2'>3</a>\u001b[0m      \u001b[39m'\u001b[39m\u001b[39mliverpool\u001b[39m\u001b[39m'\u001b[39m:\u001b[39m'\u001b[39m\u001b[39msalah\u001b[39m\u001b[39m'\u001b[39m}\n\u001b[0;32m      <a href='vscode-notebook-cell:/d%3A/BU/Others/computer/BU_python_study/KIM_HJ/Homework_HJ/StudyMaterial/Part%2001~04%29%20Python/01.%20Python%20Prgramming%20%EA%B8%B0%EC%B4%88/%EC%8B%A4%EC%8A%B5%EC%BD%94%EB%93%9C/10~11.%EB%8D%B0%EC%9D%B4%ED%84%B0%20%ED%83%80%EC%9E%85%EA%B3%BC%20%EC%BB%AC%EB%A0%89%EC%85%98%20-%2007~08.%EC%BB%AC%EB%A0%89%EC%85%98%20%ED%83%80%EC%9E%85%EC%9D%98%20%EC%9D%B4%ED%95%B4%28dict%2C%20set%29_Before.ipynb#ch0000002?line=3'>4</a>\u001b[0m b\u001b[39m=\u001b[39m {\u001b[39m0\u001b[39m:\u001b[39m1\u001b[39m, \u001b[39m1\u001b[39m:\u001b[39m6\u001b[39m, \u001b[39m7\u001b[39m:\u001b[39m9\u001b[39m, \u001b[39m8\u001b[39m:\u001b[39m10\u001b[39m}\n\u001b[1;32m----> <a href='vscode-notebook-cell:/d%3A/BU/Others/computer/BU_python_study/KIM_HJ/Homework_HJ/StudyMaterial/Part%2001~04%29%20Python/01.%20Python%20Prgramming%20%EA%B8%B0%EC%B4%88/%EC%8B%A4%EC%8A%B5%EC%BD%94%EB%93%9C/10~11.%EB%8D%B0%EC%9D%B4%ED%84%B0%20%ED%83%80%EC%9E%85%EA%B3%BC%20%EC%BB%AC%EB%A0%89%EC%85%98%20-%2007~08.%EC%BB%AC%EB%A0%89%EC%85%98%20%ED%83%80%EC%9E%85%EC%9D%98%20%EC%9D%B4%ED%95%B4%28dict%2C%20set%29_Before.ipynb#ch0000002?line=4'>5</a>\u001b[0m \u001b[39mprint\u001b[39m(b[\u001b[39m2\u001b[39;49m])\n",
      "\u001b[1;31mKeyError\u001b[0m: 2"
     ]
    }
   ],
   "source": [
    "#0이랑 1은되는데 2는 안됩니다\n",
    "a = {'tottenham':'son',\n",
    "     'manchester':'ronaldo',\n",
    "     'liverpool':'salah'}\n",
    "b= {0:1, 1:6, 7:9, 8:10}\n",
    "print(b[2]) "
   ]
  },
  {
   "cell_type": "markdown",
   "metadata": {},
   "source": [
    "+ **항목 추가 및 변경**\n",
    " - 기존에 키가 존재 하면, 새로운 값으로 업데이트\n",
    " - 존재하지 않으면, 새로운 키, 값 생성"
   ]
  },
  {
   "cell_type": "code",
   "execution_count": 19,
   "metadata": {},
   "outputs": [
    {
     "name": "stdout",
     "output_type": "stream",
     "text": [
      "{'tottenham': 'son', 'manchester': 'ronaldo', 'liverpool': 'salah', 'Japan': 'Kyoto', 'Japan2': 'Kyoto', 'China': 'Beijing'}\n"
     ]
    }
   ],
   "source": [
    "a = {'tottenham':'son',\n",
    "     'manchester':'ronaldo',\n",
    "     'liverpool':'salah'}\n",
    "\n",
    "a['Japan'] = 'Tokyo'\n",
    "a['Japan'] = 'Kyoto'\n",
    "a['Japan2'] = 'Kyoto'\n",
    "a['China'] = 'Beijing'\n",
    "\n",
    "print(a)"
   ]
  },
  {
   "cell_type": "markdown",
   "metadata": {},
   "source": [
    "+ **update()**\n",
    " * 두 딕셔너리를 병합함\n",
    " * 겹치는 키가 있다면 parameter로 전달되는 키 값이 overwrite된다."
   ]
  },
  {
   "cell_type": "code",
   "execution_count": 22,
   "metadata": {},
   "outputs": [
    {
     "name": "stdout",
     "output_type": "stream",
     "text": [
      "{'a': 1, 'b': 2, 'c': 3}\n",
      "{'a': 2, 'b': 2, 'c': 5, 'd': 4}\n"
     ]
    }
   ],
   "source": [
    "a= {'a':1, 'b':2, 'c':3}\n",
    "b= {'a':2, 'd':4, 'c':5}\n",
    "print (a)\n",
    "a.update(b)\n",
    "print (a)"
   ]
  },
  {
   "cell_type": "markdown",
   "metadata": {},
   "source": [
    "* **key삭제**\n",
    " - del 키워드 사용"
   ]
  },
  {
   "cell_type": "code",
   "execution_count": 33,
   "metadata": {},
   "outputs": [
    {
     "name": "stdout",
     "output_type": "stream",
     "text": [
      "{'a': 1, 'b': 2, 'c': 3}\n",
      "{'a': 1, 'b': 2}\n"
     ]
    }
   ],
   "source": [
    "#pop 랑 del 일 때 쓰는 괄호가 다른데 얘네 pop이랑 del같은 명령어(?)들을 부르는 방법이 다르게 있는건지\n",
    "a = {'a': 1, 'b': 2, 'c' : 3}\n",
    "print(a)\n",
    "\n",
    "a.pop('c')\n",
    "print (a)"
   ]
  },
  {
   "cell_type": "markdown",
   "metadata": {},
   "source": [
    "* **clear()**\n",
    " + 딕셔너리의 모든 값을 초기화\n"
   ]
  },
  {
   "cell_type": "code",
   "execution_count": 35,
   "metadata": {},
   "outputs": [
    {
     "name": "stdout",
     "output_type": "stream",
     "text": [
      "{'a': 1, 'b': 2}\n",
      "{}\n"
     ]
    }
   ],
   "source": [
    "print(a)\n",
    "a.clear()\n",
    "print(a)\n"
   ]
  },
  {
   "cell_type": "markdown",
   "metadata": {},
   "source": [
    "* **in**\n",
    " + key값 존재 확인\n",
    " + O(1) 연산 - 딕셔너리의 크기와 관계없이 항상 연산의 속도가 일정하다는 의미"
   ]
  },
  {
   "cell_type": "code",
   "execution_count": 44,
   "metadata": {},
   "outputs": [
    {
     "name": "stdout",
     "output_type": "stream",
     "text": [
      "True\n",
      "False\n"
     ]
    }
   ],
   "source": [
    "a = {'a': 1, 'b': 2, 'c' : 3}\n",
    "b = [1, 2, 3, 4, 5, 6, 7, 9, 10, 100]\n",
    "\n",
    "print(100 in b)\n",
    "print(2 in a)"
   ]
  },
  {
   "cell_type": "markdown",
   "metadata": {},
   "source": [
    "* **value access**\n",
    " + dict[key]로 접급, 키가 없는 경우 에러 발생 \n",
    " + .get() 함수로 접근, 키가 없는 경우 None반환"
   ]
  },
  {
   "cell_type": "code",
   "execution_count": 47,
   "metadata": {},
   "outputs": [
    {
     "name": "stdout",
     "output_type": "stream",
     "text": [
      "3\n"
     ]
    }
   ],
   "source": [
    "print(a.get('c')) ##''없애고 3을 넣으면 안나와요. c=3이랑 차이가 있나요\n",
    "\n",
    "if 'd' in a:\n",
    "    print(a['d'])"
   ]
  },
  {
   "cell_type": "markdown",
   "metadata": {},
   "source": [
    "#### **모든 keys, values 접근**\n",
    " + keys() - 키만 반환\n",
    " + values() - 값만 반환\n",
    " + items() - 키, 값의 튜플을 반환"
   ]
  },
  {
   "cell_type": "code",
   "execution_count": 48,
   "metadata": {},
   "outputs": [
    {
     "name": "stdout",
     "output_type": "stream",
     "text": [
      "{'a': 1, 'b': 2, 'c': 3}\n",
      "['a', 'b', 'c']\n",
      "[1, 2, 3]\n"
     ]
    },
    {
     "data": {
      "text/plain": [
       "[('a', 1), ('b', 2), ('c', 3)]"
      ]
     },
     "execution_count": 48,
     "metadata": {},
     "output_type": "execute_result"
    }
   ],
   "source": [
    "print(a)\n",
    "print(list(a.keys()))\n",
    "print(list(a.values()))\n",
    "\n",
    "list(a.items())"
   ]
  },
  {
   "cell_type": "markdown",
   "metadata": {},
   "source": [
    "### **set**\n",
    " + dictionary에서 key만 활용하는 데이터 구조로 이해\n",
    " + 수학에서의 집합과 동일한 개념"
   ]
  },
  {
   "cell_type": "code",
   "execution_count": 49,
   "metadata": {},
   "outputs": [
    {
     "name": "stdout",
     "output_type": "stream",
     "text": [
      "{1, 2, 3, 4, 5}\n"
     ]
    }
   ],
   "source": [
    "a = {1, 1, 2, 3, 3, 4, 1, 5}\n",
    "print (a)"
   ]
  },
  {
   "cell_type": "markdown",
   "metadata": {},
   "source": [
    "* **set()으로 집합으로 변환**"
   ]
  },
  {
   "cell_type": "code",
   "execution_count": 58,
   "metadata": {},
   "outputs": [
    {
     "name": "stdout",
     "output_type": "stream",
     "text": [
      "[1, 1, 2, 3, 3, 4, 1, 5]\n",
      "{1, 2, 3, 4, 5}\n"
     ]
    }
   ],
   "source": [
    "a = [1, 1, 2, 3, 3, 4, 1, 5]\n",
    "print (a)\n",
    "\n",
    "b = set(a)\n",
    "print(b)"
   ]
  },
  {
   "cell_type": "markdown",
   "metadata": {},
   "source": [
    "+ **set operations**\n",
    " - 수학 연산과 동일\n",
    " - 교집합, 합집합, 차집합 등 지원"
   ]
  },
  {
   "cell_type": "code",
   "execution_count": 66,
   "metadata": {},
   "outputs": [
    {
     "name": "stdout",
     "output_type": "stream",
     "text": [
      "{1, 2, 3, 4}\n",
      "{2, 3}\n",
      "{1}\n",
      "{4}\n",
      "False\n"
     ]
    }
   ],
   "source": [
    "#첫번째 union과 a.update(b) 차이가 뭔가요? 없다면 어떤것이 더 자주 사용되나요?\n",
    "a = {1, 2, 3}\n",
    "b = {2, 3, 4}\n",
    "\n",
    "print(a.union(b))\n",
    "print(a. intersection(b))\n",
    "print(a.difference(b)) #a - b 순서로\n",
    "print(b.difference(a))\n",
    "print(a.issubset(b)) # 부분 집합"
   ]
  },
  {
   "cell_type": "code",
   "execution_count": null,
   "metadata": {},
   "outputs": [],
   "source": []
  }
 ],
 "metadata": {
  "interpreter": {
   "hash": "360415a06a2cb4988f467b724c8ffdb39ec3aeec574ee0105248e66f7284bba3"
  },
  "kernelspec": {
   "display_name": "Python 3.10.4 ('bu')",
   "language": "python",
   "name": "python3"
  },
  "language_info": {
   "codemirror_mode": {
    "name": "ipython",
    "version": 3
   },
   "file_extension": ".py",
   "mimetype": "text/x-python",
   "name": "python",
   "nbconvert_exporter": "python",
   "pygments_lexer": "ipython3",
   "version": "3.10.4"
  }
 },
 "nbformat": 4,
 "nbformat_minor": 1
}
