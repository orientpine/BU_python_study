{
 "cells": [
  {
   "cell_type": "markdown",
   "metadata": {},
   "source": [
    "### 학습목표\n",
    "1. python 언어에서 변수의 의미 이해하기\n",
    "2. 기본 데이터 타입 선언하기\n",
    " - int, float, str, bool"
   ]
  },
  {
   "cell_type": "markdown",
   "metadata": {},
   "source": []
  },
  {
   "cell_type": "markdown",
   "metadata": {},
   "source": [
    "### 기본 데이터 타입\n",
    "* variable declaration & value assignment (변수 선언 및 값 할당)"
   ]
  },
  {
   "cell_type": "markdown",
   "metadata": {},
   "source": [
    "##### =  대입 연산자,  ==  비교 연산자 \n",
    " - 대입의 경우, 오른쪽의 수식이나 값을 evaluation(여기서는 계산이라는 의미로 사용) 한 뒤, \n",
    " - 왼쪽에 명시된 변수에 해당 값을 대입\n",
    " - 변수는 해당 값을 가지게 됨"
   ]
  },
  {
   "cell_type": "code",
   "execution_count": 9,
   "metadata": {},
   "outputs": [],
   "source": [
    "a = 10.55513123\n",
    "b = 11.66612321123123"
   ]
  },
  {
   "cell_type": "markdown",
   "metadata": {},
   "source": [
    "#### **comment(주석)**\n",
    "  - 코드에서 #으로 시작하는 뒷 부분은 실행되지 않음\n",
    "  - python이 소스코드를 실행하면서 #를 만나면 무시\n",
    "  - 개발자(사람)가 보기 위한 용도로 사용"
   ]
  },
  {
   "cell_type": "code",
   "execution_count": null,
   "metadata": {},
   "outputs": [],
   "source": []
  },
  {
   "cell_type": "markdown",
   "metadata": {},
   "source": [
    "#### **print 함수**\n",
    "  - 함수란 특정 기능을 반복적으로 호출하여 사용가능한 코드블럭\n",
    "  - 해당 변수의 값을 출력\n",
    "  - , 로 여러 변수를 나열하면 한줄에 출력\n",
    "  - 기본적으로는 한칸 띄어쓰기 후 출력"
   ]
  },
  {
   "cell_type": "code",
   "execution_count": 10,
   "metadata": {},
   "outputs": [
    {
     "name": "stdout",
     "output_type": "stream",
     "text": [
      "10.55513123\n"
     ]
    }
   ],
   "source": [
    "print(round(a,9))"
   ]
  },
  {
   "cell_type": "markdown",
   "metadata": {},
   "source": [
    "* **print함수 설정**\n",
    " - sep : 구분자, 각 출력할 변수 사이에서 구별하는 역할을 함\n",
    " - end : 마지막에 출력할 문자열"
   ]
  },
  {
   "cell_type": "code",
   "execution_count": 16,
   "metadata": {},
   "outputs": [
    {
     "name": "stdout",
     "output_type": "stream",
     "text": [
      "10.55513123 11.66612!!"
     ]
    }
   ],
   "source": [
    "print(round(a,9), round(b,5), end = '!!')\n",
    "#만약에 !!를 a 뒤에도 붙히고 b 뒤에도 붙히고 싶으면요? \n"
   ]
  },
  {
   "cell_type": "markdown",
   "metadata": {},
   "source": [
    "#### **변수 값 확인법**\n",
    " - print() 함수 사용\n",
    " - 변수 값을 코드의 마지막에 위치 시킨 후 실행\n",
    "   - 이 경우 output으로 변수의 값이 출력"
   ]
  },
  {
   "cell_type": "code",
   "execution_count": 21,
   "metadata": {},
   "outputs": [
    {
     "name": "stdout",
     "output_type": "stream",
     "text": [
      "10.55513123\n",
      "11.66612321123123\n",
      "22.22125444123123\n",
      "22.22125다섯 자릿수까지"
     ]
    }
   ],
   "source": [
    "print (a)\n",
    "print (b)\n",
    "print (a+b)\n",
    "print (round(a+b, 5), end='다섯 자릿수까지')"
   ]
  },
  {
   "cell_type": "markdown",
   "metadata": {},
   "source": [
    "#### **variable naming (변수 이름 규칙)**\n",
    "  - 숫자로 시작하는 이름을 제외하고 영문 대소문자, _, 숫자로 구성가능 \n",
    "  - 아래의 예제는 모두 valid한 변수 이름\n",
    "  - 일반적으로 해당 변수를 표현하고자 하는 정확하고 간결한 이름을 사용하는 것이 원칙\n",
    "    - 코드를 읽은 것을 더 쉽게 할 수 있음\n",
    "    - e.g) a = 1000의 경우보다 **student_num = 1000**로 명시한 것이 변수에 대한 이해가 빠름"
   ]
  },
  {
   "cell_type": "code",
   "execution_count": 31,
   "metadata": {},
   "outputs": [
    {
     "name": "stdout",
     "output_type": "stream",
     "text": [
      "22.22125444123123\n",
      "-1.1109919812312299\n",
      "21.11026246\n"
     ]
    },
    {
     "ename": "NameError",
     "evalue": "name 'append' is not defined",
     "output_type": "error",
     "traceback": [
      "\u001b[1;31m---------------------------------------------------------------------------\u001b[0m",
      "\u001b[1;31mNameError\u001b[0m                                 Traceback (most recent call last)",
      "\u001b[1;32md:\\BU\\Others\\computer\\BU_python_study\\StudyMaterial\\Part 01~04) Python\\01. Python Prgramming 기초\\실습코드\\04~05.데이터 타입과 컬렉션 - 01~02.변수의 이해 및 기본 데이터 타입_Before.ipynb Cell 14'\u001b[0m in \u001b[0;36m<cell line: 6>\u001b[1;34m()\u001b[0m\n\u001b[0;32m      <a href='vscode-notebook-cell:/d%3A/BU/Others/computer/BU_python_study/StudyMaterial/Part%2001~04%29%20Python/01.%20Python%20Prgramming%20%EA%B8%B0%EC%B4%88/%EC%8B%A4%EC%8A%B5%EC%BD%94%EB%93%9C/04~05.%EB%8D%B0%EC%9D%B4%ED%84%B0%20%ED%83%80%EC%9E%85%EA%B3%BC%20%EC%BB%AC%EB%A0%89%EC%85%98%20-%2001~02.%EB%B3%80%EC%88%98%EC%9D%98%20%EC%9D%B4%ED%95%B4%20%EB%B0%8F%20%EA%B8%B0%EB%B3%B8%20%EB%8D%B0%EC%9D%B4%ED%84%B0%20%ED%83%80%EC%9E%85_Before.ipynb#ch0000013?line=3'>4</a>\u001b[0m \u001b[39mprint\u001b[39m(aminb)\n\u001b[0;32m      <a href='vscode-notebook-cell:/d%3A/BU/Others/computer/BU_python_study/StudyMaterial/Part%2001~04%29%20Python/01.%20Python%20Prgramming%20%EA%B8%B0%EC%B4%88/%EC%8B%A4%EC%8A%B5%EC%BD%94%EB%93%9C/04~05.%EB%8D%B0%EC%9D%B4%ED%84%B0%20%ED%83%80%EC%9E%85%EA%B3%BC%20%EC%BB%AC%EB%A0%89%EC%85%98%20-%2001~02.%EB%B3%80%EC%88%98%EC%9D%98%20%EC%9D%B4%ED%95%B4%20%EB%B0%8F%20%EA%B8%B0%EB%B3%B8%20%EB%8D%B0%EC%9D%B4%ED%84%B0%20%ED%83%80%EC%9E%85_Before.ipynb#ch0000013?line=4'>5</a>\u001b[0m \u001b[39mprint\u001b[39m(asumb\u001b[39m+\u001b[39maminb)\n\u001b[1;32m----> <a href='vscode-notebook-cell:/d%3A/BU/Others/computer/BU_python_study/StudyMaterial/Part%2001~04%29%20Python/01.%20Python%20Prgramming%20%EA%B8%B0%EC%B4%88/%EC%8B%A4%EC%8A%B5%EC%BD%94%EB%93%9C/04~05.%EB%8D%B0%EC%9D%B4%ED%84%B0%20%ED%83%80%EC%9E%85%EA%B3%BC%20%EC%BB%AC%EB%A0%89%EC%85%98%20-%2001~02.%EB%B3%80%EC%88%98%EC%9D%98%20%EC%9D%B4%ED%95%B4%20%EB%B0%8F%20%EA%B8%B0%EB%B3%B8%20%EB%8D%B0%EC%9D%B4%ED%84%B0%20%ED%83%80%EC%9E%85_Before.ipynb#ch0000013?line=5'>6</a>\u001b[0m \u001b[39mprint\u001b[39m(append, asumb, aminb, asumb\u001b[39m+\u001b[39maminb, end \u001b[39m=\u001b[39m\u001b[39m'\u001b[39m\u001b[39m!\u001b[39m\u001b[39m'\u001b[39m)\n",
      "\u001b[1;31mNameError\u001b[0m: name 'append' is not defined"
     ]
    }
   ],
   "source": [
    "asumb= a+b\n",
    "aminb= a-b\n",
    "print(asumb)\n",
    "print(aminb)\n",
    "print(asumb+aminb)\n",
    "##print(append, asumb, aminb, asumb+aminb, end ='!') # 이 값들을 가로로 뽑으려면 어떻게 해야할까요 "
   ]
  },
  {
   "cell_type": "markdown",
   "metadata": {},
   "source": [
    "* **invalid한 변수 이름의 예**\n",
    " - 숫자로 시작하면 안되는 이유는?"
   ]
  },
  {
   "cell_type": "code",
   "execution_count": null,
   "metadata": {},
   "outputs": [],
   "source": []
  },
  {
   "cell_type": "markdown",
   "metadata": {},
   "source": [
    "#### **reserved keywords (예약어)**\n",
    "  - python에서 미리 선점하여 사용중인 키워드\n",
    "  - 변수, 함수, 클래스 등등의 사용자 정의 이름으로 사용할 수 없음"
   ]
  },
  {
   "cell_type": "code",
   "execution_count": 38,
   "metadata": {},
   "outputs": [
    {
     "name": "stdout",
     "output_type": "stream",
     "text": [
      "['허스키5', '슈나우저3', '코카스파니엘3', '닥스훈트1', '진돗개3', '리트리버5', '요키1']\n"
     ]
    }
   ],
   "source": [
    "doggie = ['허스키5', '슈나우저3', '코카스파니엘3', '닥스훈트1', '진돗개3', '리트리버5', '요키1']\n",
    "print (doggie)\n",
    "\n",
    "for x in doggie:\n",
    "    if doggie: ('허스키3')\n",
    "    ##왜 싹다 뽑아내는지\n",
    "\n"
   ]
  },
  {
   "cell_type": "code",
   "execution_count": null,
   "metadata": {},
   "outputs": [],
   "source": [
    "\n",
    "\n",
    "# ...\n",
    "챔피언 = ['마오카이', '자르반', '말파이트', '징크스', '베인']\n",
    "print (챔피언)\n",
    "type (챔피언)\n",
    "\n",
    "for x in 챔피언:\n",
    "    print(x)\n",
    "    print ('충' if {챔피언 := '베인'}')\n",
    "## 만약 베인충으로 뽑고 싶으면\n"
   ]
  },
  {
   "cell_type": "code",
   "execution_count": 4,
   "metadata": {},
   "outputs": [
    {
     "name": "stdout",
     "output_type": "stream",
     "text": [
      "마오카이\n",
      "자르반\n",
      "말파이트\n",
      "징크스\n",
      "베인\n"
     ]
    }
   ],
   "source": [
    "list_champion = ['마오카이','자르반','말파이트', '징크스','베인']\n",
    "\n",
    "for cham in list_champion:\n",
    "    print(cham)\n",
    "    if cham =='강아지':\n",
    "        print('벌레')"
   ]
  },
  {
   "cell_type": "code",
   "execution_count": 3,
   "metadata": {},
   "outputs": [
    {
     "name": "stdout",
     "output_type": "stream",
     "text": [
      "마오카이\n",
      "자르반\n",
      "말파이트\n",
      "징크스\n",
      "베인 충\n"
     ]
    }
   ],
   "source": [
    "\n",
    "\n",
    "list_champion = ['마오카이','자르반','말파이트', '징크스','베인']\n",
    "\n",
    "for cham in list_champion:\n",
    "    printable_str = '' + cham\n",
    "    if cham =='베인':\n",
    "        printable_str = printable_str + ' 충'\n",
    "    print(printable_str)\n"
   ]
  },
  {
   "cell_type": "code",
   "execution_count": 14,
   "metadata": {},
   "outputs": [
    {
     "ename": "TypeError",
     "evalue": "'list' object is not callable",
     "output_type": "error",
     "traceback": [
      "\u001b[1;31m---------------------------------------------------------------------------\u001b[0m",
      "\u001b[1;31mTypeError\u001b[0m                                 Traceback (most recent call last)",
      "\u001b[1;32md:\\BU\\Others\\computer\\BU_python_study\\KIM_HJ\\Homework_HJ\\StudyMaterial\\Part 01~04) Python\\01. Python Prgramming 기초\\실습코드\\04~05.데이터 타입과 컬렉션 - 01~02.변수의 이해 및 기본 데이터 타입_Before.ipynb Cell 23'\u001b[0m in \u001b[0;36m<cell line: 2>\u001b[1;34m()\u001b[0m\n\u001b[0;32m      <a href='vscode-notebook-cell:/d%3A/BU/Others/computer/BU_python_study/KIM_HJ/Homework_HJ/StudyMaterial/Part%2001~04%29%20Python/01.%20Python%20Prgramming%20%EA%B8%B0%EC%B4%88/%EC%8B%A4%EC%8A%B5%EC%BD%94%EB%93%9C/04~05.%EB%8D%B0%EC%9D%B4%ED%84%B0%20%ED%83%80%EC%9E%85%EA%B3%BC%20%EC%BB%AC%EB%A0%89%EC%85%98%20-%2001~02.%EB%B3%80%EC%88%98%EC%9D%98%20%EC%9D%B4%ED%95%B4%20%EB%B0%8F%20%EA%B8%B0%EB%B3%B8%20%EB%8D%B0%EC%9D%B4%ED%84%B0%20%ED%83%80%EC%9E%85_Before.ipynb#ch0000039?line=0'>1</a>\u001b[0m champion \u001b[39m=\u001b[39m [\u001b[39m'\u001b[39m\u001b[39m마오카이\u001b[39m\u001b[39m'\u001b[39m,\u001b[39m'\u001b[39m\u001b[39m자르반\u001b[39m\u001b[39m'\u001b[39m,\u001b[39m'\u001b[39m\u001b[39m말파이트\u001b[39m\u001b[39m'\u001b[39m, \u001b[39m'\u001b[39m\u001b[39m징크스\u001b[39m\u001b[39m'\u001b[39m,\u001b[39m'\u001b[39m\u001b[39m베인\u001b[39m\u001b[39m'\u001b[39m,\u001b[39m'\u001b[39m\u001b[39m아리\u001b[39m\u001b[39m'\u001b[39m]\n\u001b[1;32m----> <a href='vscode-notebook-cell:/d%3A/BU/Others/computer/BU_python_study/KIM_HJ/Homework_HJ/StudyMaterial/Part%2001~04%29%20Python/01.%20Python%20Prgramming%20%EA%B8%B0%EC%B4%88/%EC%8B%A4%EC%8A%B5%EC%BD%94%EB%93%9C/04~05.%EB%8D%B0%EC%9D%B4%ED%84%B0%20%ED%83%80%EC%9E%85%EA%B3%BC%20%EC%BB%AC%EB%A0%89%EC%85%98%20-%2001~02.%EB%B3%80%EC%88%98%EC%9D%98%20%EC%9D%B4%ED%95%B4%20%EB%B0%8F%20%EA%B8%B0%EB%B3%B8%20%EB%8D%B0%EC%9D%B4%ED%84%B0%20%ED%83%80%EC%9E%85_Before.ipynb#ch0000039?line=1'>2</a>\u001b[0m pick_baekdong \u001b[39m=\u001b[39m champion(\u001b[39m'\u001b[39;49m\u001b[39m마오카이\u001b[39;49m\u001b[39m'\u001b[39;49m, \u001b[39m'\u001b[39;49m\u001b[39m탑\u001b[39;49m\u001b[39m'\u001b[39;49m, \u001b[39m'\u001b[39;49m\u001b[39m실버\u001b[39;49m\u001b[39m'\u001b[39;49m)\n\u001b[0;32m      <a href='vscode-notebook-cell:/d%3A/BU/Others/computer/BU_python_study/KIM_HJ/Homework_HJ/StudyMaterial/Part%2001~04%29%20Python/01.%20Python%20Prgramming%20%EA%B8%B0%EC%B4%88/%EC%8B%A4%EC%8A%B5%EC%BD%94%EB%93%9C/04~05.%EB%8D%B0%EC%9D%B4%ED%84%B0%20%ED%83%80%EC%9E%85%EA%B3%BC%20%EC%BB%AC%EB%A0%89%EC%85%98%20-%2001~02.%EB%B3%80%EC%88%98%EC%9D%98%20%EC%9D%B4%ED%95%B4%20%EB%B0%8F%20%EA%B8%B0%EB%B3%B8%20%EB%8D%B0%EC%9D%B4%ED%84%B0%20%ED%83%80%EC%9E%85_Before.ipynb#ch0000039?line=2'>3</a>\u001b[0m pick_hyunjoon \u001b[39m=\u001b[39m champion(\u001b[39m'\u001b[39m\u001b[39m자르반\u001b[39m\u001b[39m'\u001b[39m, \u001b[39m'\u001b[39m\u001b[39m정글\u001b[39m\u001b[39m'\u001b[39m,\u001b[39m'\u001b[39m\u001b[39m골드\u001b[39m\u001b[39m'\u001b[39m )\n\u001b[0;32m      <a href='vscode-notebook-cell:/d%3A/BU/Others/computer/BU_python_study/KIM_HJ/Homework_HJ/StudyMaterial/Part%2001~04%29%20Python/01.%20Python%20Prgramming%20%EA%B8%B0%EC%B4%88/%EC%8B%A4%EC%8A%B5%EC%BD%94%EB%93%9C/04~05.%EB%8D%B0%EC%9D%B4%ED%84%B0%20%ED%83%80%EC%9E%85%EA%B3%BC%20%EC%BB%AC%EB%A0%89%EC%85%98%20-%2001~02.%EB%B3%80%EC%88%98%EC%9D%98%20%EC%9D%B4%ED%95%B4%20%EB%B0%8F%20%EA%B8%B0%EB%B3%B8%20%EB%8D%B0%EC%9D%B4%ED%84%B0%20%ED%83%80%EC%9E%85_Before.ipynb#ch0000039?line=3'>4</a>\u001b[0m pick_faker    \u001b[39m=\u001b[39m champion(\u001b[39m'\u001b[39m\u001b[39m아리\u001b[39m\u001b[39m'\u001b[39m, \u001b[39m'\u001b[39m\u001b[39m미드\u001b[39m\u001b[39m'\u001b[39m,\u001b[39m'\u001b[39m\u001b[39m다이아몬드\u001b[39m\u001b[39m'\u001b[39m) \n",
      "\u001b[1;31mTypeError\u001b[0m: 'list' object is not callable"
     ]
    }
   ],
   "source": [
    "champion = ['마오카이','자르반','말파이트', '징크스','베인','아리']\n",
    "pick_baekdong = champion('마오카이', '탑', '실버')\n",
    "pick_hyunjoon = champion('자르반', '정글','골드' )\n",
    "pick_faker    = champion('아리', '미드','다이아몬드') \n",
    "pick_gildong    = champion('베인', '원딜','브론즈') \n",
    "\n",
    "team = []\n",
    "team.append(pick_baekdong)\n",
    "team.append(pick_hyunjoon)\n",
    "team.append(pick_faker)\n",
    "team.append(pick_gildong)\n",
    "for memb in team:\n",
    "    printable_str = '' + memb.name\n",
    "    if list_rank[memb.skilled] < 3:\n",
    "        printable_str = printable_str + '충'\n",
    "    print(printable_str)\n",
    "\n",
    "    "
   ]
  },
  {
   "cell_type": "code",
   "execution_count": 25,
   "metadata": {},
   "outputs": [
    {
     "name": "stdout",
     "output_type": "stream",
     "text": [
      "마오카이충\n",
      "대리골드자르반충\n",
      "아리\n",
      "베인충\n"
     ]
    }
   ],
   "source": [
    "class champion():\n",
    "    def __init__(self, name, position, skilled):\n",
    "        self.name = name\n",
    "        self.position = position\n",
    "        self.skilled = skilled\n",
    "        \n",
    "list_rank = {'브론즈':0,\n",
    "             '실버':1,\n",
    "             '골드':2,\n",
    "             '플래티넘':3,\n",
    "             '다이아몬드':4,}\n",
    "             \n",
    "pick_baekdong = champion(\"마오카이\", \"탑\", '실버')\n",
    "pick_hyunjoon = champion(\"자르반\", '정글','골드' )\n",
    "pick_faker    = champion('아리', '미드','다이아몬드') \n",
    "pick_gildong    = champion('베인', '원딜','브론즈') \n",
    "\n",
    "team = []\n",
    "team.append(pick_baekdong)\n",
    "team.append(pick_hyunjoon)\n",
    "team.append(pick_faker)\n",
    "team.append(pick_gildong)\n",
    "for memb in team:\n",
    "    printable_str = '' + memb.name\n",
    "    if list_rank[memb.skilled] < 3:\n",
    "        printable_str = printable_str + '충'\n",
    "        if list_rank[memb.skilled] == 2:\n",
    "            printable_str = '대리골드' + printable_str \n",
    "    print(printable_str)\n",
    "    "
   ]
  },
  {
   "cell_type": "markdown",
   "metadata": {},
   "source": [
    "### 기본 데이터 타입 \n",
    "  - 정수 (int)\n",
    "  - 실수 (float)\n",
    "  - 문자열 (str)\n",
    "  - 불리언 (boolean)"
   ]
  },
  {
   "cell_type": "markdown",
   "metadata": {},
   "source": [
    "#### type 함수\n",
    " - 해당 변수, 값의 타입(type)을 알고자 할 때 사용"
   ]
  },
  {
   "cell_type": "code",
   "execution_count": 43,
   "metadata": {},
   "outputs": [
    {
     "name": "stdout",
     "output_type": "stream",
     "text": [
      "<class 'list'> <class 'float'>\n"
     ]
    },
    {
     "data": {
      "text/plain": [
       "NoneType"
      ]
     },
     "execution_count": 43,
     "metadata": {},
     "output_type": "execute_result"
    }
   ],
   "source": [
    "type (doggie)\n",
    "type (a)\n",
    "c= print (type (doggie), type(a))\n",
    "type (c)"
   ]
  },
  {
   "cell_type": "markdown",
   "metadata": {},
   "source": [
    "#### **None**\n",
    " - 아무런 값을 갖지 않을 때 사용\n",
    " - 일반적으로 변수가 초기값을 갖지 않게 하여 해당 변수를 생성할 때 사용\n",
    " - 기타 언어의 NULL, nil등과 같은 의미로 사용"
   ]
  },
  {
   "cell_type": "code",
   "execution_count": 48,
   "metadata": {},
   "outputs": [
    {
     "name": "stdout",
     "output_type": "stream",
     "text": [
      "None\n",
      "35\n"
     ]
    }
   ],
   "source": [
    "c = None\n",
    "print(c) ## 만약에 전에 a+b를 했으면 그 값을 지워놓고 쓰기 위해 하는 함수인가여\n",
    "c= 35\n",
    "print(c)"
   ]
  },
  {
   "cell_type": "markdown",
   "metadata": {},
   "source": [
    "#### **comparison operator(비교 연산자)** \n",
    "  - 프로그래밍에서는 비교를 할 경우, = 대신 **==**를 사용\n",
    "  - <, > (작다, 크다)\n",
    "  - <=, >= (작거나 같다, 크거나 같다)\n",
    "  - == 같다\n",
    "  - != 같지 않다\n",
    "  - 비교 연산자의 결과는 bool 타입"
   ]
  },
  {
   "cell_type": "code",
   "execution_count": 89,
   "metadata": {},
   "outputs": [
    {
     "name": "stdout",
     "output_type": "stream",
     "text": [
      "range(1, 10)\n"
     ]
    },
    {
     "ename": "TypeError",
     "evalue": "unsupported operand type(s) for +: 'range' and 'range'",
     "output_type": "error",
     "traceback": [
      "\u001b[1;31m---------------------------------------------------------------------------\u001b[0m",
      "\u001b[1;31mTypeError\u001b[0m                                 Traceback (most recent call last)",
      "\u001b[1;32md:\\BU\\Others\\computer\\BU_python_study\\StudyMaterial\\Part 01~04) Python\\01. Python Prgramming 기초\\실습코드\\04~05.데이터 타입과 컬렉션 - 01~02.변수의 이해 및 기본 데이터 타입_Before.ipynb Cell 25'\u001b[0m in \u001b[0;36m<cell line: 4>\u001b[1;34m()\u001b[0m\n\u001b[0;32m      <a href='vscode-notebook-cell:/d%3A/BU/Others/computer/BU_python_study/StudyMaterial/Part%2001~04%29%20Python/01.%20Python%20Prgramming%20%EA%B8%B0%EC%B4%88/%EC%8B%A4%EC%8A%B5%EC%BD%94%EB%93%9C/04~05.%EB%8D%B0%EC%9D%B4%ED%84%B0%20%ED%83%80%EC%9E%85%EA%B3%BC%20%EC%BB%AC%EB%A0%89%EC%85%98%20-%2001~02.%EB%B3%80%EC%88%98%EC%9D%98%20%EC%9D%B4%ED%95%B4%20%EB%B0%8F%20%EA%B8%B0%EB%B3%B8%20%EB%8D%B0%EC%9D%B4%ED%84%B0%20%ED%83%80%EC%9E%85_Before.ipynb#ch0000033?line=1'>2</a>\u001b[0m \u001b[39mprint\u001b[39m (e)\n\u001b[0;32m      <a href='vscode-notebook-cell:/d%3A/BU/Others/computer/BU_python_study/StudyMaterial/Part%2001~04%29%20Python/01.%20Python%20Prgramming%20%EA%B8%B0%EC%B4%88/%EC%8B%A4%EC%8A%B5%EC%BD%94%EB%93%9C/04~05.%EB%8D%B0%EC%9D%B4%ED%84%B0%20%ED%83%80%EC%9E%85%EA%B3%BC%20%EC%BB%AC%EB%A0%89%EC%85%98%20-%2001~02.%EB%B3%80%EC%88%98%EC%9D%98%20%EC%9D%B4%ED%95%B4%20%EB%B0%8F%20%EA%B8%B0%EB%B3%B8%20%EB%8D%B0%EC%9D%B4%ED%84%B0%20%ED%83%80%EC%9E%85_Before.ipynb#ch0000033?line=2'>3</a>\u001b[0m f\u001b[39m=\u001b[39m \u001b[39mrange\u001b[39m (\u001b[39m12\u001b[39m, \u001b[39m16\u001b[39m)\n\u001b[1;32m----> <a href='vscode-notebook-cell:/d%3A/BU/Others/computer/BU_python_study/StudyMaterial/Part%2001~04%29%20Python/01.%20Python%20Prgramming%20%EA%B8%B0%EC%B4%88/%EC%8B%A4%EC%8A%B5%EC%BD%94%EB%93%9C/04~05.%EB%8D%B0%EC%9D%B4%ED%84%B0%20%ED%83%80%EC%9E%85%EA%B3%BC%20%EC%BB%AC%EB%A0%89%EC%85%98%20-%2001~02.%EB%B3%80%EC%88%98%EC%9D%98%20%EC%9D%B4%ED%95%B4%20%EB%B0%8F%20%EA%B8%B0%EB%B3%B8%20%EB%8D%B0%EC%9D%B4%ED%84%B0%20%ED%83%80%EC%9E%85_Before.ipynb#ch0000033?line=3'>4</a>\u001b[0m \u001b[39mprint\u001b[39m(e\u001b[39m+\u001b[39;49mf)\n",
      "\u001b[1;31mTypeError\u001b[0m: unsupported operand type(s) for +: 'range' and 'range'"
     ]
    }
   ],
   "source": [
    "e= range (1, 10)\n",
    "print (e)\n",
    "f= range (12, 16)\n",
    "print(e+f)\n",
    "#range 이용해서 사이에 있는 값들끼리 곱하려면?"
   ]
  },
  {
   "cell_type": "code",
   "execution_count": 94,
   "metadata": {},
   "outputs": [
    {
     "name": "stdout",
     "output_type": "stream",
     "text": [
      "[ 12  26  42  60  80 102 126 152 180 210]\n"
     ]
    }
   ],
   "source": [
    "import numpy as np\n",
    "\n",
    "e = np.array([1,2,3,4,5,6,7,8,9,10])\n",
    "f = np.array([12,13,14,15,16,17,18,19,20,21])\n",
    "g= e*f\n",
    "print (g)\n",
    "#사이에 있는 변수들끼리 곱하려면?"
   ]
  },
  {
   "cell_type": "markdown",
   "metadata": {},
   "source": [
    "#### **numbers (숫자형 타입)**\n",
    " - 정수, 실수로 구성\n",
    " - 수학의 기본 연산자(가감승제) 사용 가능"
   ]
  },
  {
   "cell_type": "code",
   "execution_count": 100,
   "metadata": {},
   "outputs": [
    {
     "name": "stdout",
     "output_type": "stream",
     "text": [
      "2.6\n",
      "2\n",
      "3\n"
     ]
    }
   ],
   "source": [
    "a=13\n",
    "b=5\n",
    "print(a/b)\n",
    "print(a//b)\n",
    "print(a%b)"
   ]
  },
  {
   "cell_type": "markdown",
   "metadata": {},
   "source": [
    "#### **operator priorities (연산자 우선순위)**\n",
    "  - 기본적인 수학의 연산자와 동일\n",
    "  - 강제로 연산을 선수하기 위해선, 괄호()를 사용"
   ]
  },
  {
   "cell_type": "code",
   "execution_count": 102,
   "metadata": {},
   "outputs": [
    {
     "name": "stdout",
     "output_type": "stream",
     "text": [
      "110\n",
      "65\n"
     ]
    }
   ],
   "source": [
    "a=5\n",
    "b=6\n",
    "print((a+b)*10)\n",
    "print(a+b*10)"
   ]
  },
  {
   "cell_type": "markdown",
   "metadata": {},
   "source": [
    "*  **연습문제** 다음의 각 a값을 출력 했을 때 결과는? \n"
   ]
  },
  {
   "cell_type": "code",
   "execution_count": null,
   "metadata": {},
   "outputs": [],
   "source": [
    "a = 9\n",
    "print(a)\n",
    "print(a - 3)\n",
    "print(a)"
   ]
  },
  {
   "cell_type": "markdown",
   "metadata": {},
   "source": [
    "#### **expression evaluation & assignment (식평가 & 대입)**\n",
    " - 변수의 값이 변경되기 위해서는 =를 사용하여 대입이 발생하는 경우에만 해당"
   ]
  },
  {
   "cell_type": "code",
   "execution_count": 106,
   "metadata": {},
   "outputs": [
    {
     "name": "stdout",
     "output_type": "stream",
     "text": [
      "9\n"
     ]
    }
   ],
   "source": [
    "##왜 19가 아닐까요?\n",
    "a = 9\n",
    "z = a + 10\n",
    "z = a\n",
    "a = z\n",
    "print(a)"
   ]
  },
  {
   "cell_type": "code",
   "execution_count": null,
   "metadata": {},
   "outputs": [],
   "source": []
  }
 ],
 "metadata": {
  "interpreter": {
   "hash": "360415a06a2cb4988f467b724c8ffdb39ec3aeec574ee0105248e66f7284bba3"
  },
  "kernelspec": {
   "display_name": "Python 3.10.4 ('bu')",
   "language": "python",
   "name": "python3"
  },
  "language_info": {
   "codemirror_mode": {
    "name": "ipython",
    "version": 3
   },
   "file_extension": ".py",
   "mimetype": "text/x-python",
   "name": "python",
   "nbconvert_exporter": "python",
   "pygments_lexer": "ipython3",
   "version": "3.10.4"
  }
 },
 "nbformat": 4,
 "nbformat_minor": 1
}
