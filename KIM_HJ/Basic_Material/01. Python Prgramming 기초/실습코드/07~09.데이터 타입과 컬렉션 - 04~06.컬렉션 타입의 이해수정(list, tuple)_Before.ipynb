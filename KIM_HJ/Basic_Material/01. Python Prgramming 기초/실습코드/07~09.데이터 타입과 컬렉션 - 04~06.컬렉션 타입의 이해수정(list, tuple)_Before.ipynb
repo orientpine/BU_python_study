{
 "cells": [
  {
   "cell_type": "markdown",
   "metadata": {},
   "source": [
    "## 학습목표\n",
    " 1. list, tuple에 대해 이해 및 실습\n"
   ]
  },
  {
   "cell_type": "markdown",
   "metadata": {},
   "source": [
    "### **리스트 & 튜플**\n",
    " * 복수개의 값을 담을 수 있는 데이터 구조\n",
    " * 실생활에서 사용하는 리스트(학생 리스트, 성적 리스트 등등)과 동일한 의미로 이해\n",
    " * list - mutable    (생성된 후에 변경 가능)  \n",
    " * tuple - immutable (생성된 후에 변경 불가능)  "
   ]
  },
  {
   "cell_type": "markdown",
   "metadata": {},
   "source": [
    "#### **리스트 초기화**\n",
    " - [] 안에 값을 담아서 생성\n",
    " - list() 함수로 생성\n",
    " - str.split()함수로 생성"
   ]
  },
  {
   "cell_type": "code",
   "execution_count": 1,
   "metadata": {},
   "outputs": [
    {
     "name": "stdout",
     "output_type": "stream",
     "text": [
      "[]\n"
     ]
    }
   ],
   "source": [
    "a=[]\n",
    "print(a)"
   ]
  },
  {
   "cell_type": "code",
   "execution_count": 3,
   "metadata": {},
   "outputs": [
    {
     "name": "stdout",
     "output_type": "stream",
     "text": [
      "[1, 2, 3, 5, 10]\n"
     ]
    }
   ],
   "source": [
    "a =[1, 2, 3, 5, 10]\n",
    "print(a)"
   ]
  },
  {
   "cell_type": "code",
   "execution_count": 4,
   "metadata": {},
   "outputs": [
    {
     "name": "stdout",
     "output_type": "stream",
     "text": [
      "['Son', 'TottenHam', 7, 10, [30, 26]]\n"
     ]
    }
   ],
   "source": [
    "a = ['Son', 'TottenHam', 7, 10, [30,26]]\n",
    "print(a)"
   ]
  },
  {
   "cell_type": "markdown",
   "metadata": {},
   "source": [
    "* **list() 함수**\n",
    " + 다른 데이터 타입을 리스트로 변환할 때도 사용"
   ]
  },
  {
   "cell_type": "code",
   "execution_count": 10,
   "metadata": {},
   "outputs": [
    {
     "name": "stdout",
     "output_type": "stream",
     "text": [
      "['h', 'e', 'l', 'l', 'o', ' ', 'w', 'o', 'r', 'l', 'd']\n",
      "[1, 2, 3]\n"
     ]
    }
   ],
   "source": [
    "a ='hello world'\n",
    "b = list(a)\n",
    "print(b)\n",
    "\n",
    "c = (1, 2, 3)\n",
    "d = list(c)\n",
    "print(d)"
   ]
  },
  {
   "cell_type": "markdown",
   "metadata": {},
   "source": [
    "+ **string split 함수**\n",
    " * 구분자로 구분되는 리스트를 반환 (빈번히 사용 됨)"
   ]
  },
  {
   "cell_type": "code",
   "execution_count": 13,
   "metadata": {},
   "outputs": [
    {
     "name": "stdout",
     "output_type": "stream",
     "text": [
      "['hello', 'world', 'nice', 'weather']\n"
     ]
    }
   ],
   "source": [
    "a = 'hello world nice weather'\n",
    "b = a.split()\n",
    "\n",
    "print (b)"
   ]
  },
  {
   "cell_type": "markdown",
   "metadata": {},
   "source": [
    "#### **리스트 indexing**\n",
    " * 문자열의 인덱싱과 동일하게 동작\n",
    " * [] 연산자를 이용하여 항목 얻어오기\n",
    " * [i] - i번째 원소를 반환\n",
    " * i가 음수인 경우도 가능하며 마지막원소가 -1로 하여 앞으로 갈때마다 1씩 감소함"
   ]
  },
  {
   "cell_type": "code",
   "execution_count": 17,
   "metadata": {},
   "outputs": [
    {
     "name": "stdout",
     "output_type": "stream",
     "text": [
      "3\n",
      "6\n",
      "5\n",
      "1\n"
     ]
    }
   ],
   "source": [
    "a = [1, 2, 3, 4, 5, 6]\n",
    "print(a[2])\n",
    "print(a[5])\n",
    "print(a[-2])\n",
    "print(a[0])"
   ]
  },
  {
   "cell_type": "markdown",
   "metadata": {},
   "source": [
    "#### **리스트 개별 아이템에 접근**\n",
    " - 인덱스에 접근하여 값을 업데이트 가능"
   ]
  },
  {
   "cell_type": "code",
   "execution_count": 11,
   "metadata": {},
   "outputs": [
    {
     "name": "stdout",
     "output_type": "stream",
     "text": [
      "h\n",
      "jllo world\n",
      "jello world\n",
      "hello world\n"
     ]
    }
   ],
   "source": [
    "\n",
    "a = 'hello world'\n",
    "print(a[0])\n",
    "\n",
    "b = 'jello world'\n",
    "c = 'j' + a[2:]\n",
    "print(c)\n",
    "d = a.replace('h', 'j')\n",
    "print(d)\n",
    "print(a)\n"
   ]
  },
  {
   "cell_type": "code",
   "execution_count": 25,
   "metadata": {},
   "outputs": [
    {
     "name": "stdout",
     "output_type": "stream",
     "text": [
      "['Son', 'Kane', 'Mangnani', 'Nanjangie']\n"
     ]
    }
   ],
   "source": [
    "a = ['Son', 'Kane', 'Christiano', 'Messi']\n",
    "a[2] = 'Mangnani'\n",
    "a[-1] = 'Nanjangie'\n",
    "print (a)"
   ]
  },
  {
   "cell_type": "markdown",
   "metadata": {},
   "source": [
    "#### **리스트 slicing**\n",
    " - 문자열 슬라이싱과 동일하게 동작\n",
    " - 슬라이싱의 결과 역시 list!"
   ]
  },
  {
   "cell_type": "code",
   "execution_count": 44,
   "metadata": {},
   "outputs": [
    {
     "name": "stdout",
     "output_type": "stream",
     "text": [
      "[7, 10, 13, 30]\n",
      "7101330\n",
      "13\n",
      "13\n"
     ]
    },
    {
     "data": {
      "text/plain": [
       "[10, 13]"
      ]
     },
     "execution_count": 44,
     "metadata": {},
     "output_type": "execute_result"
    }
   ],
   "source": [
    "#리스트 앞 숫자는 포함 뒷 숫자는 제외\n",
    "a = [7, 10, 13, 30]\n",
    "b = '7101330'\n",
    "print (a[0:])\n",
    "print (b[:7])\n",
    "print (a[2])\n",
    "print (b[3:5])\n",
    "a[1:3]"
   ]
  },
  {
   "cell_type": "markdown",
   "metadata": {},
   "source": [
    "### list 멤버 함수\n",
    " - 생성된 리스트 객체에 동작하는 함수\n",
    " - 향후, 클래스와 멤버 함수 개념을 이해할 예정"
   ]
  },
  {
   "cell_type": "markdown",
   "metadata": {},
   "source": [
    "* **append()**\n",
    " + 리스트의 끝에 항목을 추가함"
   ]
  },
  {
   "cell_type": "code",
   "execution_count": 46,
   "metadata": {},
   "outputs": [
    {
     "name": "stdout",
     "output_type": "stream",
     "text": [
      "['son', 'kane', 'christiano', 'messi', 'HJKIM']\n"
     ]
    }
   ],
   "source": [
    "a = ['son', 'kane', 'christiano', 'messi']\n",
    "a.append('HJKIM')\n",
    "print(a)"
   ]
  },
  {
   "cell_type": "markdown",
   "metadata": {},
   "source": [
    "+ **extend()**\n",
    " * 리스트를 연장\n",
    " * += 로도 가능함"
   ]
  },
  {
   "cell_type": "code",
   "execution_count": 51,
   "metadata": {},
   "outputs": [
    {
     "name": "stdout",
     "output_type": "stream",
     "text": [
      "['son', 'kane', 'christiano', 'messi', 'bale', 'jspark', 'chaboom']\n"
     ]
    }
   ],
   "source": [
    "a = ['son', 'kane', 'christiano', 'messi']\n",
    "b = ['bale', 'jspark', 'chaboom']\n",
    "a.extend(b)\n",
    "print(a)"
   ]
  },
  {
   "cell_type": "markdown",
   "metadata": {},
   "source": [
    "+ **insert()로 항목추가**\n",
    " * 리스트의 원하는 위치에 추가 가능\n",
    " * 앞에 인덱스를, 뒤에 아이템을 명시"
   ]
  },
  {
   "cell_type": "code",
   "execution_count": 62,
   "metadata": {},
   "outputs": [
    {
     "ename": "TypeError",
     "evalue": "insert expected 2 arguments, got 1",
     "output_type": "error",
     "traceback": [
      "\u001b[1;31m---------------------------------------------------------------------------\u001b[0m",
      "\u001b[1;31mTypeError\u001b[0m                                 Traceback (most recent call last)",
      "\u001b[1;32md:\\BU\\Others\\computer\\BU_python_study\\KIM_HJ\\Homework_HJ\\StudyMaterial\\Part 01~04) Python\\01. Python Prgramming 기초\\실습코드\\07~09.데이터 타입과 컬렉션 - 04~06.컬렉션 타입의 이해수정(list, tuple)_Before.ipynb Cell 24'\u001b[0m in \u001b[0;36m<cell line: 3>\u001b[1;34m()\u001b[0m\n\u001b[0;32m      <a href='vscode-notebook-cell:/d%3A/BU/Others/computer/BU_python_study/KIM_HJ/Homework_HJ/StudyMaterial/Part%2001~04%29%20Python/01.%20Python%20Prgramming%20%EA%B8%B0%EC%B4%88/%EC%8B%A4%EC%8A%B5%EC%BD%94%EB%93%9C/07~09.%EB%8D%B0%EC%9D%B4%ED%84%B0%20%ED%83%80%EC%9E%85%EA%B3%BC%20%EC%BB%AC%EB%A0%89%EC%85%98%20-%2004~06.%EC%BB%AC%EB%A0%89%EC%85%98%20%ED%83%80%EC%9E%85%EC%9D%98%20%EC%9D%B4%ED%95%B4%EC%88%98%EC%A0%95%28list%2C%20tuple%29_Before.ipynb#ch0000044?line=0'>1</a>\u001b[0m a \u001b[39m=\u001b[39m [\u001b[39m'\u001b[39m\u001b[39mson\u001b[39m\u001b[39m'\u001b[39m, \u001b[39m'\u001b[39m\u001b[39mkane\u001b[39m\u001b[39m'\u001b[39m, \u001b[39m'\u001b[39m\u001b[39mchristiano\u001b[39m\u001b[39m'\u001b[39m, \u001b[39m'\u001b[39m\u001b[39mmessi\u001b[39m\u001b[39m'\u001b[39m]\n\u001b[0;32m      <a href='vscode-notebook-cell:/d%3A/BU/Others/computer/BU_python_study/KIM_HJ/Homework_HJ/StudyMaterial/Part%2001~04%29%20Python/01.%20Python%20Prgramming%20%EA%B8%B0%EC%B4%88/%EC%8B%A4%EC%8A%B5%EC%BD%94%EB%93%9C/07~09.%EB%8D%B0%EC%9D%B4%ED%84%B0%20%ED%83%80%EC%9E%85%EA%B3%BC%20%EC%BB%AC%EB%A0%89%EC%85%98%20-%2004~06.%EC%BB%AC%EB%A0%89%EC%85%98%20%ED%83%80%EC%9E%85%EC%9D%98%20%EC%9D%B4%ED%95%B4%EC%88%98%EC%A0%95%28list%2C%20tuple%29_Before.ipynb#ch0000044?line=1'>2</a>\u001b[0m b \u001b[39m=\u001b[39m [\u001b[39m'\u001b[39m\u001b[39mbale\u001b[39m\u001b[39m'\u001b[39m, \u001b[39m'\u001b[39m\u001b[39mjspark\u001b[39m\u001b[39m'\u001b[39m, \u001b[39m'\u001b[39m\u001b[39mchaboom\u001b[39m\u001b[39m'\u001b[39m]\n\u001b[1;32m----> <a href='vscode-notebook-cell:/d%3A/BU/Others/computer/BU_python_study/KIM_HJ/Homework_HJ/StudyMaterial/Part%2001~04%29%20Python/01.%20Python%20Prgramming%20%EA%B8%B0%EC%B4%88/%EC%8B%A4%EC%8A%B5%EC%BD%94%EB%93%9C/07~09.%EB%8D%B0%EC%9D%B4%ED%84%B0%20%ED%83%80%EC%9E%85%EA%B3%BC%20%EC%BB%AC%EB%A0%89%EC%85%98%20-%2004~06.%EC%BB%AC%EB%A0%89%EC%85%98%20%ED%83%80%EC%9E%85%EC%9D%98%20%EC%9D%B4%ED%95%B4%EC%88%98%EC%A0%95%28list%2C%20tuple%29_Before.ipynb#ch0000044?line=2'>3</a>\u001b[0m a\u001b[39m.\u001b[39;49minsert(b)\n\u001b[0;32m      <a href='vscode-notebook-cell:/d%3A/BU/Others/computer/BU_python_study/KIM_HJ/Homework_HJ/StudyMaterial/Part%2001~04%29%20Python/01.%20Python%20Prgramming%20%EA%B8%B0%EC%B4%88/%EC%8B%A4%EC%8A%B5%EC%BD%94%EB%93%9C/07~09.%EB%8D%B0%EC%9D%B4%ED%84%B0%20%ED%83%80%EC%9E%85%EA%B3%BC%20%EC%BB%AC%EB%A0%89%EC%85%98%20-%2004~06.%EC%BB%AC%EB%A0%89%EC%85%98%20%ED%83%80%EC%9E%85%EC%9D%98%20%EC%9D%B4%ED%95%B4%EC%88%98%EC%A0%95%28list%2C%20tuple%29_Before.ipynb#ch0000044?line=3'>4</a>\u001b[0m \u001b[39mprint\u001b[39m(a)\n",
      "\u001b[1;31mTypeError\u001b[0m: insert expected 2 arguments, got 1"
     ]
    }
   ],
   "source": [
    "#숫자는 되는데 문자는 오류, 숫자 두개를 넣어도 1개만 출력\n",
    "a = ['son', 'kane', 'christiano', 'messi']\n",
    "b = ['bale', 'jspark', 'chaboom']\n",
    "a.insert(b)\n",
    "print(a)"
   ]
  },
  {
   "cell_type": "markdown",
   "metadata": {},
   "source": [
    "+ **remove()**\n",
    " * 값으로 항목 삭제"
   ]
  },
  {
   "cell_type": "code",
   "execution_count": 64,
   "metadata": {},
   "outputs": [
    {
     "name": "stdout",
     "output_type": "stream",
     "text": [
      "['son', 'christiano', 'messi']\n"
     ]
    }
   ],
   "source": [
    "a = ['son', 'kane', 'christiano', 'messi']\n",
    "a.remove(a[1])\n",
    "print (a)"
   ]
  },
  {
   "cell_type": "markdown",
   "metadata": {},
   "source": [
    "+ **pop()**\n",
    "  - 지우고자 하는 아이템을 반환 후, 삭제"
   ]
  },
  {
   "cell_type": "code",
   "execution_count": 67,
   "metadata": {},
   "outputs": [
    {
     "ename": "TypeError",
     "evalue": "'str' object cannot be interpreted as an integer",
     "output_type": "error",
     "traceback": [
      "\u001b[1;31m---------------------------------------------------------------------------\u001b[0m",
      "\u001b[1;31mTypeError\u001b[0m                                 Traceback (most recent call last)",
      "\u001b[1;32md:\\BU\\Others\\computer\\BU_python_study\\KIM_HJ\\Homework_HJ\\StudyMaterial\\Part 01~04) Python\\01. Python Prgramming 기초\\실습코드\\07~09.데이터 타입과 컬렉션 - 04~06.컬렉션 타입의 이해수정(list, tuple)_Before.ipynb Cell 28'\u001b[0m in \u001b[0;36m<cell line: 2>\u001b[1;34m()\u001b[0m\n\u001b[0;32m      <a href='vscode-notebook-cell:/d%3A/BU/Others/computer/BU_python_study/KIM_HJ/Homework_HJ/StudyMaterial/Part%2001~04%29%20Python/01.%20Python%20Prgramming%20%EA%B8%B0%EC%B4%88/%EC%8B%A4%EC%8A%B5%EC%BD%94%EB%93%9C/07~09.%EB%8D%B0%EC%9D%B4%ED%84%B0%20%ED%83%80%EC%9E%85%EA%B3%BC%20%EC%BB%AC%EB%A0%89%EC%85%98%20-%2004~06.%EC%BB%AC%EB%A0%89%EC%85%98%20%ED%83%80%EC%9E%85%EC%9D%98%20%EC%9D%B4%ED%95%B4%EC%88%98%EC%A0%95%28list%2C%20tuple%29_Before.ipynb#ch0000025?line=0'>1</a>\u001b[0m a \u001b[39m=\u001b[39m [\u001b[39m'\u001b[39m\u001b[39mson\u001b[39m\u001b[39m'\u001b[39m, \u001b[39m'\u001b[39m\u001b[39mkane\u001b[39m\u001b[39m'\u001b[39m, \u001b[39m'\u001b[39m\u001b[39mchristiano\u001b[39m\u001b[39m'\u001b[39m, \u001b[39m'\u001b[39m\u001b[39mmessi\u001b[39m\u001b[39m'\u001b[39m]\n\u001b[1;32m----> <a href='vscode-notebook-cell:/d%3A/BU/Others/computer/BU_python_study/KIM_HJ/Homework_HJ/StudyMaterial/Part%2001~04%29%20Python/01.%20Python%20Prgramming%20%EA%B8%B0%EC%B4%88/%EC%8B%A4%EC%8A%B5%EC%BD%94%EB%93%9C/07~09.%EB%8D%B0%EC%9D%B4%ED%84%B0%20%ED%83%80%EC%9E%85%EA%B3%BC%20%EC%BB%AC%EB%A0%89%EC%85%98%20-%2004~06.%EC%BB%AC%EB%A0%89%EC%85%98%20%ED%83%80%EC%9E%85%EC%9D%98%20%EC%9D%B4%ED%95%B4%EC%88%98%EC%A0%95%28list%2C%20tuple%29_Before.ipynb#ch0000025?line=1'>2</a>\u001b[0m d \u001b[39m=\u001b[39m a\u001b[39m.\u001b[39;49mpop(a[\u001b[39m2\u001b[39;49m])\n\u001b[0;32m      <a href='vscode-notebook-cell:/d%3A/BU/Others/computer/BU_python_study/KIM_HJ/Homework_HJ/StudyMaterial/Part%2001~04%29%20Python/01.%20Python%20Prgramming%20%EA%B8%B0%EC%B4%88/%EC%8B%A4%EC%8A%B5%EC%BD%94%EB%93%9C/07~09.%EB%8D%B0%EC%9D%B4%ED%84%B0%20%ED%83%80%EC%9E%85%EA%B3%BC%20%EC%BB%AC%EB%A0%89%EC%85%98%20-%2004~06.%EC%BB%AC%EB%A0%89%EC%85%98%20%ED%83%80%EC%9E%85%EC%9D%98%20%EC%9D%B4%ED%95%B4%EC%88%98%EC%A0%95%28list%2C%20tuple%29_Before.ipynb#ch0000025?line=2'>3</a>\u001b[0m \u001b[39mprint\u001b[39m (a)\n\u001b[0;32m      <a href='vscode-notebook-cell:/d%3A/BU/Others/computer/BU_python_study/KIM_HJ/Homework_HJ/StudyMaterial/Part%2001~04%29%20Python/01.%20Python%20Prgramming%20%EA%B8%B0%EC%B4%88/%EC%8B%A4%EC%8A%B5%EC%BD%94%EB%93%9C/07~09.%EB%8D%B0%EC%9D%B4%ED%84%B0%20%ED%83%80%EC%9E%85%EA%B3%BC%20%EC%BB%AC%EB%A0%89%EC%85%98%20-%2004~06.%EC%BB%AC%EB%A0%89%EC%85%98%20%ED%83%80%EC%9E%85%EC%9D%98%20%EC%9D%B4%ED%95%B4%EC%88%98%EC%A0%95%28list%2C%20tuple%29_Before.ipynb#ch0000025?line=3'>4</a>\u001b[0m \u001b[39mprint\u001b[39m (d)\n",
      "\u001b[1;31mTypeError\u001b[0m: 'str' object cannot be interpreted as an integer"
     ]
    }
   ],
   "source": [
    "#integer 들만 되는 함수가 있고 아닌 함수가 있는건가요\n",
    "a = ['son', 'kane', 'christiano', 'messi']\n",
    "d = a.pop(a[2])\n",
    "print (a)\n",
    "print (d)"
   ]
  },
  {
   "cell_type": "markdown",
   "metadata": {},
   "source": [
    "+ **index()**\n",
    " * 찾고자 하는 값의 인덱스 반환"
   ]
  },
  {
   "cell_type": "code",
   "execution_count": 69,
   "metadata": {},
   "outputs": [
    {
     "data": {
      "text/plain": [
       "2"
      ]
     },
     "execution_count": 69,
     "metadata": {},
     "output_type": "execute_result"
    }
   ],
   "source": [
    "a = ['son', 'kane', 'christiano', 'messi']\n",
    "a.index('christiano')"
   ]
  },
  {
   "cell_type": "markdown",
   "metadata": {},
   "source": [
    "* **in 키워드**\n",
    " + 리스트 내에 해당 값이 존재하는지 확인\n",
    " + value in [list]\n",
    " + True, False 중 한가지로 반환"
   ]
  },
  {
   "cell_type": "code",
   "execution_count": 73,
   "metadata": {},
   "outputs": [
    {
     "name": "stdout",
     "output_type": "stream",
     "text": [
      "True\n"
     ]
    }
   ],
   "source": [
    "a = ['son', 'kane', 'christiano', 'messi']\n",
    "b = ('christiano')\n",
    "\n",
    "c=b in a \n",
    "\n",
    "print(c)\n",
    "\n"
   ]
  },
  {
   "cell_type": "code",
   "execution_count": null,
   "metadata": {},
   "outputs": [],
   "source": [
    "a = [9, 10, 7, 19, 1, 2, 20, 21, 7, 8]\n",
    "a.sort(reverse=True)\n",
    "b = sorted(a)\n",
    "print(a)\n",
    "print(b)"
   ]
  },
  {
   "cell_type": "markdown",
   "metadata": {},
   "source": [
    "* **list 정렬**\n",
    " + sort() -> 리스트 자체를 내부적으로 정렬\n",
    " + sorted() -> 리스트의 정렬된 복사본을 반환"
   ]
  },
  {
   "cell_type": "code",
   "execution_count": 18,
   "metadata": {},
   "outputs": [
    {
     "name": "stdout",
     "output_type": "stream",
     "text": [
      "[1, 2, 3, 4, 5, 6, 7, 8, 9, 10]\n",
      "[10, 9, 8, 7, 6, 5, 4, 3, 2, 1]\n"
     ]
    }
   ],
   "source": [
    "a = [1,3,9,5,6,7,8,2,4,10]\n",
    "a.sort()\n",
    "print (a)\n",
    "a.sort(reverse=True)\n",
    "print (a)"
   ]
  },
  {
   "cell_type": "markdown",
   "metadata": {},
   "source": [
    "### **tuple**\n",
    " - 리스트와 같이 복수개의 값을 갖는 컬렉션 타입\n",
    " - 생성된 후 변경이 불가능"
   ]
  },
  {
   "cell_type": "code",
   "execution_count": 23,
   "metadata": {},
   "outputs": [
    {
     "name": "stdout",
     "output_type": "stream",
     "text": [
      "<class 'list'>\n",
      "<class 'tuple'>\n",
      "[100, 2, 3]\n"
     ]
    },
    {
     "ename": "TypeError",
     "evalue": "'tuple' object does not support item assignment",
     "output_type": "error",
     "traceback": [
      "\u001b[1;31m---------------------------------------------------------------------------\u001b[0m",
      "\u001b[1;31mTypeError\u001b[0m                                 Traceback (most recent call last)",
      "\u001b[1;32md:\\BU\\Others\\computer\\BU_python_study\\KIM_HJ\\Homework_HJ\\StudyMaterial\\Part 01~04) Python\\01. Python Prgramming 기초\\실습코드\\07~09.데이터 타입과 컬렉션 - 04~06.컬렉션 타입의 이해수정(list, tuple)_Before.ipynb Cell 37'\u001b[0m in \u001b[0;36m<cell line: 10>\u001b[1;34m()\u001b[0m\n\u001b[0;32m      <a href='vscode-notebook-cell:/d%3A/BU/Others/computer/BU_python_study/KIM_HJ/Homework_HJ/StudyMaterial/Part%2001~04%29%20Python/01.%20Python%20Prgramming%20%EA%B8%B0%EC%B4%88/%EC%8B%A4%EC%8A%B5%EC%BD%94%EB%93%9C/07~09.%EB%8D%B0%EC%9D%B4%ED%84%B0%20%ED%83%80%EC%9E%85%EA%B3%BC%20%EC%BB%AC%EB%A0%89%EC%85%98%20-%2004~06.%EC%BB%AC%EB%A0%89%EC%85%98%20%ED%83%80%EC%9E%85%EC%9D%98%20%EC%9D%B4%ED%95%B4%EC%88%98%EC%A0%95%28list%2C%20tuple%29_Before.ipynb#ch0000036?line=6'>7</a>\u001b[0m a[\u001b[39m0\u001b[39m] \u001b[39m=\u001b[39m \u001b[39m100\u001b[39m\n\u001b[0;32m      <a href='vscode-notebook-cell:/d%3A/BU/Others/computer/BU_python_study/KIM_HJ/Homework_HJ/StudyMaterial/Part%2001~04%29%20Python/01.%20Python%20Prgramming%20%EA%B8%B0%EC%B4%88/%EC%8B%A4%EC%8A%B5%EC%BD%94%EB%93%9C/07~09.%EB%8D%B0%EC%9D%B4%ED%84%B0%20%ED%83%80%EC%9E%85%EA%B3%BC%20%EC%BB%AC%EB%A0%89%EC%85%98%20-%2004~06.%EC%BB%AC%EB%A0%89%EC%85%98%20%ED%83%80%EC%9E%85%EC%9D%98%20%EC%9D%B4%ED%95%B4%EC%88%98%EC%A0%95%28list%2C%20tuple%29_Before.ipynb#ch0000036?line=7'>8</a>\u001b[0m \u001b[39mprint\u001b[39m(a)\n\u001b[1;32m---> <a href='vscode-notebook-cell:/d%3A/BU/Others/computer/BU_python_study/KIM_HJ/Homework_HJ/StudyMaterial/Part%2001~04%29%20Python/01.%20Python%20Prgramming%20%EA%B8%B0%EC%B4%88/%EC%8B%A4%EC%8A%B5%EC%BD%94%EB%93%9C/07~09.%EB%8D%B0%EC%9D%B4%ED%84%B0%20%ED%83%80%EC%9E%85%EA%B3%BC%20%EC%BB%AC%EB%A0%89%EC%85%98%20-%2004~06.%EC%BB%AC%EB%A0%89%EC%85%98%20%ED%83%80%EC%9E%85%EC%9D%98%20%EC%9D%B4%ED%95%B4%EC%88%98%EC%A0%95%28list%2C%20tuple%29_Before.ipynb#ch0000036?line=9'>10</a>\u001b[0m b[\u001b[39m0\u001b[39m] \u001b[39m=\u001b[39m \u001b[39m100\u001b[39m\n\u001b[0;32m     <a href='vscode-notebook-cell:/d%3A/BU/Others/computer/BU_python_study/KIM_HJ/Homework_HJ/StudyMaterial/Part%2001~04%29%20Python/01.%20Python%20Prgramming%20%EA%B8%B0%EC%B4%88/%EC%8B%A4%EC%8A%B5%EC%BD%94%EB%93%9C/07~09.%EB%8D%B0%EC%9D%B4%ED%84%B0%20%ED%83%80%EC%9E%85%EA%B3%BC%20%EC%BB%AC%EB%A0%89%EC%85%98%20-%2004~06.%EC%BB%AC%EB%A0%89%EC%85%98%20%ED%83%80%EC%9E%85%EC%9D%98%20%EC%9D%B4%ED%95%B4%EC%88%98%EC%A0%95%28list%2C%20tuple%29_Before.ipynb#ch0000036?line=10'>11</a>\u001b[0m \u001b[39mprint\u001b[39m(b)\n",
      "\u001b[1;31mTypeError\u001b[0m: 'tuple' object does not support item assignment"
     ]
    }
   ],
   "source": [
    "a = [1,2,3]\n",
    "b = (1,2,3)\n",
    "\n",
    "print(type(a))\n",
    "print(type(b))\n",
    "\n",
    "a[0] = 100\n",
    "print(a)\n",
    "\n",
    "b[0] = 100\n",
    "print(b)\n"
   ]
  },
  {
   "cell_type": "markdown",
   "metadata": {},
   "source": [
    "#### **tuple unpacking**\n",
    " - 튜플의 값을 차례대로 변수에 대입"
   ]
  },
  {
   "cell_type": "code",
   "execution_count": 24,
   "metadata": {},
   "outputs": [
    {
     "name": "stdout",
     "output_type": "stream",
     "text": [
      "100 200 300 400\n"
     ]
    }
   ],
   "source": [
    "a, b, c, d = 100, 200, 300, 400\n",
    "print(a, b, c, d)"
   ]
  },
  {
   "cell_type": "markdown",
   "metadata": {},
   "source": [
    "* **연습문제** a와 b의 값을 교환하시오"
   ]
  },
  {
   "cell_type": "code",
   "execution_count": 25,
   "metadata": {},
   "outputs": [
    {
     "name": "stdout",
     "output_type": "stream",
     "text": [
      "5 4\n"
     ]
    }
   ],
   "source": [
    "a = 5\n",
    "b = 4\n",
    "\n",
    "print(a, b)"
   ]
  },
  {
   "cell_type": "code",
   "execution_count": 29,
   "metadata": {},
   "outputs": [
    {
     "name": "stdout",
     "output_type": "stream",
     "text": [
      "5 4\n"
     ]
    }
   ],
   "source": [
    "#print (a, b) 랑 (a,b)랑 달라요.\n",
    "a, b = b, a\n",
    "print(a, b)"
   ]
  },
  {
   "cell_type": "code",
   "execution_count": null,
   "metadata": {},
   "outputs": [],
   "source": []
  }
 ],
 "metadata": {
  "interpreter": {
   "hash": "360415a06a2cb4988f467b724c8ffdb39ec3aeec574ee0105248e66f7284bba3"
  },
  "kernelspec": {
   "display_name": "Python 3.10.4 ('bu')",
   "language": "python",
   "name": "python3"
  },
  "language_info": {
   "codemirror_mode": {
    "name": "ipython",
    "version": 3
   },
   "file_extension": ".py",
   "mimetype": "text/x-python",
   "name": "python",
   "nbconvert_exporter": "python",
   "pygments_lexer": "ipython3",
   "version": "3.10.4"
  }
 },
 "nbformat": 4,
 "nbformat_minor": 1
}
