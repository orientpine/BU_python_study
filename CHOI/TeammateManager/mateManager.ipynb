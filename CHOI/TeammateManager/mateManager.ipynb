{
 "cells": [
  {
   "cell_type": "code",
   "execution_count": 1,
   "metadata": {},
   "outputs": [],
   "source": [
    "import os\n",
    "from re import A\n",
    "from natsort import natsorted\n",
    "import pandas as pd\n",
    "import numpy as np"
   ]
  },
  {
   "cell_type": "code",
   "execution_count": 2,
   "metadata": {},
   "outputs": [],
   "source": [
    "mateList = pd.DataFrame(columns=[\"Name\", \"Hobby\", \"Super_Power\",\"Nationality\",\"Property(won)\",\"NumberofLostBikes\", \"IQ\",\"EQ\",\"JQ\"])"
   ]
  },
  {
   "cell_type": "code",
   "execution_count": 3,
   "metadata": {},
   "outputs": [],
   "source": [
    "newmate_1 = pd.DataFrame({\"Name\" : \"Baekdong Cha\",\n",
    "            \"Hobby\" : \"Crochet\",\n",
    "      \"Super_Power\" : \"breathing\",\n",
    "      \"Nationality\" : \"Korea, north\",\n",
    "    \"Property(won)\" : [100],\n",
    "\"NumberofLostBikes\" : [0],\n",
    "         \"IQ\" : [100],\n",
    "         \"EQ\" : [80],\n",
    "         \"JQ\" : [200]})"
   ]
  },
  {
   "cell_type": "code",
   "execution_count": 4,
   "metadata": {},
   "outputs": [],
   "source": [
    "mateList = pd.concat([mateList, newmate_1], ignore_index=True)"
   ]
  },
  {
   "cell_type": "code",
   "execution_count": 5,
   "metadata": {},
   "outputs": [
    {
     "data": {
      "text/plain": [
       "1"
      ]
     },
     "execution_count": 5,
     "metadata": {},
     "output_type": "execute_result"
    }
   ],
   "source": [
    "mateList.index.size"
   ]
  },
  {
   "cell_type": "code",
   "execution_count": 6,
   "metadata": {},
   "outputs": [],
   "source": [
    "numofmate = mateList.index.size\n",
    "mateList.to_excel(f\"mateList_Total_{numofmate}.xlsx\")"
   ]
  },
  {
   "cell_type": "code",
   "execution_count": null,
   "metadata": {},
   "outputs": [],
   "source": []
  }
 ],
 "metadata": {
  "interpreter": {
   "hash": "5701a1228cd0532f1583195e5dde1045c94aa585e8bedc403b2a928c5d9df899"
  },
  "kernelspec": {
   "display_name": "Python 3.10.4 ('bu')",
   "language": "python",
   "name": "python3"
  },
  "language_info": {
   "codemirror_mode": {
    "name": "ipython",
    "version": 3
   },
   "file_extension": ".py",
   "mimetype": "text/x-python",
   "name": "python",
   "nbconvert_exporter": "python",
   "pygments_lexer": "ipython3",
   "version": "3.10.4"
  },
  "orig_nbformat": 4
 },
 "nbformat": 4,
 "nbformat_minor": 2
}
