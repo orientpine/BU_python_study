{
 "cells": [
  {
   "cell_type": "code",
   "execution_count": 66,
   "metadata": {},
   "outputs": [
    {
     "name": "stdout",
     "output_type": "stream",
     "text": [
      "requested url: https://pubmed.ncbi.nlm.nih.gov/?term=(cerebral%20palsy%20or%20CP)%20and%20(repetitive%20transcranial%20magnetic%20stimulation%20or%20rTMS%20or%20tDCS%20or%20transcranial%20direct%20current%20stimulation)%20and%20(motor)&sort=pubdate&size=200\n"
     ]
    }
   ],
   "source": [
    "import csv\n",
    "import requests\n",
    "import re\n",
    "import numpy as np\n",
    "import pandas as pd\n",
    "URL1 =\"https://pubmed.ncbi.nlm.nih.gov/?term=(cerebral%20palsy%20or%20CP)%20and%20(repetitive%20transcranial%20magnetic%20stimulation%20or%20rTMS%20or%20tDCS%20or%20transcranial%20direct%20current%20stimulation)%20and%20(motor)&sort=pubdate&size=200\"\n",
    "URL2 =\"https://pubmed.ncbi.nlm.nih.gov/?term=(cerebral%20palsy%20or%20CP)%20and%20(repetitive%20transcranial%20magnetic%20stimulation%20or%20rTMS%20or%20tDCS%20or%20transcranial%20direct%20current%20stimulation)%20and%20(motor)&sort=pubdate&size=200&page=2\"\n",
    "selected = 'page1'\n",
    "\n",
    "if selected =='page1':\n",
    "    res = requests.get(URL1) # \n",
    "elif selected =='page2':\n",
    "    res = requests.get(URL2) # \n",
    "\n",
    "print(\"requested url:\",res.url) # 접속한 url 정보\n",
    "\n",
    "from bs4 import BeautifulSoup\n",
    "bsObj = BeautifulSoup(res.text, \"html.parser\")\n",
    "\n",
    "# 첫번째 a 태그 뽑아오기\n",
    "list_title = bsObj.find_all(\"a\",\"docsum-title\")\n",
    "data = pd.DataFrame(columns=['title'])\n",
    "titles = []\n",
    "for title in list_title:\n",
    "    # 논문 이름 뽑기\n",
    "    raw  = title.text\n",
    "    processed = re.sub(\"\\s +\",\"\", raw).strip()\n",
    "    titles.append(processed)\n",
    "    #\n",
    "list_paper_url_info = bsObj.find_all(\"button\", {\"class\":\"share-search-result trigger result-action-trigger share-dialog-trigger\"})\n",
    "for paper_url_info in list_paper_url_info[::2]:\n",
    "    paper_url= paper_url_info[\"data-permalink-url\"] #이렇게 하면 파일마다 주소로 접근할 수 있음\n",
    "    res_paper = requests.get(paper_url) # 접속한 url 정보\n",
    "    bsObj_paper = BeautifulSoup(res_paper.text, \"html.parser\")\n",
    "\n",
    "data['title'] = titles\n",
    "\n",
    "data.to_csv(f'title_{selected}.csv')\n",
    "# 참고: https://swlock.blogspot.com/2019/08/web-page-crawling-scraping-python.html\n",
    "# # 글자만 뽑아오기\n",
    "# print(first_a.text)\n",
    "# print(\"href\",first_a.get(\"href\"))\n",
    "\n",
    "# # 이 주소로 접속 하면 안됨\n",
    "# print(URL+first_a.get(\"href\"))"
   ]
  },
  {
   "cell_type": "code",
   "execution_count": 67,
   "metadata": {},
   "outputs": [
    {
     "data": {
      "text/plain": [
       "<module 'openpyxl' from 'c:\\\\Users\\\\HyunJoon_Kim\\\\anaconda3\\\\envs\\\\bu\\\\lib\\\\site-packages\\\\openpyxl\\\\__init__.py'>"
      ]
     },
     "execution_count": 67,
     "metadata": {},
     "output_type": "execute_result"
    }
   ],
   "source": [
    "import openpyxl\n",
    "\n",
    "\n",
    "openpyxl"
   ]
  },
  {
   "cell_type": "code",
   "execution_count": 73,
   "metadata": {},
   "outputs": [],
   "source": [
    "olddata = pd.read_csv('./title_page1.csv', usecols=['title'])\n",
    "\n",
    "newdata = pd.read_excel('./Individual studies_revised.xlsx',  usecols=['Title'])\n",
    "\n"
   ]
  },
  {
   "cell_type": "code",
   "execution_count": 82,
   "metadata": {},
   "outputs": [
    {
     "name": "stdout",
     "output_type": "stream",
     "text": [
      "                                                 Title  ver\n",
      "0    Do Adults with Stroke have Altered Interhemisp...  new\n",
      "1    Non-invasive Brain Stimulation for Chronic Pai...  new\n",
      "2    Physical therapy in children with cerebral pal...  new\n",
      "3    Exploring Clinical and Neurophysiological Fact...  new\n",
      "4    Robotic mapping of motor cortex in children wi...  new\n",
      "..                                                 ...  ...\n",
      "223  Transcranial magnetic stimulation as a diagnos...  new\n",
      "224  Transcranial magnetic coil stimulation of moto...  new\n",
      "225  Altered corticospinal projections to lower lim...  new\n",
      "226  Estimation of facial central motor delay by el...  new\n",
      "227  [Assessment of motor cranial nerve functions u...  new\n",
      "\n",
      "[228 rows x 2 columns]\n",
      "                                                 title  ver\n",
      "0    Do Adults with Stroke have Altered Interhemisp...  old\n",
      "1    Repetitive Peripheral Magnetic Stimulation to ...  old\n",
      "2    Non-invasive Brain Stimulation for Chronic Pai...  old\n",
      "3    Physical therapy in children with cerebral pal...  old\n",
      "4    Exploring Clinical and Neurophysiological Fact...  old\n",
      "..                                                 ...  ...\n",
      "195    Corticospinal disinhibition during dual action.  old\n",
      "196  Short-term effects of functional electrical st...  old\n",
      "197  Electrophysiological assessment of the effect ...  old\n",
      "198       Eye movement control by the cerebral cortex.  old\n",
      "199  Electrical stimulation of the human common per...  old\n",
      "\n",
      "[200 rows x 2 columns]\n"
     ]
    }
   ],
   "source": [
    "olddata['ver'] = 'old'\n",
    "newdata['ver'] = 'new'\n",
    "print(newdata)\n",
    "print(olddata)"
   ]
  },
  {
   "cell_type": "code",
   "execution_count": null,
   "metadata": {},
   "outputs": [],
   "source": []
  },
  {
   "cell_type": "code",
   "execution_count": 94,
   "metadata": {},
   "outputs": [
    {
     "ename": "ValueError",
     "evalue": "Can only compare identically-labeled DataFrame objects",
     "output_type": "error",
     "traceback": [
      "\u001b[1;31m---------------------------------------------------------------------------\u001b[0m",
      "\u001b[1;31mValueError\u001b[0m                                Traceback (most recent call last)",
      "\u001b[1;32md:\\BU\\Others\\computer\\BU_python_study\\KIM_HJ\\Homework\\metaAnalysis\\web_crawler.ipynb Cell 6'\u001b[0m in \u001b[0;36m<cell line: 1>\u001b[1;34m()\u001b[0m\n\u001b[1;32m----> <a href='vscode-notebook-cell:/d%3A/BU/Others/computer/BU_python_study/KIM_HJ/Homework/metaAnalysis/web_crawler.ipynb#ch0000020?line=0'>1</a>\u001b[0m \u001b[39mprint\u001b[39m(newdata\u001b[39m.\u001b[39;49mcompare(olddata))\n",
      "File \u001b[1;32mc:\\Users\\HyunJoon_Kim\\anaconda3\\envs\\bu\\lib\\site-packages\\pandas\\core\\frame.py:7193\u001b[0m, in \u001b[0;36mDataFrame.compare\u001b[1;34m(self, other, align_axis, keep_shape, keep_equal)\u001b[0m\n\u001b[0;32m   7080\u001b[0m \u001b[39m@doc\u001b[39m(\n\u001b[0;32m   7081\u001b[0m     _shared_docs[\u001b[39m\"\u001b[39m\u001b[39mcompare\u001b[39m\u001b[39m\"\u001b[39m],\n\u001b[0;32m   7082\u001b[0m     \u001b[39m\"\"\"\u001b[39;00m\n\u001b[1;32m   (...)\u001b[0m\n\u001b[0;32m   7191\u001b[0m     keep_equal: \u001b[39mbool\u001b[39m \u001b[39m=\u001b[39m \u001b[39mFalse\u001b[39;00m,\n\u001b[0;32m   7192\u001b[0m ) \u001b[39m-\u001b[39m\u001b[39m>\u001b[39m DataFrame:\n\u001b[1;32m-> 7193\u001b[0m     \u001b[39mreturn\u001b[39;00m \u001b[39msuper\u001b[39;49m()\u001b[39m.\u001b[39;49mcompare(\n\u001b[0;32m   7194\u001b[0m         other\u001b[39m=\u001b[39;49mother,\n\u001b[0;32m   7195\u001b[0m         align_axis\u001b[39m=\u001b[39;49malign_axis,\n\u001b[0;32m   7196\u001b[0m         keep_shape\u001b[39m=\u001b[39;49mkeep_shape,\n\u001b[0;32m   7197\u001b[0m         keep_equal\u001b[39m=\u001b[39;49mkeep_equal,\n\u001b[0;32m   7198\u001b[0m     )\n",
      "File \u001b[1;32mc:\\Users\\HyunJoon_Kim\\anaconda3\\envs\\bu\\lib\\site-packages\\pandas\\core\\generic.py:8640\u001b[0m, in \u001b[0;36mNDFrame.compare\u001b[1;34m(self, other, align_axis, keep_shape, keep_equal)\u001b[0m\n\u001b[0;32m   8635\u001b[0m     cls_self, cls_other \u001b[39m=\u001b[39m \u001b[39mtype\u001b[39m(\u001b[39mself\u001b[39m)\u001b[39m.\u001b[39m\u001b[39m__name__\u001b[39m, \u001b[39mtype\u001b[39m(other)\u001b[39m.\u001b[39m\u001b[39m__name__\u001b[39m\n\u001b[0;32m   8636\u001b[0m     \u001b[39mraise\u001b[39;00m \u001b[39mTypeError\u001b[39;00m(\n\u001b[0;32m   8637\u001b[0m         \u001b[39mf\u001b[39m\u001b[39m\"\u001b[39m\u001b[39mcan only compare \u001b[39m\u001b[39m'\u001b[39m\u001b[39m{\u001b[39;00mcls_self\u001b[39m}\u001b[39;00m\u001b[39m'\u001b[39m\u001b[39m (not \u001b[39m\u001b[39m'\u001b[39m\u001b[39m{\u001b[39;00mcls_other\u001b[39m}\u001b[39;00m\u001b[39m'\u001b[39m\u001b[39m) with \u001b[39m\u001b[39m'\u001b[39m\u001b[39m{\u001b[39;00mcls_self\u001b[39m}\u001b[39;00m\u001b[39m'\u001b[39m\u001b[39m\"\u001b[39m\n\u001b[0;32m   8638\u001b[0m     )\n\u001b[1;32m-> 8640\u001b[0m mask \u001b[39m=\u001b[39m \u001b[39m~\u001b[39m((\u001b[39mself\u001b[39;49m \u001b[39m==\u001b[39;49m other) \u001b[39m|\u001b[39m (\u001b[39mself\u001b[39m\u001b[39m.\u001b[39misna() \u001b[39m&\u001b[39m other\u001b[39m.\u001b[39misna()))\n\u001b[0;32m   8641\u001b[0m keys \u001b[39m=\u001b[39m [\u001b[39m\"\u001b[39m\u001b[39mself\u001b[39m\u001b[39m\"\u001b[39m, \u001b[39m\"\u001b[39m\u001b[39mother\u001b[39m\u001b[39m\"\u001b[39m]\n\u001b[0;32m   8643\u001b[0m \u001b[39mif\u001b[39;00m \u001b[39mnot\u001b[39;00m keep_equal:\n",
      "File \u001b[1;32mc:\\Users\\HyunJoon_Kim\\anaconda3\\envs\\bu\\lib\\site-packages\\pandas\\core\\ops\\common.py:70\u001b[0m, in \u001b[0;36m_unpack_zerodim_and_defer.<locals>.new_method\u001b[1;34m(self, other)\u001b[0m\n\u001b[0;32m     66\u001b[0m             \u001b[39mreturn\u001b[39;00m \u001b[39mNotImplemented\u001b[39m\n\u001b[0;32m     68\u001b[0m other \u001b[39m=\u001b[39m item_from_zerodim(other)\n\u001b[1;32m---> 70\u001b[0m \u001b[39mreturn\u001b[39;00m method(\u001b[39mself\u001b[39;49m, other)\n",
      "File \u001b[1;32mc:\\Users\\HyunJoon_Kim\\anaconda3\\envs\\bu\\lib\\site-packages\\pandas\\core\\arraylike.py:40\u001b[0m, in \u001b[0;36mOpsMixin.__eq__\u001b[1;34m(self, other)\u001b[0m\n\u001b[0;32m     38\u001b[0m \u001b[39m@unpack_zerodim_and_defer\u001b[39m(\u001b[39m\"\u001b[39m\u001b[39m__eq__\u001b[39m\u001b[39m\"\u001b[39m)\n\u001b[0;32m     39\u001b[0m \u001b[39mdef\u001b[39;00m \u001b[39m__eq__\u001b[39m(\u001b[39mself\u001b[39m, other):\n\u001b[1;32m---> 40\u001b[0m     \u001b[39mreturn\u001b[39;00m \u001b[39mself\u001b[39;49m\u001b[39m.\u001b[39;49m_cmp_method(other, operator\u001b[39m.\u001b[39;49meq)\n",
      "File \u001b[1;32mc:\\Users\\HyunJoon_Kim\\anaconda3\\envs\\bu\\lib\\site-packages\\pandas\\core\\frame.py:6931\u001b[0m, in \u001b[0;36mDataFrame._cmp_method\u001b[1;34m(self, other, op)\u001b[0m\n\u001b[0;32m   6928\u001b[0m \u001b[39mdef\u001b[39;00m \u001b[39m_cmp_method\u001b[39m(\u001b[39mself\u001b[39m, other, op):\n\u001b[0;32m   6929\u001b[0m     axis \u001b[39m=\u001b[39m \u001b[39m1\u001b[39m  \u001b[39m# only relevant for Series other case\u001b[39;00m\n\u001b[1;32m-> 6931\u001b[0m     \u001b[39mself\u001b[39m, other \u001b[39m=\u001b[39m ops\u001b[39m.\u001b[39;49malign_method_FRAME(\u001b[39mself\u001b[39;49m, other, axis, flex\u001b[39m=\u001b[39;49m\u001b[39mFalse\u001b[39;49;00m, level\u001b[39m=\u001b[39;49m\u001b[39mNone\u001b[39;49;00m)\n\u001b[0;32m   6933\u001b[0m     \u001b[39m# See GH#4537 for discussion of scalar op behavior\u001b[39;00m\n\u001b[0;32m   6934\u001b[0m     new_data \u001b[39m=\u001b[39m \u001b[39mself\u001b[39m\u001b[39m.\u001b[39m_dispatch_frame_op(other, op, axis\u001b[39m=\u001b[39maxis)\n",
      "File \u001b[1;32mc:\\Users\\HyunJoon_Kim\\anaconda3\\envs\\bu\\lib\\site-packages\\pandas\\core\\ops\\__init__.py:289\u001b[0m, in \u001b[0;36malign_method_FRAME\u001b[1;34m(left, right, axis, flex, level)\u001b[0m\n\u001b[0;32m    287\u001b[0m             left, right \u001b[39m=\u001b[39m left\u001b[39m.\u001b[39malign(right, join\u001b[39m=\u001b[39m\u001b[39m\"\u001b[39m\u001b[39mouter\u001b[39m\u001b[39m\"\u001b[39m, level\u001b[39m=\u001b[39mlevel, copy\u001b[39m=\u001b[39m\u001b[39mFalse\u001b[39;00m)\n\u001b[0;32m    288\u001b[0m         \u001b[39melse\u001b[39;00m:\n\u001b[1;32m--> 289\u001b[0m             \u001b[39mraise\u001b[39;00m \u001b[39mValueError\u001b[39;00m(\n\u001b[0;32m    290\u001b[0m                 \u001b[39m\"\u001b[39m\u001b[39mCan only compare identically-labeled DataFrame objects\u001b[39m\u001b[39m\"\u001b[39m\n\u001b[0;32m    291\u001b[0m             )\n\u001b[0;32m    292\u001b[0m \u001b[39melif\u001b[39;00m \u001b[39misinstance\u001b[39m(right, ABCSeries):\n\u001b[0;32m    293\u001b[0m     \u001b[39m# axis=1 is default for DataFrame-with-Series op\u001b[39;00m\n\u001b[0;32m    294\u001b[0m     axis \u001b[39m=\u001b[39m left\u001b[39m.\u001b[39m_get_axis_number(axis) \u001b[39mif\u001b[39;00m axis \u001b[39mis\u001b[39;00m \u001b[39mnot\u001b[39;00m \u001b[39mNone\u001b[39;00m \u001b[39melse\u001b[39;00m \u001b[39m1\u001b[39m\n",
      "\u001b[1;31mValueError\u001b[0m: Can only compare identically-labeled DataFrame objects"
     ]
    }
   ],
   "source": []
  },
  {
   "cell_type": "code",
   "execution_count": 84,
   "metadata": {},
   "outputs": [
    {
     "name": "stdout",
     "output_type": "stream",
     "text": [
      "삭제된 아이템:  {'Safety and preliminary efficacy of deep transcranial magnetic stimulation in MS-related fatigue.', 'Neuromodulation: A combined-therapy protocol for speech rehabilitation in a child with cerebral palsy.', 'Brain functional reorganization in children with hemiplegic cerebral palsy: Assessment with TMS and therapeutic perspectives.', 'Persistent mirror movements for over sixty years: the underlying mechanisms in a cerebral palsy patient.', 'Neuromuscular electrical stimulation has a global effect on corticospinal excitability for leg muscles and a focused effect for hand muscles.', 'The correlation between transcranial magnetic stimulation parameters and neuromuscular properties in children with cerebral palsy.', 'Increased motor cortex excitability during motor imagery in brain-computer interface trained subjects.', 'Neurophysiologic and neuroimaging studies of brain plasticity in children with spastic cerebral palsy.', 'Corticospinal Excitability in Children with Congenital Hemiparesis.', 'Motor cortical functional geometry in cerebral palsy and its relationship to disability.', 'Effect of transcranial direct-current stimulation combined with treadmill training on balance and functional performance in children with cerebral palsy: a double-blind randomized controlled trial.', 'Interhemispheric motor interactions in hemiparetic children with perinatal stroke: Clinical correlates and effects of neuromodulation therapy.', 'Mirror movements in children with unilateral cerebral palsy due to perinatal stroke: clinical correlates of plasticity reorganization.', 'From adults to pediatrics: A review noninvasive brain stimulation (NIBS) to facilitate recovery from brain injury.', 'Clinical correlation between motor evoked potentials and gait recovery in poststroke patients.', 'Evaluating the Effects of 5-Hz Repetitive Transcranial Magnetic Stimulation With and Without Wrist-Ankle Acupuncture on Improving Spasticity and Motor Function in Children With Cerebral Palsy: A Randomized Controlled Trial.', 'White matter characteristics of motor, sensory and interhemispheric tracts underlying impaired upper limb function in children with unilateral cerebral palsy.', 'Understanding of action-related and abstract verbs in comparison: a behavioral and TMS study.', 'Vagus nerve magnetic modulation facilitates dysphagia recovery in patients with stroke involving the brainstem - A proof of concept study.', 'Reduced corticomotor excitability and motor skills development in children born preterm.', 'Unaffected motor cortex remodeling after hemispherectomy in an epileptic cerebral palsy patient. A TMS and fMRI study.', 'The role of the human dorsolateral prefrontal cortex in ocular motor behavior.', 'Intracortical inhibition in the soleus muscle is reduced during the control of upright standing in both young and old adults.', 'Spared Primary Motor Cortex and The Presence of MEP in Cerebral Palsy Dictate the Responsiveness to tDCS during Gait Training.', 'Care for child development: basic science rationale and effects of interventions.', 'Brain function decline in healthy retired athletes who sustained their last sports concussion in early adulthood.', 'Effects of High-Definition and Conventional Transcranial Direct-Current Stimulation on Motor Learning in Children.', 'Upper limb corticomotor projections and physiological changes that occur with botulinum toxin-A therapy in children with hemiplegic cerebral palsy.', 'Imaging functional motor connectivity in hemiparetic children with perinatal stroke.', 'Using diffusion tensor imaging to identify corticospinal tract projection patterns in children with unilateral spastic cerebral palsy.', 'Transcranial Direct Current Stimulation (tDCS) in Unilateral Cerebral Palsy: A Pilot Study of Motor Effect.', 'Commentary on \"Transcranial Direct-Current Stimulation on Motor Function in Pediatric Cerebral Palsy: A Systematic Review\".', 'Neurophysiological Assessments of Brain and Spinal Cord Associated with Lower Limb Functions in Children with Cerebral Palsy: A Protocol for Systematic Review and Meta-Analysis.', 'Safety and Feasibility of Transcranial Magnetic Stimulation as an Exploratory Assessment of Corticospinal Connectivity in Infants After Perinatal Brain Injury: An Observational Study.', 'Outcomes in spasticity after repetitive transcranial magnetic and transcranial direct current stimulations.', 'Treatment of major depressive disorder with bilateral theta burst stimulation: study protocol for a randomized, double-blind, placebo-controlled multicenter trial (TBS-D).', 'tDCS and motor training in individuals with central nervous system disease: A systematic review.', 'Transcranial direct current stimulation as a motor neurorehabilitation tool: an empirical review.', 'Spinal and corticospinal excitability in response to reductions in skin and core temperatures via whole-body cooling.', 'Editorial: Motor Control of Gait and the Underlying Neural Network in Pediatric Neurology.', 'Eye movement control by the cerebral cortex.', 'Combining constraint-induced movement therapy and action-observation training in children with unilateral cerebral palsy: a randomized controlled trial.', 'Hand function assessment in the first years of life in unilateral cerebral palsy: Correlation with neuroimaging and cortico-spinal reorganization.', 'The Effect of Constraint-Induced Movement Therapy Combined With Repetitive Transcranial Magnetic Stimulation on Hand Function in Preschool Children With Unilateral Cerebral Palsy: A Randomized Controlled Preliminary Study.', 'Hyperexcitability of brain stem pathways in cerebral palsy.', 'Effect of sensory and motor connectivity on hand function in pediatric hemiplegia.', 'Hand function in relation to brain lesions and corticomotor-projection pattern in children with unilateral cerebral palsy.', 'Motor Cortex Plasticity in Children With Spastic Cerebral Palsy: A Systematic Review.', 'The effect of a series of repetitive transcranial magnetic stimulations of the motor cortex on central pain after spinal cord injury.', 'Non-Invasive Brain Stimulation in Children With Unilateral Cerebral Palsy: A Protocol and Risk Mitigation Guide.', 'Advancing non-invasive neuromodulation clinical trials in children: Lessons from perinatal stroke.', 'Safety and tolerability of transcranial magnetic and direct current stimulation in children: Prospective single center evidence from 3.5 million stimulations.', 'Noninvasive brain stimulation: the potential for use in the rehabilitation of pediatric acquired brain injury.', 'Antidepressant-like effects of nicotine and transcranial magnetic stimulation in the olfactory bulbectomy rat model of depression.', 'The Relationship Between Hand Function and Overlapping Motor Representations of the Hands in the Contralesional Hemisphere in Unilateral Spastic Cerebral Palsy.', 'Changes in spectroscopic biomarkers after transcranial direct current stimulation in children with perinatal stroke.', 'Efficacy of coupling inhibitory and facilitatory repetitive transcranial magnetic stimulation to enhance motor recovery in hemiplegic stroke patients.', 'Exploring Clinical and Neurophysiological Factors Associated with Response to Constraint Therapy and Brain Stimulation in Children with Hemiparetic Cerebral Palsy.', 'Maturation of Corticospinal Tracts in Children With Hemiplegic Cerebral Palsy Assessed by Diffusion Tensor Imaging and Transcranial Magnetic Stimulation.', 'Robotic mapping of motor cortex in children with perinatal stroke and hemiparesis.', 'Developmental Remodelling of the Motor Cortex in Hemiparetic Children With Perinatal Stroke.', 'Motor Evoked Potentials as Potential Biomarkers of Early Atypical Corticospinal Tract Development in Infants with Perinatal Stroke.', 'Motor evoked potentials: prognostic value in motor recovery after stroke.', 'Transcranial magnetic stimulation in children.', 'Transcranial direct current stimulation during treadmill training in children with cerebral palsy: a randomized controlled double-blind clinical trial.', 'Effects of transcranial direct current stimulation (tDCS) on balance improvement: a systematic review and meta-analysis.', 'Effects of a single session of transcranial direct current stimulation on upper limb movements in children with cerebral palsy: A randomized, sham-controlled study.', 'Neurophysiologic markers of primary motor cortex for laryngeal muscles and premotor cortex in caudal opercular part of inferior frontal gyrus investigated in motor speech disorder: a navigated transcranial magnetic stimulation (TMS) study.', 'Magnetic stimulation of human premotor or motor cortex produces interhemispheric facilitation through distinct pathways.', 'Discernible effects of tDCS over the primary motor and posterior parietal cortex on different stages of motor learning.', 'Combined effect of hydrotherapy and transcranial direct-current stimulation on children with cerebral palsy: A protocol for a randomized controlled trial.', 'Therapeutic Effects of repetitive Transcranial Magnetic Stimulation on Corticospinal Tract Activities and Neuromuscular Properties in Children with Cerebral Palsy.', 'Effect of Transcranial Direct Current Stimulation of Motor Cortex in Cerebral Palsy: A Study Protocol.', 'Response: Commentary: Skilled Bimanual Training Drives Motor Cortex Plasticity in Children with Unilateral Cerebral Palsy.', 'Measurement error and reliability of TMS metrics collected from biceps and triceps in individuals with chronic incomplete tetraplegia.', 'Neurophysiological mechanisms and functional impact of mirror movements in children with unilateral spastic cerebral palsy.', 'The Effect of Bilateral Anodal Transcranial Direct Current Stimulation versus Treadmill Training on Brain Activities, Gait Functions, Level of Participation and Enjoyment of Children with Cerebral Palsy: A Randomized Controlled Trial Protocol.', 'Longitudinal assessment of 1H-MRS (GABA and Glx) and TMS measures of cortical inhibition and facilitation in the sensorimotor cortex.', 'The neurophysiology of paediatric movement disorders.', 'Ipsilateral Corticospinal Tract Excitability Contributes to the Severity of Mirror Movements in Unilateral Cerebral Palsy: A Case Series.', 'HABIT+tDCS: a study protocol of a randomised controlled trial (RCT) investigating the synergistic efficacy of hand-arm bimanual intensive therapy (HABIT) plus targeted non-invasive brain stimulation to improve upper extremity function in school-age children with unilateral cerebral palsy.', 'Effect of Anodic tDCS Over Motor Cortex Versus Cerebellum in Cerebral Palsy: A Study Protocol.', 'Commentary on \"Cardiovascular Effects of Transcranial Direct Current Stimulation and Bimanual Training in Children With Cerebral Palsy\".', 'Electrical stimulation of the human common peroneal nerve elicits lasting facilitation of cortical motor-evoked potentials.', 'Influence of Combined Transcranial Direct Current Stimulation and Motor Training on Corticospinal Excitability in Children With Unilateral Cerebral Palsy.', 'Increased cerebellar activation after repetitive transcranial magnetic stimulation over the primary motor cortex in patients with multiple system atrophy.', 'Task load modulates tDCS effects on language performance.', 'Skilled Bimanual Training Drives Motor Cortex Plasticity in Children With Unilateral Cerebral Palsy.', 'Reactivity of sensorimotor oscillations is altered in children with hemiplegic cerebral palsy: A magnetoencephalographic study.', 'Synergistic effect of combined transcranial direct current stimulation/constraint-induced movement therapy in children and young adults with hemiparesis: study protocol.', 'Noninvasive Neuromodulation to Promote Motor Skill Gains After Perinatal Stroke.', 'Transcranial Direct Current Stimulation in Pediatric Motor Disorders: A Systematic Review and Meta-analysis.', 'Does a Combination of Virtual Reality, Neuromodulation and Neuroimaging Provide a Comprehensive Platform for Neurorehabilitation? - A Narrative Review of the Literature.', 'Low and high frequency repetitive transcranial magnetic stimulation for the treatment of spasticity.', 'Electrophysiological assessment of the effect of intrathecal baclofen in dystonic children.', 'Neonatal neuroimaging predicts recruitment of contralesional corticospinal tracts following perinatal brain injury.', 'Transcranial Direct-Current Stimulation Can Enhance Motor Learning in Children.', 'A comprehensive database of published tDCS clinical trials (2005-2016).', 'Altered cortical inhibitory function in children with spastic diplegia: a TMS study.', 'Bimanual Skill Learning after Transcranial Direct Current Stimulation in Children with Unilateral Cerebral Palsy: A Brief Report.', 'Early intervention after perinatal stroke: opportunities and challenges.', 'Protocol for a cost-utility analysis of neurostimulation and intensive camp-based therapy for children with perinatal stroke and hemiparesis based on a multicentre clinical trial.', 'Goals of children with unilateral cerebral palsy in a brain stimulation arm rehabilitation trial.', 'The Impact of Repetitive Transcranial Magnetic Stimulation on Affected and Unaffected Sides of a Child with Hemiplegic Cerebral Palsy.', 'Multimodal assessment of motor pathways and intracortical connections in functional hemispherectomy.', 'Contribution of corticospinal drive to ankle plantar flexor muscle activation during gait in adults with cerebral palsy.', 'Less-Affected Hand Function in Children With Hemiparetic Unilateral Cerebral Palsy: A Comparison Study With Typically Developing Peers.', 'Full Activation Profiles and Integrity of Corticospinal Pathways in Adults With Bilateral Spastic Cerebral Palsy.', 'Developmental profile of motor cortex transcallosal inhibition in children and adolescents.', 'Transcranial Static Magnetic Field Stimulation of the Motor Cortex in Children.', 'Effect of r-TMS over standard therapy in decreasing muscle tone of spastic cerebral palsy patients.', 'Capturing neuroplastic changes after bimanual intensive rehabilitation in children with unilateral spastic cerebral palsy: A combined DTI, TMS and fMRI pilot study.', 'Somatosensory Evoked Potentials and Central Motor Conduction Times in children with dystonia and their correlation with outcomes from Deep Brain Stimulation of the Globus pallidus internus.', 'Functional topography of early periventricular brain lesions in relation to cytoarchitectonic probabilistic maps.', 'Corticospinal disinhibition during dual action.', '\"Paralympic Brain\". Compensation and Reorganization of a Damaged Human Brain with Intensive Physical Training.', 'Static magnetic stimulation of the primary motor cortex impairs online but not offline motor sequence learning.', 'Cathodal transcranial direct current stimulation in children with dystonia: a sham-controlled study.', 'Anodal transcranial direct current stimulation does not influence the neural adjustments associated with fatiguing contractions in a hand muscle.', 'The Effects of tDCS with NDT on the Improvement of Motor Development in Cerebral Palsy.', 'Anisotropy of transcallosal motor fibres indicates functional impairment in children with periventricular leukomalacia.', 'Neuromodulatory effect of repetitive transcranial magnetic stimulation pulses on functional motor performances of spastic cerebral palsy children.', 'The Mirror Illusion Increases Motor Cortex Excitability in Children With and Without Hemiparesis.', 'Intervention-Induced Motor Cortex Plasticity in Hemiparetic Children With Perinatal Stroke.', 'Reduction of spasticity in cerebral palsy by anodal transcranial direct current stimulation.', 'Evaluating developmental motor plasticity with paired afferent stimulation.', 'Contribution of altered corticospinal microstructure to gait impairment in children with cerebral palsy.', 'Updates in the treatment of spasticity associated with cerebral palsy.', 'A transcranial magnetic stimulation study for the investigation of corticospinal motor pathways in children with cerebral palsy.', 'Corticospinal Tract Wiring and Brain Lesion Characteristics in Unilateral Cerebral Palsy: Determinants of Upper Limb Motor and Sensory Function.', 'Physical therapy in children with cerebral palsy in Brazil: a scoping review.', 'Effect of transcranial direct current stimulation combined with gait and mobility training on functionality in children with cerebral palsy: study protocol for a double-blind randomized controlled clinical trial.', 'Upper limb function and cortical organization in youth with unilateral cerebral palsy.', 'Repetitive Peripheral Magnetic Stimulation to Improve Ankle Function and Gait in Cerebral Palsy at Adulthood: An open-label Case Study.', 'Addressing Neuroplastic Changes in Distributed Areas of the Nervous System Associated With Chronic Musculoskeletal Disorders.', 'Effect of Combined Therapy of Virtual Reality and Transcranial Direct Current Stimulation in Children and Adolescents With Cerebral Palsy: A Study Protocol for a Triple-Blinded Randomized Controlled Crossover Trial.', 'Transcranial direct current stimulation for promoting motor function in cerebral palsy: a review.', '[Effect of acupuncture combined with repetitive transcranial magnetic stimulation on motor function and cerebral hemodynamics in children with spastic cerebral palsy with spleen-kidney deficiency].', '[Slowly progressive dysarthria in primary lateral sclerosis].', 'EMG breakthrough during cortical silent period in congenital hemiparesis: a descriptive case series.', 'The Combined Use of Transcranial Direct Current Stimulation and Robotic Therapy for the Upper Limb.', 'Understanding the impact of bilateral brain injury in children with unilateral cerebral palsy.', 'Brain stimulation and constraint for perinatal stroke hemiparesis: The PLASTIC CHAMPS Trial.', 'The relationship of corticospinal excitability with pain, motor performance and disability in subjects with chronic wrist/hand pain.', 'Increasing Number of Therapy Sessions of Repetitive Transcranial Magnetic Stimulation Improves Motor Development by Reducing Muscle Spasticity in Cerebral Palsy Children.', 'Effect of a single session of transcranial direct-current stimulation on balance and spatiotemporal gait variables in children with cerebral palsy: A randomized sham-controlled study.', 'Changes of Structural Brain Network Following Repetitive Transcranial Magnetic Stimulation in Children With Bilateral Spastic Cerebral Palsy: A Diffusion Tensor Imaging Study.', 'Noninvasive Brain Stimulation for Rehabilitation of Pediatric Motor Disorders Following Brain Injury: Systematic Review of Randomized Controlled Trials.', 'Evaluating the Effect of Repetitive Transcranial Magnetic Stimulation in Cerebral Palsy Children by Employing Electroencephalogram Signals.', 'Transient Changes in Brain Metabolites after Transcranial Direct Current Stimulation in Spastic Cerebral Palsy: A Pilot Study.', 'Editorial: Novel Multimodal Approaches in Non-invasive Brain Stimulation.', 'Therapeutic effects of anti-gravity treadmill (AlterG) training on reflex hyper-excitability, corticospinal tract activities, and muscle stiffness in children with cerebral palsy.', 'Cardiovascular Effects of Transcranial Direct Current Stimulation and Bimanual Training in Children With Cerebral Palsy.', 'Commentary: Skilled Bimanual Training Drives Motor Cortex Plasticity in Children With Unilateral Cerebral Palsy.', 'Study Protocol: Multimodal Longitudinal Assessment of Infant Brain Organization and Recovery in Perinatal Brain Injury.', 'Postural challenge affects motor cortical activity in young and old adults.', 'Motor mapping in cerebral palsy.', 'Intraoperative motor mapping of the cerebral peduncle during resection of a midbrain cavernous malformation: technical case report.', 'Multiday Transcranial Direct Current Stimulation Causes Clinically Insignificant Changes in Childhood Dystonia: A Pilot Study.', 'Reorganization of the Action Observation Network and Sensory-Motor System in Children with Unilateral Cerebral Palsy: An fMRI Study.', 'INCITE: A randomised trial comparing constraint induced movement therapy and bimanual training in children with congenital hemiplegia.', 'The contribution of transcranial magnetic stimulation in the diagnosis and in the management of dementia.', 'Motor learning in unilateral cerebral palsy and the influence of corticospinal tract reorganization.', 'Short-term effects of functional electrical stimulation on motor-evoked potentials in ankle flexor and extensor muscles.', 'Modulation of physiological mirror activity with transcranial direct current stimulation over dorsal premotor cortex.', 'Neural correlates of fatigue in multiple sclerosis: a combined neurophysiological and neuroimaging approach (R1).', \"Subthalamic deep brain stimulation modulates small fiber-dependent sensory thresholds in Parkinson's disease.\", 'Theta burst stimulation to characterize changes in brain plasticity following mild traumatic brain injury: A proof-of-principle study.', 'Latin American and Caribbean consensus on noninvasive central nervous system neuromodulation for chronic pain management (LAC2-NIN-CP).', 'Transcranial direct current stimulation combined with upper limb functional training in children with spastic, hemiparetic cerebral palsy: study protocol for a randomized controlled trial.', 'Brain connectivity: finding a cause.', 'Modeling developmental plasticity after perinatal stroke: defining central therapeutic targets in cerebral palsy.', 'Spinal and corticospinal pathways are differently modulated when standing at the bottom and the top of a three-step staircase in young and older adults.', 'Contralesional Corticomotor Neurophysiology in Hemiparetic Children With Perinatal Stroke.', 'TMS-Induced Central Motor Conduction Time at the Non-Infarcted Hemisphere Is Associated with Spontaneous Motor Recovery of the Paretic Upper Limb after Severe Stroke.', 'Do Adults with Stroke have Altered Interhemispheric Inhibition? A Systematic Review with Meta-Analysis.', 'Effects of anodal transcranial direct current stimulation combined with virtual reality for improving gait in children with spastic diparetic cerebral palsy: a pilot, randomized, controlled, double-blind, clinical trial.', 'Transcranial Direct Current Stimulation (tDCS) Paired with Occupation-Centered Bimanual Training in Children with Unilateral Cerebral Palsy: A Preliminary Study.', 'Dynamic modulation of rTMS on functional connectivity and functional network connectivity to children with cerebral palsy: a case report.', 'Corticospinal tract development and its plasticity after perinatal injury.', 'Noninvasive and painless magnetic stimulation of nerves improved brain motor function and mobility in a cerebral palsy case.', 'Effect of Anodal Transcranial Direct Current Stimulation Combined With Cognitive Training for Improving Cognition and Language Among Children With Cerebral Palsy With Cognitive Impairment: A Pilot, Randomized, Controlled, Double-Blind, and Clinical Trial.', 'Non-invasive Brain Stimulation for Chronic Pain: State of the Art and Future Directions.', 'Task load modulates tDCS effects on brain network for phonological processing.', 'A transcranial magnetic stimulation study for the characterization of corticospinal pathway plasticity in children with neurological disorders.', 'Transcranial Direct-Current Stimulation on Motor Function in Pediatric Cerebral Palsy: A Systematic Review.', '[Effect of infra-low-frequency transcranial magnetic stimulation on motor function in children with spastic cerebral palsy].', 'Sensorimotor Robotic Measures of tDCS- and HD-tDCS-Enhanced Motor Learning in Children.', 'Transcranial direct current stimulation for children with perinatal stroke and hemiparesis.', 'Understanding the relationship between brain and upper limb function in children with unilateral motor impairments: A multimodal approach.', 'The Effects of Low Frequency Repetitive Transcranial Magnetic Stimulation on White Matter Structural Connectivity in Children with Cerebral Palsy.', 'Combined transcranial direct current stimulation and robotic upper limb therapy improves upper limb function in an adult with cerebral palsy.', 'Activity- and use-dependent plasticity of the developing corticospinal system.', 'Experience, cortical remapping, and recovery in brain disease.'}\n",
      "추가된 아이템:  {'Non-invasive Brain Stimulation for Chronic Pain: State of the Art and Future Directions', 'HABIT+tDCS: a study protocol of a randomised controlled trial (RCT) investigating the synergistic efficacy of hand-arm bimanual intensive therapy (HABIT) plus targeted non-invasive brain stimulation to improve upper extremity function in school-age children with unilateral cerebral palsy', 'Cortical reorganization in patients with facial palsy', 'Changes of Structural Brain Network Following Repetitive Transcranial Magnetic Stimulation in Children With Bilateral Spastic Cerebral Palsy: A Diffusion Tensor Imaging Study', 'tDCS and motor training in individuals with central nervous system disease: A systematic review', \"[Motor evoked potentials of transcranial magnetic stimulation for Parkinson's disease]\", 'Influence of Combined Transcranial Direct Current Stimulation and Motor Training on Corticospinal Excitability in Children With Unilateral Cerebral Palsy', 'Transcranial Static Magnetic Field Stimulation of the Motor Cortex in Children', 'Effect of sensory and motor connectivity on hand function in pediatric hemiplegia', 'Corticospinal disinhibition during dual action', 'A transcranial magnetic stimulation study for the investigation of corticospinal motor pathways in children with cerebral palsy', 'Contribution of corticospinal drive to ankle plantar flexor muscle activation during gait in adults with cerebral palsy', 'Effect of transcranial direct-current stimulation combined with treadmill training on balance and functional performance in children with cerebral palsy: a double-blind randomized controlled trial', 'Treatment of major depressive disorder with bilateral theta burst stimulation: study protocol for a randomized, double-blind, placebo-controlled multicenter trial (TBS-D)', 'Transcranial direct current stimulation for promoting motor function in cerebral palsy: a review', 'The Mirror Illusion Increases Motor Cortex Excitability in Children With and Without Hemiparesis', 'Clinical correlation between motor evoked potentials and gait recovery in poststroke patients', 'Altered corticospinal projections to lower limb motoneurons in subjects with cerebral palsy', 'Safety and preliminary efficacy of deep transcranial magnetic stimulation in MS-related fatigue', 'Modeling developmental plasticity after perinatal stroke: defining central therapeutic targets in cerebral palsy', 'Short-term effects of functional electrical stimulation on motor-evoked potentials in ankle flexor and extensor muscles', 'Facilitation of ipsilateral motor pathways during recovery from hemiplegia in two adolescent patients', 'Vagus nerve magnetic modulation facilitates dysphagia recovery in patients with stroke involving the brainstem - A proof of concept study', 'Commentary on \"Cardiovascular Effects of Transcranial Direct Current Stimulation and Bimanual Training in Children With Cerebral Palsy\"', 'Non-Invasive Brain Stimulation in Children With Unilateral Cerebral Palsy: A Protocol and Risk Mitigation Guide', 'Facial palsy in cerebral venous thrombosis : transcranial stimulation and pathophysiological considerations', 'Anisotropy of transcallosal motor fibres indicates functional impairment in children with periventricular leukomalacia', 'Spinal and corticospinal excitability in response to reductions in skin and core temperatures via whole-body cooling', 'Noninvasive Brain Stimulation for Rehabilitation of Pediatric Motor Disorders Following Brain Injury: Systematic Review of Randomized Controlled Trials', 'Full Activation Profiles and Integrity of Corticospinal Pathways in Adults With Bilateral Spastic Cerebral Palsy', 'Efficacy of coupling inhibitory and facilitatory repetitive transcranial magnetic stimulation to enhance motor recovery in hemiplegic stroke patients', 'Theta burst stimulation to characterize changes in brain plasticity following mild traumatic brain injury: A proof-of-principle study', 'Effect of a single session of transcranial direct-current stimulation on balance and spatiotemporal gait variables in children with cerebral palsy: A randomized sham-controlled study', 'The neurophysiology of paediatric movement disorders', 'Addressing Neuroplastic Changes in Distributed Areas of the Nervous System Associated With Chronic Musculoskeletal Disorders', 'INCITE: A randomised trial comparing constraint induced movement therapy and bimanual training in children with congenital hemiplegia', 'Neuromodulation: A combined-therapy protocol for speech rehabilitation in a child with cerebral palsy', 'Motor Cortex Plasticity in Children With Spastic Cerebral Palsy: A Systematic Review', 'Combined transcranial direct current stimulation and robotic upper limb therapy improves upper limb function in an adult with cerebral palsy', 'The Effects of Low Frequency Repetitive Transcranial Magnetic Stimulation on White Matter Structural Connectivity in Children with Cerebral Palsy', 'Magnetic stimulation of human premotor or motor cortex produces interhemispheric facilitation through distinct pathways', 'Effects of transcranial direct current stimulation (tDCS) on balance improvement: a systematic review and meta-analysis', 'Effect of Transcranial Direct Current Stimulation of Motor Cortex in Cerebral Palsy: A Study Protocol', 'Effect of r-TMS over standard therapy in decreasing muscle tone of spastic cerebral palsy patients', 'Cortical control of spatial memory in humans: the visuooculomotor model', 'Central motor reorganization in cerebral palsy patients with bilateral cerebral lesions', 'Therapeutic Effects of repetitive Transcranial Magnetic Stimulation on Corticospinal Tract Activities and Neuromuscular Properties in Children with Cerebral Palsy', 'The Combined Use of Transcranial Direct Current Stimulation and Robotic Therapy for the Upper Limb', 'The effect of a series of repetitive transcranial magnetic stimulations of the motor cortex on central pain after spinal cord injury', 'Developmental Remodelling of the Motor Cortex in Hemiparetic Children With Perinatal Stroke', 'Ontogeny of ipsilateral corticospinal projections: a developmental study with transcranial magnetic stimulation', 'Transcranial Direct-Current Stimulation Can Enhance Motor Learning in Children', 'Care for child development: basic science rationale and effects of interventions', 'Understanding the relationship between brain and upper limb function in children with unilateral motor impairments: A multimodal approach', 'Spinal and corticospinal pathways are differently modulated when standing at the bottom and the top of a three-step staircase in young and older adults', 'Increased cerebellar activation after repetitive transcranial magnetic stimulation over the primary motor cortex in patients with multiple system atrophy', 'Neuromodulatory effect of repetitive transcranial magnetic stimulation pulses on functional motor performances of spastic cerebral palsy children', 'Changes in spectroscopic biomarkers after transcranial direct current stimulation in children with perinatal stroke', 'Hand function assessment in the first years of life in unilateral cerebral palsy: Correlation with neuroimaging and cortico-spinal reorganization', 'Transcranial Direct-Current Stimulation on Motor Function in Pediatric Cerebral Palsy: A Systematic Review', 'Evidence of activity-dependent withdrawal of corticospinal projections during human development', 'Corticospinal Excitability in Children with Congenital Hemiparesis', 'Discernible effects of tDCS over the primary motor and posterior parietal cortex on different stages of motor learning', 'Postural challenge affects motor cortical activity in young and old adults', 'Motor mapping in cerebral palsy', 'Noninvasive and painless magnetic stimulation of nerves improved brain motor function and mobility in a cerebral palsy case', 'Evaluating the Effects of 5-Hz Repetitive Transcranial Magnetic Stimulation With and Without Wrist-Ankle Acupuncture on Improving Spasticity and Motor Function in Children With Cerebral Palsy: A Randomized Controlled Trial', 'Capturing neuroplastic changes after bimanual intensive rehabilitation in children with unilateral spastic cerebral palsy: A combined DTI, TMS and fMRI pilot study', 'Using diffusion tensor imaging to identify corticospinal tract projection patterns in children with unilateral spastic cerebral palsy', 'Reorganization of the Action Observation Network and Sensory-Motor System in Children with Unilateral Cerebral Palsy: An fMRI Study', 'Reduction of spasticity in cerebral palsy by anodal transcranial direct current stimulation', 'Upper limb function and cortical organization in youth with unilateral cerebral palsy', 'Unaffected motor cortex remodeling after hemispherectomy in an epileptic cerebral palsy patient. A TMS and fMRI study', 'Changes in EEG after transcranial magnetic stimulation in children with cerebral palsy', 'White matter characteristics of motor, sensory and interhemispheric tracts underlying impaired upper limb function in children with unilateral cerebral palsy', 'Developmental profile of motor cortex transcallosal inhibition in children and adolescents', 'Intracortical inhibition in the soleus muscle is reduced during the control of upright standing in both young and old adults', 'Intervention-Induced Motor Cortex Plasticity in Hemiparetic Children With Perinatal Stroke', 'Early intervention after perinatal stroke: opportunities and challenges', 'Cathodal transcranial direct current stimulation in children with dystonia: a sham-controlled study', 'Outcomes in spasticity after repetitive transcranial magnetic and transcranial direct current stimulations', 'Dynamic modulation of rTMS on functional connectivity and functional network connectivity to children with cerebral palsy: a case report', 'The role of the human dorsolateral prefrontal cortex in ocular motor behavior', 'Post-stroke reorganization of hand motor area: a 1-year prospective follow-up with focal transcranial magnetic stimulation', 'Nuclear facial palsy in multiple sclerosis: a case report', '[Effect of infra-low-frequency transcranial magnetic stimulation on motor function in children with spastic cerebral palsy]', 'Neural correlates of fatigue in multiple sclerosis: a combined neurophysiological and neuroimaging approach (R1)', 'Reactivity of sensorimotor oscillations is altered in children with hemiplegic cerebral palsy: A magnetoencephalographic study', 'Electrical stimulation of the human common peroneal nerve elicits lasting facilitation of cortical motor-evoked potentials', 'Maturation of Corticospinal Tracts in Children With Hemiplegic Cerebral Palsy Assessed by Diffusion Tensor Imaging and Transcranial Magnetic Stimulation', 'Brain stimulation and constraint for perinatal stroke hemiparesis: The PLASTIC CHAMPS Trial', 'The Effects of tDCS with NDT on the Improvement of Motor Development in Cerebral Palsy', 'Hyperexcitability of brain stem pathways in cerebral palsy', 'Transcranial direct current stimulation combined with upper limb functional training in children with spastic, hemiparetic cerebral palsy: study protocol for a randomized controlled trial', 'Synergistic effect of combined transcranial direct current stimulation/constraint-induced movement therapy in children and young adults with hemiparesis: study protocol', 'Safety and tolerability of transcranial magnetic and direct current stimulation in children: Prospective single center evidence from 3.5 million stimulations', 'Effect of transcranial direct current stimulation combined with gait and mobility training on functionality in children with cerebral palsy: study protocol for a double-blind randomized controlled clinical trial', 'Hand function in relation to brain lesions and corticomotor-projection pattern in children with unilateral cerebral palsy', 'Measurement error and reliability of TMS metrics collected from biceps and triceps in individuals with chronic incomplete tetraplegia', 'Static magnetic stimulation of the primary motor cortex impairs online but not offline motor sequence learning', 'Ipsilateral Corticospinal Tract Excitability Contributes to the Severity of Mirror Movements in Unilateral Cerebral Palsy: A Case Series', 'Reduced corticomotor excitability and motor skills development in children born preterm', 'Transcranial Direct Current Stimulation in Pediatric Motor Disorders: A Systematic Review and Meta-analysis', 'Absence of response to early transcranial magnetic stimulation in ischemic stroke patients: prognostic value for hand motor recovery', 'Neurophysiologic and neuroimaging studies of brain plasticity in children with spastic cerebral palsy', 'From adults to pediatrics: A review noninvasive brain stimulation (NIBS) to facilitate recovery from brain injury', 'Brain function decline in healthy retired athletes who sustained their last sports concussion in early adulthood', 'Altered cortical inhibitory function in children with spastic diplegia: a TMS study', 'Transcranial direct current stimulation for children with perinatal stroke and hemiparesis', '[Possible one-dimensional determination of cortical representative fields of mimetic lower lip muscles by transcranial magnetic stimulation]', 'Contribution of altered corticospinal microstructure to gait impairment in children with cerebral palsy', 'Functional topography of early periventricular brain lesions in relation to cytoarchitectonic probabilistic maps', 'Effects of cortical lesions on saccadic: eye movements in humans', 'Effects of a single session of transcranial direct current stimulation on upper limb movements in children with cerebral palsy: A randomized, sham-controlled study', 'Motor Evoked Potentials as Potential Biomarkers of Early Atypical Corticospinal Tract Development in Infants with Perinatal Stroke', 'Neurophysiologic markers of primary motor cortex for laryngeal muscles and premotor cortex in caudal opercular part of inferior frontal gyrus investigated in motor speech disorder: a navigated transcranial magnetic stimulation (TMS) study', 'Intraoperative motor mapping of the cerebral peduncle during resection of a midbrain cavernous malformation: technical case report', 'Interhemispheric motor interactions in hemiparetic children with perinatal stroke: Clinical correlates and effects of neuromodulation therapy', 'Updates in the treatment of spasticity associated with cerebral palsy', 'The Effect of Constraint-Induced Movement Therapy Combined With Repetitive Transcranial Magnetic Stimulation on Hand Function in Preschool Children With Unilateral Cerebral Palsy: A Randomized Controlled Preliminary Study', 'Cortical control of ocular saccades in humans: a model for motricity', 'Less-Affected Hand Function in Children With Hemiparetic Unilateral Cerebral Palsy: A Comparison Study With Typically Developing Peers', 'Latin American and Caribbean consensus on noninvasive central nervous system neuromodulation for chronic pain management (LAC(2)-NIN-CP)', 'Effects of anodal transcranial direct current stimulation combined with virtual reality for improving gait in children with spastic diparetic cerebral palsy: a pilot, randomized, controlled, double-blind, clinical trial', 'Increasing Number of Therapy Sessions of Repetitive Transcranial Magnetic Stimulation Improves Motor Development by Reducing Muscle Spasticity in Cerebral Palsy Children', 'Somatosensory Evoked Potentials and Central Motor Conduction Times in children with dystonia and their correlation with outcomes from Deep Brain Stimulation of the Globus pallidus internus', 'Transcranial direct current stimulation during treadmill training in children with cerebral palsy: a randomized controlled double-blind clinical trial', 'Motor evoked potentials: prognostic value in motor recovery after stroke', 'Sensorimotor Robotic Measures of tDCS- and HD-tDCS-Enhanced Motor Learning in Children', 'Reorganization of the motor cortex in a patient with congenital hemiparesis and mirror movements', 'The relationship of corticospinal excitability with pain, motor performance and disability in subjects with chronic wrist/hand pain', 'Skilled Bimanual Training Drives Motor Cortex Plasticity in Children With Unilateral Cerebral Palsy', 'Longitudinal assessment of (1)H-MRS (GABA and Glx) and TMS measures of cortical inhibition and facilitation in the sensorimotor cortex', '[Assessment of motor cranial nerve functions using transcranial magnetic stimulation]', 'Brain connectivity: finding a cause', 'The Effect of Bilateral Anodal Transcranial Direct Current Stimulation versus Treadmill Training on Brain Activities, Gait Functions, Level of Participation and Enjoyment of Children with Cerebral Palsy: A Randomized Controlled Trial Protocol', 'Functional recovery in hemiplegic cerebral palsy: ipsilateral electromyographic responses to focal transcranial magnetic stimulation', 'Transcranial Direct Current Stimulation (tDCS) Paired with Occupation-Centered Bimanual Training in Children with Unilateral Cerebral Palsy: A Preliminary Study', 'Absence of transcallosal inhibition in adolescents with diplegic cerebral palsy', 'Mirror movements in children with unilateral cerebral palsy due to perinatal stroke: clinical correlates of plasticity reorganization', 'Upper limb corticomotor projections and physiological changes that occur with botulinum toxin-A therapy in children with hemiplegic cerebral palsy', 'Corticospinal Tract Wiring and Brain Lesion Characteristics in Unilateral Cerebral Palsy: Determinants of Upper Limb Motor and Sensory Function', 'Goals of children with unilateral cerebral palsy in a brain stimulation arm rehabilitation trial', 'Editorial: Novel Multimodal Approaches in Non-invasive Brain Stimulation', 'A comprehensive database of published tDCS clinical trials (2005-2016)', 'Noninvasive brain stimulation: the potential for use in the rehabilitation of pediatric acquired brain injury', 'Cricopharyngeal sphincter muscle responses to transcranial magnetic stimulation in normal subjects and in patients with dysphagia', 'Transcranial Direct Current Stimulation (tDCS) in Unilateral Cerebral Palsy: A Pilot Study of Motor Effect', 'Effect of Combined Therapy of Virtual Reality and Transcranial Direct Current Stimulation in Children and Adolescents With Cerebral Palsy: A Study Protocol for a Triple-Blinded Randomized Controlled Crossover Trial', 'Imaging functional motor connectivity in hemiparetic children with perinatal stroke', 'Combining constraint-induced movement therapy and action-observation training in children with unilateral cerebral palsy: a randomized controlled trial', 'Transient Changes in Brain Metabolites after Transcranial Direct Current Stimulation in Spastic Cerebral Palsy: A Pilot Study', 'Task load modulates tDCS effects on language performance', 'Does a Combination of Virtual Reality, Neuromodulation and Neuroimaging Provide a Comprehensive Platform for Neurorehabilitation? - A Narrative Review of the Literature', 'Can motor recovery in stroke patients be predicted by early transcranial magnetic stimulation?', 'Modulation of physiological mirror activity with transcranial direct current stimulation over dorsal premotor cortex', 'Low and high frequency repetitive transcranial magnetic stimulation for the treatment of spasticity', '[Slowly progressive dysarthria in primary lateral sclerosis]', 'Transcranial magnetic coil stimulation of motor cortex in patients with central pain', 'Anodal transcranial direct current stimulation does not influence the neural adjustments associated with fatiguing contractions in a hand muscle', 'EMG breakthrough during cortical silent period in congenital hemiparesis: a descriptive case series', 'Combined effect of hydrotherapy and transcranial direct-current stimulation on children with cerebral palsy: A protocol for a randomized controlled trial', 'Physical therapy in children with cerebral palsy in Brazil: a scoping review', 'Evaluating the Effect of Repetitive Transcranial Magnetic Stimulation in Cerebral Palsy Children by Employing Electroencephalogram Signals', 'Cortical control of spinal pathways mediating group II excitation to human thigh motoneurones', 'Neonatal neuroimaging predicts recruitment of contralesional corticospinal tracts following perinatal brain injury', '\"Paralympic Brain\". Compensation and Reorganization of a Damaged Human Brain with Intensive Physical Training', 'Estimation of facial central motor delay by electrical stimulation of the motor cortex of the dog', 'Study Protocol: Multimodal Longitudinal Assessment of Infant Brain Organization and Recovery in Perinatal Brain Injury', 'Noninvasive Neuromodulation to Promote Motor Skill Gains After Perinatal Stroke', '[Effect of acupuncture combined with repetitive transcranial magnetic stimulation on motor function and cerebral hemodynamics in children with spastic cerebral palsy with spleen-kidney deficiency]', 'Effect of Anodic tDCS Over Motor Cortex Versus Cerebellum in Cerebral Palsy: A Study Protocol', 'Therapeutic effects of anti-gravity treadmill (AlterG) training on reflex hyper-excitability, corticospinal tract activities, and muscle stiffness in children with cerebral palsy', 'Contralesional Corticomotor Neurophysiology in Hemiparetic Children With Perinatal Stroke', 'Spared Primary Motor Cortex and The Presence of MEP in Cerebral Palsy Dictate the Responsiveness to tDCS during Gait Training', 'Motor cortical functional geometry in cerebral palsy and its relationship to disability', 'Transcranial magnetic stimulation as a diagnostic and prognostic test in amyotrophic lateral sclerosis', 'Neuromuscular electrical stimulation has a global effect on corticospinal excitability for leg muscles and a focused effect for hand muscles', 'Corticospinal tract development and its plasticity after perinatal injury', 'Eye movement control by the cerebral cortex', 'Editorial: Motor Control of Gait and the Underlying Neural Network in Pediatric Neurology', 'Electrophysiological assessment of the effect of intrathecal baclofen in dystonic children', 'Exploring Clinical and Neurophysiological Factors Associated with Response to Constraint Therapy and Brain Stimulation in Children with Hemiparetic Cerebral Palsy', 'Corticospinal input onto motor neurons projecting to ankle muscles in individuals with cerebral palsy', 'Persistent mirror movements for over sixty years: the underlying mechanisms in a cerebral palsy patient', 'Protocol for a cost-utility analysis of neurostimulation and intensive camp-based therapy for children with perinatal stroke and hemiparesis based on a multicentre clinical trial', 'Do Adults with Stroke have Altered Interhemispheric Inhibition? A Systematic Review with Meta-Analysis', \"Subthalamic deep brain stimulation modulates small fiber-dependent sensory thresholds in Parkinson's disease\", 'Motor cortical disinhibition in the unaffected hemisphere after unilateral cortical stroke', 'Neurophysiological Assessments of Brain and Spinal Cord Associated with Lower Limb Functions in Children with Cerebral Palsy: A Protocol for Systematic Review and Meta-Analysis', 'Differences in sensory and motor cortical organization following brain injury early in life', 'Bimanual Skill Learning after Transcranial Direct Current Stimulation in Children with Unilateral Cerebral Palsy: A Brief Report', 'Transcranial magnetic stimulation in children', 'The contribution of transcranial magnetic stimulation in the diagnosis and in the management of dementia', 'Cardiovascular Effects of Transcranial Direct Current Stimulation and Bimanual Training in Children With Cerebral Palsy', 'Activity- and use-dependent plasticity of the developing corticospinal system', 'A transcranial magnetic stimulation study for the characterization of corticospinal pathway plasticity in children with neurological disorders', 'TMS-Induced Central Motor Conduction Time at the Non-Infarcted Hemisphere Is Associated with Spontaneous Motor Recovery of the Paretic Upper Limb after Severe Stroke', 'Neurophysiological mechanisms and functional impact of mirror movements in children with unilateral spastic cerebral palsy', 'Increased motor cortex excitability during motor imagery in brain-computer interface trained subjects', 'The correlation between transcranial magnetic stimulation parameters and neuromuscular properties in children with cerebral palsy', 'Response: Commentary: Skilled Bimanual Training Drives Motor Cortex Plasticity in Children with Unilateral Cerebral Palsy', 'Effects of High-Definition and Conventional Transcranial Direct-Current Stimulation on Motor Learning in Children', 'Antidepressant-like effects of nicotine and transcranial magnetic stimulation in the olfactory bulbectomy rat model of depression', 'Brain functional reorganization in children with hemiplegic cerebral palsy: Assessment with TMS and therapeutic perspectives', 'The Relationship Between Hand Function and Overlapping Motor Representations of the Hands in the Contralesional Hemisphere in Unilateral Spastic Cerebral Palsy', 'The Impact of Repetitive Transcranial Magnetic Stimulation on Affected and Unaffected Sides of a Child with Hemiplegic Cerebral Palsy', 'Robotic mapping of motor cortex in children with perinatal stroke and hemiparesis', 'Evaluating developmental motor plasticity with paired afferent stimulation', 'Effect of Anodal Transcranial Direct Current Stimulation Combined With Cognitive Training for Improving Cognition and Language Among Children With Cerebral Palsy With Cognitive Impairment: A Pilot, Randomized, Controlled, Double-Blind, and Clinical Trial', 'Advancing non-invasive neuromodulation clinical trials in children: Lessons from perinatal stroke', 'Multimodal assessment of motor pathways and intracortical connections in functional hemispherectomy', 'Task load modulates tDCS effects on brain network for phonological processing', 'Understanding the impact of bilateral brain injury in children with unilateral cerebral palsy', 'Motor learning in unilateral cerebral palsy and the influence of corticospinal tract reorganization', 'Safety and Feasibility of Transcranial Magnetic Stimulation as an Exploratory Assessment of Corticospinal Connectivity in Infants After Perinatal Brain Injury: An Observational Study', 'Commentary on \"Transcranial Direct-Current Stimulation on Motor Function in Pediatric Cerebral Palsy: A Systematic Review\"', 'Transcranial direct current stimulation as a motor neurorehabilitation tool: an empirical review', 'Commentary: Skilled Bimanual Training Drives Motor Cortex Plasticity in Children With Unilateral Cerebral Palsy', 'Experience, cortical remapping, and recovery in brain disease', 'Multiday Transcranial Direct Current Stimulation Causes Clinically Insignificant Changes in Childhood Dystonia: A Pilot Study', 'Understanding of action-related and abstract verbs in comparison: a behavioral and TMS study'}\n"
     ]
    }
   ],
   "source": [
    "id_dropped = set(olddata['title']) - set(newdata['Title'])\n",
    "id_added = set(newdata['Title']) - set(olddata['title'])\n",
    "\n",
    "print('삭제된 아이템: ',id_dropped)\n",
    "print('추가된 아이템: ',id_added)"
   ]
  },
  {
   "cell_type": "code",
   "execution_count": 88,
   "metadata": {},
   "outputs": [],
   "source": [
    "df_merge = pd.DataFrame()\n",
    "\n",
    "df_merge['New'] = newdata['Title']\n",
    "df_merge['Old'] = olddata['title']\n",
    "\n",
    "df_merge.to_excel('result.xlsx')\n"
   ]
  },
  {
   "cell_type": "code",
   "execution_count": 106,
   "metadata": {},
   "outputs": [
    {
     "name": "stdout",
     "output_type": "stream",
     "text": [
      "                                                   New\n",
      "0    Do Adults with Stroke have Altered Interhemisp...\n",
      "1    Non-invasive Brain Stimulation for Chronic Pai...\n",
      "2    Physical therapy in children with cerebral pal...\n",
      "3    Exploring Clinical and Neurophysiological Fact...\n",
      "4    Robotic mapping of motor cortex in children wi...\n",
      "..                                                 ...\n",
      "223  Transcranial magnetic stimulation as a diagnos...\n",
      "224  Transcranial magnetic coil stimulation of moto...\n",
      "225  Altered corticospinal projections to lower lim...\n",
      "226  Estimation of facial central motor delay by el...\n",
      "227  [Assessment of motor cranial nerve functions u...\n",
      "\n",
      "[228 rows x 1 columns]\n"
     ]
    }
   ],
   "source": [
    "df1 = pd.DataFrame(df_merge['New'])\n",
    "print(df1)"
   ]
  },
  {
   "cell_type": "code",
   "execution_count": 107,
   "metadata": {},
   "outputs": [
    {
     "name": "stdout",
     "output_type": "stream",
     "text": [
      "                                                   Old\n",
      "0    Do Adults with Stroke have Altered Interhemisp...\n",
      "1    Repetitive Peripheral Magnetic Stimulation to ...\n",
      "2    Non-invasive Brain Stimulation for Chronic Pai...\n",
      "3    Physical therapy in children with cerebral pal...\n",
      "4    Exploring Clinical and Neurophysiological Fact...\n",
      "..                                                 ...\n",
      "223                                                NaN\n",
      "224                                                NaN\n",
      "225                                                NaN\n",
      "226                                                NaN\n",
      "227                                                NaN\n",
      "\n",
      "[228 rows x 1 columns]\n"
     ]
    }
   ],
   "source": [
    "df2 = pd.DataFrame(df_merge['Old'])\n",
    "print(df2)"
   ]
  },
  {
   "cell_type": "code",
   "execution_count": 111,
   "metadata": {},
   "outputs": [
    {
     "data": {
      "text/plain": [
       "False"
      ]
     },
     "execution_count": 111,
     "metadata": {},
     "output_type": "execute_result"
    }
   ],
   "source": [
    "##완벽히 같은지는 볼 수 있음\n",
    "df1.reset_index(drop=True).equals(df2.reset_index(drop=True))"
   ]
  },
  {
   "cell_type": "code",
   "execution_count": 133,
   "metadata": {},
   "outputs": [
    {
     "name": "stdout",
     "output_type": "stream",
     "text": [
      "0      False\n",
      "1      False\n",
      "2      False\n",
      "3      False\n",
      "4      False\n",
      "       ...  \n",
      "223    False\n",
      "224    False\n",
      "225    False\n",
      "226    False\n",
      "227    False\n",
      "Name: New, Length: 228, dtype: bool\n"
     ]
    }
   ],
   "source": [
    "print(df1['New'].isin(df2['Old']))     "
   ]
  },
  {
   "cell_type": "code",
   "execution_count": 130,
   "metadata": {},
   "outputs": [
    {
     "ename": "ValueError",
     "evalue": "The truth value of a DataFrame is ambiguous. Use a.empty, a.bool(), a.item(), a.any() or a.all().",
     "output_type": "error",
     "traceback": [
      "\u001b[1;31m---------------------------------------------------------------------------\u001b[0m",
      "\u001b[1;31mValueError\u001b[0m                                Traceback (most recent call last)",
      "\u001b[1;32md:\\BU\\Others\\computer\\BU_python_study\\KIM_HJ\\Homework\\metaAnalysis\\web_crawler.ipynb Cell 12'\u001b[0m in \u001b[0;36m<cell line: 5>\u001b[1;34m()\u001b[0m\n\u001b[0;32m      <a href='vscode-notebook-cell:/d%3A/BU/Others/computer/BU_python_study/KIM_HJ/Homework/metaAnalysis/web_crawler.ipynb#ch0000027?line=3'>4</a>\u001b[0m a \u001b[39m=\u001b[39m df2[\u001b[39m~\u001b[39mdf2\u001b[39m.\u001b[39mOld\u001b[39m.\u001b[39misin(df1\u001b[39m.\u001b[39mNew)]\n\u001b[0;32m      <a href='vscode-notebook-cell:/d%3A/BU/Others/computer/BU_python_study/KIM_HJ/Homework/metaAnalysis/web_crawler.ipynb#ch0000027?line=4'>5</a>\u001b[0m \u001b[39mfor\u001b[39;00m nothing \u001b[39min\u001b[39;00m a:\n\u001b[1;32m----> <a href='vscode-notebook-cell:/d%3A/BU/Others/computer/BU_python_study/KIM_HJ/Homework/metaAnalysis/web_crawler.ipynb#ch0000027?line=5'>6</a>\u001b[0m     \u001b[39mif\u001b[39;00m a \u001b[39m==\u001b[39;49m NaN:\n\u001b[0;32m      <a href='vscode-notebook-cell:/d%3A/BU/Others/computer/BU_python_study/KIM_HJ/Homework/metaAnalysis/web_crawler.ipynb#ch0000027?line=6'>7</a>\u001b[0m         \u001b[39mprint\u001b[39m(\u001b[39m'\u001b[39m\u001b[39mX\u001b[39m\u001b[39m'\u001b[39m)\n",
      "File \u001b[1;32mc:\\Users\\HyunJoon_Kim\\anaconda3\\envs\\bu\\lib\\site-packages\\pandas\\core\\generic.py:1527\u001b[0m, in \u001b[0;36mNDFrame.__nonzero__\u001b[1;34m(self)\u001b[0m\n\u001b[0;32m   1525\u001b[0m \u001b[39m@final\u001b[39m\n\u001b[0;32m   1526\u001b[0m \u001b[39mdef\u001b[39;00m \u001b[39m__nonzero__\u001b[39m(\u001b[39mself\u001b[39m):\n\u001b[1;32m-> 1527\u001b[0m     \u001b[39mraise\u001b[39;00m \u001b[39mValueError\u001b[39;00m(\n\u001b[0;32m   1528\u001b[0m         \u001b[39mf\u001b[39m\u001b[39m\"\u001b[39m\u001b[39mThe truth value of a \u001b[39m\u001b[39m{\u001b[39;00m\u001b[39mtype\u001b[39m(\u001b[39mself\u001b[39m)\u001b[39m.\u001b[39m\u001b[39m__name__\u001b[39m\u001b[39m}\u001b[39;00m\u001b[39m is ambiguous. \u001b[39m\u001b[39m\"\u001b[39m\n\u001b[0;32m   1529\u001b[0m         \u001b[39m\"\u001b[39m\u001b[39mUse a.empty, a.bool(), a.item(), a.any() or a.all().\u001b[39m\u001b[39m\"\u001b[39m\n\u001b[0;32m   1530\u001b[0m     )\n",
      "\u001b[1;31mValueError\u001b[0m: The truth value of a DataFrame is ambiguous. Use a.empty, a.bool(), a.item(), a.any() or a.all()."
     ]
    }
   ],
   "source": [
    "from numpy import NaN\n",
    "\n",
    "\n",
    "a = df2[~df2.Old.isin(df1.New)]\n",
    "for nothing in a:\n",
    "    if a == NaN:\n",
    "        print('X')\n"
   ]
  },
  {
   "cell_type": "code",
   "execution_count": 127,
   "metadata": {},
   "outputs": [],
   "source": [
    "df_merge['difference'] = a\n",
    "df_merge.head()\n",
    "df_merge.to_excel('result2.xlsx')"
   ]
  },
  {
   "cell_type": "code",
   "execution_count": 122,
   "metadata": {},
   "outputs": [
    {
     "name": "stdout",
     "output_type": "stream",
     "text": [
      "0      True\n",
      "1      True\n",
      "2      True\n",
      "3      True\n",
      "4      True\n",
      "       ... \n",
      "223    True\n",
      "224    True\n",
      "225    True\n",
      "226    True\n",
      "227    True\n",
      "Name: Old, Length: 228, dtype: bool\n"
     ]
    }
   ],
   "source": [
    "print(df2['Old'].isin(df1)==False)"
   ]
  },
  {
   "cell_type": "code",
   "execution_count": 117,
   "metadata": {},
   "outputs": [
    {
     "name": "stdout",
     "output_type": "stream",
     "text": [
      "     New  Old\n",
      "0    NaN  NaN\n",
      "1    NaN  NaN\n",
      "2    NaN  NaN\n",
      "3    NaN  NaN\n",
      "4    NaN  NaN\n",
      "..   ...  ...\n",
      "223  NaN  NaN\n",
      "224  NaN  NaN\n",
      "225  NaN  NaN\n",
      "226  NaN  NaN\n",
      "227  NaN  NaN\n",
      "\n",
      "[228 rows x 2 columns]\n"
     ]
    }
   ],
   "source": [
    "df_diff = df1 - df2\n",
    "print(df_diff)"
   ]
  },
  {
   "cell_type": "code",
   "execution_count": 86,
   "metadata": {},
   "outputs": [],
   "source": [
    "df_dropped = olddata[olddata['title'].isin(id_dropped)].iloc[:,:-1]\n",
    "df_added = newdata[newdata['Title'].isin(id_added)].iloc[:,:-1]"
   ]
  },
  {
   "cell_type": "code",
   "execution_count": 87,
   "metadata": {},
   "outputs": [
    {
     "name": "stdout",
     "output_type": "stream",
     "text": [
      "                                                 title\n",
      "0    Do Adults with Stroke have Altered Interhemisp...\n",
      "1    Repetitive Peripheral Magnetic Stimulation to ...\n",
      "2    Non-invasive Brain Stimulation for Chronic Pai...\n",
      "3    Physical therapy in children with cerebral pal...\n",
      "4    Exploring Clinical and Neurophysiological Fact...\n",
      "..                                                 ...\n",
      "195    Corticospinal disinhibition during dual action.\n",
      "196  Short-term effects of functional electrical st...\n",
      "197  Electrophysiological assessment of the effect ...\n",
      "198       Eye movement control by the cerebral cortex.\n",
      "199  Electrical stimulation of the human common per...\n",
      "\n",
      "[194 rows x 1 columns]\n",
      "                                                 Title\n",
      "0    Do Adults with Stroke have Altered Interhemisp...\n",
      "1    Non-invasive Brain Stimulation for Chronic Pai...\n",
      "2    Physical therapy in children with cerebral pal...\n",
      "3    Exploring Clinical and Neurophysiological Fact...\n",
      "4    Robotic mapping of motor cortex in children wi...\n",
      "..                                                 ...\n",
      "223  Transcranial magnetic stimulation as a diagnos...\n",
      "224  Transcranial magnetic coil stimulation of moto...\n",
      "225  Altered corticospinal projections to lower lim...\n",
      "226  Estimation of facial central motor delay by el...\n",
      "227  [Assessment of motor cranial nerve functions u...\n",
      "\n",
      "[222 rows x 1 columns]\n"
     ]
    }
   ],
   "source": [
    "\n",
    "print(df_dropped)\n",
    "print(df_added)"
   ]
  },
  {
   "cell_type": "code",
   "execution_count": null,
   "metadata": {},
   "outputs": [],
   "source": [
    "# 두 데이터프레임을 하나로 합칩니다.\n",
    "df_concatted = pd.concat([olddata, newdata], ignore_index=True)\n",
    "# 모든 컬럼의 내용이 중복되는 데이터는 삭제합니다.\n",
    "changes = df_concatted.drop_duplicates(df_concatted.columns[:-1], keep='last')\n",
    "\n",
    "# 남은 데이터 중 동일한 아이디 값이 두개 이상 존재한다면\n",
    "# 정보가 변경된 데이터입니다.\n",
    "duplicated_list = changes[changes['title'].duplicated()]['title'].to_list()\n",
    "df_changed = changes[changes['title'].isin(duplicated_list)]\n",
    "print(df_changed)"
   ]
  },
  {
   "cell_type": "code",
   "execution_count": null,
   "metadata": {},
   "outputs": [],
   "source": [
    "df_changed_old = df_changed[df_changed['ver'] == 'old'].iloc[:,:-1]\n",
    "df_changed_old.sort_values(by='title', inplace=True)\n",
    "\n",
    "df_changed_new = df_changed[df_changed['ver'] == 'new'].iloc[:,:-1]\n",
    "df_changed_new.sort_values(by='Title', inplace=True)\n"
   ]
  },
  {
   "cell_type": "code",
   "execution_count": null,
   "metadata": {},
   "outputs": [],
   "source": [
    "df_info_changed = df_changed_old.copy()\n",
    "for i in range(len(df_changed_new.index)):\n",
    "    for j in range(len(df_changed_new.columns)):\n",
    "        if (df_changed_new.iloc[i, j] != df_changed_old.iloc[i, j]):\n",
    "            df_info_changed.iloc[i,j] = str(df_changed_old.iloc[i, j]) + \" ==> \" + str(df_changed_new.iloc[i,j])\n",
    "            "
   ]
  },
  {
   "cell_type": "markdown",
   "metadata": {},
   "source": [
    "# 오늘 배운 것"
   ]
  },
  {
   "cell_type": "code",
   "execution_count": null,
   "metadata": {},
   "outputs": [],
   "source": [
    "paper_url = bsObj.find_all(\"button\",\"data-permalink-url\")"
   ]
  },
  {
   "cell_type": "markdown",
   "metadata": {},
   "source": []
  },
  {
   "cell_type": "code",
   "execution_count": null,
   "metadata": {},
   "outputs": [],
   "source": [
    "# 개별 페이지 접속\n",
    "PAPERURL ='https://pubmed.ncbi.nlm.nih.gov/8969779/'\n",
    "res = requests.get(PAPERURL)\n",
    "print(\"requested url:\",res.url) # 접속한 url 정보\n",
    "bsObj = BeautifulSoup(res.text, \"html.parser\")\n",
    "# 첫번째 a 태그 뽑아오기\n",
    "abstract = bsObj.find_all(\"div\",\"abstract\")"
   ]
  },
  {
   "cell_type": "code",
   "execution_count": null,
   "metadata": {},
   "outputs": [],
   "source": [
    "\n",
    "for i in abstract:\n",
    "    print(i.text)"
   ]
  },
  {
   "cell_type": "code",
   "execution_count": null,
   "metadata": {},
   "outputs": [],
   "source": [
    "title"
   ]
  },
  {
   "cell_type": "code",
   "execution_count": null,
   "metadata": {},
   "outputs": [],
   "source": [
    "bsObj"
   ]
  },
  {
   "cell_type": "code",
   "execution_count": null,
   "metadata": {},
   "outputs": [],
   "source": []
  }
 ],
 "metadata": {
  "kernelspec": {
   "display_name": "Python 3.10.4 ('bu')",
   "language": "python",
   "name": "python3"
  },
  "language_info": {
   "codemirror_mode": {
    "name": "ipython",
    "version": 3
   },
   "file_extension": ".py",
   "mimetype": "text/x-python",
   "name": "python",
   "nbconvert_exporter": "python",
   "pygments_lexer": "ipython3",
   "version": "3.10.4"
  },
  "orig_nbformat": 4,
  "vscode": {
   "interpreter": {
    "hash": "360415a06a2cb4988f467b724c8ffdb39ec3aeec574ee0105248e66f7284bba3"
   }
  }
 },
 "nbformat": 4,
 "nbformat_minor": 2
}
