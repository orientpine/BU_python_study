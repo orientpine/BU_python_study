{
 "cells": [
  {
   "cell_type": "code",
   "execution_count": 51,
   "metadata": {},
   "outputs": [],
   "source": [
    "import pandas as pd\n",
    "from difflib import SequenceMatcher\n",
    "from itertools import product"
   ]
  },
  {
   "cell_type": "code",
   "execution_count": 52,
   "metadata": {},
   "outputs": [],
   "source": [
    "def similar(a, b):\n",
    "    return SequenceMatcher(None, a.lower(), b.lower()).ratio()"
   ]
  },
  {
   "cell_type": "code",
   "execution_count": 53,
   "metadata": {},
   "outputs": [],
   "source": [
    "list_pubmed = pd.read_excel('Individual_studies.xlsx',sheet_name='Pubmed')\n",
    "list_webSci = pd.read_excel('Individual_studies.xlsx',sheet_name='WebOfSciences')\n",
    "list_pubmed['isDuplicate'] = 'NO'\n",
    "list_webSci['isDuplicate'] = 'NO'\n",
    "list_pubmed['dupRate'] = 0\n",
    "list_webSci['dupRate'] = 0"
   ]
  },
  {
   "cell_type": "code",
   "execution_count": 54,
   "metadata": {},
   "outputs": [],
   "source": [
    "items = [list_pubmed['Title'],list_webSci['Title']]\n",
    "for item in list(product(*items)):\n",
    "    matchRate = similar(*item)\n",
    "    if(matchRate > 0.9):\n",
    "        check = 'YES'\n",
    "        list_pubmed.loc[list_pubmed['Title'] == item[0],'isDuplicate'] = check\n",
    "        list_webSci.loc[list_webSci['Title'] == item[1],'isDuplicate'] = check\n",
    "        list_pubmed.loc[list_pubmed['Title'] == item[0],'dupRate'] = matchRate\n",
    "        list_webSci.loc[list_webSci['Title'] == item[1],'dupRate'] = matchRate\n"
   ]
  },
  {
   "cell_type": "code",
   "execution_count": 55,
   "metadata": {},
   "outputs": [],
   "source": [
    "with pd.ExcelWriter('Individual_studies_dupCheck.xlsx') as writer:\n",
    "    list_pubmed.to_excel(writer,sheet_name='Pubmed')\n",
    "    list_webSci.to_excel(writer,sheet_name='WebOfSciences')"
   ]
  },
  {
   "cell_type": "code",
   "execution_count": null,
   "metadata": {},
   "outputs": [],
   "source": []
  }
 ],
 "metadata": {
  "kernelspec": {
   "display_name": "Python 3.8.13 ('imu')",
   "language": "python",
   "name": "python3"
  },
  "language_info": {
   "codemirror_mode": {
    "name": "ipython",
    "version": 3
   },
   "file_extension": ".py",
   "mimetype": "text/x-python",
   "name": "python",
   "nbconvert_exporter": "python",
   "pygments_lexer": "ipython3",
   "version": "3.8.13"
  },
  "orig_nbformat": 4,
  "vscode": {
   "interpreter": {
    "hash": "13b808b5077e789f7dde84b4147c1c98f2537031315824d3f8153389e6a3e631"
   }
  }
 },
 "nbformat": 4,
 "nbformat_minor": 2
}
