{
 "cells": [
  {
   "cell_type": "code",
   "execution_count": 20,
   "metadata": {},
   "outputs": [],
   "source": [
    "import pandas as pd\n",
    "import numpy as np\n",
    "import os\n",
    "from natsort import natsorted\n",
    "import sklearn\n",
    "import names\n",
    "from datetime import date"
   ]
  },
  {
   "cell_type": "code",
   "execution_count": 21,
   "metadata": {},
   "outputs": [],
   "source": [
    "# 필요한 함수 선언\n",
    "def ensure_dir(file_path):\n",
    "    if not os.path.exists(file_path):\n",
    "        os.makedirs(file_path)"
   ]
  },
  {
   "cell_type": "code",
   "execution_count": 45,
   "metadata": {},
   "outputs": [],
   "source": [
    "def makeColumns():\n",
    "    sideType = ['forehead','back']\n",
    "    sensorType = ['fnirs']\n",
    "    AxisType = [str(i) for i in range(0,21)]\n",
    "    print(AxisType)\n",
    "    lside = len(sideType)\n",
    "    lsen = len(sensorType)\n",
    "    lAxis = len(AxisType)\n",
    "    col_acc = [f'{sideType[i//(int(lsen*lside*lAxis/2))]}_{sensorType[(i//(lsen))%lsen]}_{AxisType[i%lAxis]}' for i in range(0,lsen*lAxis*lside)]\n",
    "    return col_acc"
   ]
  },
  {
   "cell_type": "code",
   "execution_count": null,
   "metadata": {},
   "outputs": [],
   "source": [
    "makeColumns()"
   ]
  },
  {
   "cell_type": "code",
   "execution_count": null,
   "metadata": {},
   "outputs": [],
   "source": [
    "num_file = 1\n",
    "num_feature = 42\n",
    "save_dir = './IMU_EXP'\n",
    "ensure_dir(save_dir)\n",
    "for i in range(0,num_file):\n",
    "    # 피험자 이름 생성\n",
    "    name_subject = names.get_full_name()\n",
    "    # 오늘 날짜\n",
    "    str_date = date.today().strftime(\"%B_%d_%Y\")\n",
    "    # 데이터 생성\n",
    "    data_subject = np.random.rand(data_length, num_feature)\n",
    "    # columns 생성\n",
    "    list_col = makeColumns()\n",
    "    # columns 별 데이터 생성 (random 생성, 0에서 1사이 데이터)\n",
    "    df_subject = pd.DataFrame(data_subject, columns=list_col)\n",
    "    # 각파일별 이름 저장\n",
    "    df_subject.to_excel(os.path.join(save_dir,f\"{str_date}_{name_subject}_IMUData.xlsx\"))\n",
    "    break"
   ]
  },
  {
   "cell_type": "code",
   "execution_count": 8,
   "metadata": {},
   "outputs": [
    {
     "data": {
      "text/plain": [
       "'May_26_2022'"
      ]
     },
     "execution_count": 8,
     "metadata": {},
     "output_type": "execute_result"
    }
   ],
   "source": [
    "date.today().strftime(\"%B_%d_%Y\")"
   ]
  },
  {
   "cell_type": "code",
   "execution_count": 10,
   "metadata": {},
   "outputs": [
    {
     "name": "stdout",
     "output_type": "stream",
     "text": [
      "0\n",
      "0\n",
      "0\n",
      "1\n",
      "1\n",
      "1\n",
      "2\n",
      "2\n",
      "2\n",
      "0\n",
      "0\n",
      "0\n",
      "1\n",
      "1\n",
      "1\n"
     ]
    }
   ],
   "source": [
    "for i in range(0,15):\n",
    "    print((i//3)%3)"
   ]
  },
  {
   "cell_type": "code",
   "execution_count": 12,
   "metadata": {},
   "outputs": [
    {
     "ename": "NameError",
     "evalue": "name 'data_subject' is not defined",
     "output_type": "error",
     "traceback": [
      "\u001b[1;31m---------------------------------------------------------------------------\u001b[0m",
      "\u001b[1;31mNameError\u001b[0m                                 Traceback (most recent call last)",
      "\u001b[1;32md:\\BU\\Others\\computer\\BU_python_study\\KIM_HJ\\수업\\table_generator.ipynb Cell 7'\u001b[0m in \u001b[0;36m<cell line: 1>\u001b[1;34m()\u001b[0m\n\u001b[1;32m----> <a href='vscode-notebook-cell:/d%3A/BU/Others/computer/BU_python_study/KIM_HJ/%EC%88%98%EC%97%85/table_generator.ipynb#ch0000006?line=0'>1</a>\u001b[0m df_subject2 \u001b[39m=\u001b[39m pd\u001b[39m.\u001b[39mDataFrame(data_subject, columns\u001b[39m=\u001b[39mlist_col)\n\u001b[0;32m      <a href='vscode-notebook-cell:/d%3A/BU/Others/computer/BU_python_study/KIM_HJ/%EC%88%98%EC%97%85/table_generator.ipynb#ch0000006?line=1'>2</a>\u001b[0m df_subject3 \u001b[39m=\u001b[39m pd\u001b[39m.\u001b[39mconcat([df_subject,df_subject2], ignore_index\u001b[39m=\u001b[39m\u001b[39mTrue\u001b[39;00m)\n",
      "\u001b[1;31mNameError\u001b[0m: name 'data_subject' is not defined"
     ]
    }
   ],
   "source": [
    "    df_subject2 = pd.DataFrame(data_subject, columns=list_col)\n",
    "    df_subject3 = pd.concat([df_subject,df_subject2], ignore_index=True)"
   ]
  },
  {
   "cell_type": "code",
   "execution_count": null,
   "metadata": {},
   "outputs": [],
   "source": []
  }
 ],
 "metadata": {
  "interpreter": {
   "hash": "360415a06a2cb4988f467b724c8ffdb39ec3aeec574ee0105248e66f7284bba3"
  },
  "kernelspec": {
   "display_name": "Python 3.10.4 ('bu')",
   "language": "python",
   "name": "python3"
  },
  "language_info": {
   "codemirror_mode": {
    "name": "ipython",
    "version": 3
   },
   "file_extension": ".py",
   "mimetype": "text/x-python",
   "name": "python",
   "nbconvert_exporter": "python",
   "pygments_lexer": "ipython3",
   "version": "3.10.4"
  },
  "orig_nbformat": 4
 },
 "nbformat": 4,
 "nbformat_minor": 2
}
