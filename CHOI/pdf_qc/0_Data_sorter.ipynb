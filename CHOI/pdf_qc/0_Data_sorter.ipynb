{
 "cells": [
  {
   "cell_type": "code",
   "execution_count": 2,
   "metadata": {},
   "outputs": [],
   "source": [
    "# import 필요한 라이브러리\n",
    "import os\n",
    "from natsort import natsorted\n",
    "from pathlib import Path\n",
    "import shutil\n",
    "import pandas as pd"
   ]
  },
  {
   "cell_type": "markdown",
   "metadata": {},
   "source": [
    "# 환자 ID 대문자로 바꾸기\n",
    "- ID의 일관성은 매우 중요함!\n",
    "- 항상 모든 파일의 양식이 아래와 같은지 확인하기\n",
    "\n",
    "fileName: P002_031220_w_0001_nonleg_imu_knee_angle_moment.csv\n",
    "\n",
    "meaning:  patientID_visitDate_speed_Numbering_measuredLeg_imu_knee_angle_moment.csv"
   ]
  },
  {
   "cell_type": "code",
   "execution_count": null,
   "metadata": {},
   "outputs": [],
   "source": [
    "# 환자 ID를 모두 대문자로 바꾸기\n",
    "targetDir = \"Z:\\PROJECTS\\iwalqq\\Data\\V3D\\Output\\IMU Deep Learning\\Data\\CSV\\exported_csv\"\n",
    "for i in natsorted(os.listdir(targetDir)):\n",
    "    old_name = os.path.join(targetDir, i)\n",
    "    new_name = os.path.join(targetDir, 'P'+i[1:])\n",
    "    os.rename(old_name,new_name)"
   ]
  },
  {
   "cell_type": "markdown",
   "metadata": {},
   "source": [
    "# txt To csv 변환\n",
    "- 필수적임\n",
    "- 항상 데이터 받으면 수행할 것\n"
   ]
  },
  {
   "cell_type": "code",
   "execution_count": null,
   "metadata": {},
   "outputs": [],
   "source": [
    "# txt to csv 변환\n",
    "txtDir = r\"Z:\\PROJECTS\\iwalqq\\Data\\V3D\\Output\\IMU Deep Learning\\Data\\20220325_raw_byDeepak\"\n",
    "csvDir = r\"Z:\\PROJECTS\\iwalqq\\Data\\V3D\\Output\\IMU Deep Learning\\Data\\20220325_raw_byDeepak_csv\"\n",
    "\n",
    "dataList = natsorted([_ for _ in os.listdir(txtDir)])\n",
    "\n",
    "for Name_datum in dataList:\n",
    "    read_file = pd.read_csv(os.path.join(txtDir, Name_datum),sep='\\t')\n",
    "    read_file.to_csv(os.path.join(csvDir, Name_datum.replace(\".txt\",\".csv\")))\n",
    "    "
   ]
  },
  {
   "cell_type": "markdown",
   "metadata": {},
   "source": [
    "# txt To CSV 변환 시 oaleg의 side를 맨 마지막에 집어넣기"
   ]
  },
  {
   "cell_type": "code",
   "execution_count": 47,
   "metadata": {},
   "outputs": [],
   "source": [
    "# txt to csv 변환\n",
    "txtDir = r\"Z:\\PROJECTS\\iwalqq\\Data\\V3D\\Output\\IMU Deep Learning\\Data\\20220325_raw_byDeepak\"\n",
    "csvDir = r\"Z:\\PROJECTS\\iwalqq\\Data\\V3D\\Output\\IMU Deep Learning\\Data\\allnew_20220325_raw_byDeepak_csv\"\n",
    "dgDir = r'Z:\\PROJECTS\\iwalqq\\Data\\V3D\\Output\\IMU Deep Learning\\demographics.xlsx'\n",
    "dataList = natsorted([_ for _ in os.listdir(txtDir)])\n",
    "\n",
    "# demographic 관련\n",
    "list_demograph = pd.read_excel(dgDir,engine = 'openpyxl')\n",
    "\n",
    "for Name_datum in dataList:\n",
    "    sideInfo = list_demograph.loc[list_demograph['ID']==Name_datum.split('_')[0],'Side']\n",
    "    read_file = pd.read_csv(os.path.join(txtDir, Name_datum),sep='\\t')\n",
    "    filename =  Name_datum.replace(\".txt\",\".csv\")\n",
    "    filename = '.'.join([filename.split('.')[0]+f'_{sideInfo.values[0]}',filename.split('.')[1]])\n",
    "    read_file.to_csv(os.path.join(csvDir,filename))"
   ]
  },
  {
   "cell_type": "code",
   "execution_count": 46,
   "metadata": {},
   "outputs": [
    {
     "data": {
      "text/plain": [
       "'L'"
      ]
     },
     "execution_count": 46,
     "metadata": {},
     "output_type": "execute_result"
    }
   ],
   "source": [
    "sideInfo.values[0]"
   ]
  },
  {
   "cell_type": "markdown",
   "metadata": {},
   "source": [
    "# 하나의 폴더에 있는 csv 폴더별로 저장하기\n",
    "- 현재는 필요없음"
   ]
  },
  {
   "cell_type": "code",
   "execution_count": 82,
   "metadata": {},
   "outputs": [],
   "source": [
    "# 필요한 함수 선언\n",
    "def ensure_dir(file_path):\n",
    "    if not os.path.exists(file_path):\n",
    "        os.makedirs(file_path)\n",
    "\n",
    "# target directory 지정\n",
    "dataDir = r\"Z:\\PROJECTS\\iwalqq\\Data\\V3D\\Output\\IMU Deep Learning\\Data\\CSV\"\n",
    "sortedFolder = \"sorted_csv\"\n",
    "dataExt = r\".csv\"\n",
    "# 파일 목록 전체 들고오고 필요한 확장자만 고르고 들고온 파일 목록에서 .txt만 남기고 나머지 것들 제외시키기\n",
    "dataList = natsorted([_ for _ in os.listdir(os.path.join(dataDir,\"exported_csv\" )) if _.endswith(dataExt)])\n",
    "countForErr = 0\n",
    "# 파일 명 split하기\n",
    "# 분리해서 각각 폴더로 옮기기\n",
    "for datum in dataList:\n",
    "    try:\n",
    "        sep_datum = datum.split(\"_\")\n",
    "        paName = sep_datum[0]\n",
    "        paVisitDate = sep_datum[1]\n",
    "        paAffectedside = sep_datum[2]\n",
    "        paDataside = sep_datum[3]\n",
    "        paSpeed = sep_datum[4]\n",
    "        #필요한 경로\n",
    "        saveDir = os.path.join(dataDir, sortedFolder, paName, paVisitDate, paDataside, paSpeed)\n",
    "        # 경로 확인\n",
    "        ensure_dir(saveDir)\n",
    "        # 파일 이동\n",
    "        if not os.path.exists(os.path.join(saveDir,datum)): # 파일이 이미 있으면 그냥 지나감\n",
    "            shutil.copyfile(os.path.join(dataDir,\"exported_csv\", datum), os.path.join(saveDir,datum))\n",
    "    except IndexError:\n",
    "        countForErr = countForErr + 1\n",
    "        print(f'pass the weird file:{countForErr}')\n",
    "      "
   ]
  },
  {
   "cell_type": "markdown",
   "metadata": {},
   "source": [
    "#  folder로 분류된 data를 하나로 합치기(혹시나)\n",
    "- 현재는 필요없음"
   ]
  },
  {
   "cell_type": "code",
   "execution_count": 68,
   "metadata": {},
   "outputs": [],
   "source": [
    "# 위 과정을 거친 폴더를 다시 하나의 파일에다 저장하기\n",
    "# 해당 폴더 내의 모든 .txt 파일 찾기\n",
    "dataDir = r\"Z:\\PROJECTS\\iwalqq\\Data\\V3D\\Output\\IMU Deep Learning\\Data\\sorted_csv\"\n",
    "exportFolder = r\"Z:\\PROJECTS\\iwalqq\\Data\\V3D\\Output\\IMU Deep Learning\\Data\\exported_csv\"\n",
    "for (path, dir, files) in os.walk(dataDir):\n",
    "    for filename in files:\n",
    "        ext = os.path.splitext(filename)[-1]\n",
    "        if ext == '.csv':\n",
    "            shutil.copyfile(os.path.join(path, filename), os.path.join(exportFolder, filename))"
   ]
  },
  {
   "cell_type": "markdown",
   "metadata": {},
   "source": [
    "# 제외시킬 데이터 일단은 COLUMN 이상한거 걸러내기\n"
   ]
  },
  {
   "cell_type": "code",
   "execution_count": null,
   "metadata": {},
   "outputs": [],
   "source": [
    "# Column의 길이가 짧은 경우\n",
    "# 다음 코드에서 이어서..."
   ]
  }
 ],
 "metadata": {
  "interpreter": {
   "hash": "deaecf69fdd75db6910ee7dbdef1256191e6e0ba8ec080482b87a38c123d274f"
  },
  "kernelspec": {
   "display_name": "Python 3.7.11 ('BUreg')",
   "language": "python",
   "name": "python3"
  },
  "language_info": {
   "codemirror_mode": {
    "name": "ipython",
    "version": 3
   },
   "file_extension": ".py",
   "mimetype": "text/x-python",
   "name": "python",
   "nbconvert_exporter": "python",
   "pygments_lexer": "ipython3",
   "version": "3.8.0"
  },
  "orig_nbformat": 4
 },
 "nbformat": 4,
 "nbformat_minor": 2
}
