{
 "cells": [
  {
   "cell_type": "code",
   "execution_count": 9,
   "metadata": {},
   "outputs": [],
   "source": [
    "import csv\n",
    "import requests\n",
    "import re\n",
    "import numpy as np\n",
    "import pandas as pd\n"
   ]
  },
  {
   "cell_type": "code",
   "execution_count": null,
   "metadata": {},
   "outputs": [],
   "source": [
    "\n",
    "URL1 =\"https://pubmed.ncbi.nlm.nih.gov/?term=(cerebral%20palsy%20or%20CP)%20and%20(repetitive%20transcranial%20magnetic%20stimulation%20or%20rTMS%20or%20tDCS%20or%20transcranial%20direct%20current%20stimulation)%20and%20(motor)&sort=pubdate&size=200\"\n",
    "URL2 =\"https://pubmed.ncbi.nlm.nih.gov/?term=(cerebral%20palsy%20or%20CP)%20and%20(repetitive%20transcranial%20magnetic%20stimulation%20or%20rTMS%20or%20tDCS%20or%20transcranial%20direct%20current%20stimulation)%20and%20(motor)&sort=pubdate&size=200&page=2\"\n",
    "selected = 'page1'\n",
    "\n",
    "if selected =='page1':\n",
    "    res = requests.get(URL1) # \n",
    "elif selected =='page2':\n",
    "    res = requests.get(URL2) # \n",
    "\n",
    "print(\"requested url:\",res.url) # 접속한 url 정보\n",
    "\n",
    "from bs4 import BeautifulSoup\n",
    "bsObj = BeautifulSoup(res.text, \"html.parser\")\n",
    "\n",
    "# 첫번째 a 태그 뽑아오기\n",
    "list_title = bsObj.find_all(\"a\",\"docsum-title\")\n",
    "data = pd.DataFrame(columns=['title'])\n",
    "titles = []\n",
    "for title in list_title:\n",
    "    # 논문 이름 뽑기\n",
    "    raw  = title.text\n",
    "    processed = re.sub(\"\\s +\",\"\", raw).strip()\n",
    "    titles.append(processed)\n",
    "    #\n",
    "list_paper_url_info = bsObj.find_all(\"button\", {\"class\":\"share-search-result trigger result-action-trigger share-dialog-trigger\"})\n",
    "for paper_url_info in list_paper_url_info[::2]:\n",
    "    paper_url= paper_url_info[\"data-permalink-url\"] #이렇게 하면 파일마다 주소로 접근할 수 있음\n",
    "    res_paper = requests.get(paper_url) # 접속한 url 정보\n",
    "    bsObj_paper = BeautifulSoup(res_paper.text, \"html.parser\")\n",
    "\n",
    "data['title'] = titles\n",
    "\n",
    "data.to_csv(f'title_{selected}.csv')\n",
    "# 참고: https://swlock.blogspot.com/2019/08/web-page-crawling-scraping-python.html\n",
    "# # 글자만 뽑아오기\n",
    "# print(first_a.text)\n",
    "# print(\"href\",first_a.get(\"href\"))\n",
    "\n",
    "# # 이 주소로 접속 하면 안됨\n",
    "# print(URL+first_a.get(\"href\"))"
   ]
  },
  {
   "cell_type": "code",
   "execution_count": 10,
   "metadata": {},
   "outputs": [
    {
     "data": {
      "text/plain": [
       "<module 'openpyxl' from 'c:\\\\Users\\\\orien\\\\anaconda3\\\\envs\\\\buIMU\\\\lib\\\\site-packages\\\\openpyxl\\\\__init__.py'>"
      ]
     },
     "execution_count": 10,
     "metadata": {},
     "output_type": "execute_result"
    }
   ],
   "source": [
    "import openpyxl\n",
    "\n",
    "\n",
    "openpyxl"
   ]
  },
  {
   "cell_type": "code",
   "execution_count": 11,
   "metadata": {},
   "outputs": [],
   "source": [
    "olddata = pd.read_csv('./title_page1.csv', usecols=['title'])\n",
    "\n",
    "newdata = pd.read_excel('./Individual studies_revised.xlsx',  usecols=['Title'])\n",
    "\n"
   ]
  },
  {
   "cell_type": "code",
   "execution_count": 12,
   "metadata": {},
   "outputs": [
    {
     "name": "stdout",
     "output_type": "stream",
     "text": [
      "                                                 Title  ver\n",
      "0    Do Adults with Stroke have Altered Interhemisp...  new\n",
      "1    Non-invasive Brain Stimulation for Chronic Pai...  new\n",
      "2    Physical therapy in children with cerebral pal...  new\n",
      "3    Exploring Clinical and Neurophysiological Fact...  new\n",
      "4    Robotic mapping of motor cortex in children wi...  new\n",
      "..                                                 ...  ...\n",
      "223  Transcranial magnetic stimulation as a diagnos...  new\n",
      "224  Transcranial magnetic coil stimulation of moto...  new\n",
      "225  Altered corticospinal projections to lower lim...  new\n",
      "226  Estimation of facial central motor delay by el...  new\n",
      "227  [Assessment of motor cranial nerve functions u...  new\n",
      "\n",
      "[228 rows x 2 columns]\n",
      "                                                 title  ver\n",
      "0    Do Adults with Stroke have Altered Interhemisp...  old\n",
      "1    Repetitive Peripheral Magnetic Stimulation to ...  old\n",
      "2    Non-invasive Brain Stimulation for Chronic Pai...  old\n",
      "3    Physical therapy in children with cerebral pal...  old\n",
      "4    Exploring Clinical and Neurophysiological Fact...  old\n",
      "..                                                 ...  ...\n",
      "195    Corticospinal disinhibition during dual action.  old\n",
      "196  Short-term effects of functional electrical st...  old\n",
      "197  Electrophysiological assessment of the effect ...  old\n",
      "198       Eye movement control by the cerebral cortex.  old\n",
      "199  Electrical stimulation of the human common per...  old\n",
      "\n",
      "[200 rows x 2 columns]\n"
     ]
    }
   ],
   "source": [
    "olddata['ver'] = 'old'\n",
    "newdata['ver'] = 'new'\n",
    "print(newdata)\n",
    "print(olddata)"
   ]
  },
  {
   "cell_type": "code",
   "execution_count": null,
   "metadata": {},
   "outputs": [],
   "source": []
  },
  {
   "cell_type": "code",
   "execution_count": null,
   "metadata": {},
   "outputs": [],
   "source": [
    "A =A.strip(\"'-.\")\n",
    "B =B.strip(\"'-.\")\n",
    "C =C.rstrip(\"'-.\")"
   ]
  },
  {
   "cell_type": "code",
   "execution_count": 27,
   "metadata": {},
   "outputs": [
    {
     "ename": "AttributeError",
     "evalue": "'Series' object has no attribute 'strip'",
     "output_type": "error",
     "traceback": [
      "\u001b[1;31m---------------------------------------------------------------------------\u001b[0m",
      "\u001b[1;31mAttributeError\u001b[0m                            Traceback (most recent call last)",
      "\u001b[1;32mg:\\My Drive\\PlayGround\\BU_Python_Group_Study\\KIM_HJ\\Homework\\metaAnalysis\\web_crawler_수업자료.ipynb Cell 8'\u001b[0m in \u001b[0;36m<cell line: 1>\u001b[1;34m()\u001b[0m\n\u001b[1;32m----> <a href='vscode-notebook-cell:/g%3A/My%20Drive/PlayGround/BU_Python_Group_Study/KIM_HJ/Homework/metaAnalysis/web_crawler_%EC%88%98%EC%97%85%EC%9E%90%EB%A3%8C.ipynb#ch0000006?line=0'>1</a>\u001b[0m id_dropped \u001b[39m=\u001b[39m \u001b[39mset\u001b[39m(olddata[\u001b[39m'\u001b[39;49m\u001b[39mtitle\u001b[39;49m\u001b[39m'\u001b[39;49m]\u001b[39m.\u001b[39;49mstrip(\u001b[39m\"\u001b[39m\u001b[39m'\u001b[39m\u001b[39m-.\u001b[39m\u001b[39m\"\u001b[39m)) \u001b[39m-\u001b[39m \u001b[39mset\u001b[39m(newdata[\u001b[39m'\u001b[39m\u001b[39mTitle\u001b[39m\u001b[39m'\u001b[39m]\u001b[39m.\u001b[39mstrip(\u001b[39m\"\u001b[39m\u001b[39m'\u001b[39m\u001b[39m-.\u001b[39m\u001b[39m\"\u001b[39m))\n\u001b[0;32m      <a href='vscode-notebook-cell:/g%3A/My%20Drive/PlayGround/BU_Python_Group_Study/KIM_HJ/Homework/metaAnalysis/web_crawler_%EC%88%98%EC%97%85%EC%9E%90%EB%A3%8C.ipynb#ch0000006?line=1'>2</a>\u001b[0m id_added \u001b[39m=\u001b[39m \u001b[39mset\u001b[39m(newdata[\u001b[39m'\u001b[39m\u001b[39mTitle\u001b[39m\u001b[39m'\u001b[39m]\u001b[39m.\u001b[39mstrip(\u001b[39m\"\u001b[39m\u001b[39m'\u001b[39m\u001b[39m-.\u001b[39m\u001b[39m\"\u001b[39m)) \u001b[39m-\u001b[39m \u001b[39mset\u001b[39m(olddata[\u001b[39m'\u001b[39m\u001b[39mtitle\u001b[39m\u001b[39m'\u001b[39m]\u001b[39m.\u001b[39mstrip(\u001b[39m\"\u001b[39m\u001b[39m'\u001b[39m\u001b[39m-.\u001b[39m\u001b[39m\"\u001b[39m))\n\u001b[0;32m      <a href='vscode-notebook-cell:/g%3A/My%20Drive/PlayGround/BU_Python_Group_Study/KIM_HJ/Homework/metaAnalysis/web_crawler_%EC%88%98%EC%97%85%EC%9E%90%EB%A3%8C.ipynb#ch0000006?line=3'>4</a>\u001b[0m \u001b[39m# print('삭제된 아이템: ',id_dropped)\u001b[39;00m\n\u001b[0;32m      <a href='vscode-notebook-cell:/g%3A/My%20Drive/PlayGround/BU_Python_Group_Study/KIM_HJ/Homework/metaAnalysis/web_crawler_%EC%88%98%EC%97%85%EC%9E%90%EB%A3%8C.ipynb#ch0000006?line=4'>5</a>\u001b[0m \u001b[39m# print('추가된 아이템: ',id_added)\u001b[39;00m\n",
      "File \u001b[1;32mc:\\Users\\orien\\anaconda3\\envs\\buIMU\\lib\\site-packages\\pandas\\core\\generic.py:5575\u001b[0m, in \u001b[0;36mNDFrame.__getattr__\u001b[1;34m(self, name)\u001b[0m\n\u001b[0;32m   5568\u001b[0m \u001b[39mif\u001b[39;00m (\n\u001b[0;32m   5569\u001b[0m     name \u001b[39mnot\u001b[39;00m \u001b[39min\u001b[39;00m \u001b[39mself\u001b[39m\u001b[39m.\u001b[39m_internal_names_set\n\u001b[0;32m   5570\u001b[0m     \u001b[39mand\u001b[39;00m name \u001b[39mnot\u001b[39;00m \u001b[39min\u001b[39;00m \u001b[39mself\u001b[39m\u001b[39m.\u001b[39m_metadata\n\u001b[0;32m   5571\u001b[0m     \u001b[39mand\u001b[39;00m name \u001b[39mnot\u001b[39;00m \u001b[39min\u001b[39;00m \u001b[39mself\u001b[39m\u001b[39m.\u001b[39m_accessors\n\u001b[0;32m   5572\u001b[0m     \u001b[39mand\u001b[39;00m \u001b[39mself\u001b[39m\u001b[39m.\u001b[39m_info_axis\u001b[39m.\u001b[39m_can_hold_identifiers_and_holds_name(name)\n\u001b[0;32m   5573\u001b[0m ):\n\u001b[0;32m   5574\u001b[0m     \u001b[39mreturn\u001b[39;00m \u001b[39mself\u001b[39m[name]\n\u001b[1;32m-> 5575\u001b[0m \u001b[39mreturn\u001b[39;00m \u001b[39mobject\u001b[39;49m\u001b[39m.\u001b[39;49m\u001b[39m__getattribute__\u001b[39;49m(\u001b[39mself\u001b[39;49m, name)\n",
      "\u001b[1;31mAttributeError\u001b[0m: 'Series' object has no attribute 'strip'"
     ]
    }
   ],
   "source": [
    "id_dropped = set(olddata['title'].strip(\"'-.\")) - set(newdata['Title'].strip(\"'-.\"))\n",
    "id_added = set(newdata['Title'].strip(\"'-.\")) - set(olddata['title'].strip(\"'-.\"))\n",
    "\n",
    "# print('삭제된 아이템: ',id_dropped)\n",
    "# print('추가된 아이템: ',id_added)\n",
    "set(olddata['title'])"
   ]
  },
  {
   "cell_type": "code",
   "execution_count": 5,
   "metadata": {},
   "outputs": [
    {
     "data": {
      "text/plain": [
       "({4, 7, 56}, set())"
      ]
     },
     "execution_count": 5,
     "metadata": {},
     "output_type": "execute_result"
    }
   ],
   "source": [
    "A = set([1,2,3,4,56,7,2,2,3,2,1])\n",
    "B = set([1,2,3])\n",
    "A - B, B-A"
   ]
  },
  {
   "cell_type": "code",
   "execution_count": 88,
   "metadata": {},
   "outputs": [],
   "source": [
    "df_merge = pd.DataFrame()\n",
    "\n",
    "df_merge['New'] = newdata['Title']\n",
    "df_merge['Old'] = olddata['title']\n",
    "\n",
    "df_merge.to_excel('result.xlsx')\n"
   ]
  },
  {
   "cell_type": "code",
   "execution_count": 106,
   "metadata": {},
   "outputs": [
    {
     "name": "stdout",
     "output_type": "stream",
     "text": [
      "                                                   New\n",
      "0    Do Adults with Stroke have Altered Interhemisp...\n",
      "1    Non-invasive Brain Stimulation for Chronic Pai...\n",
      "2    Physical therapy in children with cerebral pal...\n",
      "3    Exploring Clinical and Neurophysiological Fact...\n",
      "4    Robotic mapping of motor cortex in children wi...\n",
      "..                                                 ...\n",
      "223  Transcranial magnetic stimulation as a diagnos...\n",
      "224  Transcranial magnetic coil stimulation of moto...\n",
      "225  Altered corticospinal projections to lower lim...\n",
      "226  Estimation of facial central motor delay by el...\n",
      "227  [Assessment of motor cranial nerve functions u...\n",
      "\n",
      "[228 rows x 1 columns]\n"
     ]
    }
   ],
   "source": [
    "df1 = pd.DataFrame(df_merge['New'])\n",
    "print(df1)"
   ]
  },
  {
   "cell_type": "code",
   "execution_count": 26,
   "metadata": {},
   "outputs": [
    {
     "data": {
      "text/plain": [
       "(1.0, 0.9565217391304348)"
      ]
     },
     "execution_count": 26,
     "metadata": {},
     "output_type": "execute_result"
    }
   ],
   "source": [
    "from difflib import SequenceMatcher\n",
    "def similar(a, b):\n",
    "    return SequenceMatcher(None, a.lower(), b.lower()).ratio()\n",
    "\n",
    "A = \"''''''인공지능 학습을 통한 IMU 센서의 활용가능성 탐구에 대하여-\"\n",
    "\n",
    "C = \"리뷰-인공지능 학습을 통한 imu 센서의 활용가능성 탐구에 대하여\"\n",
    "A =A.strip(\"'-.\")\n",
    "B =B.strip(\"'-.\")\n",
    "C =C.rstrip(\"'-.\")\n",
    "similar(A,B),similar(B,C)"
   ]
  },
  {
   "cell_type": "code",
   "execution_count": 24,
   "metadata": {},
   "outputs": [
    {
     "data": {
      "text/plain": [
       "'인공지능 학습을 통한 IMU 센서의 활용가능성 탐구에 대하여-'"
      ]
     },
     "execution_count": 24,
     "metadata": {},
     "output_type": "execute_result"
    }
   ],
   "source": []
  },
  {
   "cell_type": "code",
   "execution_count": 107,
   "metadata": {},
   "outputs": [
    {
     "name": "stdout",
     "output_type": "stream",
     "text": [
      "                                                   Old\n",
      "0    Do Adults with Stroke have Altered Interhemisp...\n",
      "1    Repetitive Peripheral Magnetic Stimulation to ...\n",
      "2    Non-invasive Brain Stimulation for Chronic Pai...\n",
      "3    Physical therapy in children with cerebral pal...\n",
      "4    Exploring Clinical and Neurophysiological Fact...\n",
      "..                                                 ...\n",
      "223                                                NaN\n",
      "224                                                NaN\n",
      "225                                                NaN\n",
      "226                                                NaN\n",
      "227                                                NaN\n",
      "\n",
      "[228 rows x 1 columns]\n"
     ]
    }
   ],
   "source": [
    "df2 = pd.DataFrame(df_merge['Old'])\n",
    "print(df2)"
   ]
  },
  {
   "cell_type": "code",
   "execution_count": 111,
   "metadata": {},
   "outputs": [
    {
     "data": {
      "text/plain": [
       "False"
      ]
     },
     "execution_count": 111,
     "metadata": {},
     "output_type": "execute_result"
    }
   ],
   "source": [
    "##완벽히 같은지는 볼 수 있음\n",
    "df1.reset_index(drop=True).equals(df2.reset_index(drop=True))"
   ]
  },
  {
   "cell_type": "code",
   "execution_count": 133,
   "metadata": {},
   "outputs": [
    {
     "name": "stdout",
     "output_type": "stream",
     "text": [
      "0      False\n",
      "1      False\n",
      "2      False\n",
      "3      False\n",
      "4      False\n",
      "       ...  \n",
      "223    False\n",
      "224    False\n",
      "225    False\n",
      "226    False\n",
      "227    False\n",
      "Name: New, Length: 228, dtype: bool\n"
     ]
    }
   ],
   "source": [
    "print(df1['New'].isin(df2['Old']))     "
   ]
  },
  {
   "cell_type": "code",
   "execution_count": 130,
   "metadata": {},
   "outputs": [
    {
     "ename": "ValueError",
     "evalue": "The truth value of a DataFrame is ambiguous. Use a.empty, a.bool(), a.item(), a.any() or a.all().",
     "output_type": "error",
     "traceback": [
      "\u001b[1;31m---------------------------------------------------------------------------\u001b[0m",
      "\u001b[1;31mValueError\u001b[0m                                Traceback (most recent call last)",
      "\u001b[1;32md:\\BU\\Others\\computer\\BU_python_study\\KIM_HJ\\Homework\\metaAnalysis\\web_crawler.ipynb Cell 12'\u001b[0m in \u001b[0;36m<cell line: 5>\u001b[1;34m()\u001b[0m\n\u001b[0;32m      <a href='vscode-notebook-cell:/d%3A/BU/Others/computer/BU_python_study/KIM_HJ/Homework/metaAnalysis/web_crawler.ipynb#ch0000027?line=3'>4</a>\u001b[0m a \u001b[39m=\u001b[39m df2[\u001b[39m~\u001b[39mdf2\u001b[39m.\u001b[39mOld\u001b[39m.\u001b[39misin(df1\u001b[39m.\u001b[39mNew)]\n\u001b[0;32m      <a href='vscode-notebook-cell:/d%3A/BU/Others/computer/BU_python_study/KIM_HJ/Homework/metaAnalysis/web_crawler.ipynb#ch0000027?line=4'>5</a>\u001b[0m \u001b[39mfor\u001b[39;00m nothing \u001b[39min\u001b[39;00m a:\n\u001b[1;32m----> <a href='vscode-notebook-cell:/d%3A/BU/Others/computer/BU_python_study/KIM_HJ/Homework/metaAnalysis/web_crawler.ipynb#ch0000027?line=5'>6</a>\u001b[0m     \u001b[39mif\u001b[39;00m a \u001b[39m==\u001b[39;49m NaN:\n\u001b[0;32m      <a href='vscode-notebook-cell:/d%3A/BU/Others/computer/BU_python_study/KIM_HJ/Homework/metaAnalysis/web_crawler.ipynb#ch0000027?line=6'>7</a>\u001b[0m         \u001b[39mprint\u001b[39m(\u001b[39m'\u001b[39m\u001b[39mX\u001b[39m\u001b[39m'\u001b[39m)\n",
      "File \u001b[1;32mc:\\Users\\HyunJoon_Kim\\anaconda3\\envs\\bu\\lib\\site-packages\\pandas\\core\\generic.py:1527\u001b[0m, in \u001b[0;36mNDFrame.__nonzero__\u001b[1;34m(self)\u001b[0m\n\u001b[0;32m   1525\u001b[0m \u001b[39m@final\u001b[39m\n\u001b[0;32m   1526\u001b[0m \u001b[39mdef\u001b[39;00m \u001b[39m__nonzero__\u001b[39m(\u001b[39mself\u001b[39m):\n\u001b[1;32m-> 1527\u001b[0m     \u001b[39mraise\u001b[39;00m \u001b[39mValueError\u001b[39;00m(\n\u001b[0;32m   1528\u001b[0m         \u001b[39mf\u001b[39m\u001b[39m\"\u001b[39m\u001b[39mThe truth value of a \u001b[39m\u001b[39m{\u001b[39;00m\u001b[39mtype\u001b[39m(\u001b[39mself\u001b[39m)\u001b[39m.\u001b[39m\u001b[39m__name__\u001b[39m\u001b[39m}\u001b[39;00m\u001b[39m is ambiguous. \u001b[39m\u001b[39m\"\u001b[39m\n\u001b[0;32m   1529\u001b[0m         \u001b[39m\"\u001b[39m\u001b[39mUse a.empty, a.bool(), a.item(), a.any() or a.all().\u001b[39m\u001b[39m\"\u001b[39m\n\u001b[0;32m   1530\u001b[0m     )\n",
      "\u001b[1;31mValueError\u001b[0m: The truth value of a DataFrame is ambiguous. Use a.empty, a.bool(), a.item(), a.any() or a.all()."
     ]
    }
   ],
   "source": [
    "from numpy import NaN\n",
    "\n",
    "\n",
    "a = df2[~df2.Old.isin(df1.New)]\n",
    "for nothing in a:\n",
    "    if a == NaN:\n",
    "        print('X')\n"
   ]
  },
  {
   "cell_type": "code",
   "execution_count": 127,
   "metadata": {},
   "outputs": [],
   "source": [
    "df_merge['difference'] = a\n",
    "df_merge.head()\n",
    "df_merge.to_excel('result2.xlsx')"
   ]
  },
  {
   "cell_type": "code",
   "execution_count": 122,
   "metadata": {},
   "outputs": [
    {
     "name": "stdout",
     "output_type": "stream",
     "text": [
      "0      True\n",
      "1      True\n",
      "2      True\n",
      "3      True\n",
      "4      True\n",
      "       ... \n",
      "223    True\n",
      "224    True\n",
      "225    True\n",
      "226    True\n",
      "227    True\n",
      "Name: Old, Length: 228, dtype: bool\n"
     ]
    }
   ],
   "source": [
    "print(df2['Old'].isin(df1)==False)"
   ]
  },
  {
   "cell_type": "code",
   "execution_count": 117,
   "metadata": {},
   "outputs": [
    {
     "name": "stdout",
     "output_type": "stream",
     "text": [
      "     New  Old\n",
      "0    NaN  NaN\n",
      "1    NaN  NaN\n",
      "2    NaN  NaN\n",
      "3    NaN  NaN\n",
      "4    NaN  NaN\n",
      "..   ...  ...\n",
      "223  NaN  NaN\n",
      "224  NaN  NaN\n",
      "225  NaN  NaN\n",
      "226  NaN  NaN\n",
      "227  NaN  NaN\n",
      "\n",
      "[228 rows x 2 columns]\n"
     ]
    }
   ],
   "source": [
    "df_diff = df1 - df2\n",
    "print(df_diff)"
   ]
  },
  {
   "cell_type": "code",
   "execution_count": 86,
   "metadata": {},
   "outputs": [],
   "source": [
    "df_dropped = olddata[olddata['title'].isin(id_dropped)].iloc[:,:-1]\n",
    "df_added = newdata[newdata['Title'].isin(id_added)].iloc[:,:-1]"
   ]
  },
  {
   "cell_type": "code",
   "execution_count": 87,
   "metadata": {},
   "outputs": [
    {
     "name": "stdout",
     "output_type": "stream",
     "text": [
      "                                                 title\n",
      "0    Do Adults with Stroke have Altered Interhemisp...\n",
      "1    Repetitive Peripheral Magnetic Stimulation to ...\n",
      "2    Non-invasive Brain Stimulation for Chronic Pai...\n",
      "3    Physical therapy in children with cerebral pal...\n",
      "4    Exploring Clinical and Neurophysiological Fact...\n",
      "..                                                 ...\n",
      "195    Corticospinal disinhibition during dual action.\n",
      "196  Short-term effects of functional electrical st...\n",
      "197  Electrophysiological assessment of the effect ...\n",
      "198       Eye movement control by the cerebral cortex.\n",
      "199  Electrical stimulation of the human common per...\n",
      "\n",
      "[194 rows x 1 columns]\n",
      "                                                 Title\n",
      "0    Do Adults with Stroke have Altered Interhemisp...\n",
      "1    Non-invasive Brain Stimulation for Chronic Pai...\n",
      "2    Physical therapy in children with cerebral pal...\n",
      "3    Exploring Clinical and Neurophysiological Fact...\n",
      "4    Robotic mapping of motor cortex in children wi...\n",
      "..                                                 ...\n",
      "223  Transcranial magnetic stimulation as a diagnos...\n",
      "224  Transcranial magnetic coil stimulation of moto...\n",
      "225  Altered corticospinal projections to lower lim...\n",
      "226  Estimation of facial central motor delay by el...\n",
      "227  [Assessment of motor cranial nerve functions u...\n",
      "\n",
      "[222 rows x 1 columns]\n"
     ]
    }
   ],
   "source": [
    "\n",
    "print(df_dropped)\n",
    "print(df_added)"
   ]
  },
  {
   "cell_type": "code",
   "execution_count": null,
   "metadata": {},
   "outputs": [],
   "source": [
    "# 두 데이터프레임을 하나로 합칩니다.\n",
    "df_concatted = pd.concat([olddata, newdata], ignore_index=True)\n",
    "# 모든 컬럼의 내용이 중복되는 데이터는 삭제합니다.\n",
    "changes = df_concatted.drop_duplicates(df_concatted.columns[:-1], keep='last')\n",
    "\n",
    "# 남은 데이터 중 동일한 아이디 값이 두개 이상 존재한다면\n",
    "# 정보가 변경된 데이터입니다.\n",
    "duplicated_list = changes[changes['title'].duplicated()]['title'].to_list()\n",
    "df_changed = changes[changes['title'].isin(duplicated_list)]\n",
    "print(df_changed)"
   ]
  },
  {
   "cell_type": "code",
   "execution_count": null,
   "metadata": {},
   "outputs": [],
   "source": [
    "df_changed_old = df_changed[df_changed['ver'] == 'old'].iloc[:,:-1]\n",
    "df_changed_old.sort_values(by='title', inplace=True)\n",
    "\n",
    "df_changed_new = df_changed[df_changed['ver'] == 'new'].iloc[:,:-1]\n",
    "df_changed_new.sort_values(by='Title', inplace=True)\n"
   ]
  },
  {
   "cell_type": "code",
   "execution_count": null,
   "metadata": {},
   "outputs": [],
   "source": [
    "df_info_changed = df_changed_old.copy()\n",
    "for i in range(len(df_changed_new.index)):\n",
    "    for j in range(len(df_changed_new.columns)):\n",
    "        if (df_changed_new.iloc[i, j] != df_changed_old.iloc[i, j]):\n",
    "            df_info_changed.iloc[i,j] = str(df_changed_old.iloc[i, j]) + \" ==> \" + str(df_changed_new.iloc[i,j])\n",
    "            "
   ]
  },
  {
   "cell_type": "markdown",
   "metadata": {},
   "source": [
    "# 오늘 배운 것"
   ]
  },
  {
   "cell_type": "code",
   "execution_count": null,
   "metadata": {},
   "outputs": [],
   "source": [
    "paper_url = bsObj.find_all(\"button\",\"data-permalink-url\")"
   ]
  },
  {
   "cell_type": "markdown",
   "metadata": {},
   "source": []
  },
  {
   "cell_type": "code",
   "execution_count": null,
   "metadata": {},
   "outputs": [],
   "source": [
    "# 개별 페이지 접속\n",
    "PAPERURL ='https://pubmed.ncbi.nlm.nih.gov/8969779/'\n",
    "res = requests.get(PAPERURL)\n",
    "print(\"requested url:\",res.url) # 접속한 url 정보\n",
    "bsObj = BeautifulSoup(res.text, \"html.parser\")\n",
    "# 첫번째 a 태그 뽑아오기\n",
    "abstract = bsObj.find_all(\"div\",\"abstract\")"
   ]
  },
  {
   "cell_type": "code",
   "execution_count": null,
   "metadata": {},
   "outputs": [],
   "source": [
    "\n",
    "for i in abstract:\n",
    "    print(i.text)"
   ]
  },
  {
   "cell_type": "code",
   "execution_count": null,
   "metadata": {},
   "outputs": [],
   "source": [
    "title"
   ]
  },
  {
   "cell_type": "code",
   "execution_count": null,
   "metadata": {},
   "outputs": [],
   "source": [
    "bsObj"
   ]
  },
  {
   "cell_type": "code",
   "execution_count": null,
   "metadata": {},
   "outputs": [],
   "source": []
  }
 ],
 "metadata": {
  "kernelspec": {
   "display_name": "Python 3.8.0 ('buIMU')",
   "language": "python",
   "name": "python3"
  },
  "language_info": {
   "codemirror_mode": {
    "name": "ipython",
    "version": 3
   },
   "file_extension": ".py",
   "mimetype": "text/x-python",
   "name": "python",
   "nbconvert_exporter": "python",
   "pygments_lexer": "ipython3",
   "version": "3.8.0"
  },
  "orig_nbformat": 4,
  "vscode": {
   "interpreter": {
    "hash": "b7f75e3f67c2e8328760c5f8e07c7b9104f46fb4b9635e1895ac42e507773c47"
   }
  }
 },
 "nbformat": 4,
 "nbformat_minor": 2
}
