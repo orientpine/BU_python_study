{
 "cells": [
  {
   "cell_type": "markdown",
   "metadata": {},
   "source": [
    "## 학습목표\n",
    " 1. axis의 이해\n",
    " 2. axis를 파라미터로 갖는 함수 이해하기"
   ]
  },
  {
   "cell_type": "code",
   "execution_count": 1,
   "metadata": {},
   "outputs": [],
   "source": [
    "import numpy as np"
   ]
  },
  {
   "cell_type": "markdown",
   "metadata": {},
   "source": [
    "#### axis 이해하기\n",
    " - 몇몇 함수에는 axis keyword 파라미터가 존재\n",
    " - axis값이 없는 경우에는 전체 데이터에 대해 적용\n",
    " - axis값이 있는 경우에는, 해당 axis를 **따라서** 연산 적용"
   ]
  },
  {
   "cell_type": "markdown",
   "metadata": {},
   "source": [
    "* axis를 파라미터로 갖는 함수를 이용하기\n",
    " - 거의 대부분의 연산 함수들이 axis 파라미터를 사용\n",
    " - 이 경우, 해당 값이 주어졌을 때, 해당 axis를 **따라서** 연산이 적용\n",
    "   - 따라서 결과는 해당 axis가 제외된 나머지 차원의 데이터만 남게 됨\n",
    " - 예) np.sum, np.mean, np.any 등등\n",
    " "
   ]
  },
  {
   "cell_type": "code",
   "execution_count": 2,
   "metadata": {},
   "outputs": [
    {
     "name": "stdout",
     "output_type": "stream",
     "text": [
      "[ 0  1  2  3  4  5  6  7  8  9 10 11 12 13 14]\n"
     ]
    }
   ],
   "source": [
    "x = np.arange(15)\n",
    "print(x)"
   ]
  },
  {
   "cell_type": "markdown",
   "metadata": {},
   "source": [
    "* 1차원 데이터에 적용하기"
   ]
  },
  {
   "cell_type": "code",
   "execution_count": 3,
   "metadata": {},
   "outputs": [
    {
     "data": {
      "text/plain": [
       "105"
      ]
     },
     "execution_count": 3,
     "metadata": {},
     "output_type": "execute_result"
    }
   ],
   "source": [
    "np.sum(x, axis=0)"
   ]
  },
  {
   "cell_type": "code",
   "execution_count": 4,
   "metadata": {},
   "outputs": [
    {
     "ename": "AxisError",
     "evalue": "axis 1 is out of bounds for array of dimension 1",
     "output_type": "error",
     "traceback": [
      "\u001b[1;31m---------------------------------------------------------------------------\u001b[0m",
      "\u001b[1;31mAxisError\u001b[0m                                 Traceback (most recent call last)",
      "\u001b[1;32md:\\BU\\Others\\computer\\BU_python_study\\KIM_HJ\\Homework_HJ\\StudyMaterial\\Part 01~04) Python\\03. 데이터 처리를 위한 Python (Numpy)\\완성코드\\07. axis(축) 이해 및 axis를 파라미터로 갖는 함수 활용하기_After.ipynb Cell 8'\u001b[0m in \u001b[0;36m<cell line: 1>\u001b[1;34m()\u001b[0m\n\u001b[1;32m----> <a href='vscode-notebook-cell:/d%3A/BU/Others/computer/BU_python_study/KIM_HJ/Homework_HJ/StudyMaterial/Part%2001~04%29%20Python/03.%20%EB%8D%B0%EC%9D%B4%ED%84%B0%20%EC%B2%98%EB%A6%AC%EB%A5%BC%20%EC%9C%84%ED%95%9C%20Python%20%28Numpy%29/%EC%99%84%EC%84%B1%EC%BD%94%EB%93%9C/07.%20axis%28%EC%B6%95%29%20%EC%9D%B4%ED%95%B4%20%EB%B0%8F%20axis%EB%A5%BC%20%ED%8C%8C%EB%9D%BC%EB%AF%B8%ED%84%B0%EB%A1%9C%20%EA%B0%96%EB%8A%94%20%ED%95%A8%EC%88%98%20%ED%99%9C%EC%9A%A9%ED%95%98%EA%B8%B0_After.ipynb#ch0000007?line=0'>1</a>\u001b[0m np\u001b[39m.\u001b[39;49msum(x, axis\u001b[39m=\u001b[39;49m\u001b[39m1\u001b[39;49m)\n",
      "File \u001b[1;32m<__array_function__ internals>:180\u001b[0m, in \u001b[0;36msum\u001b[1;34m(*args, **kwargs)\u001b[0m\n",
      "File \u001b[1;32mc:\\Users\\HyunJoon_Kim\\anaconda3\\envs\\bu\\lib\\site-packages\\numpy\\core\\fromnumeric.py:2296\u001b[0m, in \u001b[0;36msum\u001b[1;34m(a, axis, dtype, out, keepdims, initial, where)\u001b[0m\n\u001b[0;32m   <a href='file:///c%3A/Users/HyunJoon_Kim/anaconda3/envs/bu/lib/site-packages/numpy/core/fromnumeric.py?line=2292'>2293</a>\u001b[0m         \u001b[39mreturn\u001b[39;00m out\n\u001b[0;32m   <a href='file:///c%3A/Users/HyunJoon_Kim/anaconda3/envs/bu/lib/site-packages/numpy/core/fromnumeric.py?line=2293'>2294</a>\u001b[0m     \u001b[39mreturn\u001b[39;00m res\n\u001b[1;32m-> <a href='file:///c%3A/Users/HyunJoon_Kim/anaconda3/envs/bu/lib/site-packages/numpy/core/fromnumeric.py?line=2295'>2296</a>\u001b[0m \u001b[39mreturn\u001b[39;00m _wrapreduction(a, np\u001b[39m.\u001b[39;49madd, \u001b[39m'\u001b[39;49m\u001b[39msum\u001b[39;49m\u001b[39m'\u001b[39;49m, axis, dtype, out, keepdims\u001b[39m=\u001b[39;49mkeepdims,\n\u001b[0;32m   <a href='file:///c%3A/Users/HyunJoon_Kim/anaconda3/envs/bu/lib/site-packages/numpy/core/fromnumeric.py?line=2296'>2297</a>\u001b[0m                       initial\u001b[39m=\u001b[39;49minitial, where\u001b[39m=\u001b[39;49mwhere)\n",
      "File \u001b[1;32mc:\\Users\\HyunJoon_Kim\\anaconda3\\envs\\bu\\lib\\site-packages\\numpy\\core\\fromnumeric.py:86\u001b[0m, in \u001b[0;36m_wrapreduction\u001b[1;34m(obj, ufunc, method, axis, dtype, out, **kwargs)\u001b[0m\n\u001b[0;32m     <a href='file:///c%3A/Users/HyunJoon_Kim/anaconda3/envs/bu/lib/site-packages/numpy/core/fromnumeric.py?line=82'>83</a>\u001b[0m         \u001b[39melse\u001b[39;00m:\n\u001b[0;32m     <a href='file:///c%3A/Users/HyunJoon_Kim/anaconda3/envs/bu/lib/site-packages/numpy/core/fromnumeric.py?line=83'>84</a>\u001b[0m             \u001b[39mreturn\u001b[39;00m reduction(axis\u001b[39m=\u001b[39maxis, out\u001b[39m=\u001b[39mout, \u001b[39m*\u001b[39m\u001b[39m*\u001b[39mpasskwargs)\n\u001b[1;32m---> <a href='file:///c%3A/Users/HyunJoon_Kim/anaconda3/envs/bu/lib/site-packages/numpy/core/fromnumeric.py?line=85'>86</a>\u001b[0m \u001b[39mreturn\u001b[39;00m ufunc\u001b[39m.\u001b[39mreduce(obj, axis, dtype, out, \u001b[39m*\u001b[39m\u001b[39m*\u001b[39mpasskwargs)\n",
      "\u001b[1;31mAxisError\u001b[0m: axis 1 is out of bounds for array of dimension 1"
     ]
    }
   ],
   "source": [
    "np.sum(x, axis=1)"
   ]
  },
  {
   "cell_type": "markdown",
   "metadata": {},
   "source": [
    "* 행렬에 적용하기"
   ]
  },
  {
   "cell_type": "code",
   "execution_count": null,
   "metadata": {},
   "outputs": [],
   "source": [
    "y = x.reshape(3, 5)\n",
    "print(y)\n",
    "\n",
    "np.sum(y, axis=0)"
   ]
  },
  {
   "cell_type": "code",
   "execution_count": null,
   "metadata": {},
   "outputs": [],
   "source": [
    "y = x.reshape(3, 5)\n",
    "print(y)\n",
    "\n",
    "np.sum(y, axis=1)"
   ]
  },
  {
   "cell_type": "markdown",
   "metadata": {},
   "source": [
    "* 3차원 텐서에 적용하기"
   ]
  },
  {
   "cell_type": "code",
   "execution_count": null,
   "metadata": {},
   "outputs": [],
   "source": [
    "z = np.arange(36).reshape(3, 4, 3)\n",
    "print(z)\n",
    "\n",
    "np.sum(z, axis=0)"
   ]
  },
  {
   "cell_type": "code",
   "execution_count": null,
   "metadata": {},
   "outputs": [],
   "source": [
    "np.sum(z, axis=1)"
   ]
  },
  {
   "cell_type": "code",
   "execution_count": null,
   "metadata": {},
   "outputs": [],
   "source": [
    "np.sum(z, axis=2)"
   ]
  },
  {
   "cell_type": "code",
   "execution_count": null,
   "metadata": {},
   "outputs": [],
   "source": [
    "np.sum(z, axis=-3)"
   ]
  },
  {
   "cell_type": "markdown",
   "metadata": {},
   "source": [
    "* axis의 값이 튜플일 경우\n",
    " - 해당 튜플에 명시된 모든 axis에 대해서 연산"
   ]
  },
  {
   "cell_type": "code",
   "execution_count": null,
   "metadata": {},
   "outputs": [],
   "source": [
    "print(z)"
   ]
  },
  {
   "cell_type": "code",
   "execution_count": null,
   "metadata": {},
   "outputs": [],
   "source": [
    "np.sum(z, axis=(0, 2))"
   ]
  },
  {
   "cell_type": "code",
   "execution_count": null,
   "metadata": {},
   "outputs": [],
   "source": []
  }
 ],
 "metadata": {
  "interpreter": {
   "hash": "360415a06a2cb4988f467b724c8ffdb39ec3aeec574ee0105248e66f7284bba3"
  },
  "kernelspec": {
   "display_name": "Python 3.10.4 ('bu')",
   "language": "python",
   "name": "python3"
  },
  "language_info": {
   "codemirror_mode": {
    "name": "ipython",
    "version": 3
   },
   "file_extension": ".py",
   "mimetype": "text/x-python",
   "name": "python",
   "nbconvert_exporter": "python",
   "pygments_lexer": "ipython3",
   "version": "3.10.4"
  }
 },
 "nbformat": 4,
 "nbformat_minor": 1
}
