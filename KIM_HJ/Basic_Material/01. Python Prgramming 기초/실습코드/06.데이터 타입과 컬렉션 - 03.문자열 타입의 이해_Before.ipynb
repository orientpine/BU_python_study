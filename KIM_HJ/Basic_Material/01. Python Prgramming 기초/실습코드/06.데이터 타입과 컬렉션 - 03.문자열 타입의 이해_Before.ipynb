{
 "cells": [
  {
   "cell_type": "markdown",
   "metadata": {},
   "source": [
    "### 학습목표\n",
    "1. 문자열(str) 타입 이해하기"
   ]
  },
  {
   "cell_type": "markdown",
   "metadata": {},
   "source": [
    "### **string (문자열)**\n",
    " - 복수개의 문자를 순서대로 나열 한 것\n",
    " - 문자열은 '(작은따옴표) 혹은 \"(큰따옴표) 사이에 문자를 넣어서 생성\n",
    " - 문자열 자체에 ', \"가 있는 경우에는 각각 그 반대의 기호로 생성"
   ]
  },
  {
   "cell_type": "markdown",
   "metadata": {},
   "source": [
    "#### **''' '''사용하여 표현 가능**\n",
    "  - 차이점 \n",
    "    - '', \"\" -> 한줄 문자열 표현\n",
    "    - ''' ''' -> 어려줄에 걸쳐 문자열 표현 가능"
   ]
  },
  {
   "cell_type": "code",
   "execution_count": 5,
   "metadata": {},
   "outputs": [
    {
     "name": "stdout",
     "output_type": "stream",
     "text": [
      "\"Hello\" World\n",
      "Hello' World\n",
      "Hello World. It's wonderful world\n"
     ]
    }
   ],
   "source": [
    "a = '\"Hello\" World'\n",
    "b = \"Hello' World\"\n",
    "c = \"Hello World. \n",
    "\n",
    "It's wonderful world\"\n",
    "\n",
    "print(a)\n",
    "print(b)\n",
    "print(c)"
   ]
  },
  {
   "cell_type": "code",
   "execution_count": 6,
   "metadata": {},
   "outputs": [
    {
     "name": "stdout",
     "output_type": "stream",
     "text": [
      "Hello \n",
      "\n",
      "World\n",
      "Hello \n",
      "World\n"
     ]
    }
   ],
   "source": [
    "c = '''Hello \n",
    "\n",
    "World'''\n",
    "\n",
    "d = \"\"\"Hello \n",
    "World\"\"\"\n",
    "\n",
    "print(c)\n",
    "print(d)"
   ]
  },
  {
   "cell_type": "markdown",
   "metadata": {},
   "source": [
    "#### escape string (이스케이프 문자)\n",
    "* 문자열내의 일부 문자의 의미를 달리하여 `특정한 효과`를 주는 것\n",
    "* `\\n` : new line `\\t` : tab 등\n",
    "\n"
   ]
  },
  {
   "cell_type": "code",
   "execution_count": 8,
   "metadata": {},
   "outputs": [
    {
     "name": "stdout",
     "output_type": "stream",
     "text": [
      "Hyun\n",
      "\n",
      "Joon\n",
      "Kim\n",
      "\n",
      "\n",
      "\n",
      "\n",
      "\n",
      "Hyun\n",
      "joon\n",
      "kim\n"
     ]
    }
   ],
   "source": [
    "print('Hyun\\n')\n",
    "print('Joon')\n",
    "print('Kim\\n\\n\\n\\n\\n')\n",
    "print('Hyun\\njoon\\nkim')"
   ]
  },
  {
   "cell_type": "markdown",
   "metadata": {},
   "source": [
    "#### **indexing & slicing string (문자열 인덱스 및 추출)**\n",
    "  - 문자열의 각 문자는 순서가 있음\n",
    "  - 이때 각 문자열의 순서를 **인덱스** 라고 함\n",
    "  - 첫번째 문자부터 마지막까지 차례대로의 순서를 가짐\n",
    "  - 첫번째 시작문자의 순서는 0으로 시작 (1이 아님)"
   ]
  },
  {
   "cell_type": "markdown",
   "metadata": {},
   "source": [
    "* **연습문제**\n",
    "문자열의 마지막 문자의 순서의 값은?"
   ]
  },
  {
   "cell_type": "code",
   "execution_count": 14,
   "metadata": {},
   "outputs": [
    {
     "name": "stdout",
     "output_type": "stream",
     "text": [
      "d\n",
      " \n",
      "W\n"
     ]
    }
   ],
   "source": [
    "a = 'Hello World' # 길이 : 11 ##스페이스도 계산함, 0부터 시작\n",
    "print(a[10])\n",
    "print(a[5])\n",
    "print(a[-5])\n"
   ]
  },
  {
   "cell_type": "markdown",
   "metadata": {},
   "source": [
    "#### **-1 인덱스**\n",
    "  - 다른 언어와는 달리, python의 경우 음수 인덱스를 지원\n",
    "  - -1이 가장 마지막 인덱스를, -2가 마지막에서 두번째 인덱스를 의미..."
   ]
  },
  {
   "cell_type": "code",
   "execution_count": 15,
   "metadata": {},
   "outputs": [
    {
     "name": "stdout",
     "output_type": "stream",
     "text": [
      "H\n",
      "d\n",
      "d\n",
      "H\n"
     ]
    }
   ],
   "source": [
    "print(a[0])\n",
    "print(a[10])\n",
    "\n",
    "print(a[-1])\n",
    "print(a[-11])"
   ]
  },
  {
   "cell_type": "markdown",
   "metadata": {},
   "source": [
    "#### **인덱스의 범위**\n",
    "  - 인덱스는 [0, 문자열의 길이) 의 범위만 유효\n",
    "  - 음수 인덱스를 사용할 경우, [-문자열의 길이, -1]\n",
    "  - 범위를 넘어갈 경우 에러 발생"
   ]
  },
  {
   "cell_type": "code",
   "execution_count": 19,
   "metadata": {},
   "outputs": [
    {
     "ename": "IndexError",
     "evalue": "string index out of range",
     "output_type": "error",
     "traceback": [
      "\u001b[0;31m---------------------------------------------------------------------------\u001b[0m",
      "\u001b[0;31mIndexError\u001b[0m                                Traceback (most recent call last)",
      "\u001b[0;32m<ipython-input-19-b2b0e248689c>\u001b[0m in \u001b[0;36m<module>\u001b[0;34m()\u001b[0m\n\u001b[1;32m      1\u001b[0m \u001b[0;31m# print(a[11])\u001b[0m\u001b[0;34m\u001b[0m\u001b[0;34m\u001b[0m\u001b[0m\n\u001b[0;32m----> 2\u001b[0;31m \u001b[0mprint\u001b[0m\u001b[0;34m(\u001b[0m\u001b[0ma\u001b[0m\u001b[0;34m[\u001b[0m\u001b[0;34m-\u001b[0m\u001b[0;36m12\u001b[0m\u001b[0;34m]\u001b[0m\u001b[0;34m)\u001b[0m\u001b[0;34m\u001b[0m\u001b[0m\n\u001b[0m",
      "\u001b[0;31mIndexError\u001b[0m: string index out of range"
     ]
    }
   ],
   "source": [
    "# print(a[11])\n",
    "print(a[-12])"
   ]
  },
  {
   "cell_type": "markdown",
   "metadata": {},
   "source": [
    "#### **문자열 slicing**\n",
    "  - 인덱스가 하나의 문자만을 추출한다면,\n",
    "  - slicing은 부분 문자열을 추출한다고 볼 수 있음\n",
    "  - [시작:끝]와 같이 명시하여 [시작, 끝)에 해당하는 부분 문자열을 추출\n",
    "  - 시작, 끝 인덱스가 생략이 되어 있다면, 0부터 혹은 끝까지로 간주"
   ]
  },
  {
   "cell_type": "code",
   "execution_count": 15,
   "metadata": {},
   "outputs": [
    {
     "name": "stdout",
     "output_type": "stream",
     "text": [
      "H\n",
      "o\n",
      "H\n",
      "\n",
      "Hello world\n"
     ]
    }
   ],
   "source": [
    "a = 'Hello world'\n",
    "\n",
    "print(a[0])\n",
    "print(a[4])\n",
    "print(a[0:1])\n",
    "\n",
    "print(a[:0])\n",
    "print(a[:16])\n",
    "\n"
   ]
  },
  {
   "cell_type": "markdown",
   "metadata": {},
   "source": [
    "#### **문자열 함수**\n",
    "  - 문자열은 여러가지 기능 제공을 위한 함수를 내장\n",
    "  - 함수란 특정 기능을 하는 코드로 언제든지 호출하여 해당 기능을 사용 가능하도록 구성한 코드\n",
    "  - 추후에 함수에 대해 자세히 다룰 예정"
   ]
  },
  {
   "cell_type": "code",
   "execution_count": 21,
   "metadata": {},
   "outputs": [
    {
     "data": {
      "text/plain": [
       "'HEUNG-MIN SON'"
      ]
     },
     "execution_count": 21,
     "metadata": {},
     "output_type": "execute_result"
    }
   ],
   "source": [
    "a = 'heung-min son'\n",
    "a.upper()"
   ]
  },
  {
   "cell_type": "markdown",
   "metadata": {},
   "source": [
    "* **replace** \n",
    " - 문자열 내의 특정 문자를 치환"
   ]
  },
  {
   "cell_type": "code",
   "execution_count": 34,
   "metadata": {},
   "outputs": [
    {
     "data": {
      "text/plain": [
       "'HEUNG-MIN SON'"
      ]
     },
     "execution_count": 34,
     "metadata": {},
     "output_type": "execute_result"
    }
   ],
   "source": [
    "#이게 최선일까요 아니면 여기에 b라는 변수 안만들고도 가능할까요? replace랑 upper을 동시에\n",
    "a = 'heung-min kon'\n",
    "b=a.replace('k', 's')\n",
    "b.upper()\n"
   ]
  },
  {
   "cell_type": "markdown",
   "metadata": {},
   "source": [
    "* **format**\n",
    " - 문자열내의 특정한 값을 변수로부터 초기화하여 동적으로 문자열을 생성 "
   ]
  },
  {
   "cell_type": "code",
   "execution_count": 44,
   "metadata": {},
   "outputs": [
    {
     "name": "stdout",
     "output_type": "stream",
     "text": [
      "손흥민은 21-22시즌 23골과 7어시스트로 Premier league 득점1위를 했고 총 공격포인트는 30이다.\n"
     ]
    }
   ],
   "source": [
    "#여기에 중괄호가 들어와야하는지 소괄호가 들어와야하는지는 외워야하나요?\n",
    "season = '21-22'\n",
    "goal = 23\n",
    "assist = 7\n",
    "totalpoint= goal+assist\n",
    "rank = '1위'\n",
    "league ='Premier league'\n",
    "\n",
    "a = '손흥민은 {}시즌 {}골과 {}어시스트로 {} 득점{}를 했고 총 공격포인트는 {}이다.'.format(season, goal, assist, league,rank, totalpoint)\n",
    "print(a)\n"
   ]
  },
  {
   "cell_type": "markdown",
   "metadata": {},
   "source": [
    "* **split**\n",
    " - 문자열을 특정한 문자 구분하여(delimiter) 문자열의 리스트로 치환"
   ]
  },
  {
   "cell_type": "code",
   "execution_count": 53,
   "metadata": {},
   "outputs": [
    {
     "data": {
      "text/plain": [
       "['lets', 'play', 'soccer']"
      ]
     },
     "execution_count": 53,
     "metadata": {},
     "output_type": "execute_result"
    }
   ],
   "source": [
    "a = 'letsgplaygsoccer'\n",
    "a.split('g')"
   ]
  },
  {
   "cell_type": "code",
   "execution_count": null,
   "metadata": {},
   "outputs": [],
   "source": []
  }
 ],
 "metadata": {
  "interpreter": {
   "hash": "360415a06a2cb4988f467b724c8ffdb39ec3aeec574ee0105248e66f7284bba3"
  },
  "kernelspec": {
   "display_name": "Python 3.10.4 ('bu')",
   "language": "python",
   "name": "python3"
  },
  "language_info": {
   "codemirror_mode": {
    "name": "ipython",
    "version": 3
   },
   "file_extension": ".py",
   "mimetype": "text/x-python",
   "name": "python",
   "nbconvert_exporter": "python",
   "pygments_lexer": "ipython3",
   "version": "3.10.4"
  }
 },
 "nbformat": 4,
 "nbformat_minor": 1
}
