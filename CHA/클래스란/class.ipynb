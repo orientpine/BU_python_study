{
 "cells": [
  {
   "cell_type": "code",
   "execution_count": 47,
   "metadata": {},
   "outputs": [],
   "source": [
    "class Idol:\n",
    "    nation = \"한국\"\n",
    "    def __init__(self,company,name, num_mem,num_paper):\n",
    "        self.company = company\n",
    "        self.name = name\n",
    "        self.num_mem = num_mem\n",
    "        self.num_paper = num_paper\n",
    "    def sayName(self):\n",
    "        print(f\"우리는 총 {self.num_mem} 명인 {self.name} 입니다. \")\n",
    "    def sayCompany(self):\n",
    "        print(f\"{self.company} 소속입니다.\")\n",
    "    def sing(self):\n",
    "        pass\n",
    "    def dance(self):\n",
    "        pass\n",
    "\n",
    "class boyIdol(Idol):\n",
    "    def __init__(self,company,name, num_mem,arm):\n",
    "        super().__init__(company,name, num_mem)\n",
    "        self.arm = arm\n",
    "\n",
    "    def callofDuty(self):\n",
    "        print(f'{self.arm} 입니다.')\n",
    "    \n",
    "    def cangraudate(self):\n",
    "        if self.num_paper >10:\n",
    "            print(\"졸업\")\n",
    "        else:\n",
    "            print(\"1년더...\")\n",
    "\n",
    "class girlIdol(Idol):\n",
    "    def __init__(self,company,name, num_mem,baby):\n",
    "        super().__init__(company,name, num_mem)\n",
    "        self.baby  =baby\n",
    "        \n",
    "\n",
    "    def ispregnant(self):\n",
    "        print(f'애가 {self.baby} 명 입니다.')"
   ]
  },
  {
   "cell_type": "code",
   "execution_count": 39,
   "metadata": {},
   "outputs": [],
   "source": [
    "ive = girlIdol('스타쉽','아이브',4,0)\n",
    "girls = girlIdol('SM','소녀시대',5,0)\n",
    "espa = girlIdol('SM','에스파',7,0)\n",
    "resera = girlIdol('소스뮤직','르세라핌',2,1)\n",
    "superJunior = boyIdol('SM','슈퍼주니어',20,\"군필\")\n",
    "bts = boyIdol('하이브','방탄소년단',6,\"미필\")"
   ]
  },
  {
   "cell_type": "code",
   "execution_count": 48,
   "metadata": {},
   "outputs": [
    {
     "data": {
      "text/plain": [
       "'한국'"
      ]
     },
     "execution_count": 48,
     "metadata": {},
     "output_type": "execute_result"
    }
   ],
   "source": [
    "Idol.nation"
   ]
  },
  {
   "cell_type": "code",
   "execution_count": 37,
   "metadata": {},
   "outputs": [
    {
     "name": "stdout",
     "output_type": "stream",
     "text": [
      "애가 1 입니다.\n"
     ]
    }
   ],
   "source": [
    "resera.ispregnant()"
   ]
  },
  {
   "cell_type": "code",
   "execution_count": 29,
   "metadata": {},
   "outputs": [
    {
     "name": "stdout",
     "output_type": "stream",
     "text": [
      "우리는 총 4 명인 아이브 입니다. \n",
      "우리는 총 5 명인 소녀시대 입니다. \n",
      "우리는 총 7 명인 에스파 입니다. \n",
      "우리는 총 2 명인 르세라핌 입니다. \n",
      "우리는 총 20 명인 슈퍼주니어 입니다. \n"
     ]
    }
   ],
   "source": [
    "ive.sayName()\n",
    "girls.sayName()\n",
    "espa.sayName()\n",
    "resera.sayName()\n",
    "superJunior.sayName()"
   ]
  },
  {
   "cell_type": "code",
   "execution_count": 9,
   "metadata": {},
   "outputs": [
    {
     "name": "stdout",
     "output_type": "stream",
     "text": [
      "우리는 아이브 입니다, 5 명입니다.\n",
      "우리는 소녀시대 입니다.9 명입니다.\n",
      "우리는 르세라핌 입니다.5 명입니다.\n",
      "우리는 에스파 입니다.4 명입니다.\n"
     ]
    }
   ],
   "source": [
    "name = \"아이브\"\n",
    "num = 5\n",
    "print(f'우리는 {name} 입니다, {num} 명입니다.')\n",
    "name = \"소녀시대\"\n",
    "num = 9\n",
    "print(f'우리는 {name} 입니다.{num} 명입니다.')\n",
    "name = \"르세라핌\"\n",
    "num = 5\n",
    "print(f'우리는 {name} 입니다.{num} 명입니다.')\n",
    "name = \"에스파\"\n",
    "num = 4\n",
    "print(f'우리는 {name} 입니다.{num} 명입니다.')"
   ]
  },
  {
   "cell_type": "code",
   "execution_count": 4,
   "metadata": {},
   "outputs": [
    {
     "name": "stdout",
     "output_type": "stream",
     "text": [
      "스타쉽 소속입니다.\n"
     ]
    }
   ],
   "source": [
    "ive.sayCompany()\n"
   ]
  },
  {
   "cell_type": "code",
   "execution_count": null,
   "metadata": {},
   "outputs": [],
   "source": [
    "class mo"
   ]
  },
  {
   "cell_type": "code",
   "execution_count": 6,
   "metadata": {},
   "outputs": [
    {
     "data": {
      "text/plain": [
       "['A', 'B', 'C']"
      ]
     },
     "execution_count": 6,
     "metadata": {},
     "output_type": "execute_result"
    }
   ],
   "source": [
    "from natsort import natsorted\n",
    "A = \"A B C\"\n",
    "B = \"B\"\n",
    "C = \"A B\"\n",
    "D = \"B C A\"\n",
    "natsorted(A.split(\" \"))\n"
   ]
  },
  {
   "cell_type": "code",
   "execution_count": 5,
   "metadata": {},
   "outputs": [
    {
     "data": {
      "text/plain": [
       "['A', 'B', 'C']"
      ]
     },
     "execution_count": 5,
     "metadata": {},
     "output_type": "execute_result"
    }
   ],
   "source": [
    "natsorted(D.split(\" \"))"
   ]
  },
  {
   "cell_type": "code",
   "execution_count": null,
   "metadata": {},
   "outputs": [],
   "source": []
  }
 ],
 "metadata": {
  "kernelspec": {
   "display_name": "Python 3.8.13 ('buIMU')",
   "language": "python",
   "name": "python3"
  },
  "language_info": {
   "codemirror_mode": {
    "name": "ipython",
    "version": 3
   },
   "file_extension": ".py",
   "mimetype": "text/x-python",
   "name": "python",
   "nbconvert_exporter": "python",
   "pygments_lexer": "ipython3",
   "version": "3.8.13"
  },
  "orig_nbformat": 4,
  "vscode": {
   "interpreter": {
    "hash": "b7f75e3f67c2e8328760c5f8e07c7b9104f46fb4b9635e1895ac42e507773c47"
   }
  }
 },
 "nbformat": 4,
 "nbformat_minor": 2
}
