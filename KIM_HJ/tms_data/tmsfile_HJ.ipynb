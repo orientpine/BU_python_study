{
 "cells": [
  {
   "cell_type": "code",
   "execution_count": 5,
   "metadata": {},
   "outputs": [],
   "source": [
    "import numpy as np\n",
    "import pandas as pd"
   ]
  },
  {
   "cell_type": "code",
   "execution_count": 7,
   "metadata": {},
   "outputs": [
    {
     "data": {
      "text/html": [
       "<div>\n",
       "<style scoped>\n",
       "    .dataframe tbody tr th:only-of-type {\n",
       "        vertical-align: middle;\n",
       "    }\n",
       "\n",
       "    .dataframe tbody tr th {\n",
       "        vertical-align: top;\n",
       "    }\n",
       "\n",
       "    .dataframe thead th {\n",
       "        text-align: right;\n",
       "    }\n",
       "</style>\n",
       "<table border=\"1\" class=\"dataframe\">\n",
       "  <thead>\n",
       "    <tr style=\"text-align: right;\">\n",
       "      <th></th>\n",
       "      <th>s</th>\n",
       "      <th>ADC 0</th>\n",
       "      <th>ADC 1</th>\n",
       "    </tr>\n",
       "  </thead>\n",
       "  <tbody>\n",
       "    <tr>\n",
       "      <th>0</th>\n",
       "      <td>-0.1000</td>\n",
       "      <td>0.004368</td>\n",
       "      <td>0.004234</td>\n",
       "    </tr>\n",
       "    <tr>\n",
       "      <th>1</th>\n",
       "      <td>-0.0998</td>\n",
       "      <td>0.004514</td>\n",
       "      <td>0.004183</td>\n",
       "    </tr>\n",
       "    <tr>\n",
       "      <th>2</th>\n",
       "      <td>-0.0996</td>\n",
       "      <td>0.004438</td>\n",
       "      <td>0.004056</td>\n",
       "    </tr>\n",
       "    <tr>\n",
       "      <th>3</th>\n",
       "      <td>-0.0994</td>\n",
       "      <td>0.004514</td>\n",
       "      <td>0.004139</td>\n",
       "    </tr>\n",
       "    <tr>\n",
       "      <th>4</th>\n",
       "      <td>-0.0992</td>\n",
       "      <td>0.004520</td>\n",
       "      <td>0.004107</td>\n",
       "    </tr>\n",
       "  </tbody>\n",
       "</table>\n",
       "</div>"
      ],
      "text/plain": [
       "        s     ADC 0     ADC 1\n",
       "0 -0.1000  0.004368  0.004234\n",
       "1 -0.0998  0.004514  0.004183\n",
       "2 -0.0996  0.004438  0.004056\n",
       "3 -0.0994  0.004514  0.004139\n",
       "4 -0.0992  0.004520  0.004107"
      ]
     },
     "execution_count": 7,
     "metadata": {},
     "output_type": "execute_result"
    }
   ],
   "source": [
    "tms_l_data = pd.read_table(\"Lfemi_aver.txt\")\n",
    "tms_l_data.head()\n"
   ]
  },
  {
   "cell_type": "code",
   "execution_count": null,
   "metadata": {},
   "outputs": [],
   "source": [
    "tms_r_data = pd.read_table(\"Rfemi_aver.txt\")\n",
    "tms_r_data.head()"
   ]
  },
  {
   "cell_type": "code",
   "execution_count": null,
   "metadata": {},
   "outputs": [],
   "source": [
    "#left Hz = 5000\n",
    "1/(tms_l_data['s'][1] - tms_l_data['s'][0])"
   ]
  },
  {
   "cell_type": "code",
   "execution_count": null,
   "metadata": {},
   "outputs": [],
   "source": [
    "#right Hz = 5000\n",
    "1/(tms_r_data['s'][1] - tms_r_data['s'][0])"
   ]
  },
  {
   "cell_type": "code",
   "execution_count": null,
   "metadata": {},
   "outputs": [],
   "source": [
    "tms_l_data_pre = tms_l_data[0:500]\n",
    "tms_r_data_pre = tms_r_data[0:500]\n",
    "print(tms_l_data_pre)\n",
    "print(tms_r_data_pre)"
   ]
  },
  {
   "cell_type": "code",
   "execution_count": null,
   "metadata": {},
   "outputs": [],
   "source": [
    "tms_l_data_pre['R_Mean'] = np.mean(tms_l_data['ADC 0'][0:500])\n",
    "tms_l_data_pre['L_Mean'] = np.mean(tms_l_data['ADC 1'][0:500])\n",
    "tms_l_data_pre['R_5SD'] = 5*np.std(tms_l_data['ADC 0'][0:500])\n",
    "tms_l_data_pre['L_5SD'] = 5*np.std(tms_l_data['ADC 1'][0:500])\n",
    "tms_l_data_pre['RMean + R_5SD'] = tms_l_data_pre['R_Mean']+5*np.std(tms_l_data['ADC 0'][0:500])\n",
    "tms_l_data_pre['LMean + L_5SD'] = tms_l_data_pre['L_Mean']+5*np.std(tms_l_data['ADC 1'][0:500])\n",
    "print(tms_l_data_pre)\n"
   ]
  },
  {
   "cell_type": "code",
   "execution_count": null,
   "metadata": {},
   "outputs": [],
   "source": [
    "tms_r_data_pre['R_Mean'] = np.mean(tms_r_data['ADC 0'][0:500])\n",
    "tms_r_data_pre['L_Mean'] = np.mean(tms_r_data['ADC 1'][0:500])\n",
    "tms_r_data_pre['R_5SD'] = 5*np.std(tms_r_data['ADC 0'][0:500])\n",
    "tms_r_data_pre['L_5SD'] = 5*np.std(tms_r_data['ADC 1'][0:500])\n",
    "tms_r_data_pre['RMean + R_5SD'] = tms_r_data_pre['R_Mean']+5*np.std(tms_r_data['ADC 0'][0:500])\n",
    "tms_r_data_pre['LMean + L_5SD'] = tms_r_data_pre['L_Mean']+5*np.std(tms_r_data['ADC 1'][0:500])\n",
    "print(tms_r_data_pre)\n"
   ]
  },
  {
   "cell_type": "code",
   "execution_count": null,
   "metadata": {},
   "outputs": [],
   "source": [
    "## 만약에 5SD를 넘으면 그 열의 's' 값을 옆 칸에다 적어라\n",
    "## 한폴더에 두가지를 넣으려면 어떻게 해야하나요.\n",
    "## 그래프를 만들고 싶슴다. \n",
    "#a = tms_r_data['ADC 0'][501:2500]\n",
    "\n",
    "#for right in a:\n",
    "#   if right > m+0.000527:\n",
    "#        tms_r_data.append(7, 'Latency', min(tms_r_data['s']))\n",
    "        "
   ]
  },
  {
   "cell_type": "code",
   "execution_count": null,
   "metadata": {},
   "outputs": [],
   "source": [
    "#a = tms_r_data_pre['RMean + R_5SD']\n",
    "#b = tms_r_data['ADC 1']\n",
    "#indices = [a for a,tms_r_data['s'] in enumerate(b > a) if tms_r_data['s']]"
   ]
  },
  {
   "cell_type": "markdown",
   "metadata": {},
   "source": [
    "prestim_l = pd.DataFrame()"
   ]
  },
  {
   "cell_type": "code",
   "execution_count": null,
   "metadata": {},
   "outputs": [],
   "source": [
    "prestim_l = pd.DataFrame(tms_l_data_pre)\n",
    "prestim_r = pd.DataFrame(tms_r_data_pre)"
   ]
  },
  {
   "cell_type": "code",
   "execution_count": null,
   "metadata": {},
   "outputs": [],
   "source": [
    "prestim_l.to_excel('Prestim_L.xlsx',sheet_name='1pg',index=False)\n",
    "prestim_r.to_excel('Prestim_R.xlsx',sheet_name='1pg',index=False)"
   ]
  },
  {
   "cell_type": "code",
   "execution_count": null,
   "metadata": {},
   "outputs": [],
   "source": []
  }
 ],
 "metadata": {
  "interpreter": {
   "hash": "360415a06a2cb4988f467b724c8ffdb39ec3aeec574ee0105248e66f7284bba3"
  },
  "kernelspec": {
   "display_name": "Python 3.10.4 ('bu')",
   "language": "python",
   "name": "python3"
  },
  "language_info": {
   "codemirror_mode": {
    "name": "ipython",
    "version": 3
   },
   "file_extension": ".py",
   "mimetype": "text/x-python",
   "name": "python",
   "nbconvert_exporter": "python",
   "pygments_lexer": "ipython3",
   "version": "3.10.4"
  },
  "orig_nbformat": 4
 },
 "nbformat": 4,
 "nbformat_minor": 2
}
