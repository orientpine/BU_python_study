{
 "cells": [
  {
   "cell_type": "code",
   "execution_count": 147,
   "metadata": {},
   "outputs": [],
   "source": [
    "import numpy as np\n",
    "import pandas as pd"
   ]
  },
  {
   "cell_type": "code",
   "execution_count": 148,
   "metadata": {},
   "outputs": [
    {
     "data": {
      "text/html": [
       "<div>\n",
       "<style scoped>\n",
       "    .dataframe tbody tr th:only-of-type {\n",
       "        vertical-align: middle;\n",
       "    }\n",
       "\n",
       "    .dataframe tbody tr th {\n",
       "        vertical-align: top;\n",
       "    }\n",
       "\n",
       "    .dataframe thead th {\n",
       "        text-align: right;\n",
       "    }\n",
       "</style>\n",
       "<table border=\"1\" class=\"dataframe\">\n",
       "  <thead>\n",
       "    <tr style=\"text-align: right;\">\n",
       "      <th></th>\n",
       "      <th>s</th>\n",
       "      <th>ADC 0</th>\n",
       "      <th>ADC 1</th>\n",
       "    </tr>\n",
       "  </thead>\n",
       "  <tbody>\n",
       "    <tr>\n",
       "      <th>0</th>\n",
       "      <td>-0.1000</td>\n",
       "      <td>0.004368</td>\n",
       "      <td>0.004234</td>\n",
       "    </tr>\n",
       "    <tr>\n",
       "      <th>1</th>\n",
       "      <td>-0.0998</td>\n",
       "      <td>0.004514</td>\n",
       "      <td>0.004183</td>\n",
       "    </tr>\n",
       "    <tr>\n",
       "      <th>2</th>\n",
       "      <td>-0.0996</td>\n",
       "      <td>0.004438</td>\n",
       "      <td>0.004056</td>\n",
       "    </tr>\n",
       "    <tr>\n",
       "      <th>3</th>\n",
       "      <td>-0.0994</td>\n",
       "      <td>0.004514</td>\n",
       "      <td>0.004139</td>\n",
       "    </tr>\n",
       "    <tr>\n",
       "      <th>4</th>\n",
       "      <td>-0.0992</td>\n",
       "      <td>0.004520</td>\n",
       "      <td>0.004107</td>\n",
       "    </tr>\n",
       "  </tbody>\n",
       "</table>\n",
       "</div>"
      ],
      "text/plain": [
       "        s     ADC 0     ADC 1\n",
       "0 -0.1000  0.004368  0.004234\n",
       "1 -0.0998  0.004514  0.004183\n",
       "2 -0.0996  0.004438  0.004056\n",
       "3 -0.0994  0.004514  0.004139\n",
       "4 -0.0992  0.004520  0.004107"
      ]
     },
     "execution_count": 148,
     "metadata": {},
     "output_type": "execute_result"
    }
   ],
   "source": [
    "tms_l_data = pd.read_table(\"Lfemi_aver.txt\")\n",
    "tms_l_data.head()\n"
   ]
  },
  {
   "cell_type": "code",
   "execution_count": 149,
   "metadata": {},
   "outputs": [
    {
     "data": {
      "text/plain": [
       "4999.999999999857"
      ]
     },
     "execution_count": 149,
     "metadata": {},
     "output_type": "execute_result"
    }
   ],
   "source": [
    "#left Hz = 5000\n",
    "1/(tms_l_data['s'][1] - tms_l_data['s'][0])"
   ]
  },
  {
   "cell_type": "code",
   "execution_count": 150,
   "metadata": {},
   "outputs": [
    {
     "data": {
      "text/html": [
       "<div>\n",
       "<style scoped>\n",
       "    .dataframe tbody tr th:only-of-type {\n",
       "        vertical-align: middle;\n",
       "    }\n",
       "\n",
       "    .dataframe tbody tr th {\n",
       "        vertical-align: top;\n",
       "    }\n",
       "\n",
       "    .dataframe thead th {\n",
       "        text-align: right;\n",
       "    }\n",
       "</style>\n",
       "<table border=\"1\" class=\"dataframe\">\n",
       "  <thead>\n",
       "    <tr style=\"text-align: right;\">\n",
       "      <th></th>\n",
       "      <th>s</th>\n",
       "      <th>ADC 0</th>\n",
       "      <th>ADC 1</th>\n",
       "    </tr>\n",
       "  </thead>\n",
       "  <tbody>\n",
       "    <tr>\n",
       "      <th>0</th>\n",
       "      <td>-0.1000</td>\n",
       "      <td>0.004520</td>\n",
       "      <td>0.004158</td>\n",
       "    </tr>\n",
       "    <tr>\n",
       "      <th>1</th>\n",
       "      <td>-0.0998</td>\n",
       "      <td>0.004470</td>\n",
       "      <td>0.004120</td>\n",
       "    </tr>\n",
       "    <tr>\n",
       "      <th>2</th>\n",
       "      <td>-0.0996</td>\n",
       "      <td>0.004482</td>\n",
       "      <td>0.003929</td>\n",
       "    </tr>\n",
       "    <tr>\n",
       "      <th>3</th>\n",
       "      <td>-0.0994</td>\n",
       "      <td>0.004292</td>\n",
       "      <td>0.004145</td>\n",
       "    </tr>\n",
       "    <tr>\n",
       "      <th>4</th>\n",
       "      <td>-0.0992</td>\n",
       "      <td>0.004361</td>\n",
       "      <td>0.004190</td>\n",
       "    </tr>\n",
       "  </tbody>\n",
       "</table>\n",
       "</div>"
      ],
      "text/plain": [
       "        s     ADC 0     ADC 1\n",
       "0 -0.1000  0.004520  0.004158\n",
       "1 -0.0998  0.004470  0.004120\n",
       "2 -0.0996  0.004482  0.003929\n",
       "3 -0.0994  0.004292  0.004145\n",
       "4 -0.0992  0.004361  0.004190"
      ]
     },
     "execution_count": 150,
     "metadata": {},
     "output_type": "execute_result"
    }
   ],
   "source": [
    "tms_r_data = pd.read_table(\"Rfemi_aver.txt\")\n",
    "tms_r_data.head()"
   ]
  },
  {
   "cell_type": "code",
   "execution_count": 151,
   "metadata": {},
   "outputs": [
    {
     "data": {
      "text/plain": [
       "4999.999999999857"
      ]
     },
     "execution_count": 151,
     "metadata": {},
     "output_type": "execute_result"
    }
   ],
   "source": [
    "#right Hz = 5000\n",
    "1/(tms_r_data['s'][1] - tms_r_data['s'][0])"
   ]
  },
  {
   "cell_type": "code",
   "execution_count": 152,
   "metadata": {},
   "outputs": [
    {
     "name": "stdout",
     "output_type": "stream",
     "text": [
      "          s     ADC 0     ADC 1\n",
      "0   -0.1000  0.004368  0.004234\n",
      "1   -0.0998  0.004514  0.004183\n",
      "2   -0.0996  0.004438  0.004056\n",
      "3   -0.0994  0.004514  0.004139\n",
      "4   -0.0992  0.004520  0.004107\n",
      "..      ...       ...       ...\n",
      "495 -0.0010  0.004260  0.004260\n",
      "496 -0.0008  0.004419  0.004088\n",
      "497 -0.0006  0.004597  0.004304\n",
      "498 -0.0004  0.004476  0.004171\n",
      "499 -0.0002  0.004476  0.004005\n",
      "\n",
      "[500 rows x 3 columns]\n",
      "          s     ADC 0     ADC 1\n",
      "0   -0.1000  0.004520  0.004158\n",
      "1   -0.0998  0.004470  0.004120\n",
      "2   -0.0996  0.004482  0.003929\n",
      "3   -0.0994  0.004292  0.004145\n",
      "4   -0.0992  0.004361  0.004190\n",
      "..      ...       ...       ...\n",
      "495 -0.0010  0.004597  0.004323\n",
      "496 -0.0008  0.004311  0.004063\n",
      "497 -0.0006  0.004571  0.004183\n",
      "498 -0.0004  0.004406  0.004088\n",
      "499 -0.0002  0.004520  0.004285\n",
      "\n",
      "[500 rows x 3 columns]\n"
     ]
    }
   ],
   "source": [
    "tms_l_data_pre = tms_l_data[0:500]\n",
    "tms_r_data_pre = tms_r_data[0:500]\n",
    "print(tms_l_data_pre)\n",
    "print(tms_r_data_pre)"
   ]
  },
  {
   "cell_type": "code",
   "execution_count": 153,
   "metadata": {},
   "outputs": [
    {
     "name": "stdout",
     "output_type": "stream",
     "text": [
      "          s     ADC 0     ADC 1    R_Mean   L_Mean     R_5SD     L_5SD\n",
      "0   -0.1000  0.004368  0.004234  0.004435  0.00415  0.000538  0.000528\n",
      "1   -0.0998  0.004514  0.004183  0.004435  0.00415  0.000538  0.000528\n",
      "2   -0.0996  0.004438  0.004056  0.004435  0.00415  0.000538  0.000528\n",
      "3   -0.0994  0.004514  0.004139  0.004435  0.00415  0.000538  0.000528\n",
      "4   -0.0992  0.004520  0.004107  0.004435  0.00415  0.000538  0.000528\n",
      "..      ...       ...       ...       ...      ...       ...       ...\n",
      "495 -0.0010  0.004260  0.004260  0.004435  0.00415  0.000538  0.000528\n",
      "496 -0.0008  0.004419  0.004088  0.004435  0.00415  0.000538  0.000528\n",
      "497 -0.0006  0.004597  0.004304  0.004435  0.00415  0.000538  0.000528\n",
      "498 -0.0004  0.004476  0.004171  0.004435  0.00415  0.000538  0.000528\n",
      "499 -0.0002  0.004476  0.004005  0.004435  0.00415  0.000538  0.000528\n",
      "\n",
      "[500 rows x 7 columns]\n"
     ]
    },
    {
     "name": "stderr",
     "output_type": "stream",
     "text": [
      "C:\\Users\\HyunJoon_Kim\\AppData\\Local\\Temp\\ipykernel_23872\\2884625888.py:1: SettingWithCopyWarning: \n",
      "A value is trying to be set on a copy of a slice from a DataFrame.\n",
      "Try using .loc[row_indexer,col_indexer] = value instead\n",
      "\n",
      "See the caveats in the documentation: https://pandas.pydata.org/pandas-docs/stable/user_guide/indexing.html#returning-a-view-versus-a-copy\n",
      "  tms_l_data_pre['R_Mean'] = np.mean(tms_l_data['ADC 0'][0:500])\n",
      "C:\\Users\\HyunJoon_Kim\\AppData\\Local\\Temp\\ipykernel_23872\\2884625888.py:2: SettingWithCopyWarning: \n",
      "A value is trying to be set on a copy of a slice from a DataFrame.\n",
      "Try using .loc[row_indexer,col_indexer] = value instead\n",
      "\n",
      "See the caveats in the documentation: https://pandas.pydata.org/pandas-docs/stable/user_guide/indexing.html#returning-a-view-versus-a-copy\n",
      "  tms_l_data_pre['L_Mean'] = np.mean(tms_l_data['ADC 1'][0:500])\n",
      "C:\\Users\\HyunJoon_Kim\\AppData\\Local\\Temp\\ipykernel_23872\\2884625888.py:3: SettingWithCopyWarning: \n",
      "A value is trying to be set on a copy of a slice from a DataFrame.\n",
      "Try using .loc[row_indexer,col_indexer] = value instead\n",
      "\n",
      "See the caveats in the documentation: https://pandas.pydata.org/pandas-docs/stable/user_guide/indexing.html#returning-a-view-versus-a-copy\n",
      "  tms_l_data_pre['R_5SD'] = 5*np.std(tms_l_data['ADC 0'][0:500])\n",
      "C:\\Users\\HyunJoon_Kim\\AppData\\Local\\Temp\\ipykernel_23872\\2884625888.py:4: SettingWithCopyWarning: \n",
      "A value is trying to be set on a copy of a slice from a DataFrame.\n",
      "Try using .loc[row_indexer,col_indexer] = value instead\n",
      "\n",
      "See the caveats in the documentation: https://pandas.pydata.org/pandas-docs/stable/user_guide/indexing.html#returning-a-view-versus-a-copy\n",
      "  tms_l_data_pre['L_5SD'] = 5*np.std(tms_l_data['ADC 1'][0:500])\n"
     ]
    }
   ],
   "source": [
    "tms_l_data_pre['R_Mean'] = np.mean(tms_l_data['ADC 0'][0:500])\n",
    "tms_l_data_pre['L_Mean'] = np.mean(tms_l_data['ADC 1'][0:500])\n",
    "tms_l_data_pre['R_5SD'] = 5*np.std(tms_l_data['ADC 0'][0:500])\n",
    "tms_l_data_pre['L_5SD'] = 5*np.std(tms_l_data['ADC 1'][0:500])\n",
    "print(tms_l_data_pre)\n"
   ]
  },
  {
   "cell_type": "code",
   "execution_count": 154,
   "metadata": {},
   "outputs": [
    {
     "name": "stdout",
     "output_type": "stream",
     "text": [
      "          s     ADC 0     ADC 1    R_Mean    L_Mean     R_5SD     L_5SD\n",
      "0   -0.1000  0.004520  0.004158  0.004437  0.004185  0.000527  0.000541\n",
      "1   -0.0998  0.004470  0.004120  0.004437  0.004185  0.000527  0.000541\n",
      "2   -0.0996  0.004482  0.003929  0.004437  0.004185  0.000527  0.000541\n",
      "3   -0.0994  0.004292  0.004145  0.004437  0.004185  0.000527  0.000541\n",
      "4   -0.0992  0.004361  0.004190  0.004437  0.004185  0.000527  0.000541\n",
      "..      ...       ...       ...       ...       ...       ...       ...\n",
      "495 -0.0010  0.004597  0.004323  0.004437  0.004185  0.000527  0.000541\n",
      "496 -0.0008  0.004311  0.004063  0.004437  0.004185  0.000527  0.000541\n",
      "497 -0.0006  0.004571  0.004183  0.004437  0.004185  0.000527  0.000541\n",
      "498 -0.0004  0.004406  0.004088  0.004437  0.004185  0.000527  0.000541\n",
      "499 -0.0002  0.004520  0.004285  0.004437  0.004185  0.000527  0.000541\n",
      "\n",
      "[500 rows x 7 columns]\n"
     ]
    },
    {
     "name": "stderr",
     "output_type": "stream",
     "text": [
      "C:\\Users\\HyunJoon_Kim\\AppData\\Local\\Temp\\ipykernel_23872\\683228937.py:1: SettingWithCopyWarning: \n",
      "A value is trying to be set on a copy of a slice from a DataFrame.\n",
      "Try using .loc[row_indexer,col_indexer] = value instead\n",
      "\n",
      "See the caveats in the documentation: https://pandas.pydata.org/pandas-docs/stable/user_guide/indexing.html#returning-a-view-versus-a-copy\n",
      "  tms_r_data_pre['R_Mean'] = np.mean(tms_r_data['ADC 0'][0:500])\n",
      "C:\\Users\\HyunJoon_Kim\\AppData\\Local\\Temp\\ipykernel_23872\\683228937.py:2: SettingWithCopyWarning: \n",
      "A value is trying to be set on a copy of a slice from a DataFrame.\n",
      "Try using .loc[row_indexer,col_indexer] = value instead\n",
      "\n",
      "See the caveats in the documentation: https://pandas.pydata.org/pandas-docs/stable/user_guide/indexing.html#returning-a-view-versus-a-copy\n",
      "  tms_r_data_pre['L_Mean'] = np.mean(tms_r_data['ADC 1'][0:500])\n",
      "C:\\Users\\HyunJoon_Kim\\AppData\\Local\\Temp\\ipykernel_23872\\683228937.py:3: SettingWithCopyWarning: \n",
      "A value is trying to be set on a copy of a slice from a DataFrame.\n",
      "Try using .loc[row_indexer,col_indexer] = value instead\n",
      "\n",
      "See the caveats in the documentation: https://pandas.pydata.org/pandas-docs/stable/user_guide/indexing.html#returning-a-view-versus-a-copy\n",
      "  tms_r_data_pre['R_5SD'] = 5*np.std(tms_r_data['ADC 0'][0:500])\n",
      "C:\\Users\\HyunJoon_Kim\\AppData\\Local\\Temp\\ipykernel_23872\\683228937.py:4: SettingWithCopyWarning: \n",
      "A value is trying to be set on a copy of a slice from a DataFrame.\n",
      "Try using .loc[row_indexer,col_indexer] = value instead\n",
      "\n",
      "See the caveats in the documentation: https://pandas.pydata.org/pandas-docs/stable/user_guide/indexing.html#returning-a-view-versus-a-copy\n",
      "  tms_r_data_pre['L_5SD'] = 5*np.std(tms_r_data['ADC 1'][0:500])\n"
     ]
    }
   ],
   "source": [
    "tms_r_data_pre['R_Mean'] = np.mean(tms_r_data['ADC 0'][0:500])\n",
    "tms_r_data_pre['L_Mean'] = np.mean(tms_r_data['ADC 1'][0:500])\n",
    "tms_r_data_pre['R_5SD'] = 5*np.std(tms_r_data['ADC 0'][0:500])\n",
    "tms_r_data_pre['L_5SD'] = 5*np.std(tms_r_data['ADC 1'][0:500])\n",
    "print(tms_r_data_pre)\n"
   ]
  },
  {
   "cell_type": "code",
   "execution_count": null,
   "metadata": {},
   "outputs": [],
   "source": []
  },
  {
   "cell_type": "code",
   "execution_count": null,
   "metadata": {},
   "outputs": [],
   "source": []
  },
  {
   "cell_type": "markdown",
   "metadata": {},
   "source": [
    "prestim_l = pd.DataFrame()"
   ]
  },
  {
   "cell_type": "code",
   "execution_count": null,
   "metadata": {},
   "outputs": [],
   "source": [
    "prestim = pd.DataFrame(tms_l_data)\n",
    "print(prestim)"
   ]
  },
  {
   "cell_type": "code",
   "execution_count": null,
   "metadata": {},
   "outputs": [],
   "source": [
    "pre_stim.to_excel('prestimdata.xlsx', sheet_name = 'predata', index = False)"
   ]
  },
  {
   "cell_type": "code",
   "execution_count": null,
   "metadata": {},
   "outputs": [],
   "source": []
  }
 ],
 "metadata": {
  "interpreter": {
   "hash": "360415a06a2cb4988f467b724c8ffdb39ec3aeec574ee0105248e66f7284bba3"
  },
  "kernelspec": {
   "display_name": "Python 3.10.4 ('bu')",
   "language": "python",
   "name": "python3"
  },
  "language_info": {
   "codemirror_mode": {
    "name": "ipython",
    "version": 3
   },
   "file_extension": ".py",
   "mimetype": "text/x-python",
   "name": "python",
   "nbconvert_exporter": "python",
   "pygments_lexer": "ipython3",
   "version": "3.10.4"
  },
  "orig_nbformat": 4
 },
 "nbformat": 4,
 "nbformat_minor": 2
}
