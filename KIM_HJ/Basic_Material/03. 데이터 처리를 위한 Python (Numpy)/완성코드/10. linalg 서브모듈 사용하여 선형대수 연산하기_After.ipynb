{
 "cells": [
  {
   "cell_type": "markdown",
   "metadata": {},
   "source": [
    "## 학습목표\n",
    " 1. linalg 서브모듈 함수 활용여 선형대수 연산하기"
   ]
  },
  {
   "cell_type": "code",
   "execution_count": 1,
   "metadata": {},
   "outputs": [],
   "source": [
    "import numpy as np"
   ]
  },
  {
   "cell_type": "markdown",
   "metadata": {},
   "source": [
    "#### np.linalg.inv\n",
    " - 역행렬을 구할 때 사용\n",
    " - 모든 차원의 값이 같아야 함"
   ]
  },
  {
   "cell_type": "code",
   "execution_count": 2,
   "metadata": {},
   "outputs": [
    {
     "name": "stdout",
     "output_type": "stream",
     "text": [
      "[[[0.84601826 0.71911863 0.40155135]\n",
      "  [0.77473091 0.15376027 0.06247788]\n",
      "  [0.67880812 0.96007558 0.10807714]]\n",
      "\n",
      " [[0.42779873 0.32757827 0.78610085]\n",
      "  [0.27056424 0.74201605 0.36107849]\n",
      "  [0.26871334 0.54686229 0.65798822]]\n",
      "\n",
      " [[0.4624333  0.69237421 0.4378386 ]\n",
      "  [0.23046827 0.21237589 0.87598701]\n",
      "  [0.71984938 0.0398948  0.572127  ]]]\n"
     ]
    },
    {
     "data": {
      "text/plain": [
       "array([[[ 1.00000000e+00,  2.64794501e-18, -2.56169015e-17],\n",
       "        [-2.69637341e-18,  1.00000000e+00, -2.71852152e-17],\n",
       "        [-1.46245454e-16,  1.57390905e-17,  1.00000000e+00]],\n",
       "\n",
       "       [[ 1.00000000e+00, -3.21914254e-19, -4.59408584e-16],\n",
       "        [-2.23499079e-16,  1.00000000e+00,  1.39031588e-16],\n",
       "        [-1.68646711e-16,  8.87220146e-17,  1.00000000e+00]],\n",
       "\n",
       "       [[ 1.00000000e+00, -5.91608446e-17,  5.96636803e-17],\n",
       "        [ 6.56673083e-17,  1.00000000e+00,  7.67511303e-19],\n",
       "        [ 7.90127864e-18, -1.32233184e-17,  1.00000000e+00]]])"
      ]
     },
     "execution_count": 2,
     "metadata": {},
     "output_type": "execute_result"
    }
   ],
   "source": [
    "x = np.random.rand(3, 3, 3)\n",
    "print(x)\n",
    "\n",
    "np.matmul(x, np.linalg.inv(x))\n",
    "x @ np.linalg.inv(x)"
   ]
  },
  {
   "cell_type": "markdown",
   "metadata": {},
   "source": [
    "#### np.linalg.solve\n",
    " - Ax = B 형태의 선형대수식 솔루션을 제공\n",
    " - 예제) 호랑이와 홍합의 합 : 25 호랑이 다리와 홍합 다리의 합은 64\n",
    "   - x + y = 25\n",
    "   - 2x + 4y = 64\n",
    "   \n",
    " $$\\begin{pmatrix} 1 & 1 \\\\ 2 & 4 \\end{pmatrix}\\begin{pmatrix} x \\\\ y \\end{pmatrix}= \\begin{pmatrix} 25 \\\\ 64 \\end{pmatrix}$$\n"
   ]
  },
  {
   "cell_type": "code",
   "execution_count": 3,
   "metadata": {},
   "outputs": [
    {
     "name": "stdout",
     "output_type": "stream",
     "text": [
      "[18.  7.]\n"
     ]
    },
    {
     "data": {
      "text/plain": [
       "True"
      ]
     },
     "execution_count": 3,
     "metadata": {},
     "output_type": "execute_result"
    }
   ],
   "source": [
    "A = np.array([[1, 1], [2, 4]])\n",
    "B = np.array([25, 64])\n",
    "\n",
    "x = np.linalg.solve(A, B)\n",
    "print(x)\n",
    "\n",
    "np.allclose(A@x, B)"
   ]
  },
  {
   "cell_type": "code",
   "execution_count": null,
   "metadata": {},
   "outputs": [],
   "source": []
  }
 ],
 "metadata": {
  "interpreter": {
   "hash": "360415a06a2cb4988f467b724c8ffdb39ec3aeec574ee0105248e66f7284bba3"
  },
  "kernelspec": {
   "display_name": "Python 3.10.4 ('bu')",
   "language": "python",
   "name": "python3"
  },
  "language_info": {
   "codemirror_mode": {
    "name": "ipython",
    "version": 3
   },
   "file_extension": ".py",
   "mimetype": "text/x-python",
   "name": "python",
   "nbconvert_exporter": "python",
   "pygments_lexer": "ipython3",
   "version": "3.10.4"
  }
 },
 "nbformat": 4,
 "nbformat_minor": 1
}
