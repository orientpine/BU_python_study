{
 "cells": [
  {
   "cell_type": "code",
   "execution_count": null,
   "metadata": {},
   "outputs": [],
   "source": [
    "# import 필요한 라이브러리\n",
    "import os\n",
    "from natsort import natsorted\n",
    "from pathlib import Path\n",
    "import shutil\n",
    "from os import listdir\n",
    "from os.path import isdir\n",
    "from os.path import exists\n",
    "from os.path import isfile, join\n",
    "import numpy as np\n",
    "from tqdm.notebook import tqdm\n",
    "import re\n",
    "import pandas as pd\n",
    "import datetime\n",
    "import random\n",
    "from natsort import natsorted "
   ]
  },
  {
   "cell_type": "code",
   "execution_count": null,
   "metadata": {},
   "outputs": [],
   "source": [
    "# 필요한 함수 정의\n",
    "def ensure_dir(file_path):\n",
    "    if not os.path.exists(file_path):\n",
    "        os.makedirs(file_path)\n",
    "\n",
    "class Generator():\n",
    "    def __init__(self, start_date, end_date, start_id, end_id):\n",
    "        self.start_date = datetime.date(start_date['year'], start_date['month'], start_date['day'])\n",
    "        self.end_date = datetime.date(end_date['year'], end_date['month'], end_date['day'])\n",
    "        self.start_id = start_id\n",
    "        self.end_id = end_id\n",
    "\n",
    "    def dategenerate(self, qty):\n",
    "        start_date = self.start_date\n",
    "        end_date = self.end_date\n",
    "\n",
    "        set_date = set()\n",
    "        while(len(set_date)<qty):\n",
    "            time_between_dates = end_date - start_date\n",
    "            days_between_dates = time_between_dates.days\n",
    "            random_number_of_days = random.randrange(days_between_dates)\n",
    "            random_date = start_date + datetime.timedelta(days=random_number_of_days)\n",
    "            gen_date = ''.join(str(random_date).split('-'))\n",
    "            set_date.add(gen_date)\n",
    "        return natsorted(list(set_date))\n",
    "\n",
    "    def idgenerate(self,isconstlength = False, maxlength = 3):\n",
    "        set_id = set()\n",
    "        for i in range(self.start_id, self.end_id):\n",
    "            str_id = str(i)\n",
    "            if isconstlength:\n",
    "                str_id ='0'*(maxlength-len(str_id)) + str_id\n",
    "            gen_id = \"W\"+ str_id\n",
    "            set_id.add(gen_id)\n",
    "\n",
    "        return natsorted(list(set_id))"
   ]
  },
  {
   "cell_type": "code",
   "execution_count": null,
   "metadata": {},
   "outputs": [],
   "source": [
    "# 실험기간\n",
    "start_date = {'year':2022,'month':3,'day':1}\n",
    "end_date = {'year':2022,'month':6,'day':9}\n",
    "# 환자 ID\n",
    "start_id = 1\n",
    "end_id = 20\n",
    "date_exp = Generator(start_date, end_date, start_id, end_id)"
   ]
  },
  {
   "cell_type": "code",
   "execution_count": null,
   "metadata": {},
   "outputs": [],
   "source": [
    "list_patient = date_exp.idgenerate(True)\n",
    "targetFolder = 'Data'\n",
    "ensure_dir(targetFolder)\n",
    "for patient in list_patient:\n",
    "    ensure_dir(join(targetFolder,patient))\n",
    "    # 방문일 뽑기\n",
    "    visitCount = random.randrange(6)\n",
    "    list_visitDate = date_exp.dategenerate(visitCount)\n",
    "    # 방문 안하고 도망갔을 경우, 실험 폴더가 없음\n",
    "    if len(list_visitDate) == 0:\n",
    "        continue\n",
    "    # 방문날짜가 정해졌을 경우, 이를 폴더로 만들기\n",
    "    for visitDate in list_visitDate:\n",
    "        saveDir =  ensure_dir(join(targetFolder,patient,visitDate,'QST'))\n",
    "        result_qst = pd.DataFrame(columns =['Test','Location','Value','Comments'])\n",
    "        result_qst.to_excel(join(saveDir,f'{patient}_{visitDate}_QST.xlsx'))\n"
   ]
  },
  {
   "cell_type": "code",
   "execution_count": null,
   "metadata": {},
   "outputs": [],
   "source": [
    "for i in range(0,10):\n",
    "    if i ==5:\n",
    "        continue\n",
    "    print(f'나는 {i}다')"
   ]
  },
  {
   "cell_type": "code",
   "execution_count": null,
   "metadata": {},
   "outputs": [],
   "source": [
    "saveDir"
   ]
  },
  {
   "cell_type": "code",
   "execution_count": null,
   "metadata": {},
   "outputs": [],
   "source": [
    "motherfolder ='mom'\n",
    "sonfolder = 'son'\n",
    "grandfolder = 'grandson'\n",
    "join(motherfolder,sonfolder,grandfolder)"
   ]
  },
  {
   "cell_type": "code",
   "execution_count": null,
   "metadata": {},
   "outputs": [],
   "source": [
    "A = []\n",
    "len(A)"
   ]
  },
  {
   "cell_type": "code",
   "execution_count": null,
   "metadata": {},
   "outputs": [],
   "source": []
  }
 ],
 "metadata": {
  "interpreter": {
   "hash": "b7f75e3f67c2e8328760c5f8e07c7b9104f46fb4b9635e1895ac42e507773c47"
  },
  "kernelspec": {
   "display_name": "Python 3.8.0 ('buIMU')",
   "language": "python",
   "name": "python3"
  },
  "language_info": {
   "codemirror_mode": {
    "name": "ipython",
    "version": 3
   },
   "file_extension": ".py",
   "mimetype": "text/x-python",
   "name": "python",
   "nbconvert_exporter": "python",
   "pygments_lexer": "ipython3",
   "version": "3.8.0"
  },
  "orig_nbformat": 4
 },
 "nbformat": 4,
 "nbformat_minor": 2
}
