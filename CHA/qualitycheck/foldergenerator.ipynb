{
 "cells": [
  {
   "cell_type": "code",
   "execution_count": 6,
   "metadata": {},
   "outputs": [],
   "source": [
    "# import 필요한 라이브러리\n",
    "import os\n",
    "from natsort import natsorted\n",
    "from pathlib import Path\n",
    "import shutil\n",
    "from os import listdir\n",
    "from os.path import isdir\n",
    "from os.path import exists\n",
    "from os.path import isfile, join\n",
    "import numpy as np\n",
    "from tqdm.notebook import tqdm\n",
    "import re\n",
    "import pandas as pd\n",
    "import datetime\n",
    "import random\n",
    "from natsort import natsorted"
   ]
  },
  {
   "cell_type": "code",
   "execution_count": 58,
   "metadata": {},
   "outputs": [],
   "source": [
    "# 필요한 함수 정의\n",
    "def ensure_dir(file_path):\n",
    "    if not os.path.exists(file_path):\n",
    "        os.makedirs(file_path)\n",
    "\n",
    "\n",
    "class Generator:\n",
    "    def __init__(self, start_date, end_date, start_id, end_id):\n",
    "        self.start_date = datetime.date(\n",
    "            start_date[\"year\"], start_date[\"month\"], start_date[\"day\"]\n",
    "        )\n",
    "        self.end_date = datetime.date(\n",
    "            end_date[\"year\"], end_date[\"month\"], end_date[\"day\"]\n",
    "        )\n",
    "        self.start_id = start_id\n",
    "        self.end_id = end_id\n",
    "\n",
    "    def dategenerate(self, qty):\n",
    "        start_date = self.start_date\n",
    "        end_date = self.end_date\n",
    "\n",
    "        set_date = set()\n",
    "        while len(set_date) < qty:\n",
    "            time_between_dates = end_date - start_date\n",
    "            days_between_dates = time_between_dates.days\n",
    "            random_number_of_days = random.randrange(days_between_dates)\n",
    "            random_date = start_date + datetime.timedelta(days=random_number_of_days)\n",
    "            gen_date = \"\".join(str(random_date).split(\"-\"))\n",
    "            set_date.add(gen_date)\n",
    "        return natsorted(list(set_date))\n",
    "\n",
    "    def idgenerate(self, isconstlength=False, maxlength=3):\n",
    "        set_id = set()\n",
    "        for i in range(self.start_id, self.end_id):\n",
    "            str_id = str(i)\n",
    "            if isconstlength:\n",
    "                str_id = \"0\" * (maxlength - len(str_id)) + str_id\n",
    "            gen_id = \"W\" + str_id\n",
    "            set_id.add(gen_id)\n",
    "\n",
    "        return natsorted(list(set_id))"
   ]
  },
  {
   "cell_type": "code",
   "execution_count": 59,
   "metadata": {},
   "outputs": [],
   "source": [
    "# 실험기간\n",
    "start_date = {\"year\": 2022, \"month\": 3, \"day\": 1}\n",
    "end_date = {\"year\": 2022, \"month\": 6, \"day\": 9}\n",
    "# 환자 ID\n",
    "start_id = 1\n",
    "end_id = 21\n",
    "date_exp = Generator(start_date, end_date, start_id, end_id)"
   ]
  },
  {
   "cell_type": "code",
   "execution_count": null,
   "metadata": {},
   "outputs": [],
   "source": []
  },
  {
   "cell_type": "code",
   "execution_count": 62,
   "metadata": {},
   "outputs": [],
   "source": [
    "list_patient = date_exp.idgenerate(True)\n",
    "targetFolder = \"Data\"\n",
    "ensure_dir(targetFolder)\n",
    "for patient in list_patient:\n",
    "    ensure_dir(join(targetFolder, patient))\n",
    "    # 방문일 뽑기\n",
    "    visitCount = random.randrange(6)\n",
    "    list_visitDate = date_exp.dategenerate(visitCount)\n",
    "    # 방문 안하고 도망갔을 경우, 실험 폴더가 없음\n",
    "    if len(list_visitDate) == 0:\n",
    "        continue\n",
    "    # 방문날짜가 정해졌을 경우, 이를 폴더로 만들기\n",
    "    for visitDate in list_visitDate:\n",
    "        saveDir = ensure_dir(join(targetFolder, patient, visitDate, \"QST\"))\n",
    "        result_qst = pd.DataFrame(columns=[\"Test\", \"Location\", \"Value\", \"Comments\"])\n",
    "        result_qst.to_excel(join(saveDir, f\"{patient}_{visitDate}_QST.xlsx\"))"
   ]
  },
  {
   "cell_type": "code",
   "execution_count": 46,
   "metadata": {},
   "outputs": [
    {
     "name": "stdout",
     "output_type": "stream",
     "text": [
      "나는 0다\n",
      "나는 1다\n",
      "나는 2다\n",
      "나는 3다\n",
      "나는 4다\n",
      "나는 6다\n",
      "나는 7다\n",
      "나는 8다\n",
      "나는 9다\n"
     ]
    }
   ],
   "source": [
    "for i in range(0, 10):\n",
    "    if i == 5:\n",
    "        continue\n",
    "    print(f\"나는 {i}다\")"
   ]
  },
  {
   "cell_type": "code",
   "execution_count": 68,
   "metadata": {},
   "outputs": [
    {
     "data": {
      "text/plain": [
       "'Data\\\\W019\\\\20220425\\\\QST'"
      ]
     },
     "execution_count": 68,
     "metadata": {},
     "output_type": "execute_result"
    }
   ],
   "source": [
    "saveDir\n"
   ]
  },
  {
   "cell_type": "code",
   "execution_count": 34,
   "metadata": {},
   "outputs": [
    {
     "data": {
      "text/plain": [
       "'mom\\\\son\\\\grandson'"
      ]
     },
     "execution_count": 34,
     "metadata": {},
     "output_type": "execute_result"
    }
   ],
   "source": [
    "motherfolder = \"mom\"\n",
    "sonfolder = \"son\"\n",
    "grandfolder = \"grandson\"\n",
    "join(motherfolder, sonfolder, grandfolder)"
   ]
  },
  {
   "cell_type": "code",
   "execution_count": 85,
   "metadata": {},
   "outputs": [],
   "source": [
    "# 방문 일자 뽑기\n",
    "topDir = \"Data\"\n",
    "list_patient = natsorted(\n",
    "    [thing for thing in os.listdir(topDir) if isdir(join(topDir, thing))]\n",
    ")\n",
    "Dict_patientDate = {}\n",
    "for patient in list_patient:\n",
    "    list_visitDate = natsorted(\n",
    "        [\n",
    "            th\n",
    "            for th in os.listdir(join(topDir, patient))\n",
    "            if isdir(join(topDir, patient, th))\n",
    "        ]\n",
    "    )\n",
    "    Dict_patientDate[patient] = list_visitDate"
   ]
  },
  {
   "cell_type": "code",
   "execution_count": 92,
   "metadata": {},
   "outputs": [
    {
     "data": {
      "text/plain": [
       "{'W001': ['20220329', '20220516'],\n",
       " 'W002': ['20220418', '20220511', '20220606'],\n",
       " 'W003': ['20220301', '20220426', '20220504'],\n",
       " 'W004': ['20220302', '20220512', '20220605'],\n",
       " 'W005': ['20220312', '20220409', '20220507'],\n",
       " 'W006': [],\n",
       " 'W007': ['20220322'],\n",
       " 'W008': ['20220410', '20220519', '20220523', '20220606', '20220608'],\n",
       " 'W009': ['20220405', '20220416'],\n",
       " 'W010': ['20220428'],\n",
       " 'W011': [],\n",
       " 'W012': ['20220316', '20220525'],\n",
       " 'W013': ['20220420', '20220508', '20220509', '20220529', '20220531'],\n",
       " 'W014': ['20220409'],\n",
       " 'W015': ['20220401', '20220509', '20220511'],\n",
       " 'W016': ['20220310'],\n",
       " 'W017': ['20220410'],\n",
       " 'W018': ['20220425', '20220520'],\n",
       " 'W019': ['20220408', '20220425']}"
      ]
     },
     "execution_count": 92,
     "metadata": {},
     "output_type": "execute_result"
    }
   ],
   "source": [
    "Dict_patientDate\n"
   ]
  },
  {
   "cell_type": "code",
   "execution_count": 105,
   "metadata": {},
   "outputs": [],
   "source": [
    "countVisit = []\n",
    "for patientDate in Dict_patientDate:\n",
    "    count = len(Dict_patientDate[patientDate])\n",
    "    # print(count)\n",
    "    countVisit.append(count)\n"
   ]
  },
  {
   "cell_type": "code",
   "execution_count": 107,
   "metadata": {},
   "outputs": [],
   "source": [
    "np_cv = np.array(countVisit)\n"
   ]
  },
  {
   "cell_type": "code",
   "execution_count": 132,
   "metadata": {},
   "outputs": [
    {
     "data": {
      "text/plain": [
       "array([ True,  True,  True,  True,  True, False, False,  True,  True,\n",
       "       False, False,  True,  True, False,  True, False, False,  True,\n",
       "        True])"
      ]
     },
     "execution_count": 132,
     "metadata": {},
     "output_type": "execute_result"
    }
   ],
   "source": [
    "np_cv >= 2"
   ]
  },
  {
   "cell_type": "code",
   "execution_count": 133,
   "metadata": {},
   "outputs": [
    {
     "data": {
      "text/plain": [
       "(array([ 0,  1,  2,  3,  4,  7,  8, 11, 12, 14, 17, 18], dtype=int64),)"
      ]
     },
     "execution_count": 133,
     "metadata": {},
     "output_type": "execute_result"
    }
   ],
   "source": [
    "A = np.where(np_cv >= 2)\n",
    "A"
   ]
  },
  {
   "cell_type": "code",
   "execution_count": 131,
   "metadata": {},
   "outputs": [
    {
     "name": "stdout",
     "output_type": "stream",
     "text": [
      "iD는1\n",
      "iD는2\n",
      "iD는3\n",
      "iD는4\n",
      "iD는5\n",
      "iD는8\n",
      "iD는9\n",
      "iD는12\n",
      "iD는13\n",
      "iD는15\n",
      "iD는18\n",
      "iD는19\n",
      "총 인원수 12\n"
     ]
    }
   ],
   "source": [
    "for element in A[0]:\n",
    "    print(f\"iD는{element+1}\")\n",
    "print(f\"총 인원수 {len(A[0])}\")"
   ]
  },
  {
   "cell_type": "code",
   "execution_count": 113,
   "metadata": {},
   "outputs": [
    {
     "data": {
      "text/plain": [
       "array([0, 0])"
      ]
     },
     "execution_count": 113,
     "metadata": {},
     "output_type": "execute_result"
    }
   ],
   "source": [
    "np_cv[np_cv == 0]"
   ]
  },
  {
   "cell_type": "code",
   "execution_count": 137,
   "metadata": {},
   "outputs": [
    {
     "data": {
      "text/plain": [
       "([2, 3], [4, 5])"
      ]
     },
     "execution_count": 137,
     "metadata": {},
     "output_type": "execute_result"
    }
   ],
   "source": [
    "A = [1, 2, 3, 4, 5]\n",
    "A[0:3], A[3:]"
   ]
  },
  {
   "cell_type": "code",
   "execution_count": 135,
   "metadata": {},
   "outputs": [
    {
     "data": {
      "text/plain": [
       "[0, 1, 2, 3, 4]"
      ]
     },
     "execution_count": 135,
     "metadata": {},
     "output_type": "execute_result"
    }
   ],
   "source": [
    "[i for i in range(0, 5)]"
   ]
  },
  {
   "cell_type": "code",
   "execution_count": 147,
   "metadata": {},
   "outputs": [
    {
     "name": "stdout",
     "output_type": "stream",
     "text": [
      "False\n",
      "False\n",
      "False\n",
      "False\n",
      "True\n",
      "W002\n",
      "False\n",
      "False\n",
      "False\n",
      "False\n",
      "False\n",
      "True\n",
      "W004\n",
      "False\n",
      "False\n",
      "False\n",
      "False\n",
      "False\n",
      "False\n",
      "False\n",
      "True\n",
      "W008\n",
      "True\n",
      "W008\n",
      "False\n",
      "False\n",
      "False\n",
      "False\n",
      "False\n",
      "False\n",
      "False\n",
      "False\n",
      "False\n",
      "False\n",
      "False\n",
      "False\n",
      "False\n",
      "False\n",
      "False\n",
      "False\n",
      "False\n",
      "False\n",
      "False\n",
      "False\n"
     ]
    }
   ],
   "source": [
    "reexplist = []\n",
    "for patientDate in Dict_patientDate:\n",
    "    visitdata = Dict_patientDate[patientDate]\n",
    "    if len(visitdata) == 0:\n",
    "        continue\n",
    "    for data in visitdata:\n",
    "        print(int(data[4:6]) > 5)\n",
    "        if int(data[4:6]) > 5:\n",
    "            print(patientDate)\n",
    "            reexplist.append(patientDate)"
   ]
  },
  {
   "cell_type": "code",
   "execution_count": 148,
   "metadata": {},
   "outputs": [
    {
     "data": {
      "text/plain": [
       "['W002', 'W004', 'W008', 'W008']"
      ]
     },
     "execution_count": 148,
     "metadata": {},
     "output_type": "execute_result"
    }
   ],
   "source": [
    "reexplist\n"
   ]
  },
  {
   "cell_type": "code",
   "execution_count": 170,
   "metadata": {},
   "outputs": [
    {
     "data": {
      "text/plain": [
       "'00010603'"
      ]
     },
     "execution_count": 170,
     "metadata": {},
     "output_type": "execute_result"
    }
   ],
   "source": [
    "start_date = {\"year\": 1, \"month\": 3, \"day\": 1}\n",
    "end_date = {\"year\": 1, \"month\": 6, \"day\": 9}\n",
    "start_date = datetime.date(start_date[\"year\"], start_date[\"month\"], start_date[\"day\"])\n",
    "end_date = datetime.date(end_date[\"year\"], end_date[\"month\"], end_date[\"day\"])\n",
    "set_date = set()\n",
    "time_between_dates = end_date - start_date\n",
    "days_between_dates = time_between_dates.days\n",
    "random_number_of_days = random.randrange(days_between_dates)\n",
    "random_date = start_date + datetime.timedelta(days=random_number_of_days)\n",
    "gen_date = \"\".join(str(random_date).split(\"-\"))\n",
    "gen_date"
   ]
  },
  {
   "cell_type": "code",
   "execution_count": null,
   "metadata": {},
   "outputs": [],
   "source": [
    "while len(set_date) < qty:\n",
    "    time_between_dates = end_date - start_date\n",
    "    days_between_dates = time_between_dates.days\n",
    "    random_number_of_days = random.randrange(days_between_dates)\n",
    "    random_date = start_date + datetime.timedelta(days=random_number_of_days)\n",
    "    gen_date = \"\".join(str(random_date).split(\"-\"))\n",
    "    set_date.add(gen_date)\n",
    "return natsorted(list(set_date))"
   ]
  },
  {
   "cell_type": "code",
   "execution_count": 151,
   "metadata": {},
   "outputs": [],
   "source": [
    "a = []\n",
    "wantedNumber = 10\n",
    "while len(a) < wantedNumber:\n",
    "    inputValue = 10\n",
    "    a.append(inputValue)"
   ]
  },
  {
   "cell_type": "code",
   "execution_count": 150,
   "metadata": {},
   "outputs": [
    {
     "data": {
      "text/plain": [
       "[10, 10, 10, 10, 10, 10, 10, 10, 10, 10]"
      ]
     },
     "execution_count": 150,
     "metadata": {},
     "output_type": "execute_result"
    }
   ],
   "source": [
    "a\n"
   ]
  },
  {
   "cell_type": "code",
   "execution_count": 153,
   "metadata": {},
   "outputs": [
    {
     "data": {
      "text/plain": [
       "{10}"
      ]
     },
     "execution_count": 153,
     "metadata": {},
     "output_type": "execute_result"
    }
   ],
   "source": [
    "A = set()\n",
    "A.add(10)\n",
    "A.add(10)\n",
    "A.add(10)\n",
    "A.add(10)\n",
    "A.add(10)\n",
    "A.add(10)\n",
    "A\n"
   ]
  },
  {
   "cell_type": "code",
   "execution_count": 154,
   "metadata": {},
   "outputs": [
    {
     "data": {
      "text/plain": [
       "[10, 10, 10, 10, 10, 10, 10]"
      ]
     },
     "execution_count": 154,
     "metadata": {},
     "output_type": "execute_result"
    }
   ],
   "source": [
    "A = []\n",
    "A.append(10)\n",
    "A.append(10)\n",
    "A.append(10)\n",
    "A.append(10)\n",
    "A.append(10)\n",
    "A.append(10)\n",
    "A.append(10)\n",
    "A\n"
   ]
  },
  {
   "cell_type": "code",
   "execution_count": null,
   "metadata": {},
   "outputs": [],
   "source": []
  }
 ],
 "metadata": {
  "interpreter": {
   "hash": "b7f75e3f67c2e8328760c5f8e07c7b9104f46fb4b9635e1895ac42e507773c47"
  },
  "kernelspec": {
   "display_name": "Python 3.8.0 ('buIMU')",
   "language": "python",
   "name": "python3"
  },
  "language_info": {
   "codemirror_mode": {
    "name": "ipython",
    "version": 3
   },
   "file_extension": ".py",
   "mimetype": "text/x-python",
   "name": "python",
   "nbconvert_exporter": "python",
   "pygments_lexer": "ipython3",
   "version": "3.8.0"
  },
  "orig_nbformat": 4
 },
 "nbformat": 4,
 "nbformat_minor": 2
}
