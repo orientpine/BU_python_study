{
 "cells": [
  {
   "cell_type": "code",
   "execution_count": 1,
   "metadata": {},
   "outputs": [],
   "source": [
    "import pandas as pd\n",
    "import numpy as np\n",
    "import os\n",
    "import names\n",
    "from datetime import date"
   ]
  },
  {
   "cell_type": "code",
   "execution_count": 2,
   "metadata": {},
   "outputs": [],
   "source": [
    "# 필요한 함수 선언\n",
    "def ensure_dir(file_path):\n",
    "    if not os.path.exists(file_path): # 야 거기 폴더 있냐? 없음 ㅇㅇ \n",
    "        os.makedirs(file_path)"
   ]
  },
  {
   "cell_type": "code",
   "execution_count": 3,
   "metadata": {},
   "outputs": [],
   "source": [
    "dir_1 = './testdir_3'\n",
    "ensure_dir(dir_1)"
   ]
  },
  {
   "cell_type": "code",
   "execution_count": 4,
   "metadata": {},
   "outputs": [
    {
     "name": "stdout",
     "output_type": "stream",
     "text": [
      "A는 True 아니야\n"
     ]
    }
   ],
   "source": [
    "A = False \n",
    "B = False\n",
    "if  A != True:\n",
    "    print('A는 True 아니야')"
   ]
  },
  {
   "cell_type": "code",
   "execution_count": 13,
   "metadata": {},
   "outputs": [],
   "source": [
    "def makeColumns():\n",
    "    sideType = ['Front_Left','Front_Right','Back_Left','Back_Right']\n",
    "    sensorType = ['ACC', \"Gyro\", \"Mag\"]\n",
    "    AxisType = ['X', 'Y', 'Z']\n",
    "    lside = len(sideType)\n",
    "    lsen = len(sensorType)\n",
    "    lAxis = len(AxisType)\n",
    "    col_acc = [f'{sideType[i//(lsen*lAxis)]}_{sensorType[(i//(lsen))%lsen]}_{AxisType[i%lAxis]}' for i in range(0,lsen*lAxis*lside)]\n",
    "    return col_acc"
   ]
  },
  {
   "cell_type": "code",
   "execution_count": 15,
   "metadata": {},
   "outputs": [
    {
     "data": {
      "text/plain": [
       "['Front_Left_ACC_X',\n",
       " 'Front_Left_ACC_Y',\n",
       " 'Front_Left_ACC_Z',\n",
       " 'Front_Left_Gyro_X',\n",
       " 'Front_Left_Gyro_Y',\n",
       " 'Front_Left_Gyro_Z',\n",
       " 'Front_Left_Mag_X',\n",
       " 'Front_Left_Mag_Y',\n",
       " 'Front_Left_Mag_Z',\n",
       " 'Front_Right_ACC_X',\n",
       " 'Front_Right_ACC_Y',\n",
       " 'Front_Right_ACC_Z',\n",
       " 'Front_Right_Gyro_X',\n",
       " 'Front_Right_Gyro_Y',\n",
       " 'Front_Right_Gyro_Z',\n",
       " 'Front_Right_Mag_X',\n",
       " 'Front_Right_Mag_Y',\n",
       " 'Front_Right_Mag_Z',\n",
       " 'Back_Left_ACC_X',\n",
       " 'Back_Left_ACC_Y',\n",
       " 'Back_Left_ACC_Z',\n",
       " 'Back_Left_Gyro_X',\n",
       " 'Back_Left_Gyro_Y',\n",
       " 'Back_Left_Gyro_Z',\n",
       " 'Back_Left_Mag_X',\n",
       " 'Back_Left_Mag_Y',\n",
       " 'Back_Left_Mag_Z',\n",
       " 'Back_Right_ACC_X',\n",
       " 'Back_Right_ACC_Y',\n",
       " 'Back_Right_ACC_Z',\n",
       " 'Back_Right_Gyro_X',\n",
       " 'Back_Right_Gyro_Y',\n",
       " 'Back_Right_Gyro_Z',\n",
       " 'Back_Right_Mag_X',\n",
       " 'Back_Right_Mag_Y',\n",
       " 'Back_Right_Mag_Z']"
      ]
     },
     "execution_count": 15,
     "metadata": {},
     "output_type": "execute_result"
    }
   ],
   "source": [
    "makeColumns()"
   ]
  },
  {
   "cell_type": "code",
   "execution_count": 27,
   "metadata": {},
   "outputs": [],
   "source": [
    "all_cols  = makeColumns()\n",
    "colswoMag = [_ for _ in all_cols if  _.find('Mag') == -1]"
   ]
  },
  {
   "cell_type": "code",
   "execution_count": 28,
   "metadata": {},
   "outputs": [
    {
     "data": {
      "text/plain": [
       "['Front_Left_ACC_X',\n",
       " 'Front_Left_ACC_Y',\n",
       " 'Front_Left_ACC_Z',\n",
       " 'Front_Left_Gyro_X',\n",
       " 'Front_Left_Gyro_Y',\n",
       " 'Front_Left_Gyro_Z',\n",
       " 'Front_Right_ACC_X',\n",
       " 'Front_Right_ACC_Y',\n",
       " 'Front_Right_ACC_Z',\n",
       " 'Front_Right_Gyro_X',\n",
       " 'Front_Right_Gyro_Y',\n",
       " 'Front_Right_Gyro_Z',\n",
       " 'Back_Left_ACC_X',\n",
       " 'Back_Left_ACC_Y',\n",
       " 'Back_Left_ACC_Z',\n",
       " 'Back_Left_Gyro_X',\n",
       " 'Back_Left_Gyro_Y',\n",
       " 'Back_Left_Gyro_Z',\n",
       " 'Back_Right_ACC_X',\n",
       " 'Back_Right_ACC_Y',\n",
       " 'Back_Right_ACC_Z',\n",
       " 'Back_Right_Gyro_X',\n",
       " 'Back_Right_Gyro_Y',\n",
       " 'Back_Right_Gyro_Z']"
      ]
     },
     "execution_count": 28,
     "metadata": {},
     "output_type": "execute_result"
    }
   ],
   "source": [
    "colswoMag"
   ]
  },
  {
   "cell_type": "code",
   "execution_count": 25,
   "metadata": {},
   "outputs": [
    {
     "name": "stdout",
     "output_type": "stream",
     "text": [
      "Front_Left_ACC_X\n",
      "-1\n",
      "Front_Left_ACC_Y\n",
      "-1\n",
      "Front_Left_ACC_Z\n",
      "-1\n",
      "Front_Left_Gyro_X\n",
      "-1\n",
      "Front_Left_Gyro_Y\n",
      "-1\n",
      "Front_Left_Gyro_Z\n",
      "-1\n",
      "Front_Left_Mag_X\n",
      "11\n",
      "Front_Left_Mag_Y\n",
      "11\n",
      "Front_Left_Mag_Z\n",
      "11\n",
      "Front_Right_ACC_X\n",
      "-1\n",
      "Front_Right_ACC_Y\n",
      "-1\n",
      "Front_Right_ACC_Z\n",
      "-1\n",
      "Front_Right_Gyro_X\n",
      "-1\n",
      "Front_Right_Gyro_Y\n",
      "-1\n",
      "Front_Right_Gyro_Z\n",
      "-1\n",
      "Front_Right_Mag_X\n",
      "12\n",
      "Front_Right_Mag_Y\n",
      "12\n",
      "Front_Right_Mag_Z\n",
      "12\n",
      "Back_Left_ACC_X\n",
      "-1\n",
      "Back_Left_ACC_Y\n",
      "-1\n",
      "Back_Left_ACC_Z\n",
      "-1\n",
      "Back_Left_Gyro_X\n",
      "-1\n",
      "Back_Left_Gyro_Y\n",
      "-1\n",
      "Back_Left_Gyro_Z\n",
      "-1\n",
      "Back_Left_Mag_X\n",
      "10\n",
      "Back_Left_Mag_Y\n",
      "10\n",
      "Back_Left_Mag_Z\n",
      "10\n",
      "Back_Right_ACC_X\n",
      "-1\n",
      "Back_Right_ACC_Y\n",
      "-1\n",
      "Back_Right_ACC_Z\n",
      "-1\n",
      "Back_Right_Gyro_X\n",
      "-1\n",
      "Back_Right_Gyro_Y\n",
      "-1\n",
      "Back_Right_Gyro_Z\n",
      "-1\n",
      "Back_Right_Mag_X\n",
      "11\n",
      "Back_Right_Mag_Y\n",
      "11\n",
      "Back_Right_Mag_Z\n",
      "11\n"
     ]
    }
   ],
   "source": [
    "for i in all_cols:\n",
    "    print(i)\n",
    "    print(i.find('Mag'))"
   ]
  },
  {
   "cell_type": "code",
   "execution_count": 23,
   "metadata": {},
   "outputs": [
    {
     "data": {
      "text/plain": [
       "['Front_Left_ACC_X',\n",
       " 'Front_Left_ACC_Y',\n",
       " 'Front_Left_ACC_Z',\n",
       " 'Front_Left_Gyro_X',\n",
       " 'Front_Left_Gyro_Y',\n",
       " 'Front_Left_Gyro_Z',\n",
       " 'Front_Right_ACC_X',\n",
       " 'Front_Right_ACC_Y',\n",
       " 'Front_Right_ACC_Z',\n",
       " 'Front_Right_Gyro_X',\n",
       " 'Front_Right_Gyro_Y',\n",
       " 'Front_Right_Gyro_Z',\n",
       " 'Back_Left_ACC_X',\n",
       " 'Back_Left_ACC_Y',\n",
       " 'Back_Left_ACC_Z',\n",
       " 'Back_Left_Gyro_X',\n",
       " 'Back_Left_Gyro_Y',\n",
       " 'Back_Left_Gyro_Z',\n",
       " 'Back_Right_ACC_X',\n",
       " 'Back_Right_ACC_Y',\n",
       " 'Back_Right_ACC_Z',\n",
       " 'Back_Right_Gyro_X',\n",
       " 'Back_Right_Gyro_Y',\n",
       " 'Back_Right_Gyro_Z']"
      ]
     },
     "execution_count": 23,
     "metadata": {},
     "output_type": "execute_result"
    }
   ],
   "source": [
    "colswoMag"
   ]
  },
  {
   "cell_type": "code",
   "execution_count": 19,
   "metadata": {},
   "outputs": [
    {
     "name": "stdout",
     "output_type": "stream",
     "text": [
      "7\n"
     ]
    }
   ],
   "source": [
    "message = 'Python is a fun programming language'\n",
    "\n",
    "# check the index of 'fun'\n",
    "print(message.find('is'))"
   ]
  },
  {
   "cell_type": "code",
   "execution_count": 7,
   "metadata": {},
   "outputs": [],
   "source": [
    "sideType = ['Front_Left','Front_Right','Back_Left','Back_Right']\n",
    "sensorType = ['ACC', \"Gyro\", \"Mag\"]\n",
    "AxisType = ['X', 'Y', 'Z']\n",
    "lside = len(sideType)\n",
    "lsen = len(sensorType)\n",
    "lAxis = len(AxisType)\n",
    "list_col = []\n",
    "for i in range(lside*lsen*lAxis):\n",
    "    name_col = sideType[i//9] +'_' + sensorType[(i%9)//3] + '_' + AxisType[i%3]\n",
    "    list_col.append(name_col)"
   ]
  },
  {
   "cell_type": "code",
   "execution_count": 8,
   "metadata": {},
   "outputs": [],
   "source": [
    "sideType = ['ForeHead','RearHead',]\n",
    "sensorType = ['fNir',]\n",
    "AxisType = [str(i) for i in range(0,20)]\n",
    "lside = len(sideType)\n",
    "lsen = len(sensorType)\n",
    "lAxis = len(AxisType)\n",
    "list_col = []\n",
    "for i in range(lside*lsen*lAxis):\n",
    "    name_col = sideType[i//int(lsen*lAxis)] +'_' + sensorType[(i%(lsen*lAxis))//lAxis] + '_' + AxisType[i%lAxis]\n",
    "    list_col.append(name_col)"
   ]
  },
  {
   "cell_type": "code",
   "execution_count": 9,
   "metadata": {},
   "outputs": [
    {
     "data": {
      "text/plain": [
       "['ForeHead_fNir_0',\n",
       " 'ForeHead_fNir_1',\n",
       " 'ForeHead_fNir_2',\n",
       " 'ForeHead_fNir_3',\n",
       " 'ForeHead_fNir_4',\n",
       " 'ForeHead_fNir_5',\n",
       " 'ForeHead_fNir_6',\n",
       " 'ForeHead_fNir_7',\n",
       " 'ForeHead_fNir_8',\n",
       " 'ForeHead_fNir_9',\n",
       " 'ForeHead_fNir_10',\n",
       " 'ForeHead_fNir_11',\n",
       " 'ForeHead_fNir_12',\n",
       " 'ForeHead_fNir_13',\n",
       " 'ForeHead_fNir_14',\n",
       " 'ForeHead_fNir_15',\n",
       " 'ForeHead_fNir_16',\n",
       " 'ForeHead_fNir_17',\n",
       " 'ForeHead_fNir_18',\n",
       " 'ForeHead_fNir_19',\n",
       " 'RearHead_fNir_0',\n",
       " 'RearHead_fNir_1',\n",
       " 'RearHead_fNir_2',\n",
       " 'RearHead_fNir_3',\n",
       " 'RearHead_fNir_4',\n",
       " 'RearHead_fNir_5',\n",
       " 'RearHead_fNir_6',\n",
       " 'RearHead_fNir_7',\n",
       " 'RearHead_fNir_8',\n",
       " 'RearHead_fNir_9',\n",
       " 'RearHead_fNir_10',\n",
       " 'RearHead_fNir_11',\n",
       " 'RearHead_fNir_12',\n",
       " 'RearHead_fNir_13',\n",
       " 'RearHead_fNir_14',\n",
       " 'RearHead_fNir_15',\n",
       " 'RearHead_fNir_16',\n",
       " 'RearHead_fNir_17',\n",
       " 'RearHead_fNir_18',\n",
       " 'RearHead_fNir_19']"
      ]
     },
     "execution_count": 9,
     "metadata": {},
     "output_type": "execute_result"
    }
   ],
   "source": [
    "list_col"
   ]
  },
  {
   "cell_type": "code",
   "execution_count": 10,
   "metadata": {},
   "outputs": [
    {
     "ename": "SyntaxError",
     "evalue": "invalid syntax (3480935671.py, line 3)",
     "output_type": "error",
     "traceback": [
      "\u001b[1;36m  Input \u001b[1;32mIn [10]\u001b[1;36m\u001b[0m\n\u001b[1;33m    axis = 0,1,3,4,,5,20\u001b[0m\n\u001b[1;37m                   ^\u001b[0m\n\u001b[1;31mSyntaxError\u001b[0m\u001b[1;31m:\u001b[0m invalid syntax\n"
     ]
    }
   ],
   "source": [
    "side = foreHEAD , backHead\n",
    "sensor = fnir\n",
    "axis = 0,1,3,4,,5,20"
   ]
  },
  {
   "cell_type": "code",
   "execution_count": 11,
   "metadata": {},
   "outputs": [
    {
     "ename": "ValueError",
     "evalue": "Shape of passed values is (101, 36), indices imply (101, 40)",
     "output_type": "error",
     "traceback": [
      "\u001b[1;31m---------------------------------------------------------------------------\u001b[0m",
      "\u001b[1;31mValueError\u001b[0m                                Traceback (most recent call last)",
      "\u001b[1;32mg:\\My Drive\\PlayGround\\BU_Python_Group_Study\\CHA\\table_generator.ipynb Cell 11'\u001b[0m in \u001b[0;36m<cell line: 2>\u001b[1;34m()\u001b[0m\n\u001b[0;32m      <a href='vscode-notebook-cell:/g%3A/My%20Drive/PlayGround/BU_Python_Group_Study/CHA/table_generator.ipynb#ch0000010?line=0'>1</a>\u001b[0m data_subject \u001b[39m=\u001b[39m np\u001b[39m.\u001b[39mrandom\u001b[39m.\u001b[39mrand(\u001b[39m101\u001b[39m, \u001b[39m36\u001b[39m)\n\u001b[1;32m----> <a href='vscode-notebook-cell:/g%3A/My%20Drive/PlayGround/BU_Python_Group_Study/CHA/table_generator.ipynb#ch0000010?line=1'>2</a>\u001b[0m test_df \u001b[39m=\u001b[39m pd\u001b[39m.\u001b[39;49mDataFrame(data_subject,columns\u001b[39m=\u001b[39;49mlist_col)\n\u001b[0;32m      <a href='vscode-notebook-cell:/g%3A/My%20Drive/PlayGround/BU_Python_Group_Study/CHA/table_generator.ipynb#ch0000010?line=2'>3</a>\u001b[0m test_df\n",
      "File \u001b[1;32mc:\\Users\\orien\\anaconda3\\envs\\buIMU\\lib\\site-packages\\pandas\\core\\frame.py:694\u001b[0m, in \u001b[0;36mDataFrame.__init__\u001b[1;34m(self, data, index, columns, dtype, copy)\u001b[0m\n\u001b[0;32m    <a href='file:///c%3A/Users/orien/anaconda3/envs/buIMU/lib/site-packages/pandas/core/frame.py?line=683'>684</a>\u001b[0m         mgr \u001b[39m=\u001b[39m dict_to_mgr(\n\u001b[0;32m    <a href='file:///c%3A/Users/orien/anaconda3/envs/buIMU/lib/site-packages/pandas/core/frame.py?line=684'>685</a>\u001b[0m             \u001b[39m# error: Item \"ndarray\" of \"Union[ndarray, Series, Index]\" has no\u001b[39;00m\n\u001b[0;32m    <a href='file:///c%3A/Users/orien/anaconda3/envs/buIMU/lib/site-packages/pandas/core/frame.py?line=685'>686</a>\u001b[0m             \u001b[39m# attribute \"name\"\u001b[39;00m\n\u001b[1;32m   (...)\u001b[0m\n\u001b[0;32m    <a href='file:///c%3A/Users/orien/anaconda3/envs/buIMU/lib/site-packages/pandas/core/frame.py?line=690'>691</a>\u001b[0m             typ\u001b[39m=\u001b[39mmanager,\n\u001b[0;32m    <a href='file:///c%3A/Users/orien/anaconda3/envs/buIMU/lib/site-packages/pandas/core/frame.py?line=691'>692</a>\u001b[0m         )\n\u001b[0;32m    <a href='file:///c%3A/Users/orien/anaconda3/envs/buIMU/lib/site-packages/pandas/core/frame.py?line=692'>693</a>\u001b[0m     \u001b[39melse\u001b[39;00m:\n\u001b[1;32m--> <a href='file:///c%3A/Users/orien/anaconda3/envs/buIMU/lib/site-packages/pandas/core/frame.py?line=693'>694</a>\u001b[0m         mgr \u001b[39m=\u001b[39m ndarray_to_mgr(\n\u001b[0;32m    <a href='file:///c%3A/Users/orien/anaconda3/envs/buIMU/lib/site-packages/pandas/core/frame.py?line=694'>695</a>\u001b[0m             data,\n\u001b[0;32m    <a href='file:///c%3A/Users/orien/anaconda3/envs/buIMU/lib/site-packages/pandas/core/frame.py?line=695'>696</a>\u001b[0m             index,\n\u001b[0;32m    <a href='file:///c%3A/Users/orien/anaconda3/envs/buIMU/lib/site-packages/pandas/core/frame.py?line=696'>697</a>\u001b[0m             columns,\n\u001b[0;32m    <a href='file:///c%3A/Users/orien/anaconda3/envs/buIMU/lib/site-packages/pandas/core/frame.py?line=697'>698</a>\u001b[0m             dtype\u001b[39m=\u001b[39;49mdtype,\n\u001b[0;32m    <a href='file:///c%3A/Users/orien/anaconda3/envs/buIMU/lib/site-packages/pandas/core/frame.py?line=698'>699</a>\u001b[0m             copy\u001b[39m=\u001b[39;49mcopy,\n\u001b[0;32m    <a href='file:///c%3A/Users/orien/anaconda3/envs/buIMU/lib/site-packages/pandas/core/frame.py?line=699'>700</a>\u001b[0m             typ\u001b[39m=\u001b[39;49mmanager,\n\u001b[0;32m    <a href='file:///c%3A/Users/orien/anaconda3/envs/buIMU/lib/site-packages/pandas/core/frame.py?line=700'>701</a>\u001b[0m         )\n\u001b[0;32m    <a href='file:///c%3A/Users/orien/anaconda3/envs/buIMU/lib/site-packages/pandas/core/frame.py?line=702'>703</a>\u001b[0m \u001b[39m# For data is list-like, or Iterable (will consume into list)\u001b[39;00m\n\u001b[0;32m    <a href='file:///c%3A/Users/orien/anaconda3/envs/buIMU/lib/site-packages/pandas/core/frame.py?line=703'>704</a>\u001b[0m \u001b[39melif\u001b[39;00m is_list_like(data):\n",
      "File \u001b[1;32mc:\\Users\\orien\\anaconda3\\envs\\buIMU\\lib\\site-packages\\pandas\\core\\internals\\construction.py:351\u001b[0m, in \u001b[0;36mndarray_to_mgr\u001b[1;34m(values, index, columns, dtype, copy, typ)\u001b[0m\n\u001b[0;32m    <a href='file:///c%3A/Users/orien/anaconda3/envs/buIMU/lib/site-packages/pandas/core/internals/construction.py?line=345'>346</a>\u001b[0m \u001b[39m# _prep_ndarray ensures that values.ndim == 2 at this point\u001b[39;00m\n\u001b[0;32m    <a href='file:///c%3A/Users/orien/anaconda3/envs/buIMU/lib/site-packages/pandas/core/internals/construction.py?line=346'>347</a>\u001b[0m index, columns \u001b[39m=\u001b[39m _get_axes(\n\u001b[0;32m    <a href='file:///c%3A/Users/orien/anaconda3/envs/buIMU/lib/site-packages/pandas/core/internals/construction.py?line=347'>348</a>\u001b[0m     values\u001b[39m.\u001b[39mshape[\u001b[39m0\u001b[39m], values\u001b[39m.\u001b[39mshape[\u001b[39m1\u001b[39m], index\u001b[39m=\u001b[39mindex, columns\u001b[39m=\u001b[39mcolumns\n\u001b[0;32m    <a href='file:///c%3A/Users/orien/anaconda3/envs/buIMU/lib/site-packages/pandas/core/internals/construction.py?line=348'>349</a>\u001b[0m )\n\u001b[1;32m--> <a href='file:///c%3A/Users/orien/anaconda3/envs/buIMU/lib/site-packages/pandas/core/internals/construction.py?line=350'>351</a>\u001b[0m _check_values_indices_shape_match(values, index, columns)\n\u001b[0;32m    <a href='file:///c%3A/Users/orien/anaconda3/envs/buIMU/lib/site-packages/pandas/core/internals/construction.py?line=352'>353</a>\u001b[0m \u001b[39mif\u001b[39;00m typ \u001b[39m==\u001b[39m \u001b[39m\"\u001b[39m\u001b[39marray\u001b[39m\u001b[39m\"\u001b[39m:\n\u001b[0;32m    <a href='file:///c%3A/Users/orien/anaconda3/envs/buIMU/lib/site-packages/pandas/core/internals/construction.py?line=354'>355</a>\u001b[0m     \u001b[39mif\u001b[39;00m \u001b[39missubclass\u001b[39m(values\u001b[39m.\u001b[39mdtype\u001b[39m.\u001b[39mtype, \u001b[39mstr\u001b[39m):\n",
      "File \u001b[1;32mc:\\Users\\orien\\anaconda3\\envs\\buIMU\\lib\\site-packages\\pandas\\core\\internals\\construction.py:422\u001b[0m, in \u001b[0;36m_check_values_indices_shape_match\u001b[1;34m(values, index, columns)\u001b[0m\n\u001b[0;32m    <a href='file:///c%3A/Users/orien/anaconda3/envs/buIMU/lib/site-packages/pandas/core/internals/construction.py?line=419'>420</a>\u001b[0m passed \u001b[39m=\u001b[39m values\u001b[39m.\u001b[39mshape\n\u001b[0;32m    <a href='file:///c%3A/Users/orien/anaconda3/envs/buIMU/lib/site-packages/pandas/core/internals/construction.py?line=420'>421</a>\u001b[0m implied \u001b[39m=\u001b[39m (\u001b[39mlen\u001b[39m(index), \u001b[39mlen\u001b[39m(columns))\n\u001b[1;32m--> <a href='file:///c%3A/Users/orien/anaconda3/envs/buIMU/lib/site-packages/pandas/core/internals/construction.py?line=421'>422</a>\u001b[0m \u001b[39mraise\u001b[39;00m \u001b[39mValueError\u001b[39;00m(\u001b[39mf\u001b[39m\u001b[39m\"\u001b[39m\u001b[39mShape of passed values is \u001b[39m\u001b[39m{\u001b[39;00mpassed\u001b[39m}\u001b[39;00m\u001b[39m, indices imply \u001b[39m\u001b[39m{\u001b[39;00mimplied\u001b[39m}\u001b[39;00m\u001b[39m\"\u001b[39m)\n",
      "\u001b[1;31mValueError\u001b[0m: Shape of passed values is (101, 36), indices imply (101, 40)"
     ]
    }
   ],
   "source": [
    "data_subject = np.random.rand(101, 36)\n",
    "test_df = pd.DataFrame(data_subject,columns=list_col)\n",
    "test_df"
   ]
  },
  {
   "cell_type": "code",
   "execution_count": null,
   "metadata": {},
   "outputs": [],
   "source": [
    "Demographic_info = ['나이, 성별, 거주지, 소득수준, 교육수준, 키, 몸무게, 인종, BMI, 가족관계, KL']"
   ]
  },
  {
   "cell_type": "code",
   "execution_count": null,
   "metadata": {},
   "outputs": [
    {
     "data": {
      "text/plain": [
       "['Front_Left_ACC_X',\n",
       " 'Front_Left_ACC_Y',\n",
       " 'Front_Left_ACC_Z',\n",
       " 'Front_Left_Gyro_X',\n",
       " 'Front_Left_Gyro_Y',\n",
       " 'Front_Left_Gyro_Z',\n",
       " 'Front_Left_Mag_X',\n",
       " 'Front_Left_Mag_Y',\n",
       " 'Front_Left_Mag_Z',\n",
       " 'Front_Left_ACC_X',\n",
       " 'Front_Left_ACC_Y',\n",
       " 'Front_Left_ACC_Z',\n",
       " 'Front_Left_Gyro_X',\n",
       " 'Front_Left_Gyro_Y',\n",
       " 'Front_Left_Gyro_Z',\n",
       " 'Front_Left_Mag_X',\n",
       " 'Front_Left_Mag_Y',\n",
       " 'Front_Left_Mag_Z',\n",
       " 'Front_Right_ACC_X',\n",
       " 'Front_Right_ACC_Y',\n",
       " 'Front_Right_ACC_Z',\n",
       " 'Front_Right_Gyro_X',\n",
       " 'Front_Right_Gyro_Y',\n",
       " 'Front_Right_Gyro_Z',\n",
       " 'Front_Right_Mag_X',\n",
       " 'Front_Right_Mag_Y',\n",
       " 'Front_Right_Mag_Z',\n",
       " 'Front_Right_ACC_X',\n",
       " 'Front_Right_ACC_Y',\n",
       " 'Front_Right_ACC_Z',\n",
       " 'Front_Right_Gyro_X',\n",
       " 'Front_Right_Gyro_Y',\n",
       " 'Front_Right_Gyro_Z',\n",
       " 'Front_Right_Mag_X',\n",
       " 'Front_Right_Mag_Y',\n",
       " 'Front_Right_Mag_Z']"
      ]
     },
     "execution_count": 39,
     "metadata": {},
     "output_type": "execute_result"
    }
   ],
   "source": [
    "makeColumns()\n"
   ]
  },
  {
   "cell_type": "code",
   "execution_count": 12,
   "metadata": {},
   "outputs": [],
   "source": [
    "num_file = 10\n",
    "data_length = 101\n",
    "num_feature = 36\n",
    "save_dir = './IMU_EXP'\n",
    "ensure_dir(save_dir)\n",
    "for i in range(0,num_file):\n",
    "    # 피험자 이름 생성\n",
    "    name_subject = names.get_full_name()\n",
    "    # 오늘 날짜\n",
    "    str_date = date.today().strftime(\"%B_%d_%Y\")\n",
    "    # 데이터 생성\n",
    "    data_subject = np.random.rand(data_length, num_feature)\n",
    "    # columns 생성\n",
    "    list_col = makeColumns()\n",
    "    # columns 별 데이터 생성 (random 생성, 0에서 1사이 데이터)\n",
    "    df_subject = pd.DataFrame(data_subject, columns=list_col)\n",
    "    # 각파일별 이름 저장\n",
    "    df_subject.to_excel(os.path.join(save_dir,f\"{str_date}_{name_subject}_IMUData.xlsx\"))\n",
    "    "
   ]
  },
  {
   "cell_type": "code",
   "execution_count": 92,
   "metadata": {},
   "outputs": [
    {
     "data": {
      "text/plain": [
       "'./test\\\\May_26_2022_차백동_IMUData.xlsx'"
      ]
     },
     "execution_count": 92,
     "metadata": {},
     "output_type": "execute_result"
    }
   ],
   "source": [
    "save_dir = './test'\n",
    "str_date = date.today().strftime(\"%B_%d_%Y\")\n",
    "name_subject = '차백동'\n",
    "os.path.join(save_dir,f\"{str_date}_{name_subject}_IMUData.xlsx\")"
   ]
  },
  {
   "cell_type": "code",
   "execution_count": null,
   "metadata": {},
   "outputs": [
    {
     "data": {
      "text/plain": [
       "'May_26_2022'"
      ]
     },
     "execution_count": 92,
     "metadata": {},
     "output_type": "execute_result"
    }
   ],
   "source": [
    "date.today().strftime(\"%B_%d_%Y\")"
   ]
  },
  {
   "cell_type": "code",
   "execution_count": null,
   "metadata": {},
   "outputs": [
    {
     "name": "stdout",
     "output_type": "stream",
     "text": [
      "0\n",
      "0\n",
      "0\n",
      "1\n",
      "1\n",
      "1\n",
      "2\n",
      "2\n",
      "2\n",
      "0\n",
      "0\n",
      "0\n",
      "1\n",
      "1\n",
      "1\n"
     ]
    }
   ],
   "source": [
    "for i in range(0,15):\n",
    "    print((i//3)%3)"
   ]
  },
  {
   "cell_type": "code",
   "execution_count": null,
   "metadata": {},
   "outputs": [],
   "source": [
    "    df_subject2 = pd.DataFrame(data_subject, columns=list_col)\n",
    "    df_subject3 = pd.concat([df_subject,df_subject2], ignore_index=True)"
   ]
  },
  {
   "cell_type": "code",
   "execution_count": null,
   "metadata": {},
   "outputs": [],
   "source": [
    "1 i l L I "
   ]
  },
  {
   "cell_type": "code",
   "execution_count": 5,
   "metadata": {},
   "outputs": [
    {
     "data": {
      "text/plain": [
       "(101, 3)"
      ]
     },
     "execution_count": 5,
     "metadata": {},
     "output_type": "execute_result"
    }
   ],
   "source": [
    "data_subject = np.random.rand(101, 3)\n",
    "data_subject.shape"
   ]
  },
  {
   "cell_type": "code",
   "execution_count": 5,
   "metadata": {},
   "outputs": [],
   "source": [
    "X_rand = np.random.rand(101, 1)\n",
    "Y_rand = np.random.rand(101, 1)\n",
    "Z_rand = np.random.rand(101, 1)"
   ]
  },
  {
   "cell_type": "code",
   "execution_count": 13,
   "metadata": {},
   "outputs": [
    {
     "data": {
      "text/html": [
       "<div>\n",
       "<style scoped>\n",
       "    .dataframe tbody tr th:only-of-type {\n",
       "        vertical-align: middle;\n",
       "    }\n",
       "\n",
       "    .dataframe tbody tr th {\n",
       "        vertical-align: top;\n",
       "    }\n",
       "\n",
       "    .dataframe thead th {\n",
       "        text-align: right;\n",
       "    }\n",
       "</style>\n",
       "<table border=\"1\" class=\"dataframe\">\n",
       "  <thead>\n",
       "    <tr style=\"text-align: right;\">\n",
       "      <th></th>\n",
       "      <th>X</th>\n",
       "      <th>Y</th>\n",
       "    </tr>\n",
       "  </thead>\n",
       "  <tbody>\n",
       "    <tr>\n",
       "      <th>0</th>\n",
       "      <td>0.474686</td>\n",
       "      <td>0.771143</td>\n",
       "    </tr>\n",
       "    <tr>\n",
       "      <th>1</th>\n",
       "      <td>0.784626</td>\n",
       "      <td>0.226857</td>\n",
       "    </tr>\n",
       "    <tr>\n",
       "      <th>2</th>\n",
       "      <td>0.124444</td>\n",
       "      <td>0.115032</td>\n",
       "    </tr>\n",
       "    <tr>\n",
       "      <th>3</th>\n",
       "      <td>0.916379</td>\n",
       "      <td>0.593529</td>\n",
       "    </tr>\n",
       "    <tr>\n",
       "      <th>4</th>\n",
       "      <td>0.698171</td>\n",
       "      <td>0.718372</td>\n",
       "    </tr>\n",
       "    <tr>\n",
       "      <th>...</th>\n",
       "      <td>...</td>\n",
       "      <td>...</td>\n",
       "    </tr>\n",
       "    <tr>\n",
       "      <th>96</th>\n",
       "      <td>0.134073</td>\n",
       "      <td>0.901748</td>\n",
       "    </tr>\n",
       "    <tr>\n",
       "      <th>97</th>\n",
       "      <td>0.109819</td>\n",
       "      <td>0.970991</td>\n",
       "    </tr>\n",
       "    <tr>\n",
       "      <th>98</th>\n",
       "      <td>0.641672</td>\n",
       "      <td>0.332010</td>\n",
       "    </tr>\n",
       "    <tr>\n",
       "      <th>99</th>\n",
       "      <td>0.765409</td>\n",
       "      <td>0.677190</td>\n",
       "    </tr>\n",
       "    <tr>\n",
       "      <th>100</th>\n",
       "      <td>0.926132</td>\n",
       "      <td>0.138793</td>\n",
       "    </tr>\n",
       "  </tbody>\n",
       "</table>\n",
       "<p>101 rows × 2 columns</p>\n",
       "</div>"
      ],
      "text/plain": [
       "            X         Y\n",
       "0    0.474686  0.771143\n",
       "1    0.784626  0.226857\n",
       "2    0.124444  0.115032\n",
       "3    0.916379  0.593529\n",
       "4    0.698171  0.718372\n",
       "..        ...       ...\n",
       "96   0.134073  0.901748\n",
       "97   0.109819  0.970991\n",
       "98   0.641672  0.332010\n",
       "99   0.765409  0.677190\n",
       "100  0.926132  0.138793\n",
       "\n",
       "[101 rows x 2 columns]"
      ]
     },
     "execution_count": 13,
     "metadata": {},
     "output_type": "execute_result"
    }
   ],
   "source": [
    "data = {'X':X_rand[:,0],'Y':Y_rand[:,0]}\n",
    "pd.DataFrame(data)"
   ]
  },
  {
   "cell_type": "code",
   "execution_count": 10,
   "metadata": {},
   "outputs": [
    {
     "data": {
      "text/plain": [
       "(101,)"
      ]
     },
     "execution_count": 10,
     "metadata": {},
     "output_type": "execute_result"
    }
   ],
   "source": [
    "X_rand[:,0].shape"
   ]
  },
  {
   "cell_type": "code",
   "execution_count": null,
   "metadata": {},
   "outputs": [],
   "source": []
  }
 ],
 "metadata": {
  "interpreter": {
   "hash": "b7f75e3f67c2e8328760c5f8e07c7b9104f46fb4b9635e1895ac42e507773c47"
  },
  "kernelspec": {
   "display_name": "Python 3.8.0 ('buIMU')",
   "language": "python",
   "name": "python3"
  },
  "language_info": {
   "codemirror_mode": {
    "name": "ipython",
    "version": 3
   },
   "file_extension": ".py",
   "mimetype": "text/x-python",
   "name": "python",
   "nbconvert_exporter": "python",
   "pygments_lexer": "ipython3",
   "version": "3.8.0"
  },
  "orig_nbformat": 4
 },
 "nbformat": 4,
 "nbformat_minor": 2
}
