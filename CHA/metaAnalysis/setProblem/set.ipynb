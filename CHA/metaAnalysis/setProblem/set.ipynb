{
 "cells": [
  {
   "cell_type": "code",
   "execution_count": 6,
   "metadata": {},
   "outputs": [],
   "source": [
    "import pandas as pd\n",
    "from difflib import SequenceMatcher\n",
    "from itertools import product"
   ]
  },
  {
   "cell_type": "code",
   "execution_count": 7,
   "metadata": {},
   "outputs": [],
   "source": [
    "def similar(a, b):\n",
    "    return SequenceMatcher(None, a.lower(), b.lower()).ratio()"
   ]
  },
  {
   "cell_type": "code",
   "execution_count": 8,
   "metadata": {},
   "outputs": [],
   "source": [
    "list_pubmed = pd.read_excel('Individual_studies.xlsx',sheet_name='Pubmed')\n",
    "list_webSci = pd.read_excel('Individual_studies.xlsx',sheet_name='WebOfSciences')\n",
    "list_pubmed['isDuplicate'] = 'NO'\n",
    "list_webSci['isDuplicate'] = 'NO'\n",
    "list_pubmed['dupRate'] = 0\n",
    "list_webSci['dupRate'] = 0"
   ]
  },
  {
   "cell_type": "code",
   "execution_count": 20,
   "metadata": {},
   "outputs": [],
   "source": [
    "items = [list_pubmed['Title'],list_webSci['Title']]\n",
    "count_pubitem = {}\n",
    "for item in list(product(*items)):\n",
    "    matchRate = similar(*item)\n",
    "    if(matchRate > 0.9):\n",
    "        check = 'YES'\n",
    "        list_pubmed.loc[list_pubmed['Title'] == item[0],'isDuplicate'] = check\n",
    "        list_webSci.loc[list_webSci['Title'] == item[1],'isDuplicate'] = check\n",
    "        list_pubmed.loc[list_pubmed['Title'] == item[0],'dupRate'] = matchRate\n",
    "        list_webSci.loc[list_webSci['Title'] == item[1],'dupRate'] = matchRate\n",
    "        count_pubitem[item[0]] =  count_pubitem.get(item[0],0) + 1"
   ]
  },
  {
   "cell_type": "code",
   "execution_count": 21,
   "metadata": {},
   "outputs": [
    {
     "data": {
      "text/plain": [
       "{'Non-invasive Brain Stimulation for Chronic Pain: State of the Art and Future Directions': 1,\n",
       " 'Physical therapy in children with cerebral palsy in Brazil: a scoping review': 1,\n",
       " 'The Effect of Constraint-Induced Movement Therapy Combined With Repetitive Transcranial Magnetic Stimulation on Hand Function in Preschool Children With Unilateral Cerebral Palsy: A Randomized Controlled Preliminary Study': 1,\n",
       " 'HABIT+tDCS: a study protocol of a randomised controlled trial (RCT) investigating the synergistic efficacy of hand-arm bimanual intensive therapy (HABIT) plus targeted non-invasive brain stimulation to improve upper extremity function in school-age children with unilateral cerebral palsy': 1,\n",
       " 'The Effect of Bilateral Anodal Transcranial Direct Current Stimulation versus Treadmill Training on Brain Activities, Gait Functions, Level of Participation and Enjoyment of Children with Cerebral Palsy: A Randomized Controlled Trial Protocol': 1,\n",
       " 'Neuromodulation: A combined-therapy protocol for speech rehabilitation in a child with cerebral palsy': 1,\n",
       " 'The Effects of tDCS with NDT on the Improvement of Motor Development in Cerebral Palsy': 1,\n",
       " 'Evaluating the Effects of 5-Hz Repetitive Transcranial Magnetic Stimulation With and Without Wrist-Ankle Acupuncture on Improving Spasticity and Motor Function in Children With Cerebral Palsy: A Randomized Controlled Trial': 1,\n",
       " 'Combined effect of hydrotherapy and transcranial direct-current stimulation on children with cerebral palsy: A protocol for a randomized controlled trial': 1,\n",
       " 'Brain functional reorganization in children with hemiplegic cerebral palsy: Assessment with TMS and therapeutic perspectives': 1,\n",
       " 'Effect of Anodal Transcranial Direct Current Stimulation Combined With Cognitive Training for Improving Cognition and Language Among Children With Cerebral Palsy With Cognitive Impairment: A Pilot, Randomized, Controlled, Double-Blind, and Clinical Trial': 1,\n",
       " 'Goals of children with unilateral cerebral palsy in a brain stimulation arm rehabilitation trial': 2,\n",
       " 'Protocol for a cost-utility analysis of neurostimulation and intensive camp-based therapy for children with perinatal stroke and hemiparesis based on a multicentre clinical trial': 1,\n",
       " 'Changes of Structural Brain Network Following Repetitive Transcranial Magnetic Stimulation in Children With Bilateral Spastic Cerebral Palsy: A Diffusion Tensor Imaging Study': 1,\n",
       " 'From adults to pediatrics: A review noninvasive brain stimulation (NIBS) to facilitate recovery from brain injury': 1,\n",
       " 'Commentary on \"Cardiovascular Effects of Transcranial Direct Current Stimulation and Bimanual Training in Children With Cerebral Palsy\"': 1,\n",
       " 'Cardiovascular Effects of Transcranial Direct Current Stimulation and Bimanual Training in Children With Cerebral Palsy': 1,\n",
       " 'tDCS and motor training in individuals with central nervous system disease: A systematic review': 1,\n",
       " 'Effect of Combined Therapy of Virtual Reality and Transcranial Direct Current Stimulation in Children and Adolescents With Cerebral Palsy: A Study Protocol for a Triple-Blinded Randomized Controlled Crossover Trial': 1,\n",
       " 'Safety and tolerability of transcranial magnetic and direct current stimulation in children: Prospective single center evidence from 3.5 million stimulations': 1,\n",
       " 'Can neuromodulation techniques optimally exploit cerebello-thalamo-cortical circuit properties to enhance motor learning post-stroke?': 1,\n",
       " 'Task load modulates tDCS effects on language performance': 1,\n",
       " 'Noninvasive Brain Stimulation for Rehabilitation of Pediatric Motor Disorders Following Brain Injury: Systematic Review of Randomized Controlled Trials': 1,\n",
       " 'Bimanual Skill Learning after Transcranial Direct Current Stimulation in Children with Unilateral Cerebral Palsy: A Brief Report': 1,\n",
       " 'Mirror movements in children with unilateral cerebral palsy due to perinatal stroke: clinical correlates of plasticity reorganization': 1,\n",
       " 'Editorial: Motor Control of Gait and the Underlying Neural Network in Pediatric Neurology': 1,\n",
       " 'Increasing Number of Therapy Sessions of Repetitive Transcranial Magnetic Stimulation Improves Motor Development by Reducing Muscle Spasticity in Cerebral Palsy Children': 1,\n",
       " 'Effect of Anodic tDCS Over Motor Cortex Versus Cerebellum in Cerebral Palsy: A Study Protocol': 1,\n",
       " 'Effects of transcranial direct current stimulation (tDCS) on balance improvement: a systematic review and meta-analysis': 1,\n",
       " 'Influence of Combined Transcranial Direct Current Stimulation and Motor Training on Corticospinal Excitability in Children With Unilateral Cerebral Palsy': 1,\n",
       " 'Imaging functional motor connectivity in hemiparetic children with perinatal stroke': 1,\n",
       " 'Transcranial Direct Current Stimulation in Pediatric Motor Disorders: A Systematic Review and Meta-analysis': 1,\n",
       " 'Electrode Placement in Transcranial Direct Current Stimulation-How Reliable Is the Determination of C3/C4?': 1,\n",
       " 'Anodal transcranial direct current stimulation does not influence the neural adjustments associated with fatiguing contractions in a hand muscle': 1,\n",
       " 'Noninvasive Neuromodulation to Promote Motor Skill Gains After Perinatal Stroke': 1,\n",
       " 'Transcranial Direct Current Stimulation (tDCS) in Unilateral Cerebral Palsy: A Pilot Study of Motor Effect': 1,\n",
       " 'Latin American and Caribbean consensus on noninvasive central nervous system neuromodulation for chronic pain management (LAC(2)-NIN-CP)': 1,\n",
       " 'Transcranial direct current stimulation for promoting motor function in cerebral palsy: a review': 1,\n",
       " 'Sensorimotor Robotic Measures of tDCS- and HD-tDCS-Enhanced Motor Learning in Children': 1,\n",
       " 'Transcranial Direct Current Stimulation (tDCS) Paired with Occupation-Centered Bimanual Training in Children with Unilateral Cerebral Palsy: A Preliminary Study': 1,\n",
       " 'Intervention-Induced Motor Cortex Plasticity in Hemiparetic Children With Perinatal Stroke': 1,\n",
       " 'Effects of High-Definition and Conventional Transcranial Direct-Current Stimulation on Motor Learning in Children': 1,\n",
       " 'Evaluating the Effect of Repetitive Transcranial Magnetic Stimulation in Cerebral Palsy Children by Employing Electroencephalogram Signals': 1,\n",
       " 'Commentary on \"Transcranial Direct-Current Stimulation on Motor Function in Pediatric Cerebral Palsy: A Systematic Review\"': 2,\n",
       " 'Transcranial Direct-Current Stimulation on Motor Function in Pediatric Cerebral Palsy: A Systematic Review': 2,\n",
       " 'The Combined Use of Transcranial Direct Current Stimulation and Robotic Therapy for the Upper Limb': 1,\n",
       " 'Non-Invasive Brain Stimulation in Children With Unilateral Cerebral Palsy: A Protocol and Risk Mitigation Guide': 1,\n",
       " 'Vagus nerve magnetic modulation facilitates dysphagia recovery in patients with stroke involving the brainstem - A proof of concept study': 1,\n",
       " 'Interhemispheric motor interactions in hemiparetic children with perinatal stroke: Clinical correlates and effects of neuromodulation therapy': 1,\n",
       " 'Effect of Transcranial Direct Current Stimulation of Motor Cortex in Cerebral Palsy: A Study Protocol': 1,\n",
       " 'Changes in spectroscopic biomarkers after transcranial direct current stimulation in children with perinatal stroke': 1,\n",
       " 'Less-Affected Hand Function in Children With Hemiparetic Unilateral Cerebral Palsy: A Comparison Study With Typically Developing Peers': 1,\n",
       " 'Transcranial direct current stimulation as a motor neurorehabilitation tool: an empirical review': 1,\n",
       " 'Effects of a single session of transcranial direct current stimulation on upper limb movements in children with cerebral palsy: A randomized, sham-controlled study': 1,\n",
       " 'Transient Changes in Brain Metabolites after Transcranial Direct Current Stimulation in Spastic Cerebral Palsy: A Pilot Study': 1,\n",
       " 'Motor Cortex Plasticity in Children With Spastic Cerebral Palsy: A Systematic Review': 1,\n",
       " 'Transcranial Direct-Current Stimulation Can Enhance Motor Learning in Children': 1,\n",
       " 'Transcranial direct current stimulation for children with perinatal stroke and hemiparesis': 1,\n",
       " 'Combined transcranial direct current stimulation and robotic upper limb therapy improves upper limb function in an adult with cerebral palsy': 1,\n",
       " 'Advancing non-invasive neuromodulation clinical trials in children: Lessons from perinatal stroke': 1,\n",
       " 'A comprehensive database of published tDCS clinical trials (2005-2016)': 1,\n",
       " 'Modulation of physiological mirror activity with transcranial direct current stimulation over dorsal premotor cortex': 1,\n",
       " 'Transcranial direct current stimulation combined with upper limb functional training in children with spastic, hemiparetic cerebral palsy: study protocol for a randomized controlled trial': 1,\n",
       " 'Spared Primary Motor Cortex and The Presence of MEP in Cerebral Palsy Dictate the Responsiveness to tDCS during Gait Training': 1,\n",
       " 'Does a Combination of Virtual Reality, Neuromodulation and Neuroimaging Provide a Comprehensive Platform for Neurorehabilitation? - A Narrative Review of the Literature': 1,\n",
       " 'Brain stimulation and constraint for perinatal stroke hemiparesis: The PLASTIC CHAMPS Trial': 1,\n",
       " 'Dynamic modulation of rTMS on functional connectivity and functional network connectivity to children with cerebral palsy: a case report': 1,\n",
       " 'Increased cerebellar activation after repetitive transcranial magnetic stimulation over the primary motor cortex in patients with multiple system atrophy': 1,\n",
       " 'Effects of anodal transcranial direct current stimulation combined with virtual reality for improving gait in children with spastic diparetic cerebral palsy: a pilot, randomized, controlled, double-blind, clinical trial': 1,\n",
       " 'Synergistic effect of combined transcranial direct current stimulation/constraint-induced movement therapy in children and young adults with hemiparesis: study protocol': 1,\n",
       " 'Addressing Neuroplastic Changes in Distributed Areas of the Nervous System Associated With Chronic Musculoskeletal Disorders': 1,\n",
       " 'Multiday Transcranial Direct Current Stimulation Causes Clinically Insignificant Changes in Childhood Dystonia: A Pilot Study': 1,\n",
       " 'Noninvasive brain stimulation: the potential for use in the rehabilitation of pediatric acquired brain injury': 1,\n",
       " 'Transcranial direct current stimulation during treadmill training in children with cerebral palsy: a randomized controlled double-blind clinical trial': 1,\n",
       " 'Noninvasive and painless magnetic stimulation of nerves improved brain motor function and mobility in a cerebral palsy case': 1,\n",
       " 'Effect of a single session of transcranial direct-current stimulation on balance and spatiotemporal gait variables in children with cerebral palsy: A randomized sham-controlled study': 1,\n",
       " 'Effect of transcranial direct-current stimulation combined with treadmill training on balance and functional performance in children with cerebral palsy: a double-blind randomized controlled trial': 1,\n",
       " 'Outcomes in spasticity after repetitive transcranial magnetic and transcranial direct current stimulations': 1,\n",
       " 'Effect of transcranial direct current stimulation combined with gait and mobility training on functionality in children with cerebral palsy: study protocol for a double-blind randomized controlled clinical trial': 1,\n",
       " 'Efficacy of coupling inhibitory and facilitatory repetitive transcranial magnetic stimulation to enhance motor recovery in hemiplegic stroke patients': 1,\n",
       " 'Updates in the treatment of spasticity associated with cerebral palsy': 1,\n",
       " 'Care for child development: basic science rationale and effects of interventions': 1,\n",
       " 'Low and high frequency repetitive transcranial magnetic stimulation for the treatment of spasticity': 1,\n",
       " 'Magnetic stimulation of human premotor or motor cortex produces interhemispheric facilitation through distinct pathways': 1,\n",
       " 'Short-term effects of functional electrical stimulation on motor-evoked potentials in ankle flexor and extensor muscles': 1,\n",
       " 'Electrical stimulation of the human common peroneal nerve elicits lasting facilitation of cortical motor-evoked potentials': 1}"
      ]
     },
     "execution_count": 21,
     "metadata": {},
     "output_type": "execute_result"
    }
   ],
   "source": [
    "count_pubitem"
   ]
  },
  {
   "cell_type": "code",
   "execution_count": 36,
   "metadata": {},
   "outputs": [
    {
     "name": "stdout",
     "output_type": "stream",
     "text": [
      "1번째 : Goals of children with unilateral cerebral palsy in a brain stimulation arm rehabilitation trial\n",
      "2번째 : Commentary on \"Transcranial Direct-Current Stimulation on Motor Function in Pediatric Cerebral Palsy: A Systematic Review\"\n",
      "3번째 : Transcranial Direct-Current Stimulation on Motor Function in Pediatric Cerebral Palsy: A Systematic Review\n"
     ]
    }
   ],
   "source": [
    "count =1\n",
    "for k,v in count_pubitem.items():\n",
    "    if v == 2:\n",
    "        print(f\"{count}번째 : {k}\")\n",
    "        count +=1\n"
   ]
  },
  {
   "cell_type": "code",
   "execution_count": 26,
   "metadata": {},
   "outputs": [
    {
     "name": "stdout",
     "output_type": "stream",
     "text": [
      "Yes, Value: '2' exists in dictionary\n"
     ]
    },
    {
     "ename": "NameError",
     "evalue": "name 'k' is not defined",
     "output_type": "error",
     "traceback": [
      "\u001b[1;31m---------------------------------------------------------------------------\u001b[0m",
      "\u001b[1;31mNameError\u001b[0m                                 Traceback (most recent call last)",
      "\u001b[1;32mg:\\My Drive\\PlayGround\\BU_Python_Group_Study\\CHA\\metaAnalysis\\setProblem\\set.ipynb Cell 6'\u001b[0m in \u001b[0;36m<cell line: 3>\u001b[1;34m()\u001b[0m\n\u001b[0;32m      <a href='vscode-notebook-cell:/g%3A/My%20Drive/PlayGround/BU_Python_Group_Study/CHA/metaAnalysis/setProblem/set.ipynb#ch0000011?line=2'>3</a>\u001b[0m \u001b[39mif\u001b[39;00m \u001b[39many\u001b[39m([\u001b[39mTrue\u001b[39;00m \u001b[39mfor\u001b[39;00m k,v \u001b[39min\u001b[39;00m count_pubitem\u001b[39m.\u001b[39mitems() \u001b[39mif\u001b[39;00m v \u001b[39m==\u001b[39m value]):\n\u001b[0;32m      <a href='vscode-notebook-cell:/g%3A/My%20Drive/PlayGround/BU_Python_Group_Study/CHA/metaAnalysis/setProblem/set.ipynb#ch0000011?line=3'>4</a>\u001b[0m     \u001b[39mprint\u001b[39m(\u001b[39mf\u001b[39m\u001b[39m\"\u001b[39m\u001b[39mYes, Value: \u001b[39m\u001b[39m'\u001b[39m\u001b[39m{\u001b[39;00mvalue\u001b[39m}\u001b[39;00m\u001b[39m'\u001b[39m\u001b[39m exists in dictionary\u001b[39m\u001b[39m\"\u001b[39m)\n\u001b[1;32m----> <a href='vscode-notebook-cell:/g%3A/My%20Drive/PlayGround/BU_Python_Group_Study/CHA/metaAnalysis/setProblem/set.ipynb#ch0000011?line=4'>5</a>\u001b[0m     \u001b[39mprint\u001b[39m(k)\n\u001b[0;32m      <a href='vscode-notebook-cell:/g%3A/My%20Drive/PlayGround/BU_Python_Group_Study/CHA/metaAnalysis/setProblem/set.ipynb#ch0000011?line=5'>6</a>\u001b[0m \u001b[39melse\u001b[39;00m:\n\u001b[0;32m      <a href='vscode-notebook-cell:/g%3A/My%20Drive/PlayGround/BU_Python_Group_Study/CHA/metaAnalysis/setProblem/set.ipynb#ch0000011?line=6'>7</a>\u001b[0m     \u001b[39mprint\u001b[39m(\u001b[39mf\u001b[39m\u001b[39m\"\u001b[39m\u001b[39mNo, Value: \u001b[39m\u001b[39m'\u001b[39m\u001b[39m{\u001b[39;00mvalue\u001b[39m}\u001b[39;00m\u001b[39m'\u001b[39m\u001b[39m does not exists in dictionary\u001b[39m\u001b[39m\"\u001b[39m)\n",
      "\u001b[1;31mNameError\u001b[0m: name 'k' is not defined"
     ]
    }
   ],
   "source": [
    "# Check if key exist in dictionary using any()\n",
    "value = 2\n",
    "if any([True for k,v in count_pubitem.items() if v == value]):\n",
    "    print(f\"Yes, Value: '{value}' exists in dictionary\")\n",
    "    print(k)\n",
    "else:\n",
    "    print(f\"No, Value: '{value}' does not exists in dictionary\")"
   ]
  },
  {
   "cell_type": "code",
   "execution_count": 16,
   "metadata": {},
   "outputs": [],
   "source": [
    "with pd.ExcelWriter('Individual_studies_dupCheck.xlsx') as writer:\n",
    "    list_pubmed.to_excel(writer,sheet_name='Pubmed')\n",
    "    list_webSci.to_excel(writer,sheet_name='WebOfSciences')"
   ]
  },
  {
   "cell_type": "code",
   "execution_count": 4,
   "metadata": {},
   "outputs": [
    {
     "data": {
      "text/plain": [
       "{'apple', '포도'}"
      ]
     },
     "execution_count": 4,
     "metadata": {},
     "output_type": "execute_result"
    }
   ],
   "source": [
    "A = ['\"apple\"', 'banana','grapes','orange']\n",
    "B = ['apple', 'banana','포도','orange']\n",
    "set(B) - set(A)"
   ]
  },
  {
   "cell_type": "code",
   "execution_count": 5,
   "metadata": {},
   "outputs": [],
   "source": [
    "def similar(a, b):\n",
    "    return SequenceMatcher(None, a.lower(), b.lower()).ratio()"
   ]
  },
  {
   "cell_type": "code",
   "execution_count": 8,
   "metadata": {},
   "outputs": [
    {
     "data": {
      "text/plain": [
       "0.8333333333333334"
      ]
     },
     "execution_count": 8,
     "metadata": {},
     "output_type": "execute_result"
    }
   ],
   "source": [
    "similar(\"[apple]\",\"apple\")"
   ]
  },
  {
   "cell_type": "code",
   "execution_count": 5,
   "metadata": {},
   "outputs": [
    {
     "name": "stdout",
     "output_type": "stream",
     "text": [
      "(0, 0)\n",
      "(0, 1)\n",
      "(0, 2)\n",
      "(0, 3)\n",
      "(0, 4)\n",
      "(0, 5)\n",
      "(0, 6)\n",
      "(0, 7)\n",
      "(0, 8)\n",
      "(0, 9)\n",
      "(1, 0)\n",
      "(1, 1)\n",
      "(1, 2)\n",
      "(1, 3)\n",
      "(1, 4)\n",
      "(1, 5)\n",
      "(1, 6)\n",
      "(1, 7)\n",
      "(1, 8)\n",
      "(1, 9)\n",
      "(2, 0)\n",
      "(2, 1)\n",
      "(2, 2)\n",
      "(2, 3)\n",
      "(2, 4)\n",
      "(2, 5)\n",
      "(2, 6)\n",
      "(2, 7)\n",
      "(2, 8)\n",
      "(2, 9)\n",
      "(3, 0)\n",
      "(3, 1)\n",
      "(3, 2)\n",
      "(3, 3)\n",
      "(3, 4)\n",
      "(3, 5)\n",
      "(3, 6)\n",
      "(3, 7)\n",
      "(3, 8)\n",
      "(3, 9)\n",
      "(4, 0)\n",
      "(4, 1)\n",
      "(4, 2)\n",
      "(4, 3)\n",
      "(4, 4)\n",
      "(4, 5)\n",
      "(4, 6)\n",
      "(4, 7)\n",
      "(4, 8)\n",
      "(4, 9)\n",
      "(5, 0)\n",
      "(5, 1)\n",
      "(5, 2)\n",
      "(5, 3)\n",
      "(5, 4)\n",
      "(5, 5)\n",
      "(5, 6)\n",
      "(5, 7)\n",
      "(5, 8)\n",
      "(5, 9)\n",
      "(6, 0)\n",
      "(6, 1)\n",
      "(6, 2)\n",
      "(6, 3)\n",
      "(6, 4)\n",
      "(6, 5)\n",
      "(6, 6)\n",
      "(6, 7)\n",
      "(6, 8)\n",
      "(6, 9)\n",
      "(7, 0)\n",
      "(7, 1)\n",
      "(7, 2)\n",
      "(7, 3)\n",
      "(7, 4)\n",
      "(7, 5)\n",
      "(7, 6)\n",
      "(7, 7)\n",
      "(7, 8)\n",
      "(7, 9)\n",
      "(8, 0)\n",
      "(8, 1)\n",
      "(8, 2)\n",
      "(8, 3)\n",
      "(8, 4)\n",
      "(8, 5)\n",
      "(8, 6)\n",
      "(8, 7)\n",
      "(8, 8)\n",
      "(8, 9)\n",
      "(9, 0)\n",
      "(9, 1)\n",
      "(9, 2)\n",
      "(9, 3)\n",
      "(9, 4)\n",
      "(9, 5)\n",
      "(9, 6)\n",
      "(9, 7)\n",
      "(9, 8)\n",
      "(9, 9)\n"
     ]
    }
   ],
   "source": [
    "for i in product(*[range(10),range(10)]):\n",
    "    print(i)"
   ]
  },
  {
   "cell_type": "code",
   "execution_count": null,
   "metadata": {},
   "outputs": [],
   "source": []
  }
 ],
 "metadata": {
  "kernelspec": {
   "display_name": "Python 3.8.0 ('buIMU')",
   "language": "python",
   "name": "python3"
  },
  "language_info": {
   "codemirror_mode": {
    "name": "ipython",
    "version": 3
   },
   "file_extension": ".py",
   "mimetype": "text/x-python",
   "name": "python",
   "nbconvert_exporter": "python",
   "pygments_lexer": "ipython3",
   "version": "3.8.0"
  },
  "orig_nbformat": 4,
  "vscode": {
   "interpreter": {
    "hash": "b7f75e3f67c2e8328760c5f8e07c7b9104f46fb4b9635e1895ac42e507773c47"
   }
  }
 },
 "nbformat": 4,
 "nbformat_minor": 2
}
