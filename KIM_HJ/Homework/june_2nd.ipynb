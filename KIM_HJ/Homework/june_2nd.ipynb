{
 "cells": [
  {
   "cell_type": "code",
   "execution_count": 57,
   "metadata": {},
   "outputs": [],
   "source": [
    "# import 필요한 라이브러리\n",
    "import os\n",
    "from natsort import natsorted\n",
    "from pathlib import Path\n",
    "import shutil\n",
    "from os import listdir\n",
    "from os.path import isdir\n",
    "from os.path import exists\n",
    "from os.path import isfile, join\n",
    "import numpy as np\n",
    "from tqdm.notebook import tqdm\n",
    "import re\n",
    "import pandas as pd\n",
    "import datetime\n",
    "import random\n",
    "from natsort import natsorted\n",
    "import secrets"
   ]
  },
  {
   "cell_type": "code",
   "execution_count": 58,
   "metadata": {},
   "outputs": [],
   "source": [
    "def rms(x):\n",
    "    return np.sqrt((x[0]**2+x[1]**2+x[2]**2)/3)"
   ]
  },
  {
   "cell_type": "code",
   "execution_count": 59,
   "metadata": {},
   "outputs": [],
   "source": [
    "## 질문1. 사실상 이 코드 필요없나요?\n",
    "# 필요한 함수 정의\n",
    "def ensure_dir(file_path):\n",
    "    if not os.path.exists(file_path):\n",
    "        os.makedirs(file_path)\n",
    "\n",
    "\n",
    "class Generator:\n",
    "    def __init__(self, start_date, end_date, start_id, end_id):\n",
    "        self.start_date = datetime.date(\n",
    "            start_date[\"year\"], start_date[\"month\"], start_date[\"day\"]\n",
    "        )\n",
    "        self.end_date = datetime.date(\n",
    "            end_date[\"year\"], end_date[\"month\"], end_date[\"day\"]\n",
    "        )\n",
    "        self.start_id = start_id\n",
    "        self.end_id = end_id\n",
    "\n",
    "    def dategenerate(self, qty):\n",
    "        start_date = self.start_date\n",
    "        end_date = self.end_date\n",
    "\n",
    "        set_date = set()\n",
    "        while len(set_date) < qty:\n",
    "            time_between_dates = end_date - start_date\n",
    "            days_between_dates = time_between_dates.days\n",
    "            random_number_of_days = random.randrange(days_between_dates)\n",
    "            random_date = start_date + datetime.timedelta(days=random_number_of_days)\n",
    "            gen_date = \"\".join(str(random_date).split(\"-\"))\n",
    "            set_date.add(gen_date)\n",
    "        return natsorted(list(set_date))\n",
    "\n",
    "    def idgenerate(self, isconstlength=False, maxlength=3):\n",
    "        set_id = set()\n",
    "        for i in range(self.start_id, self.end_id):\n",
    "            str_id = str(i)\n",
    "            if isconstlength:\n",
    "                str_id = \"0\" * (maxlength - len(str_id)) + str_id\n",
    "            gen_id = \"W\" + str_id\n",
    "            set_id.add(gen_id)\n",
    "\n",
    "        return natsorted(list(set_id))\n",
    "\n",
    "    \n",
    "def makeColumns():\n",
    "    sideType = [\n",
    "        \"Left\",\n",
    "        \"Right\",\n",
    "    ]\n",
    "    sensorType = [\"ACC\", \"Gyro\", \"Mag\"]\n",
    "    AxisType = [\"X\", \"Y\", \"Z\"]\n",
    "    lside = len(sideType)\n",
    "    lsen = len(sensorType)\n",
    "    lAxis = len(AxisType)\n",
    "    col_acc = [\n",
    "        f\"{sideType[i//(lsen*lAxis)]}_{sensorType[(i//(lsen))%lsen]}_{AxisType[i%lAxis]}\"\n",
    "        for i in range(0, lsen * lAxis * lside)\n",
    "    ]\n",
    "    return col_acc\n",
    "\n",
    "\n",
    "def genQST():\n",
    "    list_Test = [\"Walking\", \"Running\", \"Sitting\", \"Sleeping\"]\n",
    "    list_Location = [\"Boston\", \"NYC\", \"Busan\", \"Seoul\"]\n",
    "    list_Comments = [\"\", \"Need_discussion\", \"Serious_Problem\"]\n",
    "\n",
    "    data = []\n",
    "    for test in list_Test:\n",
    "        for _ in range(0,5):\n",
    "            data.append([test,secrets.choice(list_Location),random.random(),secrets.choice(list_Comments)])\n",
    "    return data\n",
    "\n"
   ]
  },
  {
   "cell_type": "code",
   "execution_count": 60,
   "metadata": {},
   "outputs": [],
   "source": [
    "# 실험기간\n",
    "start_date = {\"year\": 2022, \"month\": 3, \"day\": 1}\n",
    "end_date = {\"year\": 2022, \"month\": 6, \"day\": 1}\n",
    "# 환자 ID\n",
    "start_id = 1\n",
    "end_id = 21\n",
    "date_exp = Generator(start_date, end_date, start_id, end_id)\n"
   ]
  },
  {
   "cell_type": "code",
   "execution_count": 61,
   "metadata": {},
   "outputs": [],
   "source": [
    "list_patient = date_exp.idgenerate(True)\n",
    "targetFolder = \"Data_QST_IMU\"\n",
    "data_length = 100\n",
    "ensure_dir(targetFolder)\n",
    "for patient in list_patient:\n",
    "    ensure_dir(join(targetFolder, patient))\n",
    "    # 방문일 뽑기\n",
    "    visitCount = random.randrange(6)\n",
    "    list_visitDate = date_exp.dategenerate(visitCount)\n",
    "    # 방문 안하고 도망갔을 경우, 실험 폴더가 없음\n",
    "    if len(list_visitDate) == 0:\n",
    "        continue\n",
    "    # 방문날짜가 정해졌을 경우, 이를 폴더로 만들기\n",
    "    for visitDate in list_visitDate:\n",
    "        # QST 저장\n",
    "        saveDir = join(targetFolder, patient, visitDate, \"QST\")\n",
    "        ensure_dir(saveDir)\n",
    "        data_qst = genQST()\n",
    "        result_qst = pd.DataFrame(data_qst,columns=[\"Test\", \"Location\", \"Value\", \"Comments\"])\n",
    "        result_qst.to_excel(join(saveDir, f\"{patient}_{visitDate}_QST.xlsx\"))\n",
    "        # IMU 저장\n",
    "        saveDir = join(targetFolder, patient, visitDate, \"IMU\")\n",
    "        ensure_dir(saveDir)\n",
    "        list_cols = makeColumns()\n",
    "        data_subject = np.random.rand(data_length, len(list_cols))\n",
    "        result_qst = pd.DataFrame(data_subject,columns=list_cols)\n",
    "        result_qst.to_excel(join(saveDir, f\"{patient}_{visitDate}_IMU.xlsx\"))"
   ]
  },
  {
   "cell_type": "markdown",
   "metadata": {},
   "source": [
    "여기서부터는 IMU 따로 구간\n"
   ]
  },
  {
   "cell_type": "code",
   "execution_count": 63,
   "metadata": {},
   "outputs": [
    {
     "name": "stdout",
     "output_type": "stream",
     "text": [
      "['W001', 'W002', 'W003', 'W004', 'W005', 'W006', 'W007', 'W008', 'W009', 'W010', 'W011', 'W012', 'W013', 'W014', 'W015', 'W016', 'W017', 'W018', 'W019', 'W020']\n"
     ]
    }
   ],
   "source": [
    "pplfolder = natsorted([_ for _ in os.listdir(targetFolder) if _.startswith('W')])\n",
    "print(pplfolder)"
   ]
  },
  {
   "cell_type": "code",
   "execution_count": 77,
   "metadata": {},
   "outputs": [
    {
     "name": "stdout",
     "output_type": "stream",
     "text": [
      "W001\n",
      "W002\n",
      "W003\n",
      "W004\n",
      "W005\n",
      "W006\n",
      "W007\n",
      "W008\n",
      "W009\n",
      "W010\n",
      "W011\n",
      "W012\n",
      "W013\n",
      "W014\n",
      "W015\n",
      "W016\n",
      "W017\n",
      "W018\n",
      "W019\n",
      "W020\n"
     ]
    }
   ],
   "source": [
    "for i in pplfolder:\n",
    "    print(i)"
   ]
  },
  {
   "cell_type": "code",
   "execution_count": 74,
   "metadata": {},
   "outputs": [],
   "source": [
    "S = os.path.join(targetFolder,pplfolder[6])"
   ]
  },
  {
   "cell_type": "code",
   "execution_count": 75,
   "metadata": {},
   "outputs": [
    {
     "name": "stdout",
     "output_type": "stream",
     "text": [
      "Data_QST_IMU\\W007\n"
     ]
    }
   ],
   "source": [
    "print(S)"
   ]
  },
  {
   "cell_type": "code",
   "execution_count": 78,
   "metadata": {},
   "outputs": [
    {
     "name": "stdout",
     "output_type": "stream",
     "text": [
      "[2, 4, 6, 8]\n"
     ]
    }
   ],
   "source": [
    "def addition(n):\n",
    "    return n + n\n",
    "  \n",
    "# We double all numbers using map()\n",
    "numbers = (1, 2, 3, 4)\n",
    "result = map(addition, numbers)\n",
    "print(list(result))"
   ]
  },
  {
   "cell_type": "code",
   "execution_count": 82,
   "metadata": {},
   "outputs": [],
   "source": [
    "def joindir(n):\n",
    "    return os.path.join(targetFolder,n)\n",
    "result = map(joindir,pplfolder)\n",
    "list_result = list(result)"
   ]
  },
  {
   "cell_type": "code",
   "execution_count": 93,
   "metadata": {},
   "outputs": [
    {
     "name": "stdout",
     "output_type": "stream",
     "text": [
      "Data_QST_IMU\\W001\\20220531\n",
      "Data_QST_IMU\\W002\\20220503\n",
      "Data_QST_IMU\\W003\\20220503\n",
      "Data_QST_IMU\\W004\\20220509\n",
      "Data_QST_IMU\\W005\\20220327\n",
      "Data_QST_IMU\\W006\\20220525\n",
      "Data_QST_IMU\\W007\\20220421\n",
      "Data_QST_IMU\\W008\\20220531\n",
      "Data_QST_IMU\\W009\\20220531\n",
      "Data_QST_IMU\\W010\\20220503\n",
      "Data_QST_IMU\\W011\\20220519\n",
      "Data_QST_IMU\\W012\\20220423\n",
      "Data_QST_IMU\\W013\\20220423\n",
      "Data_QST_IMU\\W014\\20220427\n",
      "Data_QST_IMU\\W015\\20220427\n",
      "Data_QST_IMU\\W016\\20220429\n",
      "Data_QST_IMU\\W017\\20220418\n",
      "Data_QST_IMU\\W018\\20220529\n",
      "Data_QST_IMU\\W019\\20220523\n",
      "Data_QST_IMU\\W020\\20220424\n"
     ]
    }
   ],
   "source": [
    "for patient in list_result:\n",
    "    one = patient\n",
    "    for visit in os.listdir(patient):\n",
    "        two = visit\n",
    "    sumDir = os.path.join(one,two)\n",
    "    print(sumDir)\n"
   ]
  },
  {
   "cell_type": "code",
   "execution_count": 68,
   "metadata": {},
   "outputs": [
    {
     "name": "stdout",
     "output_type": "stream",
     "text": [
      "Data_QST_IMU\\W001\n"
     ]
    }
   ],
   "source": [
    "for patient in pplfolder:\n",
    "    path = os.path.join(targetFolder,pplfolder[0])\n",
    "    print(path)\n",
    "    list_visit = natsorted([_ for _ in os.listdir(targetFolder) if _.startswith('W')])\n",
    "    break"
   ]
  },
  {
   "cell_type": "code",
   "execution_count": 41,
   "metadata": {},
   "outputs": [
    {
     "ename": "SyntaxError",
     "evalue": "cannot assign to literal (3010874901.py, line 3)",
     "output_type": "error",
     "traceback": [
      "\u001b[1;36m  Input \u001b[1;32mIn [41]\u001b[1;36m\u001b[0m\n\u001b[1;33m    for \"IMU\" in topfolder:\u001b[0m\n\u001b[1;37m        ^\u001b[0m\n\u001b[1;31mSyntaxError\u001b[0m\u001b[1;31m:\u001b[0m cannot assign to literal\n"
     ]
    }
   ],
   "source": [
    "topfolder = 'D:\\BU\\Others\\computer\\BU_python_study\\KIM_HJ\\Homework\\Data_QST_IMU'\"june_2nd - Copy.ipynb\"\n",
    "\n",
    "for \"IMU\" in targetFolder:\n",
    "    print \"IMU\"\n"
   ]
  },
  {
   "cell_type": "code",
   "execution_count": null,
   "metadata": {},
   "outputs": [],
   "source": []
  },
  {
   "cell_type": "code",
   "execution_count": null,
   "metadata": {},
   "outputs": [],
   "source": []
  }
 ],
 "metadata": {
  "kernelspec": {
   "display_name": "Python 3.10.4 ('bu')",
   "language": "python",
   "name": "python3"
  },
  "language_info": {
   "codemirror_mode": {
    "name": "ipython",
    "version": 3
   },
   "file_extension": ".py",
   "mimetype": "text/x-python",
   "name": "python",
   "nbconvert_exporter": "python",
   "pygments_lexer": "ipython3",
   "version": "3.10.4"
  },
  "orig_nbformat": 4,
  "vscode": {
   "interpreter": {
    "hash": "360415a06a2cb4988f467b724c8ffdb39ec3aeec574ee0105248e66f7284bba3"
   }
  }
 },
 "nbformat": 4,
 "nbformat_minor": 2
}
