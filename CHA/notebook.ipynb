{
 "cells": [
  {
   "cell_type": "code",
   "execution_count": 10,
   "metadata": {},
   "outputs": [
    {
     "name": "stdout",
     "output_type": "stream",
     "text": [
      "마오카이\n",
      "자르반\n",
      "말파이트\n",
      "징크스\n",
      "베인\n",
      "벌레\n"
     ]
    }
   ],
   "source": [
    "list_champion = ['마오카이','자르반','말파이트', '징크스','베인']\n",
    "\n",
    "for cham in list_champion:\n",
    "    print(cham)\n",
    "    if cham =='베인':\n",
    "        print('벌레' )"
   ]
  },
  {
   "cell_type": "code",
   "execution_count": 11,
   "metadata": {},
   "outputs": [
    {
     "name": "stdout",
     "output_type": "stream",
     "text": [
      "마오카이\n",
      "자르반\n",
      "말파이트\n",
      "징크스\n",
      "베인충\n"
     ]
    }
   ],
   "source": [
    "list_champion = ['마오카이','자르반','말파이트', '징크스','베인']\n",
    "\n",
    "for cham in list_champion:\n",
    "    printable_str = '' + cham\n",
    "    if cham =='베인':\n",
    "        printable_str = printable_str + ' 충'\n",
    "    print(printable_str)"
   ]
  },
  {
   "cell_type": "code",
   "execution_count": 13,
   "metadata": {},
   "outputs": [],
   "source": [
    "class champion():\n",
    "    def __init__(self, name, position, skilled):\n",
    "        self.name = name\n",
    "        self.position = position\n",
    "        self.skilled = skilled\n",
    "        \n",
    "list_rank = {'브론즈':0,\n",
    "             '실버':1,\n",
    "             '골드':2,\n",
    "             '플래티넘':3,\n",
    "             '다이아몬드':4,}\n",
    "             \n",
    "pick_baekdong = champion(\"마오카이\", \"탑\", '실버')\n",
    "pick_hyunjoon = champion(\"자르반\", '정글','골드' )\n",
    "pick_faker    = champion('아리', '미드','다이아몬드') \n",
    "pick_gildong    = champion('베인', '원딜','브론즈') \n",
    "\n",
    "team = []\n",
    "team.append(pick_baekdong)\n",
    "team.append(pick_hyunjoon)\n",
    "team.append(pick_faker)\n",
    "team.append(pick_gildong)\n",
    "for memb in team:\n",
    "    printable_str = '' + memb.name\n",
    "    if list_rank[memb.skilled] < 3:\n",
    "        printable_str = printable_str + '충'\n",
    "    print(printable_str)\n",
    "    "
   ]
  },
  {
   "cell_type": "code",
   "execution_count": 3,
   "metadata": {},
   "outputs": [
    {
     "name": "stdout",
     "output_type": "stream",
     "text": [
      "마오카이충\n",
      "대리골드자르반충\n",
      "아리\n",
      "베인충\n"
     ]
    }
   ],
   "source": [
    "class champion():\n",
    "    def __init__(self, name, position, skilled):\n",
    "        self.name = name\n",
    "        self.position = position\n",
    "        self.skilled = skilled\n",
    "        \n",
    "list_rank = {'브론즈':0,\n",
    "             '실버':1,\n",
    "             '골드':2,\n",
    "             '플래티넘':3,\n",
    "             '다이아몬드':4,}\n",
    "             \n",
    "pick_baekdong = champion(\"마오카이\", \"탑\", '실버')\n",
    "pick_hyunjoon = champion(\"자르반\", '정글','골드' )\n",
    "pick_faker    = champion('아리', '미드','다이아몬드') \n",
    "pick_gildong    = champion('베인', '원딜','브론즈') \n",
    "\n",
    "team = []\n",
    "team.append(pick_baekdong)\n",
    "team.append(pick_hyunjoon)\n",
    "team.append(pick_faker)\n",
    "team.append(pick_gildong)\n",
    "for memb in team:\n",
    "    printable_str = '' + memb.name\n",
    "    if list_rank[memb.skilled] < 3:\n",
    "        printable_str = printable_str + '충'\n",
    "        if list_rank[memb.skilled] == 2:\n",
    "            printable_str = '대리골드' + printable_str \n",
    "    print(printable_str)\n",
    "    "
   ]
  },
  {
   "cell_type": "code",
   "execution_count": null,
   "metadata": {},
   "outputs": [],
   "source": []
  }
 ],
 "metadata": {
  "interpreter": {
   "hash": "b7f75e3f67c2e8328760c5f8e07c7b9104f46fb4b9635e1895ac42e507773c47"
  },
  "kernelspec": {
   "display_name": "Python 3.8.0 ('buIMU')",
   "language": "python",
   "name": "python3"
  },
  "language_info": {
   "codemirror_mode": {
    "name": "ipython",
    "version": 3
   },
   "file_extension": ".py",
   "mimetype": "text/x-python",
   "name": "python",
   "nbconvert_exporter": "python",
   "pygments_lexer": "ipython3",
   "version": "3.8.0"
  },
  "orig_nbformat": 4
 },
 "nbformat": 4,
 "nbformat_minor": 2
}
