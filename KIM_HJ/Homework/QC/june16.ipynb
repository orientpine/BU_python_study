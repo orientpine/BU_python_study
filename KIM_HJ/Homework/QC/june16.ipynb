{
 "cells": [
  {
   "cell_type": "code",
   "execution_count": 2,
   "metadata": {},
   "outputs": [],
   "source": [
    "# import 필요한 라이브러리\n",
    "import os\n",
    "from natsort import natsorted\n",
    "from pathlib import Path\n",
    "import shutil\n",
    "from os import listdir\n",
    "from os.path import isdir\n",
    "from os.path import exists\n",
    "from os.path import isfile, join\n",
    "import numpy as np\n",
    "from tqdm.notebook import tqdm\n",
    "import re\n",
    "import pandas as pd\n",
    "import datetime\n",
    "import random\n",
    "from natsort import natsorted\n",
    "import secrets"
   ]
  },
  {
   "cell_type": "code",
   "execution_count": 3,
   "metadata": {},
   "outputs": [],
   "source": [
    "def ensure_dir(file_path):\n",
    "    if not os.path.exists(file_path):\n",
    "        os.makedirs(file_path)"
   ]
  },
  {
   "cell_type": "code",
   "execution_count": 29,
   "metadata": {},
   "outputs": [
    {
     "data": {
      "text/plain": [
       "'W002'"
      ]
     },
     "execution_count": 29,
     "metadata": {},
     "output_type": "execute_result"
    }
   ],
   "source": [
    "# 방문 일자 뽑기\n",
    "topDir = \"Data_QST_IMU\"\n",
    "list_patient = natsorted(\n",
    "    [thing for thing in os.listdir(topDir)]\n",
    ")\n",
    "list_patient[1]"
   ]
  },
  {
   "cell_type": "code",
   "execution_count": 32,
   "metadata": {},
   "outputs": [
    {
     "name": "stdout",
     "output_type": "stream",
     "text": [
      "{'W001': [], 'W002': ['20220327', '20220407', '20220416', '20220417', '20220503'], 'W003': [], 'W004': ['20220505', '20220509'], 'W005': ['20220327'], 'W006': ['20220525'], 'W007': ['20220301', '20220421'], 'W008': ['20220326', '20220423', '20220504', '20220531'], 'W009': [], 'W010': ['20220320', '20220503'], 'W011': ['20220323', '20220506', '20220515', '20220517', '20220519'], 'W012': ['20220326', '20220419', '20220423'], 'W013': ['20220325', '20220423'], 'W014': ['20220331', '20220427'], 'W015': [], 'W016': ['20220316', '20220331', '20220427', '20220429'], 'W017': ['20220407', '20220418'], 'W018': ['20220529'], 'W019': ['20220309', '20220318', '20220523'], 'W020': ['20220326', '20220424']}\n"
     ]
    }
   ],
   "source": [
    "\n",
    "Dict_patientDate = {}\n",
    "for patient in list_patient:\n",
    "    list_visitDate = natsorted(\n",
    "        [\n",
    "            th\n",
    "            for th in os.listdir(join(topDir, patient))\n",
    "            if isdir(join(topDir, patient, th))\n",
    "        ]\n",
    "    )\n",
    "    \n",
    "    Dict_patientDate[patient] = list_visitDate\n",
    "print(Dict_patientDate)"
   ]
  },
  {
   "cell_type": "code",
   "execution_count": 53,
   "metadata": {},
   "outputs": [
    {
     "name": "stdout",
     "output_type": "stream",
     "text": [
      "1\n",
      "2\n",
      "3\n",
      "54\n",
      "5\n",
      "76\n",
      "7\n"
     ]
    }
   ],
   "source": [
    "# for id in Dict_patientDate:\n",
    "#     for nimam in Dict_patientDate[id]:\n",
    "#         print(join(id,nimam))\n",
    "A = [1,2,3,54,5,76,7,]\n",
    "for x in A:\n",
    "    print(x)"
   ]
  },
  {
   "cell_type": "code",
   "execution_count": null,
   "metadata": {},
   "outputs": [],
   "source": [
    "for patient in Dict_patientDate:\n",
    "    imuDir = "
   ]
  },
  {
   "cell_type": "code",
   "execution_count": null,
   "metadata": {},
   "outputs": [],
   "source": [
    "\n",
    "for imufile in list_visitDate:\n",
    "    Dict_imudata = {}\n",
    "    list_imufile = natsorted(\n",
    "        [\n",
    "            date\n",
    "            for date in os.listdir(join(list_visitDate))\n",
    "            if isdir(join(topDir, patient, th, date))\n",
    "        ]\n",
    "    )\n",
    "Dict_imudata[imufile] = list_imufile\n",
    "print(list_imufile)\n"
   ]
  },
  {
   "cell_type": "code",
   "execution_count": 25,
   "metadata": {},
   "outputs": [
    {
     "name": "stdout",
     "output_type": "stream",
     "text": [
      "[]\n",
      "['20220327', '20220407', '20220416', '20220417', '20220503']\n",
      "[]\n",
      "['20220505', '20220509']\n",
      "['20220327']\n",
      "['20220525']\n",
      "['20220301', '20220421']\n",
      "['20220326', '20220423', '20220504', '20220531']\n",
      "[]\n",
      "['20220320', '20220503']\n",
      "['20220323', '20220506', '20220515', '20220517', '20220519']\n",
      "['20220326', '20220419', '20220423']\n",
      "['20220325', '20220423']\n",
      "['20220331', '20220427']\n",
      "[]\n",
      "['20220316', '20220331', '20220427', '20220429']\n",
      "['20220407', '20220418']\n",
      "['20220529']\n",
      "['20220309', '20220318', '20220523']\n",
      "['20220326', '20220424']\n"
     ]
    },
    {
     "ename": "TypeError",
     "evalue": "expected str, bytes or os.PathLike object, not list",
     "output_type": "error",
     "traceback": [
      "\u001b[1;31m---------------------------------------------------------------------------\u001b[0m",
      "\u001b[1;31mTypeError\u001b[0m                                 Traceback (most recent call last)",
      "\u001b[1;32md:\\BU\\Others\\computer\\BU_python_study\\KIM_HJ\\Homework\\QC\\june16.ipynb Cell 4'\u001b[0m in \u001b[0;36m<cell line: 21>\u001b[1;34m()\u001b[0m\n\u001b[0;32m     <a href='vscode-notebook-cell:/d%3A/BU/Others/computer/BU_python_study/KIM_HJ/Homework/QC/june16.ipynb#ch0000005?line=19'>20</a>\u001b[0m Dict_imudata \u001b[39m=\u001b[39m {}\n\u001b[0;32m     <a href='vscode-notebook-cell:/d%3A/BU/Others/computer/BU_python_study/KIM_HJ/Homework/QC/june16.ipynb#ch0000005?line=20'>21</a>\u001b[0m \u001b[39mfor\u001b[39;00m imufile \u001b[39min\u001b[39;00m list_visitDate:\n\u001b[0;32m     <a href='vscode-notebook-cell:/d%3A/BU/Others/computer/BU_python_study/KIM_HJ/Homework/QC/june16.ipynb#ch0000005?line=21'>22</a>\u001b[0m     list_imufile \u001b[39m=\u001b[39m natsorted(\n\u001b[0;32m     <a href='vscode-notebook-cell:/d%3A/BU/Others/computer/BU_python_study/KIM_HJ/Homework/QC/june16.ipynb#ch0000005?line=22'>23</a>\u001b[0m         [\n\u001b[0;32m     <a href='vscode-notebook-cell:/d%3A/BU/Others/computer/BU_python_study/KIM_HJ/Homework/QC/june16.ipynb#ch0000005?line=23'>24</a>\u001b[0m             date\n\u001b[1;32m---> <a href='vscode-notebook-cell:/d%3A/BU/Others/computer/BU_python_study/KIM_HJ/Homework/QC/june16.ipynb#ch0000005?line=24'>25</a>\u001b[0m             \u001b[39mfor\u001b[39;00m date \u001b[39min\u001b[39;00m os\u001b[39m.\u001b[39mlistdir(join(list_visitDate,imufile))\n\u001b[0;32m     <a href='vscode-notebook-cell:/d%3A/BU/Others/computer/BU_python_study/KIM_HJ/Homework/QC/june16.ipynb#ch0000005?line=25'>26</a>\u001b[0m             \u001b[39mif\u001b[39;00m isdir(join(topDir, patient, th, date))\n\u001b[0;32m     <a href='vscode-notebook-cell:/d%3A/BU/Others/computer/BU_python_study/KIM_HJ/Homework/QC/june16.ipynb#ch0000005?line=26'>27</a>\u001b[0m         ]\n\u001b[0;32m     <a href='vscode-notebook-cell:/d%3A/BU/Others/computer/BU_python_study/KIM_HJ/Homework/QC/june16.ipynb#ch0000005?line=27'>28</a>\u001b[0m     )\n\u001b[0;32m     <a href='vscode-notebook-cell:/d%3A/BU/Others/computer/BU_python_study/KIM_HJ/Homework/QC/june16.ipynb#ch0000005?line=28'>29</a>\u001b[0m Dict_imudata[imufile] \u001b[39m=\u001b[39m list_imufile\n\u001b[0;32m     <a href='vscode-notebook-cell:/d%3A/BU/Others/computer/BU_python_study/KIM_HJ/Homework/QC/june16.ipynb#ch0000005?line=29'>30</a>\u001b[0m \u001b[39mprint\u001b[39m(list_imufile)\n",
      "File \u001b[1;32mc:\\Users\\HyunJoon_Kim\\anaconda3\\envs\\bu\\lib\\ntpath.py:78\u001b[0m, in \u001b[0;36mjoin\u001b[1;34m(path, *paths)\u001b[0m\n\u001b[0;32m     77\u001b[0m \u001b[39mdef\u001b[39;00m \u001b[39mjoin\u001b[39m(path, \u001b[39m*\u001b[39mpaths):\n\u001b[1;32m---> 78\u001b[0m     path \u001b[39m=\u001b[39m os\u001b[39m.\u001b[39;49mfspath(path)\n\u001b[0;32m     79\u001b[0m     \u001b[39mif\u001b[39;00m \u001b[39misinstance\u001b[39m(path, \u001b[39mbytes\u001b[39m):\n\u001b[0;32m     80\u001b[0m         sep \u001b[39m=\u001b[39m \u001b[39mb\u001b[39m\u001b[39m'\u001b[39m\u001b[39m\\\\\u001b[39;00m\u001b[39m'\u001b[39m\n",
      "\u001b[1;31mTypeError\u001b[0m: expected str, bytes or os.PathLike object, not list"
     ]
    }
   ],
   "source": [
    "# 방문 일자 뽑기\n",
    "topDir = \"Data_QST_IMU\"\n",
    "list_patient = natsorted(\n",
    "    [thing for thing in os.listdir(topDir)]\n",
    ")\n",
    "Dict_patientDate = {}\n",
    "for patient in list_patient:\n",
    "    list_visitDate = natsorted(\n",
    "        [\n",
    "            th\n",
    "            for th in os.listdir(join(topDir, patient))\n",
    "            if isdir(join(topDir, patient, th))\n",
    "        ]\n",
    "    )\n",
    "    Dict_patientDate[patient] = list_visitDate\n",
    "    print(list_visitDate)\n",
    "\n",
    "        \n",
    "\n",
    "Dict_imudata = {}\n",
    "for imufile in list_visitDate:\n",
    "    list_imufile = natsorted(\n",
    "        [\n",
    "            date\n",
    "            for date in os.listdir(join(list_visitDate,imufile))\n",
    "            if isdir(join(topDir, patient, th, date))\n",
    "        ]\n",
    "    )\n",
    "Dict_imudata[imufile] = list_imufile\n",
    "print(list_imufile)"
   ]
  },
  {
   "cell_type": "code",
   "execution_count": null,
   "metadata": {},
   "outputs": [],
   "source": []
  }
 ],
 "metadata": {
  "kernelspec": {
   "display_name": "Python 3.10.4 ('bu')",
   "language": "python",
   "name": "python3"
  },
  "language_info": {
   "codemirror_mode": {
    "name": "ipython",
    "version": 3
   },
   "file_extension": ".py",
   "mimetype": "text/x-python",
   "name": "python",
   "nbconvert_exporter": "python",
   "pygments_lexer": "ipython3",
   "version": "3.10.4"
  },
  "orig_nbformat": 4,
  "vscode": {
   "interpreter": {
    "hash": "360415a06a2cb4988f467b724c8ffdb39ec3aeec574ee0105248e66f7284bba3"
   }
  }
 },
 "nbformat": 4,
 "nbformat_minor": 2
}
