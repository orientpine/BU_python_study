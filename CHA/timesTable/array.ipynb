{
 "cells": [
  {
   "cell_type": "code",
   "execution_count": null,
   "metadata": {},
   "outputs": [],
   "source": [
    "A = []\n",
    "A.append(1)"
   ]
  },
  {
   "cell_type": "code",
   "execution_count": null,
   "metadata": {},
   "outputs": [],
   "source": [
    "A"
   ]
  },
  {
   "cell_type": "code",
   "execution_count": null,
   "metadata": {},
   "outputs": [],
   "source": [
    "A.append(2)"
   ]
  },
  {
   "cell_type": "code",
   "execution_count": null,
   "metadata": {},
   "outputs": [],
   "source": [
    "A"
   ]
  },
  {
   "cell_type": "code",
   "execution_count": 41,
   "metadata": {},
   "outputs": [
    {
     "name": "stdout",
     "output_type": "stream",
     "text": [
      "장원영\n",
      "끝\n"
     ]
    }
   ],
   "source": [
    "if True:\n",
    "    print(\"장원영\")\n",
    "elif True:\n",
    "    print(\"이서\")\n",
    "else:\n",
    "    print('가을')\n",
    "print(\"끝\")"
   ]
  },
  {
   "cell_type": "code",
   "execution_count": 31,
   "metadata": {},
   "outputs": [
    {
     "data": {
      "text/plain": [
       "['left_M1_peak',\n",
       " 'left_M1_range',\n",
       " 'left_M1_threshold',\n",
       " 'left_S1_peak',\n",
       " 'left_S1_range',\n",
       " 'left_S1_threshold',\n",
       " 'left_C4_peak',\n",
       " 'left_C4_range',\n",
       " 'left_C4_threshold',\n",
       " 'left_C3_peak',\n",
       " 'left_C3_range',\n",
       " 'left_C3_threshold',\n",
       " 'left_SM1_peak',\n",
       " 'left_SM1_range',\n",
       " 'left_SM1_threshold',\n",
       " 'right_M1_peak',\n",
       " 'right_M1_range',\n",
       " 'right_M1_threshold',\n",
       " 'right_S1_peak',\n",
       " 'right_S1_range',\n",
       " 'right_S1_threshold',\n",
       " 'right_C4_peak',\n",
       " 'right_C4_range',\n",
       " 'right_C4_threshold',\n",
       " 'right_C3_peak',\n",
       " 'right_C3_range',\n",
       " 'right_C3_threshold',\n",
       " 'right_SM1_peak',\n",
       " 'right_SM1_range',\n",
       " 'right_SM1_threshold']"
      ]
     },
     "execution_count": 31,
     "metadata": {},
     "output_type": "execute_result"
    }
   ],
   "source": [
    "\n",
    "patient = [\"최치환\",\"차백동\",\"김현준\"]\n",
    "side = [\"left\",\"right\"]\n",
    "points_brain = [\"M1\",\"S1\",\"C4\",\"C3\",\"SM1\"]\n",
    "param = [\"peak\",\"range\",\"threshold\",]\n",
    "colums = []\n",
    "for sd in side:\n",
    "    for pts in points_brain:\n",
    "        for prm in param:\n",
    "            s = f\"{sd}_{pts}_{prm}\"\n",
    "            colums.append(s)\n",
    "colums"
   ]
  },
  {
   "cell_type": "code",
   "execution_count": 40,
   "metadata": {},
   "outputs": [
    {
     "ename": "IndexError",
     "evalue": "list index out of range",
     "output_type": "error",
     "traceback": [
      "\u001b[1;31m---------------------------------------------------------------------------\u001b[0m",
      "\u001b[1;31mIndexError\u001b[0m                                Traceback (most recent call last)",
      "\u001b[1;32mg:\\My Drive\\PlayGround\\BU_Python_Group_Study\\CHA\\timesTable\\array.ipynb Cell 7\u001b[0m in \u001b[0;36m<cell line: 1>\u001b[1;34m()\u001b[0m\n\u001b[1;32m----> <a href='vscode-notebook-cell:/g%3A/My%20Drive/PlayGround/BU_Python_Group_Study/CHA/timesTable/array.ipynb#ch0000007?line=0'>1</a>\u001b[0m [\u001b[39mf\u001b[39m\u001b[39m\"\u001b[39m\u001b[39m_\u001b[39m\u001b[39m{\u001b[39;00mpoints_brain[i\u001b[39m/\u001b[39m\u001b[39m/\u001b[39m\u001b[39mlen\u001b[39m(param)]\u001b[39m}\u001b[39;00m\u001b[39m_\u001b[39m\u001b[39m{\u001b[39;00mparam[i\u001b[39m%\u001b[39m\u001b[39mlen\u001b[39m(param)]\u001b[39m}\u001b[39;00m\u001b[39m\"\u001b[39m \u001b[39mfor\u001b[39;00m i \u001b[39min\u001b[39;00m \u001b[39mrange\u001b[39m(\u001b[39mlen\u001b[39m(points_brain)\u001b[39m*\u001b[39m\u001b[39mlen\u001b[39m(param)\u001b[39m*\u001b[39m\u001b[39mlen\u001b[39m(side))]\n",
      "\u001b[1;32mg:\\My Drive\\PlayGround\\BU_Python_Group_Study\\CHA\\timesTable\\array.ipynb Cell 7\u001b[0m in \u001b[0;36m<listcomp>\u001b[1;34m(.0)\u001b[0m\n\u001b[1;32m----> <a href='vscode-notebook-cell:/g%3A/My%20Drive/PlayGround/BU_Python_Group_Study/CHA/timesTable/array.ipynb#ch0000007?line=0'>1</a>\u001b[0m [\u001b[39mf\u001b[39m\u001b[39m\"\u001b[39m\u001b[39m_\u001b[39m\u001b[39m{\u001b[39;00mpoints_brain[i\u001b[39m/\u001b[39m\u001b[39m/\u001b[39m\u001b[39mlen\u001b[39m(param)]\u001b[39m}\u001b[39;00m\u001b[39m_\u001b[39m\u001b[39m{\u001b[39;00mparam[i\u001b[39m%\u001b[39m\u001b[39mlen\u001b[39m(param)]\u001b[39m}\u001b[39;00m\u001b[39m\"\u001b[39m \u001b[39mfor\u001b[39;00m i \u001b[39min\u001b[39;00m \u001b[39mrange\u001b[39m(\u001b[39mlen\u001b[39m(points_brain)\u001b[39m*\u001b[39m\u001b[39mlen\u001b[39m(param)\u001b[39m*\u001b[39m\u001b[39mlen\u001b[39m(side))]\n",
      "\u001b[1;31mIndexError\u001b[0m: list index out of range"
     ]
    }
   ],
   "source": [
    "[f\"{side[i//(len(param)*len(points_brain))]}_{points_brain[i//len(param)]}_{param[i%len(param)]}\" for i in range(len(points_brain)*len(param)*len(side))]"
   ]
  },
  {
   "cell_type": "code",
   "execution_count": null,
   "metadata": {},
   "outputs": [],
   "source": [
    "for sd in side:\n",
    "    for pts in points_brain:\n",
    "        for prm in param:\n",
    "            s = f\"{sd}_{pts}_{prm_dfjd\"\n",
    "            colums.append(s)for sd in side:\n",
    "    for pts in points_brain:\n",
    "        for prm in param:\n",
    "            s = f\"{sd}_{pts}_{prm}sdkdn\"\n",
    "            colums.append(s)for sd in side:\n",
    "    for pts in points_brain:\n",
    "        for prm in param:\n",
    "            s = f\"{sd}_{pts}_{prm}\"\n",
    "            colums.append(s)for sd in side:\n",
    "    for pts in points_brain:\n",
    "        for prm in param:\n",
    "            s = f\"{sd}_{pts}_{prm}\"\n",
    "            colums.append(s)for sd in side:\n",
    "    for pts in points_brain:\n",
    "        for prm in param:\n",
    "            s = f\"{sd}_{pts}_{prm}\"\n",
    "            colums.append(s)"
   ]
  }
 ],
 "metadata": {
  "kernelspec": {
   "display_name": "Python 3.8.13 ('buIMU')",
   "language": "python",
   "name": "python3"
  },
  "language_info": {
   "codemirror_mode": {
    "name": "ipython",
    "version": 3
   },
   "file_extension": ".py",
   "mimetype": "text/x-python",
   "name": "python",
   "nbconvert_exporter": "python",
   "pygments_lexer": "ipython3",
   "version": "3.8.13"
  },
  "orig_nbformat": 4,
  "vscode": {
   "interpreter": {
    "hash": "b7f75e3f67c2e8328760c5f8e07c7b9104f46fb4b9635e1895ac42e507773c47"
   }
  }
 },
 "nbformat": 4,
 "nbformat_minor": 2
}
