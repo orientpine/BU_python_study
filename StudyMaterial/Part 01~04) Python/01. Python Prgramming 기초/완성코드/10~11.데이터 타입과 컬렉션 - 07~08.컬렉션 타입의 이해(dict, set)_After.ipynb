{
 "cells": [
  {
   "cell_type": "markdown",
   "metadata": {},
   "source": [
    "## 학습목표\n",
    " 1. dictionary, set에 대해 이해 및 실습\n"
   ]
  },
  {
   "cell_type": "markdown",
   "metadata": {},
   "source": [
    "### **dictionary**\n",
    " + 키와 값을 갖는 데이터 구조\n",
    " + 키는 내부적으로 hash값으로 저장\n",
    " + 순서를 따지지 않음. 즉, 인덱스가 없음"
   ]
  },
  {
   "cell_type": "code",
   "execution_count": null,
   "metadata": {},
   "outputs": [],
   "source": [
    "a = {'Korea': 'Seoul', \n",
    "     'Canada': 'Ottawa', \n",
    "     'USA': 'Washington D.C'}\n",
    "b = {0:1, 1:6, 7:9, 8:10}\n",
    "print(b[2])"
   ]
  },
  {
   "cell_type": "markdown",
   "metadata": {},
   "source": [
    "+ **항목 추가 및 변경**\n",
    " - 기존에 키가 존재 하면, 새로운 값으로 업데이트\n",
    " - 존재하지 않으면, 새로운 키, 값 생성"
   ]
  },
  {
   "cell_type": "code",
   "execution_count": null,
   "metadata": {},
   "outputs": [],
   "source": [
    "a = {'Korea': 'Seoul', \n",
    "     'Canada': 'Ottawa', \n",
    "     'USA': 'Washington D.C'}\n",
    "\n",
    "a['Japan'] = 'Tokyo'\n",
    "a['Japan'] = 'Kyoto'\n",
    "a['Japan2'] = 'Kyoto'\n",
    "a['China'] = 'Beijing'\n",
    "\n",
    "print(a)"
   ]
  },
  {
   "cell_type": "markdown",
   "metadata": {},
   "source": [
    "+ **update()**\n",
    " * 두 딕셔너리를 병합함\n",
    " * 겹치는 키가 있다면 parameter로 전달되는 키 값이 overwrite된다."
   ]
  },
  {
   "cell_type": "code",
   "execution_count": null,
   "metadata": {},
   "outputs": [],
   "source": [
    "a = {'a': 1, 'b': 2, 'c' : 3}\n",
    "b = {'a': 2, 'd': 4, 'e': 5}\n",
    "\n",
    "a.update(b)\n",
    "\n",
    "print(a)"
   ]
  },
  {
   "cell_type": "markdown",
   "metadata": {},
   "source": [
    "* **key삭제**\n",
    " - del 키워드 사용\n",
    " - pop 함수 이용"
   ]
  },
  {
   "cell_type": "code",
   "execution_count": null,
   "metadata": {},
   "outputs": [],
   "source": [
    "a = {'a': 1, 'b': 2, 'c' : 3}\n",
    "print(a)\n",
    "\n",
    "# a.pop('b')\n",
    "del a['b']\n",
    "print(a)"
   ]
  },
  {
   "cell_type": "markdown",
   "metadata": {},
   "source": [
    "* **clear()**\n",
    " + 딕셔너리의 모든 값을 초기화\n"
   ]
  },
  {
   "cell_type": "code",
   "execution_count": null,
   "metadata": {},
   "outputs": [],
   "source": [
    "print(a)\n",
    "a.clear()\n",
    "print(a)"
   ]
  },
  {
   "cell_type": "markdown",
   "metadata": {},
   "source": [
    "* **in**\n",
    " + key값 존재 확인\n",
    " + O(1) 연산 - 딕셔너리의 크기와 관계없이 항상 연산의 속도가 일정하다는 의미"
   ]
  },
  {
   "cell_type": "code",
   "execution_count": null,
   "metadata": {},
   "outputs": [],
   "source": [
    "a = {'a': 1, 'b': 2, 'c' : 3}\n",
    "b = [1, 2, 3, 4, 5, 6, 7, 9, 10, 100]\n",
    "\n",
    "print(100 in b)\n",
    "print(2 in a)"
   ]
  },
  {
   "cell_type": "markdown",
   "metadata": {},
   "source": [
    "* **value access**\n",
    " + dict[key]로 접급, 키가 없는 경우 에러 발생 \n",
    " + .get() 함수로 접근, 키가 없는 경우 None반환"
   ]
  },
  {
   "cell_type": "code",
   "execution_count": null,
   "metadata": {},
   "outputs": [],
   "source": [
    "print(a.get('d'))\n",
    "# print(a['d'])\n",
    "\n",
    "if 'd' in a:\n",
    "    print(a['d'])"
   ]
  },
  {
   "cell_type": "markdown",
   "metadata": {},
   "source": [
    "#### **모든 keys, values 접근**\n",
    " + keys() - 키만 반환\n",
    " + values() - 값만 반환\n",
    " + items() - 키, 값의 튜플을 반환"
   ]
  },
  {
   "cell_type": "code",
   "execution_count": null,
   "metadata": {},
   "outputs": [],
   "source": [
    "print(a)\n",
    "print(list(a.keys()))\n",
    "print(list(a.values()))\n",
    "\n",
    "list(a.items())"
   ]
  },
  {
   "cell_type": "markdown",
   "metadata": {},
   "source": [
    "### **set**\n",
    " + dictionary에서 key만 활용하는 데이터 구조로 이해\n",
    " + 수학에서의 집합과 동일한 개념"
   ]
  },
  {
   "cell_type": "code",
   "execution_count": null,
   "metadata": {},
   "outputs": [],
   "source": [
    "a = {1, 1, 2, 3, 3, 4, 1, 5}\n",
    "print(a)"
   ]
  },
  {
   "cell_type": "markdown",
   "metadata": {},
   "source": [
    "* **set()으로 집합으로 변환**"
   ]
  },
  {
   "cell_type": "code",
   "execution_count": null,
   "metadata": {},
   "outputs": [],
   "source": [
    "a = [1, 1, 2, 3, 3, 4, 1, 5]\n",
    "print(a)\n",
    "\n",
    "b = set(a)\n",
    "print(b)"
   ]
  },
  {
   "cell_type": "markdown",
   "metadata": {},
   "source": [
    "+ **set operations**\n",
    " - 수학 연산과 동일\n",
    " - 교집합, 합집합, 차집합 등 지원"
   ]
  },
  {
   "cell_type": "code",
   "execution_count": null,
   "metadata": {},
   "outputs": [],
   "source": [
    "a = {1, 2, 3}\n",
    "b = {2, 3, 4}\n",
    "\n",
    "print(a.union(b)) # 합집합\n",
    "print(a.intersection(b)) # 교집합\n",
    "print(a.difference(b)) # 차집합\n",
    "print(a.issubset(b)) #부분 집합"
   ]
  }
 ],
 "metadata": {
  "kernelspec": {
   "display_name": "Python 3",
   "language": "python",
   "name": "python3"
  },
  "language_info": {
   "codemirror_mode": {
    "name": "ipython",
    "version": 3
   },
   "file_extension": ".py",
   "mimetype": "text/x-python",
   "name": "python",
   "nbconvert_exporter": "python",
   "pygments_lexer": "ipython3",
   "version": "3.7.3"
  }
 },
 "nbformat": 4,
 "nbformat_minor": 1
}
